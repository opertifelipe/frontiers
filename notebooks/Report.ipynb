{
 "cells": [
  {
   "cell_type": "markdown",
   "id": "ee593981",
   "metadata": {},
   "source": [
    "# Technical report\n",
    "\n",
    "## Frontiers\n",
    " \n",
    "Frontiers runs a number of open access journals in several scientific fields. Authors can\n",
    "submit their articles for publication to one of these journals. However, in some cases the\n",
    "authors may not be aware of the journal that best matches the scope of their paper. If the\n",
    "wrong journal is chosen, it may result in delays or even rejection. To this end, we are\n",
    "developing a feature that suggests to the authors the three most relevant journals to their\n",
    "manuscript, to choose from.\n",
    "\n",
    "You are tasked to build a text classifier for this feature that, given some input text, can\n",
    "recommend the most suitable Frontiers journals to it.\n",
    "\n",
    "You have at your disposal a .jsonl file containing:\n",
    "- Article identifier\n",
    "- Body text\n",
    "- Frontiers journal name\n",
    "for all articles published by Frontiers in January 2020. You can find it here:\n",
    "https://drive.google.com/file/d/1es3EX0MdDAeolwFl_K_fS3RP0JFRxE2U/view?usp=sharing\n",
    "Remarks:\n",
    "- The solution should be coded in Python.\n",
    "- You can use any Python library you may find useful.\n",
    "- Together with the code you should also provide a report where you describe your approach and present the results.\n",
    "- You are particularly encouraged to discuss the choice of the evaluation metric(s) and how this translates to business value.\n",
    "- (last but not least) As you write code for this assignment, keep in mind that it will be reviewed (and in real life, put in production) by other colleagues. Clean code, a modular structure, python packaging, testability, explicit dependencies, documentation, are all things that can facilitate the team!\n",
    "\n",
    "Please email your solution in .zip format to davide.fiocco@frontiersin.org and be prepared to\n",
    "discuss it in the next interview stage.\n",
    "\n",
    "## Summary\n",
    "\n",
    "\n",
    "This report is divided into the following sections:\n",
    "- **Introduction:** In this section I introduce the problem by providing references and context.\n",
    "- **Data and evaluation metrics:**: In this section, I show an exploratory data analysis (EDA) of the given dataset providing useful insights for the definition of the best methods. Furthermore, I introduce the evaluation metrics that will be used to define the best method.\n",
    "- **Methods:** In this section, I describe the set of tested methods used to provide the best recommendation system.\n",
    "- **Results:** Here, I show the results of each method using the defined evaluation metrics comparing them with a trivial baseline.\n",
    "- **Conclusion:** Finally, I choose the best method considering both time and model performance justifying the reasons. \n",
    "- **Deployment and application**: In this section, I show how to easily deploy the model as REST API and interact with it with a simple web app."
   ]
  },
  {
   "cell_type": "markdown",
   "id": "3cda0b41",
   "metadata": {},
   "source": [
    "\n",
    "# Introduction\n",
    "\n",
    "The task consists to develop an algorithm that, given a scientific paper (or a simple text/report), it recommends the most suitable Frontiers journals. Several methodologies could be used to define the best recommendation system and classifier. However, it strongly depends on the number of classes (Frontiers Journals) to be predicted. A previous study ([Meijer et al. *Document Embedding for Scientific Articles:\n",
    "Efficacy of Word Embeddings vs TFIDF.* 2021](https://arxiv.org/pdf/2107.05151.pdf)), already compare document embeddings using TFIDF and WordEmbeddings for classification of a huge dataset of scientific papers (70 million) into  30 thousand distinct journals or conferences.\n",
    "\n",
    "Here, I develop several variations of document embedding using:\n",
    "- all document text;\n",
    "- only a list of keywords is extracted from the text (from 3 to 7).\n",
    "\n",
    "From the text defined before I tested several embedding strategies such as:\n",
    "- **TFIDF**: In information retrieval, TFIDF, short for term frequency-inverse document frequency, is a numerical statistic that is intended to reflect how important a word is to a document in a collection or corpus. It is often used as a weighting factor in searches for information retrieval, text mining, and user modeling. The TFIDF value increases proportionally to the number of times a word appears in the document and is offset by the number of documents in the corpus that contain the word, which helps to adjust for the fact that some words appear more frequently in general. TFIDF is one of the most popular term-weighting schemes today. A survey conducted in 2015 showed that 83% of text-based recommender systems in digital libraries use TFIDF.[Wikipedia](https://en.wikipedia.org/wiki/Tf%E2%80%93idf)\n",
    "- **Word2Vec**: I used the pretrained [Spacy word embeddings](https://spacy.io/usage/linguistic-features#vectors-similarity) from the language model *en_core_web_lg*. I decided to not train my own word2vec (or FastText, Glove, etc.) word embeddings because of the short time to finish the assignment and the small dimension of the dataset.\n",
    "- **SBERT**: Sentence BERT ([*Reimers et al. Sentence-BERT: Sentence Embeddings using Siamese BERT-Networks. (2019)*](https://arxiv.org/abs/1908.10084)) is a transformer for sentence-pair regression tasks like semantic textual similarity. While the architecture of BERT makes it unsuitable for sentence-pair regression tasks like semantic textual similarity, SBERT provides semantically meaningful sentence embeddings that can be compared using cosine similarity."
   ]
  },
  {
   "cell_type": "markdown",
   "id": "5cf05d28",
   "metadata": {},
   "source": [
    "# Data and evaluation metrics\n",
    "\n",
    "This section is divided in:\n",
    "- **Setup:**The setup for the correct operation of the notebook \n",
    "- **EDA:** An EDA of the dataset\n",
    "- **Evaluation metrics**: The presentation of the evaluation metrics"
   ]
  },
  {
   "cell_type": "markdown",
   "id": "07b1734a",
   "metadata": {},
   "source": [
    "### Setup\n",
    "\n",
    "Simple import of all needed libraries"
   ]
  },
  {
   "cell_type": "code",
   "execution_count": 31,
   "id": "ff28ce38",
   "metadata": {},
   "outputs": [
    {
     "ename": "ModuleNotFoundError",
     "evalue": "No module named 'utils'",
     "output_type": "error",
     "traceback": [
      "\u001b[0;31m---------------------------------------------------------------------------\u001b[0m",
      "\u001b[0;31mModuleNotFoundError\u001b[0m                       Traceback (most recent call last)",
      "Input \u001b[0;32mIn [31]\u001b[0m, in \u001b[0;36m<cell line: 1>\u001b[0;34m()\u001b[0m\n\u001b[0;32m----> 1\u001b[0m \u001b[38;5;28;01mimport\u001b[39;00m \u001b[38;5;21;01msrc\u001b[39;00m\u001b[38;5;21;01m.\u001b[39;00m\u001b[38;5;21;01mtrain\u001b[39;00m\u001b[38;5;21;01m.\u001b[39;00m\u001b[38;5;21;01mdocument_approach\u001b[39;00m\n",
      "File \u001b[0;32m~/inda/frontiers/src/train/document_approach.py:2\u001b[0m, in \u001b[0;36m<module>\u001b[0;34m\u001b[0m\n\u001b[1;32m      1\u001b[0m \u001b[38;5;28;01mimport\u001b[39;00m \u001b[38;5;21;01mnumpy\u001b[39;00m \u001b[38;5;28;01mas\u001b[39;00m \u001b[38;5;21;01mnp\u001b[39;00m\n\u001b[0;32m----> 2\u001b[0m \u001b[38;5;28;01mfrom\u001b[39;00m \u001b[38;5;21;01mutils\u001b[39;00m\u001b[38;5;21;01m.\u001b[39;00m\u001b[38;5;21;01mutils\u001b[39;00m \u001b[38;5;28;01mimport\u001b[39;00m nlp\n\u001b[1;32m      3\u001b[0m \u001b[38;5;28;01mfrom\u001b[39;00m \u001b[38;5;21;01msklearn\u001b[39;00m\u001b[38;5;21;01m.\u001b[39;00m\u001b[38;5;21;01mfeature_extraction\u001b[39;00m\u001b[38;5;21;01m.\u001b[39;00m\u001b[38;5;21;01mtext\u001b[39;00m \u001b[38;5;28;01mimport\u001b[39;00m TfidfVectorizer\n\u001b[1;32m      4\u001b[0m \u001b[38;5;28;01mfrom\u001b[39;00m \u001b[38;5;21;01mutils\u001b[39;00m\u001b[38;5;21;01m.\u001b[39;00m\u001b[38;5;21;01mutils\u001b[39;00m \u001b[38;5;28;01mimport\u001b[39;00m IO\n",
      "\u001b[0;31mModuleNotFoundError\u001b[0m: No module named 'utils'"
     ]
    }
   ],
   "source": [
    "import src.train.document_approach"
   ]
  },
  {
   "cell_type": "code",
   "execution_count": 25,
   "id": "a9ab71af",
   "metadata": {},
   "outputs": [
    {
     "ename": "ModuleNotFoundError",
     "evalue": "No module named 'train'",
     "output_type": "error",
     "traceback": [
      "\u001b[0;31m---------------------------------------------------------------------------\u001b[0m",
      "\u001b[0;31mModuleNotFoundError\u001b[0m                       Traceback (most recent call last)",
      "Input \u001b[0;32mIn [25]\u001b[0m, in \u001b[0;36m<cell line: 8>\u001b[0;34m()\u001b[0m\n\u001b[1;32m      5\u001b[0m \u001b[38;5;28;01mfrom\u001b[39;00m \u001b[38;5;21;01msrc\u001b[39;00m\u001b[38;5;21;01m.\u001b[39;00m\u001b[38;5;21;01mpreprocess\u001b[39;00m\u001b[38;5;21;01m.\u001b[39;00m\u001b[38;5;21;01mpreprocess\u001b[39;00m \u001b[38;5;28;01mimport\u001b[39;00m filter_papers_min_sample\n\u001b[1;32m      6\u001b[0m \u001b[38;5;28;01mfrom\u001b[39;00m \u001b[38;5;21;01msrc\u001b[39;00m\u001b[38;5;21;01m.\u001b[39;00m\u001b[38;5;21;01mutils\u001b[39;00m\u001b[38;5;21;01m.\u001b[39;00m\u001b[38;5;21;01mutils\u001b[39;00m \u001b[38;5;28;01mimport\u001b[39;00m load_data, IO\n\u001b[0;32m----> 8\u001b[0m \u001b[38;5;28;01mfrom\u001b[39;00m \u001b[38;5;21;01msrc\u001b[39;00m\u001b[38;5;21;01m.\u001b[39;00m\u001b[38;5;21;01mtrain\u001b[39;00m\u001b[38;5;21;01m.\u001b[39;00m\u001b[38;5;21;01mtrain\u001b[39;00m \u001b[38;5;28;01mimport\u001b[39;00m (train_test,\n\u001b[1;32m      9\u001b[0m                         train_embeddings_keyword_word2vec,\n\u001b[1;32m     10\u001b[0m                         train_embeddings_document_word2vec,\n\u001b[1;32m     11\u001b[0m                         train_embeddings_keyword_tfidf,\n\u001b[1;32m     12\u001b[0m                         train_embeddings_document_tfidf,\n\u001b[1;32m     13\u001b[0m                         train_embeddings_keyword_sbert,\n\u001b[1;32m     14\u001b[0m                         train_embeddings_document_sbert\n\u001b[1;32m     15\u001b[0m                         )                        \n\u001b[1;32m     16\u001b[0m \u001b[38;5;28;01mfrom\u001b[39;00m \u001b[38;5;21;01msrc\u001b[39;00m\u001b[38;5;21;01m.\u001b[39;00m\u001b[38;5;21;01mpreprocess\u001b[39;00m\u001b[38;5;21;01m.\u001b[39;00m\u001b[38;5;21;01mpreprocess\u001b[39;00m \u001b[38;5;28;01mimport\u001b[39;00m filter_papers_min_sample, preprocess\n\u001b[1;32m     17\u001b[0m \u001b[38;5;28;01mfrom\u001b[39;00m \u001b[38;5;21;01msrc\u001b[39;00m\u001b[38;5;21;01m.\u001b[39;00m\u001b[38;5;21;01mevaluate\u001b[39;00m\u001b[38;5;21;01m.\u001b[39;00m\u001b[38;5;21;01mevaluate\u001b[39;00m \u001b[38;5;28;01mimport\u001b[39;00m (evaluate_document_word2vec, \n\u001b[1;32m     18\u001b[0m                                evaluate_keyword_word2vec,\n\u001b[1;32m     19\u001b[0m                                evaluate_keyword_tfidf,\n\u001b[1;32m     20\u001b[0m                                evaluate_document_tfidf,\n\u001b[1;32m     21\u001b[0m                                evaluate_keyword_sbert,\n\u001b[1;32m     22\u001b[0m                                evaluate_document_sbert)\n",
      "File \u001b[0;32m~/inda/frontiers/src/train/train.py:2\u001b[0m, in \u001b[0;36m<module>\u001b[0;34m\u001b[0m\n\u001b[1;32m      1\u001b[0m \u001b[38;5;28;01mfrom\u001b[39;00m \u001b[38;5;21;01msklearn\u001b[39;00m\u001b[38;5;21;01m.\u001b[39;00m\u001b[38;5;21;01mmodel_selection\u001b[39;00m \u001b[38;5;28;01mimport\u001b[39;00m train_test_split\n\u001b[0;32m----> 2\u001b[0m \u001b[38;5;28;01mfrom\u001b[39;00m \u001b[38;5;21;01mtrain\u001b[39;00m\u001b[38;5;21;01m.\u001b[39;00m\u001b[38;5;21;01mkeywords_approach\u001b[39;00m \u001b[38;5;28;01mimport\u001b[39;00m create_embeddings_keywords\n\u001b[1;32m      3\u001b[0m \u001b[38;5;28;01mfrom\u001b[39;00m \u001b[38;5;21;01mtrain\u001b[39;00m\u001b[38;5;21;01m.\u001b[39;00m\u001b[38;5;21;01mdocument_approach\u001b[39;00m \u001b[38;5;28;01mimport\u001b[39;00m create_embeddings_document\n\u001b[1;32m      5\u001b[0m \u001b[38;5;28;01mfrom\u001b[39;00m \u001b[38;5;21;01mutils\u001b[39;00m\u001b[38;5;21;01m.\u001b[39;00m\u001b[38;5;21;01mutils\u001b[39;00m \u001b[38;5;28;01mimport\u001b[39;00m IO\n",
      "\u001b[0;31mModuleNotFoundError\u001b[0m: No module named 'train'"
     ]
    }
   ],
   "source": [
    "import os\n",
    "os.chdir(\"/home/operti/inda/frontiers\")\n",
    "\n",
    "from src.utils.utils import load_data\n",
    "from src.preprocess.preprocess import filter_papers_min_sample\n",
    "from src.utils.utils import load_data, IO\n",
    "\n",
    "from src.train.train import (train_test,\n",
    "                        train_embeddings_keyword_word2vec,\n",
    "                        train_embeddings_document_word2vec,\n",
    "                        train_embeddings_keyword_tfidf,\n",
    "                        train_embeddings_document_tfidf,\n",
    "                        train_embeddings_keyword_sbert,\n",
    "                        train_embeddings_document_sbert\n",
    "                        )                        \n",
    "from src.preprocess.preprocess import filter_papers_min_sample, preprocess\n",
    "from src.evaluate.evaluate import (evaluate_document_word2vec, \n",
    "                               evaluate_keyword_word2vec,\n",
    "                               evaluate_keyword_tfidf,\n",
    "                               evaluate_document_tfidf,\n",
    "                               evaluate_keyword_sbert,\n",
    "                               evaluate_document_sbert)\n",
    "\n",
    "\n",
    "%matplotlib inline\n",
    "import plotly.express as px\n"
   ]
  },
  {
   "cell_type": "markdown",
   "id": "ba9b6ecf",
   "metadata": {},
   "source": [
    "### EDA\n",
    "\n",
    "The EDA shows:\n",
    "\n",
    "1. The number of scientific articles published for each Frontiers journal;\n",
    "2. The distribution of the length of the text;\n",
    "3. The definition of the train and test split;\n",
    "4. The definition of the preprocessing of the text;\n",
    "    1. Normalization:\n",
    "        1. Lowercase\n",
    "        2. Remove punctaction\n",
    "        3. Remove numbers\n",
    "    2. Removing defined unseful words\n",
    "    3. Removing stopwords\n",
    "    4. Lemmatization\n",
    "     \n",
    "5. The definition of the keywords and how to extract them;\n",
    "6. The distribution of the number of keywords;"
   ]
  },
  {
   "cell_type": "code",
   "execution_count": 3,
   "id": "ddfd8a2a",
   "metadata": {},
   "outputs": [],
   "source": [
    "# Load of the dataset\n",
    "df = load_data()"
   ]
  },
  {
   "cell_type": "code",
   "execution_count": 9,
   "id": "2fb0fe8f",
   "metadata": {},
   "outputs": [
    {
     "data": {
      "text/html": [
       "<div>\n",
       "<style scoped>\n",
       "    .dataframe tbody tr th:only-of-type {\n",
       "        vertical-align: middle;\n",
       "    }\n",
       "\n",
       "    .dataframe tbody tr th {\n",
       "        vertical-align: top;\n",
       "    }\n",
       "\n",
       "    .dataframe thead th {\n",
       "        text-align: right;\n",
       "    }\n",
       "</style>\n",
       "<table border=\"1\" class=\"dataframe\">\n",
       "  <thead>\n",
       "    <tr style=\"text-align: right;\">\n",
       "      <th></th>\n",
       "      <th>id</th>\n",
       "      <th>text</th>\n",
       "      <th>journal</th>\n",
       "    </tr>\n",
       "  </thead>\n",
       "  <tbody>\n",
       "    <tr>\n",
       "      <th>0</th>\n",
       "      <td>465950</td>\n",
       "      <td>\\n Sleep Characteristics and Influencing Facto...</td>\n",
       "      <td>Frontiers in Medicine</td>\n",
       "    </tr>\n",
       "    <tr>\n",
       "      <th>1</th>\n",
       "      <td>483526</td>\n",
       "      <td>A Hybrid Approach for Modeling Type 2 Diabetes...</td>\n",
       "      <td>Frontiers in Genetics</td>\n",
       "    </tr>\n",
       "    <tr>\n",
       "      <th>2</th>\n",
       "      <td>482500</td>\n",
       "      <td>\\n Relationship Between SES and Academic Achie...</td>\n",
       "      <td>Frontiers in Psychology</td>\n",
       "    </tr>\n",
       "    <tr>\n",
       "      <th>3</th>\n",
       "      <td>437333</td>\n",
       "      <td>Environmental Health Research in Africa: Impor...</td>\n",
       "      <td>Frontiers in Genetics</td>\n",
       "    </tr>\n",
       "    <tr>\n",
       "      <th>4</th>\n",
       "      <td>486515</td>\n",
       "      <td>\\n 3,5-T2—A Janus-Faced Thyroid Hormone Metabo...</td>\n",
       "      <td>Frontiers in Endocrinology</td>\n",
       "    </tr>\n",
       "  </tbody>\n",
       "</table>\n",
       "</div>"
      ],
      "text/plain": [
       "       id                                               text  \\\n",
       "0  465950  \\n Sleep Characteristics and Influencing Facto...   \n",
       "1  483526  A Hybrid Approach for Modeling Type 2 Diabetes...   \n",
       "2  482500  \\n Relationship Between SES and Academic Achie...   \n",
       "3  437333  Environmental Health Research in Africa: Impor...   \n",
       "4  486515  \\n 3,5-T2—A Janus-Faced Thyroid Hormone Metabo...   \n",
       "\n",
       "                      journal  \n",
       "0       Frontiers in Medicine  \n",
       "1       Frontiers in Genetics  \n",
       "2     Frontiers in Psychology  \n",
       "3       Frontiers in Genetics  \n",
       "4  Frontiers in Endocrinology  "
      ]
     },
     "execution_count": 9,
     "metadata": {},
     "output_type": "execute_result"
    }
   ],
   "source": [
    "# Print of one example\n",
    "df.head(5)"
   ]
  },
  {
   "cell_type": "code",
   "execution_count": 18,
   "id": "0e4ffc01",
   "metadata": {},
   "outputs": [
    {
     "data": {
      "application/vnd.plotly.v1+json": {
       "config": {
        "plotlyServerURL": "https://plot.ly"
       },
       "data": [
        {
         "alignmentgroup": "True",
         "hovertemplate": "journal=%{x}<br>count=%{y}<extra></extra>",
         "legendgroup": "",
         "marker": {
          "color": "#636efa",
          "pattern": {
           "shape": ""
          }
         },
         "name": "",
         "offsetgroup": "",
         "orientation": "v",
         "showlegend": false,
         "textposition": "auto",
         "type": "bar",
         "x": [
          "Frontiers in Microbiology",
          "Frontiers in Psychology",
          "Frontiers in Immunology",
          "Frontiers in Pharmacology",
          "Frontiers in Plant Science",
          "Frontiers in Oncology",
          "Frontiers in Physiology",
          "Frontiers in Genetics",
          "Frontiers in Neuroscience",
          "Frontiers in Psychiatry",
          "Frontiers in Neurology",
          "Frontiers in Chemistry",
          "Frontiers in Marine Science",
          "Frontiers in Bioengineering and Biotechnology",
          "Frontiers in Endocrinology",
          "Frontiers in Cell and Developmental Biology",
          "Frontiers in Cellular and Infection Microbiology",
          "Frontiers in Veterinary Science",
          "Frontiers in Medicine",
          "Frontiers in Pediatrics",
          "Frontiers in Physics",
          "Frontiers in Ecology and Evolution",
          "Frontiers in Public Health",
          "Frontiers in Aging Neuroscience",
          "Frontiers in Earth Science",
          "Frontiers in Cellular Neuroscience",
          "Frontiers in Human Neuroscience",
          "Frontiers in Molecular Neuroscience",
          "Frontiers in Behavioral Neuroscience",
          "Frontiers in Molecular Biosciences",
          "Frontiers for Young Minds",
          "Frontiers in Materials",
          "Frontiers in Energy Research",
          "Frontiers in Robotics and AI",
          "Frontiers in Computational Neuroscience",
          "Frontiers in Education",
          "Frontiers in Sustainable Food Systems",
          "Frontiers in Cardiovascular Medicine",
          "Frontiers in Environmental Science",
          "Frontiers in Systems Neuroscience",
          "Frontiers in Forests and Global Change",
          "Frontiers in Surgery",
          "Frontiers in Neurorobotics",
          "Frontiers in Nutrition",
          "Frontiers in Sports and Active Living",
          "Frontiers in Built Environment",
          "Frontiers in Neural Circuits",
          "Frontiers in Mechanical Engineering",
          "Frontiers in Applied Mathematics and Statistics",
          "Frontiers in Integrative Neuroscience",
          "Frontiers in Blockchain",
          "Frontiers in Big Data",
          "Frontiers in Sociology",
          "Frontiers in Astronomy and Space Sciences",
          "Frontiers in Communication",
          "Frontiers in Neuroanatomy",
          "Frontiers in Artificial Intelligence",
          "Frontiers in Neuroinformatics",
          "Frontiers in Synaptic Neuroscience",
          "Frontiers in Genome Editing",
          "Frontiers in Agronomy",
          "Frontiers in Research Metrics and Analytics",
          "Frontiers in Medical Technology",
          "Frontiers in Computer Science"
         ],
         "xaxis": "x",
         "y": [
          238,
          222,
          184,
          173,
          145,
          131,
          105,
          99,
          89,
          86,
          76,
          69,
          64,
          56,
          53,
          47,
          46,
          45,
          44,
          43,
          35,
          34,
          29,
          29,
          26,
          26,
          25,
          24,
          22,
          18,
          18,
          17,
          16,
          15,
          15,
          13,
          11,
          11,
          10,
          10,
          10,
          9,
          9,
          9,
          8,
          8,
          7,
          5,
          5,
          5,
          5,
          4,
          4,
          4,
          3,
          3,
          2,
          2,
          2,
          1,
          1,
          1,
          1,
          1
         ],
         "yaxis": "y"
        }
       ],
       "layout": {
        "barmode": "relative",
        "legend": {
         "tracegroupgap": 0
        },
        "margin": {
         "t": 60
        },
        "template": {
         "data": {
          "bar": [
           {
            "error_x": {
             "color": "#2a3f5f"
            },
            "error_y": {
             "color": "#2a3f5f"
            },
            "marker": {
             "line": {
              "color": "#E5ECF6",
              "width": 0.5
             },
             "pattern": {
              "fillmode": "overlay",
              "size": 10,
              "solidity": 0.2
             }
            },
            "type": "bar"
           }
          ],
          "barpolar": [
           {
            "marker": {
             "line": {
              "color": "#E5ECF6",
              "width": 0.5
             },
             "pattern": {
              "fillmode": "overlay",
              "size": 10,
              "solidity": 0.2
             }
            },
            "type": "barpolar"
           }
          ],
          "carpet": [
           {
            "aaxis": {
             "endlinecolor": "#2a3f5f",
             "gridcolor": "white",
             "linecolor": "white",
             "minorgridcolor": "white",
             "startlinecolor": "#2a3f5f"
            },
            "baxis": {
             "endlinecolor": "#2a3f5f",
             "gridcolor": "white",
             "linecolor": "white",
             "minorgridcolor": "white",
             "startlinecolor": "#2a3f5f"
            },
            "type": "carpet"
           }
          ],
          "choropleth": [
           {
            "colorbar": {
             "outlinewidth": 0,
             "ticks": ""
            },
            "type": "choropleth"
           }
          ],
          "contour": [
           {
            "colorbar": {
             "outlinewidth": 0,
             "ticks": ""
            },
            "colorscale": [
             [
              0,
              "#0d0887"
             ],
             [
              0.1111111111111111,
              "#46039f"
             ],
             [
              0.2222222222222222,
              "#7201a8"
             ],
             [
              0.3333333333333333,
              "#9c179e"
             ],
             [
              0.4444444444444444,
              "#bd3786"
             ],
             [
              0.5555555555555556,
              "#d8576b"
             ],
             [
              0.6666666666666666,
              "#ed7953"
             ],
             [
              0.7777777777777778,
              "#fb9f3a"
             ],
             [
              0.8888888888888888,
              "#fdca26"
             ],
             [
              1,
              "#f0f921"
             ]
            ],
            "type": "contour"
           }
          ],
          "contourcarpet": [
           {
            "colorbar": {
             "outlinewidth": 0,
             "ticks": ""
            },
            "type": "contourcarpet"
           }
          ],
          "heatmap": [
           {
            "colorbar": {
             "outlinewidth": 0,
             "ticks": ""
            },
            "colorscale": [
             [
              0,
              "#0d0887"
             ],
             [
              0.1111111111111111,
              "#46039f"
             ],
             [
              0.2222222222222222,
              "#7201a8"
             ],
             [
              0.3333333333333333,
              "#9c179e"
             ],
             [
              0.4444444444444444,
              "#bd3786"
             ],
             [
              0.5555555555555556,
              "#d8576b"
             ],
             [
              0.6666666666666666,
              "#ed7953"
             ],
             [
              0.7777777777777778,
              "#fb9f3a"
             ],
             [
              0.8888888888888888,
              "#fdca26"
             ],
             [
              1,
              "#f0f921"
             ]
            ],
            "type": "heatmap"
           }
          ],
          "heatmapgl": [
           {
            "colorbar": {
             "outlinewidth": 0,
             "ticks": ""
            },
            "colorscale": [
             [
              0,
              "#0d0887"
             ],
             [
              0.1111111111111111,
              "#46039f"
             ],
             [
              0.2222222222222222,
              "#7201a8"
             ],
             [
              0.3333333333333333,
              "#9c179e"
             ],
             [
              0.4444444444444444,
              "#bd3786"
             ],
             [
              0.5555555555555556,
              "#d8576b"
             ],
             [
              0.6666666666666666,
              "#ed7953"
             ],
             [
              0.7777777777777778,
              "#fb9f3a"
             ],
             [
              0.8888888888888888,
              "#fdca26"
             ],
             [
              1,
              "#f0f921"
             ]
            ],
            "type": "heatmapgl"
           }
          ],
          "histogram": [
           {
            "marker": {
             "pattern": {
              "fillmode": "overlay",
              "size": 10,
              "solidity": 0.2
             }
            },
            "type": "histogram"
           }
          ],
          "histogram2d": [
           {
            "colorbar": {
             "outlinewidth": 0,
             "ticks": ""
            },
            "colorscale": [
             [
              0,
              "#0d0887"
             ],
             [
              0.1111111111111111,
              "#46039f"
             ],
             [
              0.2222222222222222,
              "#7201a8"
             ],
             [
              0.3333333333333333,
              "#9c179e"
             ],
             [
              0.4444444444444444,
              "#bd3786"
             ],
             [
              0.5555555555555556,
              "#d8576b"
             ],
             [
              0.6666666666666666,
              "#ed7953"
             ],
             [
              0.7777777777777778,
              "#fb9f3a"
             ],
             [
              0.8888888888888888,
              "#fdca26"
             ],
             [
              1,
              "#f0f921"
             ]
            ],
            "type": "histogram2d"
           }
          ],
          "histogram2dcontour": [
           {
            "colorbar": {
             "outlinewidth": 0,
             "ticks": ""
            },
            "colorscale": [
             [
              0,
              "#0d0887"
             ],
             [
              0.1111111111111111,
              "#46039f"
             ],
             [
              0.2222222222222222,
              "#7201a8"
             ],
             [
              0.3333333333333333,
              "#9c179e"
             ],
             [
              0.4444444444444444,
              "#bd3786"
             ],
             [
              0.5555555555555556,
              "#d8576b"
             ],
             [
              0.6666666666666666,
              "#ed7953"
             ],
             [
              0.7777777777777778,
              "#fb9f3a"
             ],
             [
              0.8888888888888888,
              "#fdca26"
             ],
             [
              1,
              "#f0f921"
             ]
            ],
            "type": "histogram2dcontour"
           }
          ],
          "mesh3d": [
           {
            "colorbar": {
             "outlinewidth": 0,
             "ticks": ""
            },
            "type": "mesh3d"
           }
          ],
          "parcoords": [
           {
            "line": {
             "colorbar": {
              "outlinewidth": 0,
              "ticks": ""
             }
            },
            "type": "parcoords"
           }
          ],
          "pie": [
           {
            "automargin": true,
            "type": "pie"
           }
          ],
          "scatter": [
           {
            "fillpattern": {
             "fillmode": "overlay",
             "size": 10,
             "solidity": 0.2
            },
            "type": "scatter"
           }
          ],
          "scatter3d": [
           {
            "line": {
             "colorbar": {
              "outlinewidth": 0,
              "ticks": ""
             }
            },
            "marker": {
             "colorbar": {
              "outlinewidth": 0,
              "ticks": ""
             }
            },
            "type": "scatter3d"
           }
          ],
          "scattercarpet": [
           {
            "marker": {
             "colorbar": {
              "outlinewidth": 0,
              "ticks": ""
             }
            },
            "type": "scattercarpet"
           }
          ],
          "scattergeo": [
           {
            "marker": {
             "colorbar": {
              "outlinewidth": 0,
              "ticks": ""
             }
            },
            "type": "scattergeo"
           }
          ],
          "scattergl": [
           {
            "marker": {
             "colorbar": {
              "outlinewidth": 0,
              "ticks": ""
             }
            },
            "type": "scattergl"
           }
          ],
          "scattermapbox": [
           {
            "marker": {
             "colorbar": {
              "outlinewidth": 0,
              "ticks": ""
             }
            },
            "type": "scattermapbox"
           }
          ],
          "scatterpolar": [
           {
            "marker": {
             "colorbar": {
              "outlinewidth": 0,
              "ticks": ""
             }
            },
            "type": "scatterpolar"
           }
          ],
          "scatterpolargl": [
           {
            "marker": {
             "colorbar": {
              "outlinewidth": 0,
              "ticks": ""
             }
            },
            "type": "scatterpolargl"
           }
          ],
          "scatterternary": [
           {
            "marker": {
             "colorbar": {
              "outlinewidth": 0,
              "ticks": ""
             }
            },
            "type": "scatterternary"
           }
          ],
          "surface": [
           {
            "colorbar": {
             "outlinewidth": 0,
             "ticks": ""
            },
            "colorscale": [
             [
              0,
              "#0d0887"
             ],
             [
              0.1111111111111111,
              "#46039f"
             ],
             [
              0.2222222222222222,
              "#7201a8"
             ],
             [
              0.3333333333333333,
              "#9c179e"
             ],
             [
              0.4444444444444444,
              "#bd3786"
             ],
             [
              0.5555555555555556,
              "#d8576b"
             ],
             [
              0.6666666666666666,
              "#ed7953"
             ],
             [
              0.7777777777777778,
              "#fb9f3a"
             ],
             [
              0.8888888888888888,
              "#fdca26"
             ],
             [
              1,
              "#f0f921"
             ]
            ],
            "type": "surface"
           }
          ],
          "table": [
           {
            "cells": {
             "fill": {
              "color": "#EBF0F8"
             },
             "line": {
              "color": "white"
             }
            },
            "header": {
             "fill": {
              "color": "#C8D4E3"
             },
             "line": {
              "color": "white"
             }
            },
            "type": "table"
           }
          ]
         },
         "layout": {
          "annotationdefaults": {
           "arrowcolor": "#2a3f5f",
           "arrowhead": 0,
           "arrowwidth": 1
          },
          "autotypenumbers": "strict",
          "coloraxis": {
           "colorbar": {
            "outlinewidth": 0,
            "ticks": ""
           }
          },
          "colorscale": {
           "diverging": [
            [
             0,
             "#8e0152"
            ],
            [
             0.1,
             "#c51b7d"
            ],
            [
             0.2,
             "#de77ae"
            ],
            [
             0.3,
             "#f1b6da"
            ],
            [
             0.4,
             "#fde0ef"
            ],
            [
             0.5,
             "#f7f7f7"
            ],
            [
             0.6,
             "#e6f5d0"
            ],
            [
             0.7,
             "#b8e186"
            ],
            [
             0.8,
             "#7fbc41"
            ],
            [
             0.9,
             "#4d9221"
            ],
            [
             1,
             "#276419"
            ]
           ],
           "sequential": [
            [
             0,
             "#0d0887"
            ],
            [
             0.1111111111111111,
             "#46039f"
            ],
            [
             0.2222222222222222,
             "#7201a8"
            ],
            [
             0.3333333333333333,
             "#9c179e"
            ],
            [
             0.4444444444444444,
             "#bd3786"
            ],
            [
             0.5555555555555556,
             "#d8576b"
            ],
            [
             0.6666666666666666,
             "#ed7953"
            ],
            [
             0.7777777777777778,
             "#fb9f3a"
            ],
            [
             0.8888888888888888,
             "#fdca26"
            ],
            [
             1,
             "#f0f921"
            ]
           ],
           "sequentialminus": [
            [
             0,
             "#0d0887"
            ],
            [
             0.1111111111111111,
             "#46039f"
            ],
            [
             0.2222222222222222,
             "#7201a8"
            ],
            [
             0.3333333333333333,
             "#9c179e"
            ],
            [
             0.4444444444444444,
             "#bd3786"
            ],
            [
             0.5555555555555556,
             "#d8576b"
            ],
            [
             0.6666666666666666,
             "#ed7953"
            ],
            [
             0.7777777777777778,
             "#fb9f3a"
            ],
            [
             0.8888888888888888,
             "#fdca26"
            ],
            [
             1,
             "#f0f921"
            ]
           ]
          },
          "colorway": [
           "#636efa",
           "#EF553B",
           "#00cc96",
           "#ab63fa",
           "#FFA15A",
           "#19d3f3",
           "#FF6692",
           "#B6E880",
           "#FF97FF",
           "#FECB52"
          ],
          "font": {
           "color": "#2a3f5f"
          },
          "geo": {
           "bgcolor": "white",
           "lakecolor": "white",
           "landcolor": "#E5ECF6",
           "showlakes": true,
           "showland": true,
           "subunitcolor": "white"
          },
          "hoverlabel": {
           "align": "left"
          },
          "hovermode": "closest",
          "mapbox": {
           "style": "light"
          },
          "paper_bgcolor": "white",
          "plot_bgcolor": "#E5ECF6",
          "polar": {
           "angularaxis": {
            "gridcolor": "white",
            "linecolor": "white",
            "ticks": ""
           },
           "bgcolor": "#E5ECF6",
           "radialaxis": {
            "gridcolor": "white",
            "linecolor": "white",
            "ticks": ""
           }
          },
          "scene": {
           "xaxis": {
            "backgroundcolor": "#E5ECF6",
            "gridcolor": "white",
            "gridwidth": 2,
            "linecolor": "white",
            "showbackground": true,
            "ticks": "",
            "zerolinecolor": "white"
           },
           "yaxis": {
            "backgroundcolor": "#E5ECF6",
            "gridcolor": "white",
            "gridwidth": 2,
            "linecolor": "white",
            "showbackground": true,
            "ticks": "",
            "zerolinecolor": "white"
           },
           "zaxis": {
            "backgroundcolor": "#E5ECF6",
            "gridcolor": "white",
            "gridwidth": 2,
            "linecolor": "white",
            "showbackground": true,
            "ticks": "",
            "zerolinecolor": "white"
           }
          },
          "shapedefaults": {
           "line": {
            "color": "#2a3f5f"
           }
          },
          "ternary": {
           "aaxis": {
            "gridcolor": "white",
            "linecolor": "white",
            "ticks": ""
           },
           "baxis": {
            "gridcolor": "white",
            "linecolor": "white",
            "ticks": ""
           },
           "bgcolor": "#E5ECF6",
           "caxis": {
            "gridcolor": "white",
            "linecolor": "white",
            "ticks": ""
           }
          },
          "title": {
           "x": 0.05
          },
          "xaxis": {
           "automargin": true,
           "gridcolor": "white",
           "linecolor": "white",
           "ticks": "",
           "title": {
            "standoff": 15
           },
           "zerolinecolor": "white",
           "zerolinewidth": 2
          },
          "yaxis": {
           "automargin": true,
           "gridcolor": "white",
           "linecolor": "white",
           "ticks": "",
           "title": {
            "standoff": 15
           },
           "zerolinecolor": "white",
           "zerolinewidth": 2
          }
         }
        },
        "xaxis": {
         "anchor": "y",
         "domain": [
          0,
          1
         ],
         "title": {
          "text": "journal"
         }
        },
        "yaxis": {
         "anchor": "x",
         "domain": [
          0,
          1
         ],
         "title": {
          "text": "count"
         }
        }
       }
      },
      "text/html": [
       "<div>                            <div id=\"3e962798-23ef-40a0-aae4-0fe36c672dfb\" class=\"plotly-graph-div\" style=\"height:525px; width:100%;\"></div>            <script type=\"text/javascript\">                require([\"plotly\"], function(Plotly) {                    window.PLOTLYENV=window.PLOTLYENV || {};                                    if (document.getElementById(\"3e962798-23ef-40a0-aae4-0fe36c672dfb\")) {                    Plotly.newPlot(                        \"3e962798-23ef-40a0-aae4-0fe36c672dfb\",                        [{\"alignmentgroup\":\"True\",\"hovertemplate\":\"journal=%{x}<br>count=%{y}<extra></extra>\",\"legendgroup\":\"\",\"marker\":{\"color\":\"#636efa\",\"pattern\":{\"shape\":\"\"}},\"name\":\"\",\"offsetgroup\":\"\",\"orientation\":\"v\",\"showlegend\":false,\"textposition\":\"auto\",\"x\":[\"Frontiers in Microbiology\",\"Frontiers in Psychology\",\"Frontiers in Immunology\",\"Frontiers in Pharmacology\",\"Frontiers in Plant Science\",\"Frontiers in Oncology\",\"Frontiers in Physiology\",\"Frontiers in Genetics\",\"Frontiers in Neuroscience\",\"Frontiers in Psychiatry\",\"Frontiers in Neurology\",\"Frontiers in Chemistry\",\"Frontiers in Marine Science\",\"Frontiers in Bioengineering and Biotechnology\",\"Frontiers in Endocrinology\",\"Frontiers in Cell and Developmental Biology\",\"Frontiers in Cellular and Infection Microbiology\",\"Frontiers in Veterinary Science\",\"Frontiers in Medicine\",\"Frontiers in Pediatrics\",\"Frontiers in Physics\",\"Frontiers in Ecology and Evolution\",\"Frontiers in Public Health\",\"Frontiers in Aging Neuroscience\",\"Frontiers in Earth Science\",\"Frontiers in Cellular Neuroscience\",\"Frontiers in Human Neuroscience\",\"Frontiers in Molecular Neuroscience\",\"Frontiers in Behavioral Neuroscience\",\"Frontiers in Molecular Biosciences\",\"Frontiers for Young Minds\",\"Frontiers in Materials\",\"Frontiers in Energy Research\",\"Frontiers in Robotics and AI\",\"Frontiers in Computational Neuroscience\",\"Frontiers in Education\",\"Frontiers in Sustainable Food Systems\",\"Frontiers in Cardiovascular Medicine\",\"Frontiers in Environmental Science\",\"Frontiers in Systems Neuroscience\",\"Frontiers in Forests and Global Change\",\"Frontiers in Surgery\",\"Frontiers in Neurorobotics\",\"Frontiers in Nutrition\",\"Frontiers in Sports and Active Living\",\"Frontiers in Built Environment\",\"Frontiers in Neural Circuits\",\"Frontiers in Mechanical Engineering\",\"Frontiers in Applied Mathematics and Statistics\",\"Frontiers in Integrative Neuroscience\",\"Frontiers in Blockchain\",\"Frontiers in Big Data\",\"Frontiers in Sociology\",\"Frontiers in Astronomy and Space Sciences\",\"Frontiers in Communication\",\"Frontiers in Neuroanatomy\",\"Frontiers in Artificial Intelligence\",\"Frontiers in Neuroinformatics\",\"Frontiers in Synaptic Neuroscience\",\"Frontiers in Genome Editing\",\"Frontiers in Agronomy\",\"Frontiers in Research Metrics and Analytics\",\"Frontiers in Medical Technology\",\"Frontiers in Computer Science\"],\"xaxis\":\"x\",\"y\":[238,222,184,173,145,131,105,99,89,86,76,69,64,56,53,47,46,45,44,43,35,34,29,29,26,26,25,24,22,18,18,17,16,15,15,13,11,11,10,10,10,9,9,9,8,8,7,5,5,5,5,4,4,4,3,3,2,2,2,1,1,1,1,1],\"yaxis\":\"y\",\"type\":\"bar\"}],                        {\"template\":{\"data\":{\"histogram2dcontour\":[{\"type\":\"histogram2dcontour\",\"colorbar\":{\"outlinewidth\":0,\"ticks\":\"\"},\"colorscale\":[[0.0,\"#0d0887\"],[0.1111111111111111,\"#46039f\"],[0.2222222222222222,\"#7201a8\"],[0.3333333333333333,\"#9c179e\"],[0.4444444444444444,\"#bd3786\"],[0.5555555555555556,\"#d8576b\"],[0.6666666666666666,\"#ed7953\"],[0.7777777777777778,\"#fb9f3a\"],[0.8888888888888888,\"#fdca26\"],[1.0,\"#f0f921\"]]}],\"choropleth\":[{\"type\":\"choropleth\",\"colorbar\":{\"outlinewidth\":0,\"ticks\":\"\"}}],\"histogram2d\":[{\"type\":\"histogram2d\",\"colorbar\":{\"outlinewidth\":0,\"ticks\":\"\"},\"colorscale\":[[0.0,\"#0d0887\"],[0.1111111111111111,\"#46039f\"],[0.2222222222222222,\"#7201a8\"],[0.3333333333333333,\"#9c179e\"],[0.4444444444444444,\"#bd3786\"],[0.5555555555555556,\"#d8576b\"],[0.6666666666666666,\"#ed7953\"],[0.7777777777777778,\"#fb9f3a\"],[0.8888888888888888,\"#fdca26\"],[1.0,\"#f0f921\"]]}],\"heatmap\":[{\"type\":\"heatmap\",\"colorbar\":{\"outlinewidth\":0,\"ticks\":\"\"},\"colorscale\":[[0.0,\"#0d0887\"],[0.1111111111111111,\"#46039f\"],[0.2222222222222222,\"#7201a8\"],[0.3333333333333333,\"#9c179e\"],[0.4444444444444444,\"#bd3786\"],[0.5555555555555556,\"#d8576b\"],[0.6666666666666666,\"#ed7953\"],[0.7777777777777778,\"#fb9f3a\"],[0.8888888888888888,\"#fdca26\"],[1.0,\"#f0f921\"]]}],\"heatmapgl\":[{\"type\":\"heatmapgl\",\"colorbar\":{\"outlinewidth\":0,\"ticks\":\"\"},\"colorscale\":[[0.0,\"#0d0887\"],[0.1111111111111111,\"#46039f\"],[0.2222222222222222,\"#7201a8\"],[0.3333333333333333,\"#9c179e\"],[0.4444444444444444,\"#bd3786\"],[0.5555555555555556,\"#d8576b\"],[0.6666666666666666,\"#ed7953\"],[0.7777777777777778,\"#fb9f3a\"],[0.8888888888888888,\"#fdca26\"],[1.0,\"#f0f921\"]]}],\"contourcarpet\":[{\"type\":\"contourcarpet\",\"colorbar\":{\"outlinewidth\":0,\"ticks\":\"\"}}],\"contour\":[{\"type\":\"contour\",\"colorbar\":{\"outlinewidth\":0,\"ticks\":\"\"},\"colorscale\":[[0.0,\"#0d0887\"],[0.1111111111111111,\"#46039f\"],[0.2222222222222222,\"#7201a8\"],[0.3333333333333333,\"#9c179e\"],[0.4444444444444444,\"#bd3786\"],[0.5555555555555556,\"#d8576b\"],[0.6666666666666666,\"#ed7953\"],[0.7777777777777778,\"#fb9f3a\"],[0.8888888888888888,\"#fdca26\"],[1.0,\"#f0f921\"]]}],\"surface\":[{\"type\":\"surface\",\"colorbar\":{\"outlinewidth\":0,\"ticks\":\"\"},\"colorscale\":[[0.0,\"#0d0887\"],[0.1111111111111111,\"#46039f\"],[0.2222222222222222,\"#7201a8\"],[0.3333333333333333,\"#9c179e\"],[0.4444444444444444,\"#bd3786\"],[0.5555555555555556,\"#d8576b\"],[0.6666666666666666,\"#ed7953\"],[0.7777777777777778,\"#fb9f3a\"],[0.8888888888888888,\"#fdca26\"],[1.0,\"#f0f921\"]]}],\"mesh3d\":[{\"type\":\"mesh3d\",\"colorbar\":{\"outlinewidth\":0,\"ticks\":\"\"}}],\"scatter\":[{\"fillpattern\":{\"fillmode\":\"overlay\",\"size\":10,\"solidity\":0.2},\"type\":\"scatter\"}],\"parcoords\":[{\"type\":\"parcoords\",\"line\":{\"colorbar\":{\"outlinewidth\":0,\"ticks\":\"\"}}}],\"scatterpolargl\":[{\"type\":\"scatterpolargl\",\"marker\":{\"colorbar\":{\"outlinewidth\":0,\"ticks\":\"\"}}}],\"bar\":[{\"error_x\":{\"color\":\"#2a3f5f\"},\"error_y\":{\"color\":\"#2a3f5f\"},\"marker\":{\"line\":{\"color\":\"#E5ECF6\",\"width\":0.5},\"pattern\":{\"fillmode\":\"overlay\",\"size\":10,\"solidity\":0.2}},\"type\":\"bar\"}],\"scattergeo\":[{\"type\":\"scattergeo\",\"marker\":{\"colorbar\":{\"outlinewidth\":0,\"ticks\":\"\"}}}],\"scatterpolar\":[{\"type\":\"scatterpolar\",\"marker\":{\"colorbar\":{\"outlinewidth\":0,\"ticks\":\"\"}}}],\"histogram\":[{\"marker\":{\"pattern\":{\"fillmode\":\"overlay\",\"size\":10,\"solidity\":0.2}},\"type\":\"histogram\"}],\"scattergl\":[{\"type\":\"scattergl\",\"marker\":{\"colorbar\":{\"outlinewidth\":0,\"ticks\":\"\"}}}],\"scatter3d\":[{\"type\":\"scatter3d\",\"line\":{\"colorbar\":{\"outlinewidth\":0,\"ticks\":\"\"}},\"marker\":{\"colorbar\":{\"outlinewidth\":0,\"ticks\":\"\"}}}],\"scattermapbox\":[{\"type\":\"scattermapbox\",\"marker\":{\"colorbar\":{\"outlinewidth\":0,\"ticks\":\"\"}}}],\"scatterternary\":[{\"type\":\"scatterternary\",\"marker\":{\"colorbar\":{\"outlinewidth\":0,\"ticks\":\"\"}}}],\"scattercarpet\":[{\"type\":\"scattercarpet\",\"marker\":{\"colorbar\":{\"outlinewidth\":0,\"ticks\":\"\"}}}],\"carpet\":[{\"aaxis\":{\"endlinecolor\":\"#2a3f5f\",\"gridcolor\":\"white\",\"linecolor\":\"white\",\"minorgridcolor\":\"white\",\"startlinecolor\":\"#2a3f5f\"},\"baxis\":{\"endlinecolor\":\"#2a3f5f\",\"gridcolor\":\"white\",\"linecolor\":\"white\",\"minorgridcolor\":\"white\",\"startlinecolor\":\"#2a3f5f\"},\"type\":\"carpet\"}],\"table\":[{\"cells\":{\"fill\":{\"color\":\"#EBF0F8\"},\"line\":{\"color\":\"white\"}},\"header\":{\"fill\":{\"color\":\"#C8D4E3\"},\"line\":{\"color\":\"white\"}},\"type\":\"table\"}],\"barpolar\":[{\"marker\":{\"line\":{\"color\":\"#E5ECF6\",\"width\":0.5},\"pattern\":{\"fillmode\":\"overlay\",\"size\":10,\"solidity\":0.2}},\"type\":\"barpolar\"}],\"pie\":[{\"automargin\":true,\"type\":\"pie\"}]},\"layout\":{\"autotypenumbers\":\"strict\",\"colorway\":[\"#636efa\",\"#EF553B\",\"#00cc96\",\"#ab63fa\",\"#FFA15A\",\"#19d3f3\",\"#FF6692\",\"#B6E880\",\"#FF97FF\",\"#FECB52\"],\"font\":{\"color\":\"#2a3f5f\"},\"hovermode\":\"closest\",\"hoverlabel\":{\"align\":\"left\"},\"paper_bgcolor\":\"white\",\"plot_bgcolor\":\"#E5ECF6\",\"polar\":{\"bgcolor\":\"#E5ECF6\",\"angularaxis\":{\"gridcolor\":\"white\",\"linecolor\":\"white\",\"ticks\":\"\"},\"radialaxis\":{\"gridcolor\":\"white\",\"linecolor\":\"white\",\"ticks\":\"\"}},\"ternary\":{\"bgcolor\":\"#E5ECF6\",\"aaxis\":{\"gridcolor\":\"white\",\"linecolor\":\"white\",\"ticks\":\"\"},\"baxis\":{\"gridcolor\":\"white\",\"linecolor\":\"white\",\"ticks\":\"\"},\"caxis\":{\"gridcolor\":\"white\",\"linecolor\":\"white\",\"ticks\":\"\"}},\"coloraxis\":{\"colorbar\":{\"outlinewidth\":0,\"ticks\":\"\"}},\"colorscale\":{\"sequential\":[[0.0,\"#0d0887\"],[0.1111111111111111,\"#46039f\"],[0.2222222222222222,\"#7201a8\"],[0.3333333333333333,\"#9c179e\"],[0.4444444444444444,\"#bd3786\"],[0.5555555555555556,\"#d8576b\"],[0.6666666666666666,\"#ed7953\"],[0.7777777777777778,\"#fb9f3a\"],[0.8888888888888888,\"#fdca26\"],[1.0,\"#f0f921\"]],\"sequentialminus\":[[0.0,\"#0d0887\"],[0.1111111111111111,\"#46039f\"],[0.2222222222222222,\"#7201a8\"],[0.3333333333333333,\"#9c179e\"],[0.4444444444444444,\"#bd3786\"],[0.5555555555555556,\"#d8576b\"],[0.6666666666666666,\"#ed7953\"],[0.7777777777777778,\"#fb9f3a\"],[0.8888888888888888,\"#fdca26\"],[1.0,\"#f0f921\"]],\"diverging\":[[0,\"#8e0152\"],[0.1,\"#c51b7d\"],[0.2,\"#de77ae\"],[0.3,\"#f1b6da\"],[0.4,\"#fde0ef\"],[0.5,\"#f7f7f7\"],[0.6,\"#e6f5d0\"],[0.7,\"#b8e186\"],[0.8,\"#7fbc41\"],[0.9,\"#4d9221\"],[1,\"#276419\"]]},\"xaxis\":{\"gridcolor\":\"white\",\"linecolor\":\"white\",\"ticks\":\"\",\"title\":{\"standoff\":15},\"zerolinecolor\":\"white\",\"automargin\":true,\"zerolinewidth\":2},\"yaxis\":{\"gridcolor\":\"white\",\"linecolor\":\"white\",\"ticks\":\"\",\"title\":{\"standoff\":15},\"zerolinecolor\":\"white\",\"automargin\":true,\"zerolinewidth\":2},\"scene\":{\"xaxis\":{\"backgroundcolor\":\"#E5ECF6\",\"gridcolor\":\"white\",\"linecolor\":\"white\",\"showbackground\":true,\"ticks\":\"\",\"zerolinecolor\":\"white\",\"gridwidth\":2},\"yaxis\":{\"backgroundcolor\":\"#E5ECF6\",\"gridcolor\":\"white\",\"linecolor\":\"white\",\"showbackground\":true,\"ticks\":\"\",\"zerolinecolor\":\"white\",\"gridwidth\":2},\"zaxis\":{\"backgroundcolor\":\"#E5ECF6\",\"gridcolor\":\"white\",\"linecolor\":\"white\",\"showbackground\":true,\"ticks\":\"\",\"zerolinecolor\":\"white\",\"gridwidth\":2}},\"shapedefaults\":{\"line\":{\"color\":\"#2a3f5f\"}},\"annotationdefaults\":{\"arrowcolor\":\"#2a3f5f\",\"arrowhead\":0,\"arrowwidth\":1},\"geo\":{\"bgcolor\":\"white\",\"landcolor\":\"#E5ECF6\",\"subunitcolor\":\"white\",\"showland\":true,\"showlakes\":true,\"lakecolor\":\"white\"},\"title\":{\"x\":0.05},\"mapbox\":{\"style\":\"light\"}}},\"xaxis\":{\"anchor\":\"y\",\"domain\":[0.0,1.0],\"title\":{\"text\":\"journal\"}},\"yaxis\":{\"anchor\":\"x\",\"domain\":[0.0,1.0],\"title\":{\"text\":\"count\"}},\"legend\":{\"tracegroupgap\":0},\"margin\":{\"t\":60},\"barmode\":\"relative\"},                        {\"responsive\": true}                    ).then(function(){\n",
       "                            \n",
       "var gd = document.getElementById('3e962798-23ef-40a0-aae4-0fe36c672dfb');\n",
       "var x = new MutationObserver(function (mutations, observer) {{\n",
       "        var display = window.getComputedStyle(gd).display;\n",
       "        if (!display || display === 'none') {{\n",
       "            console.log([gd, 'removed!']);\n",
       "            Plotly.purge(gd);\n",
       "            observer.disconnect();\n",
       "        }}\n",
       "}});\n",
       "\n",
       "// Listen for the removal of the full notebook cells\n",
       "var notebookContainer = gd.closest('#notebook-container');\n",
       "if (notebookContainer) {{\n",
       "    x.observe(notebookContainer, {childList: true});\n",
       "}}\n",
       "\n",
       "// Listen for the clearing of the current output cell\n",
       "var outputEl = gd.closest('.output');\n",
       "if (outputEl) {{\n",
       "    x.observe(outputEl, {childList: true});\n",
       "}}\n",
       "\n",
       "                        })                };                });            </script>        </div>"
      ]
     },
     "metadata": {},
     "output_type": "display_data"
    }
   ],
   "source": [
    "# 1. The number of scientific articles published for each Frontiers journal;\n",
    "documents_per_journal, df_subset = filter_papers_min_sample(df)\n",
    "documents_per_journal = documents_per_journal.reset_index().rename(columns={0:\"count\"})\n",
    "fig = px.bar(documents_per_journal, x='journal', y='count')\n",
    "fig.show()"
   ]
  },
  {
   "cell_type": "markdown",
   "id": "30625ead",
   "metadata": {},
   "source": [
    "**Conclusion 1**: The number of published articles for each journal is strongly unbalanced. In order to evaluate the methods presented in the next section, I filter the original dataset with only the journals that received at least 2 publications. "
   ]
  },
  {
   "cell_type": "code",
   "execution_count": 21,
   "id": "13f309be",
   "metadata": {},
   "outputs": [
    {
     "name": "stderr",
     "output_type": "stream",
     "text": [
      "/tmp/ipykernel_40778/66414500.py:2: SettingWithCopyWarning:\n",
      "\n",
      "\n",
      "A value is trying to be set on a copy of a slice from a DataFrame.\n",
      "Try using .loc[row_indexer,col_indexer] = value instead\n",
      "\n",
      "See the caveats in the documentation: https://pandas.pydata.org/pandas-docs/stable/user_guide/indexing.html#returning-a-view-versus-a-copy\n",
      "\n"
     ]
    },
    {
     "data": {
      "application/vnd.plotly.v1+json": {
       "config": {
        "plotlyServerURL": "https://plot.ly"
       },
       "data": [
        {
         "alignmentgroup": "True",
         "bingroup": "x",
         "hovertemplate": "len_text=%{x}<br>count=%{y}<extra></extra>",
         "legendgroup": "",
         "marker": {
          "color": "#636efa",
          "pattern": {
           "shape": ""
          }
         },
         "name": "",
         "nbinsx": 100,
         "offsetgroup": "",
         "orientation": "v",
         "showlegend": false,
         "type": "histogram",
         "x": [
          42298,
          53355,
          36663,
          187828,
          87442,
          105387,
          46063,
          29225,
          82680,
          84776,
          41348,
          87686,
          50715,
          72638,
          58057,
          38282,
          74233,
          81699,
          30873,
          86690,
          55274,
          39105,
          86772,
          54088,
          81757,
          61124,
          44844,
          68415,
          63175,
          54047,
          52157,
          42659,
          59976,
          50866,
          97369,
          51173,
          102673,
          46931,
          127724,
          78932,
          84887,
          83322,
          70562,
          107596,
          48657,
          59182,
          105892,
          4588,
          69950,
          89568,
          32459,
          28092,
          43368,
          28711,
          112214,
          64660,
          40218,
          60820,
          72209,
          120226,
          63781,
          94821,
          65491,
          34129,
          36686,
          60836,
          56532,
          61273,
          46955,
          51321,
          50944,
          47002,
          35720,
          54218,
          46800,
          62188,
          57899,
          102938,
          100554,
          75271,
          111936,
          67783,
          59285,
          15822,
          62740,
          44076,
          178177,
          112421,
          45481,
          66167,
          28050,
          56866,
          60685,
          11297,
          167880,
          79101,
          70669,
          169675,
          66686,
          107726,
          69700,
          34092,
          106162,
          95834,
          83690,
          79397,
          48590,
          40565,
          46086,
          53673,
          59512,
          71203,
          75845,
          2893,
          61482,
          59223,
          49038,
          54872,
          97888,
          138670,
          103451,
          64905,
          53813,
          83497,
          81291,
          39621,
          40155,
          55406,
          39816,
          98970,
          67249,
          20634,
          57070,
          50011,
          6330,
          50216,
          88491,
          99919,
          17393,
          58448,
          71881,
          78452,
          58658,
          45181,
          47130,
          42109,
          41051,
          53893,
          106832,
          47506,
          46493,
          56797,
          38849,
          56376,
          39626,
          41428,
          32661,
          44176,
          10953,
          74532,
          46064,
          34175,
          54808,
          51723,
          60548,
          40820,
          47053,
          43392,
          47506,
          48249,
          37516,
          65733,
          62796,
          46178,
          53804,
          77513,
          72609,
          47806,
          45541,
          62760,
          54397,
          59830,
          70716,
          27057,
          49036,
          6408,
          39691,
          39303,
          51937,
          78936,
          43051,
          59336,
          96001,
          61412,
          86790,
          91271,
          65599,
          35698,
          84696,
          75172,
          77908,
          125222,
          54441,
          55513,
          41091,
          60045,
          53684,
          76717,
          58435,
          76352,
          73367,
          77776,
          62088,
          42567,
          36891,
          18427,
          72308,
          88271,
          43695,
          82824,
          50065,
          43562,
          34675,
          64719,
          52030,
          63149,
          47399,
          60272,
          52089,
          45694,
          21243,
          106015,
          60192,
          60899,
          72218,
          82021,
          85581,
          37125,
          80097,
          36568,
          39616,
          53594,
          67131,
          46143,
          17170,
          80332,
          77925,
          81742,
          29784,
          61711,
          63948,
          45427,
          13121,
          135306,
          15467,
          2727,
          62247,
          51898,
          58855,
          62288,
          71337,
          59751,
          10078,
          41203,
          49228,
          75330,
          48726,
          101713,
          58380,
          63516,
          79406,
          72567,
          2998,
          55253,
          27932,
          62968,
          23606,
          46054,
          27587,
          59540,
          73940,
          61231,
          49017,
          55719,
          35765,
          24093,
          66726,
          113953,
          76764,
          51221,
          38357,
          61432,
          77049,
          87795,
          73783,
          59432,
          72420,
          53289,
          36291,
          149039,
          65827,
          54107,
          81857,
          59740,
          42941,
          59789,
          91254,
          70227,
          54828,
          48753,
          76840,
          25539,
          74465,
          27494,
          2831,
          49824,
          58172,
          79290,
          43177,
          77644,
          41259,
          103410,
          73219,
          76804,
          90186,
          79282,
          69924,
          55881,
          50453,
          13752,
          55812,
          36921,
          41393,
          59500,
          42258,
          35716,
          111102,
          38716,
          28044,
          54514,
          50798,
          104199,
          63588,
          58494,
          33219,
          36003,
          26855,
          55905,
          61382,
          46924,
          44646,
          41986,
          194172,
          27212,
          60024,
          47167,
          92799,
          56394,
          57229,
          69055,
          79748,
          30910,
          46382,
          87754,
          71122,
          84798,
          54509,
          76662,
          8072,
          45876,
          31047,
          56815,
          48363,
          68774,
          74101,
          67018,
          53329,
          137779,
          68324,
          44760,
          29133,
          81083,
          83475,
          51070,
          67466,
          49000,
          67540,
          74292,
          150073,
          87589,
          53366,
          85557,
          67686,
          57756,
          30753,
          132658,
          115286,
          77618,
          65275,
          33962,
          40180,
          52792,
          46629,
          46674,
          62689,
          43399,
          36458,
          45152,
          53271,
          80689,
          75351,
          20937,
          31573,
          23463,
          57784,
          113475,
          46261,
          47877,
          67129,
          39025,
          77307,
          54468,
          62661,
          13978,
          43847,
          80668,
          47303,
          40702,
          54316,
          38719,
          56305,
          66893,
          62033,
          55705,
          54168,
          45679,
          77351,
          51145,
          46971,
          104481,
          81259,
          71146,
          67800,
          56984,
          112041,
          86959,
          70239,
          96627,
          33882,
          59002,
          66189,
          91709,
          69183,
          11703,
          53223,
          38344,
          44590,
          43567,
          75939,
          57443,
          66044,
          90793,
          40721,
          161076,
          77715,
          45785,
          33835,
          31482,
          45568,
          103652,
          26923,
          43866,
          57144,
          54501,
          46512,
          17430,
          22411,
          17704,
          81294,
          47922,
          45729,
          94499,
          47205,
          71837,
          37560,
          77114,
          92824,
          51161,
          47230,
          78452,
          99420,
          2407,
          87966,
          46476,
          66754,
          32267,
          121052,
          62737,
          63477,
          106432,
          43885,
          72392,
          90417,
          58669,
          53678,
          72474,
          18183,
          7298,
          46769,
          81756,
          60165,
          43388,
          45575,
          15636,
          83350,
          80718,
          54669,
          34255,
          35269,
          58134,
          66733,
          27909,
          91615,
          38860,
          115610,
          90139,
          90483,
          53484,
          39191,
          94739,
          44246,
          54815,
          93920,
          86076,
          54489,
          29220,
          49066,
          60368,
          32834,
          8585,
          54666,
          39777,
          143725,
          49178,
          34414,
          138091,
          43426,
          68209,
          39115,
          37864,
          56399,
          45926,
          36544,
          34910,
          48860,
          61548,
          37765,
          73625,
          93001,
          57064,
          58729,
          36407,
          31929,
          67137,
          55427,
          82025,
          76706,
          52531,
          49390,
          75759,
          44118,
          69641,
          65387,
          107193,
          47963,
          40168,
          39148,
          30061,
          39191,
          46491,
          84870,
          70328,
          83050,
          2509,
          29618,
          94989,
          78952,
          4390,
          77794,
          74854,
          70811,
          57360,
          114774,
          33964,
          65047,
          68338,
          45182,
          36607,
          66878,
          51828,
          58077,
          68804,
          36973,
          60220,
          29586,
          66938,
          90011,
          31485,
          67097,
          134678,
          46579,
          52895,
          31508,
          49873,
          47787,
          47701,
          40008,
          37345,
          66040,
          35360,
          44729,
          59738,
          52815,
          44811,
          124089,
          43485,
          32399,
          43861,
          72312,
          54503,
          70010,
          74307,
          111236,
          76534,
          46834,
          57697,
          38924,
          80336,
          41554,
          44407,
          78901,
          43850,
          42253,
          44213,
          47174,
          40715,
          48497,
          43727,
          45446,
          23528,
          18096,
          47987,
          12405,
          76731,
          125609,
          37760,
          55906,
          78612,
          41055,
          49729,
          46344,
          66278,
          84388,
          46745,
          47740,
          37374,
          72961,
          87063,
          77037,
          60168,
          41453,
          82236,
          71227,
          48394,
          43314,
          54664,
          46024,
          45216,
          95072,
          59130,
          43192,
          55732,
          52094,
          61225,
          69574,
          55883,
          65453,
          61076,
          70802,
          52488,
          66825,
          62194,
          37911,
          54117,
          55232,
          83888,
          39758,
          35924,
          45387,
          65997,
          86009,
          70439,
          10744,
          37527,
          46250,
          52871,
          49051,
          102138,
          57473,
          6259,
          33576,
          85120,
          51515,
          97156,
          126266,
          66375,
          15704,
          114055,
          73535,
          53980,
          66818,
          48969,
          90643,
          62987,
          52843,
          49524,
          40492,
          86203,
          50186,
          74327,
          57588,
          82771,
          47241,
          65612,
          74911,
          71526,
          35567,
          87414,
          47118,
          77988,
          37756,
          61980,
          65524,
          35831,
          69500,
          68629,
          40262,
          37944,
          93482,
          57804,
          20891,
          73375,
          41463,
          44801,
          13694,
          150665,
          86511,
          36328,
          72994,
          33580,
          16645,
          95603,
          37924,
          29251,
          100795,
          53780,
          49462,
          61781,
          76026,
          82825,
          30529,
          97540,
          44957,
          50472,
          57094,
          45228,
          113546,
          57374,
          30925,
          52443,
          45001,
          57284,
          34711,
          33305,
          108650,
          51309,
          30935,
          71095,
          68190,
          52842,
          50220,
          52149,
          93766,
          47526,
          43827,
          38443,
          82616,
          67962,
          35998,
          42120,
          51497,
          38203,
          79652,
          74687,
          49743,
          29238,
          106540,
          54198,
          39158,
          87057,
          30601,
          65391,
          51746,
          45080,
          69887,
          93795,
          69463,
          45349,
          58275,
          38673,
          37236,
          53189,
          46376,
          45622,
          80869,
          50694,
          52490,
          36198,
          49705,
          37797,
          81678,
          101648,
          69398,
          55810,
          58073,
          56709,
          67922,
          51633,
          46933,
          125840,
          34484,
          50624,
          19305,
          50694,
          81230,
          83035,
          80411,
          45221,
          63878,
          61787,
          77278,
          92879,
          98423,
          52903,
          53554,
          48334,
          39346,
          45359,
          103221,
          83918,
          55594,
          52550,
          45757,
          61232,
          33453,
          40397,
          32772,
          94828,
          14790,
          55406,
          76937,
          67010,
          82157,
          71574,
          58827,
          85633,
          52542,
          68273,
          66563,
          82560,
          63495,
          63633,
          39307,
          41285,
          34338,
          42066,
          72020,
          64474,
          53145,
          108819,
          61638,
          58906,
          92836,
          52032,
          54733,
          52228,
          54934,
          44248,
          40755,
          48959,
          84681,
          20608,
          51868,
          47035,
          36166,
          90971,
          33634,
          45556,
          49219,
          54535,
          29314,
          3499,
          65073,
          21437,
          52926,
          97311,
          41815,
          32522,
          65667,
          63794,
          69584,
          67808,
          73349,
          36086,
          29894,
          85109,
          47202,
          54221,
          56398,
          70063,
          50614,
          49189,
          36366,
          33189,
          66181,
          74477,
          12178,
          75305,
          37618,
          76315,
          44534,
          12246,
          76011,
          23505,
          54619,
          137328,
          66771,
          29500,
          44026,
          44065,
          82807,
          39766,
          82567,
          44560,
          67151,
          45414,
          82982,
          51218,
          33341,
          49069,
          64319,
          62570,
          59880,
          56716,
          20092,
          51344,
          79306,
          67186,
          27498,
          73902,
          59844,
          63731,
          51834,
          46977,
          16455,
          47434,
          55791,
          69232,
          27809,
          39583,
          93809,
          78885,
          7627,
          55744,
          53029,
          19910,
          45598,
          67682,
          54608,
          51342,
          44049,
          56919,
          44650,
          35519,
          91309,
          95910,
          33017,
          45734,
          93594,
          71079,
          4151,
          95298,
          72163,
          43877,
          56313,
          80326,
          101707,
          47405,
          57288,
          18664,
          135921,
          43191,
          56396,
          33242,
          46138,
          28651,
          43024,
          31761,
          59859,
          42881,
          37423,
          3786,
          79274,
          42109,
          31039,
          77472,
          29894,
          73335,
          93363,
          61012,
          45752,
          31349,
          41333,
          40255,
          40349,
          61496,
          50713,
          52987,
          71655,
          62198,
          52651,
          62676,
          79580,
          51782,
          16430,
          17400,
          48797,
          14042,
          48636,
          41594,
          53868,
          40133,
          103054,
          71350,
          9279,
          58867,
          40645,
          36643,
          59690,
          70113,
          33014,
          46022,
          55879,
          84947,
          26986,
          43950,
          17681,
          63383,
          108078,
          54455,
          3721,
          33086,
          52241,
          27875,
          60760,
          73557,
          2433,
          19779,
          49497,
          40035,
          57828,
          61646,
          69462,
          99878,
          69125,
          52028,
          58745,
          146128,
          163956,
          49085,
          47502,
          74538,
          66735,
          64430,
          33509,
          51406,
          62624,
          35054,
          66883,
          92759,
          6664,
          84419,
          50853,
          65045,
          39922,
          60504,
          43579,
          40611,
          62228,
          83890,
          41538,
          47898,
          45709,
          24417,
          70032,
          17038,
          41720,
          3142,
          60928,
          19472,
          37043,
          94409,
          20861,
          37449,
          14447,
          43027,
          66625,
          49836,
          83596,
          43357,
          118268,
          69823,
          66797,
          63121,
          44289,
          94786,
          52528,
          52413,
          59685,
          106524,
          73814,
          39737,
          48238,
          78961,
          35718,
          55063,
          74570,
          11920,
          39730,
          28948,
          61536,
          75034,
          60892,
          72922,
          50241,
          84601,
          45576,
          59410,
          54481,
          46554,
          60168,
          149865,
          79411,
          95012,
          37734,
          74238,
          62191,
          42057,
          80111,
          11580,
          60752,
          142449,
          16674,
          13872,
          41159,
          47542,
          106247,
          65571,
          12835,
          86311,
          33819,
          62687,
          74274,
          48190,
          29693,
          14485,
          51008,
          63337,
          63211,
          131501,
          112067,
          37875,
          10900,
          63399,
          52834,
          60854,
          45021,
          65369,
          62414,
          94560,
          83213,
          16994,
          33776,
          56072,
          63313,
          73929,
          17876,
          45383,
          66413,
          66957,
          49922,
          42071,
          37105,
          59102,
          54056,
          13097,
          2343,
          41568,
          76113,
          74096,
          57704,
          98098,
          39535,
          81598,
          129709,
          61344,
          38427,
          52768,
          103045,
          50001,
          108455,
          72656,
          57767,
          68996,
          48931,
          91983,
          32550,
          124486,
          48832,
          32379,
          28359,
          104715,
          124584,
          63144,
          82496,
          62477,
          67621,
          66035,
          43225,
          101326,
          55647,
          48496,
          51289,
          95534,
          35565,
          81204,
          49461,
          75315,
          58158,
          123352,
          35221,
          47190,
          86885,
          52395,
          54952,
          16485,
          43408,
          69872,
          68206,
          61347,
          42595,
          128807,
          79310,
          48304,
          62892,
          77517,
          51865,
          44667,
          54403,
          112339,
          53767,
          40760,
          55980,
          98112,
          60176,
          45585,
          58963,
          49920,
          76188,
          59352,
          32920,
          38350,
          35520,
          61492,
          61046,
          33974,
          40007,
          68023,
          17711,
          72325,
          88837,
          61079,
          56402,
          2789,
          57201,
          17737,
          21377,
          66424,
          58251,
          42589,
          54402,
          39874,
          48809,
          55881,
          137733,
          62584,
          46978,
          11074,
          50938,
          40662,
          73678,
          65524,
          96871,
          62433,
          85058,
          70461,
          46346,
          116893,
          61739,
          58939,
          57603,
          82289,
          54894,
          36875,
          55146,
          68207,
          22224,
          4376,
          55889,
          3838,
          64103,
          112363,
          40036,
          84322,
          107996,
          62879,
          81169,
          62629,
          39451,
          25570,
          26478,
          77507,
          50285,
          88379,
          86725,
          59235,
          69781,
          50558,
          48425,
          19550,
          63742,
          44432,
          45251,
          53808,
          51327,
          38453,
          70707,
          46748,
          72218,
          38504,
          85309,
          54360,
          53583,
          49158,
          136618,
          40693,
          44032,
          41741,
          50760,
          44530,
          72570,
          66606,
          55909,
          101122,
          95473,
          71005,
          87983,
          54067,
          36958,
          63769,
          42206,
          46614,
          75415,
          62191,
          70003,
          63572,
          85598,
          68340,
          94565,
          75872,
          76272,
          84687,
          46264,
          37314,
          31116,
          48084,
          53989,
          21124,
          51954,
          48014,
          59402,
          68442,
          68904,
          27024,
          89770,
          55740,
          54701,
          83161,
          122565,
          71406,
          118732,
          43058,
          35970,
          73410,
          56331,
          55753,
          66569,
          95105,
          78442,
          31739,
          53344,
          44623,
          54179,
          39562,
          106922,
          35919,
          55036,
          44804,
          27236,
          106030,
          39381,
          69599,
          57118,
          52112,
          46257,
          19037,
          75147,
          49271,
          56684,
          76253,
          41764,
          46925,
          30050,
          93822,
          85722,
          66637,
          72155,
          34474,
          57583,
          48135,
          37141,
          93359,
          55279,
          28537,
          49724,
          94269,
          74816,
          57640,
          70885,
          49576,
          43482,
          34617,
          67456,
          4111,
          65550,
          53329,
          32421,
          62517,
          60606,
          55746,
          43974,
          17320,
          77542,
          88829,
          11581,
          47975,
          65862,
          128708,
          33663,
          120371,
          74987,
          40076,
          63854,
          16029,
          36165,
          72470,
          60251,
          55823,
          45995,
          51388,
          86451,
          85254,
          77465,
          72867,
          28757,
          32326,
          55861,
          66010,
          56420,
          51484,
          40255,
          80500,
          33630,
          90955,
          126477,
          31777,
          68598,
          57211,
          58158,
          51111,
          37519,
          37652,
          43275,
          79172,
          131281,
          52776,
          12042,
          93153,
          81077,
          64935,
          18413,
          27094,
          34275,
          75269,
          53346,
          86287,
          71088,
          54209,
          51093,
          64261,
          44112,
          70805,
          49321,
          109038,
          52442,
          41358,
          54547,
          48046,
          59406,
          34017,
          88406,
          67230,
          12483,
          92938,
          74574,
          43601,
          64003,
          43179,
          77133,
          40621,
          42146,
          50529,
          72813,
          60222,
          73867,
          44701,
          63880,
          61861,
          57762,
          85106,
          47613,
          51480,
          84223,
          56190,
          45857,
          92302,
          40214,
          20042,
          55177,
          18905,
          21589,
          49364,
          116227,
          107765,
          72755,
          86089,
          35117,
          50221,
          46311,
          18964,
          48046,
          61169,
          109912,
          73566,
          81980,
          32382,
          52539,
          59497,
          46016,
          2101,
          77287,
          39205,
          14380,
          18561,
          65908,
          47598,
          98652,
          46996,
          71342,
          68515,
          31185,
          46712,
          84568,
          9774,
          24237,
          82510,
          87368,
          31872,
          71528,
          50000,
          66102,
          92289,
          24039,
          55061,
          36614,
          11702,
          38871,
          65656,
          84248,
          81626,
          54489,
          31440,
          55269,
          46165,
          14342,
          87301,
          3164,
          79749,
          66126,
          78579,
          91998,
          62054,
          36991,
          68278,
          52689,
          48373,
          43588,
          85936,
          65966,
          71768,
          69947,
          30603,
          55793,
          67967,
          57038,
          104137,
          93509,
          68147,
          54254,
          62667,
          56689,
          79256,
          55486,
          59157,
          30851,
          44152,
          64487,
          69972,
          43277,
          60238,
          91496,
          68965,
          55165,
          37908,
          45117,
          60983,
          68217,
          69053,
          55762,
          64707,
          50760,
          45845,
          34328,
          60047,
          90847,
          69988,
          64441,
          43373,
          80531,
          12389,
          60499,
          151136,
          45935,
          57159,
          51555,
          45963,
          73542,
          110670,
          26860,
          80724,
          9727,
          49895,
          70680,
          13204,
          61946,
          81049,
          92471,
          55846,
          39627,
          73675,
          24563,
          94302,
          48576,
          60943,
          48555,
          95671,
          60204,
          44912,
          76637,
          99231,
          51847,
          118011,
          106498,
          71228,
          35415,
          36356,
          67139,
          103028,
          46986,
          38105,
          45524,
          51290,
          56601,
          61754,
          45090,
          62387,
          69580,
          67854,
          63466,
          41476,
          62189,
          61394,
          63207,
          122527,
          39097,
          69595,
          51788,
          76205,
          55474,
          35748,
          35315,
          80304,
          69965,
          89245,
          35059,
          73747,
          31210,
          34005,
          30399,
          61629,
          165677,
          45175,
          37949,
          78384,
          56033,
          46774,
          114503,
          77093,
          54486,
          13170,
          23175,
          74619,
          54138,
          47924,
          41740,
          81317,
          166637,
          82035,
          11205,
          77194,
          66895,
          55857,
          53126,
          61961,
          72870,
          90966,
          27158,
          63740,
          15237,
          86009,
          42379,
          50224,
          64128,
          63121,
          66513,
          43715,
          58531,
          8385,
          54705,
          57486,
          60268,
          90067,
          47570,
          93293,
          34261,
          21539,
          51416,
          44785,
          77973,
          192324,
          181364,
          19446,
          45955,
          17805,
          55692,
          58186,
          70076,
          96175,
          49198,
          60604,
          120669,
          129254,
          61819,
          82330,
          52679,
          57509,
          65377,
          62157,
          39301,
          62322,
          35772,
          68491,
          47341,
          64441,
          28055,
          47995,
          77114,
          33838,
          43879,
          21160,
          54143,
          37629,
          23750,
          68999,
          73792,
          72124,
          47767,
          23707,
          53128,
          42827,
          53879,
          94077,
          79928,
          50916,
          43622,
          48751,
          55534,
          60881,
          109527,
          53872,
          33100,
          56465,
          28161,
          51228,
          111617,
          41359,
          50312,
          31996,
          54760,
          43135,
          47687,
          69219,
          85152,
          53635,
          215198,
          36722,
          63362,
          55530,
          60716,
          54613,
          57007,
          42054,
          60778,
          38873,
          47793,
          46376,
          32221,
          91843,
          44943,
          78350,
          59606,
          61896,
          52312,
          14292,
          46507,
          40956,
          46060,
          71309,
          82968,
          39244,
          88305,
          47016,
          87271,
          60409,
          82745,
          34774,
          60296,
          100037,
          120239,
          51712,
          61281,
          49132,
          13423,
          48482,
          7803,
          84837,
          67206,
          38212,
          110384,
          41516,
          113595,
          28784,
          50946,
          60653,
          61810,
          78235,
          55305,
          85521,
          59982,
          11252,
          54511,
          66365,
          43298,
          69868,
          100661,
          46653,
          66598,
          83321,
          95077,
          53280,
          137336,
          53295,
          65116,
          75262,
          50618,
          58306,
          93644,
          68338,
          71183,
          136141,
          184528,
          48068,
          58152,
          94498,
          54457,
          82478,
          74876,
          31903,
          49654,
          61976,
          44891,
          38046,
          65098,
          47737,
          33389,
          45775,
          42557,
          42805,
          49286,
          82657,
          32969,
          9801,
          36099,
          13174,
          41130,
          57308,
          45168,
          10140,
          47629,
          26539,
          40822,
          44670,
          67635,
          12788,
          57960,
          50393,
          45757,
          49714,
          117817,
          52198,
          88583,
          104003,
          54156,
          72329,
          40890,
          47190,
          38134,
          46612,
          39881,
          50808,
          70274,
          41312,
          47255,
          48817,
          37014,
          45475,
          60517,
          32485,
          37517,
          10961,
          87129,
          51273,
          107219,
          45139,
          49766,
          57750,
          14386,
          46374,
          44879,
          40700,
          53803,
          33759,
          73395,
          61944,
          40746,
          64719,
          78815,
          2387,
          53564,
          66779,
          48066,
          44618,
          53990,
          31360,
          33237,
          58642,
          40709,
          103148,
          72776,
          79338,
          52107,
          50737,
          64702,
          21540,
          10714,
          54828,
          63321,
          52557,
          46059,
          104482,
          32042,
          82791,
          86063,
          54383,
          85690,
          41619,
          56751,
          56545,
          16757,
          60256,
          56811,
          66333,
          43675,
          64982,
          90392,
          63549,
          24934,
          62997,
          41834,
          91523,
          65039,
          19484,
          118708,
          63061,
          59686,
          32790,
          93033,
          47867,
          69990,
          52811,
          43183,
          59308,
          56166,
          51070,
          51563,
          43317,
          89019,
          117741,
          90175,
          43135,
          93297,
          59777,
          56399,
          113037,
          106125,
          96585,
          71653,
          62272,
          74584,
          48812,
          95261,
          56961,
          94178,
          98028,
          54768,
          36467,
          49353,
          68360,
          52715,
          39649,
          51281,
          67191,
          51386,
          70587,
          31983,
          64593,
          102107,
          41339,
          60147,
          37523,
          82083,
          48035,
          51554,
          81088,
          35973,
          89445,
          69378,
          117708,
          35605,
          78377,
          63575,
          36043,
          46340,
          94961,
          69082,
          49478,
          72909,
          41342,
          35791,
          48879,
          77201,
          58773,
          45798,
          47256,
          42697,
          72734,
          45256,
          46481,
          46706,
          31804,
          21716,
          118119,
          27975,
          75079,
          19561,
          44956,
          42320,
          50517,
          87070,
          96819,
          48038,
          46996,
          39124,
          24696,
          53015,
          41990,
          62166,
          49480,
          42751,
          57049,
          87241,
          29026,
          42280,
          22657,
          34560,
          9307,
          52669,
          48312,
          152435,
          54552,
          66818,
          133077,
          48606,
          20040,
          36721,
          27634,
          43352,
          72955,
          52789,
          63900,
          94270,
          83139,
          33787,
          31752,
          71056,
          49022,
          64135,
          76537,
          76268,
          73115,
          67829,
          47437,
          67353,
          90922,
          56407,
          55333,
          54309,
          122135,
          71940,
          78807,
          44007,
          2135,
          52659,
          151447,
          85625,
          67230,
          69967,
          83297,
          27518,
          46793,
          2661,
          40908,
          59621,
          65377,
          34540,
          124860,
          58935,
          48820,
          49981,
          84816,
          41473,
          10744,
          68467,
          82772,
          74245,
          49550,
          44426,
          34877,
          124667,
          56582,
          73059,
          58474,
          48230,
          111407,
          58486,
          52304,
          50884,
          79035,
          49704,
          55462,
          20673,
          48440,
          66792,
          49878,
          96960,
          73844,
          70473,
          65771,
          87382,
          64299,
          68755,
          77374,
          62981,
          56495,
          92795,
          34960,
          121715,
          55758,
          59221,
          83729,
          70921,
          69793,
          40162,
          89954,
          47866,
          62171,
          17410,
          52449,
          43502,
          11698,
          46661,
          34978,
          93211,
          53775,
          55422,
          38265,
          51385,
          31000,
          72880,
          89588,
          69266,
          58423,
          48418,
          66326,
          53003,
          55450,
          75268,
          58194,
          34494,
          21793,
          76601,
          38477,
          51382,
          20011,
          35705,
          38096,
          76044,
          38181,
          50906,
          60374,
          62774,
          73784,
          50260,
          69508,
          35353,
          56800,
          49133,
          66177,
          77344,
          46252,
          51084,
          60662,
          94950,
          69776,
          48329,
          33629,
          15641,
          22863,
          44377,
          65620,
          14981,
          96359,
          44137,
          43259,
          57359,
          55961,
          48078,
          30111,
          51192,
          44498,
          25973,
          63460,
          148644,
          65891,
          43171,
          96859,
          67365,
          49358,
          89293,
          54912,
          58868,
          43114,
          85795,
          97625,
          41443,
          94928,
          88965,
          59653,
          47699,
          73114,
          55956,
          75888,
          69514,
          123267,
          79223,
          50951,
          69437,
          88989,
          60068,
          73807,
          48838,
          96100,
          60781,
          39652,
          59114,
          46009,
          52863,
          36261,
          33546,
          82299,
          84499,
          52148,
          67512,
          81871,
          52189,
          73206,
          52155,
          99036,
          55215,
          62431,
          54133,
          56260,
          51416,
          64363,
          58583,
          67922,
          59953,
          72564,
          17288,
          56746,
          48150,
          29115,
          51856,
          72093,
          61309,
          63327,
          54203,
          23884,
          21521,
          63685,
          37645,
          44220,
          87655,
          43505,
          35575,
          39581,
          56298,
          58896,
          83302,
          84984,
          34293,
          55848,
          83261,
          72279,
          55655,
          54913,
          59231,
          77458,
          72407,
          51146,
          76758,
          47602,
          50995,
          55444,
          64033,
          81557,
          85860,
          81923,
          67577,
          49576,
          55856,
          48605,
          98197,
          31431,
          46511,
          36753,
          45204,
          107670,
          78503,
          63821,
          31851,
          76285,
          61878,
          34687,
          70587,
          56514,
          61241,
          10985,
          40355,
          125264,
          70241,
          59314,
          45951,
          49410,
          27045,
          87274,
          9757,
          86874,
          61435,
          68258,
          50173,
          63332,
          36277,
          75095,
          42232,
          132490,
          53408,
          135293,
          51055,
          32507,
          64729,
          95492,
          106445,
          97841,
          35005,
          35061,
          73503,
          35908,
          82594,
          88364,
          70882,
          57133,
          58470,
          31809,
          106164,
          45637,
          58799,
          42162,
          79344,
          59526,
          69162,
          66012,
          32047,
          39133,
          41764,
          63289,
          97649,
          60257,
          39401,
          70474,
          49657,
          50820,
          59781,
          53195,
          60417,
          61949,
          43261,
          52941,
          31132,
          43846,
          55534,
          46461,
          33583
         ],
         "xaxis": "x",
         "yaxis": "y"
        }
       ],
       "layout": {
        "barmode": "relative",
        "legend": {
         "tracegroupgap": 0
        },
        "margin": {
         "t": 60
        },
        "template": {
         "data": {
          "bar": [
           {
            "error_x": {
             "color": "#2a3f5f"
            },
            "error_y": {
             "color": "#2a3f5f"
            },
            "marker": {
             "line": {
              "color": "#E5ECF6",
              "width": 0.5
             },
             "pattern": {
              "fillmode": "overlay",
              "size": 10,
              "solidity": 0.2
             }
            },
            "type": "bar"
           }
          ],
          "barpolar": [
           {
            "marker": {
             "line": {
              "color": "#E5ECF6",
              "width": 0.5
             },
             "pattern": {
              "fillmode": "overlay",
              "size": 10,
              "solidity": 0.2
             }
            },
            "type": "barpolar"
           }
          ],
          "carpet": [
           {
            "aaxis": {
             "endlinecolor": "#2a3f5f",
             "gridcolor": "white",
             "linecolor": "white",
             "minorgridcolor": "white",
             "startlinecolor": "#2a3f5f"
            },
            "baxis": {
             "endlinecolor": "#2a3f5f",
             "gridcolor": "white",
             "linecolor": "white",
             "minorgridcolor": "white",
             "startlinecolor": "#2a3f5f"
            },
            "type": "carpet"
           }
          ],
          "choropleth": [
           {
            "colorbar": {
             "outlinewidth": 0,
             "ticks": ""
            },
            "type": "choropleth"
           }
          ],
          "contour": [
           {
            "colorbar": {
             "outlinewidth": 0,
             "ticks": ""
            },
            "colorscale": [
             [
              0,
              "#0d0887"
             ],
             [
              0.1111111111111111,
              "#46039f"
             ],
             [
              0.2222222222222222,
              "#7201a8"
             ],
             [
              0.3333333333333333,
              "#9c179e"
             ],
             [
              0.4444444444444444,
              "#bd3786"
             ],
             [
              0.5555555555555556,
              "#d8576b"
             ],
             [
              0.6666666666666666,
              "#ed7953"
             ],
             [
              0.7777777777777778,
              "#fb9f3a"
             ],
             [
              0.8888888888888888,
              "#fdca26"
             ],
             [
              1,
              "#f0f921"
             ]
            ],
            "type": "contour"
           }
          ],
          "contourcarpet": [
           {
            "colorbar": {
             "outlinewidth": 0,
             "ticks": ""
            },
            "type": "contourcarpet"
           }
          ],
          "heatmap": [
           {
            "colorbar": {
             "outlinewidth": 0,
             "ticks": ""
            },
            "colorscale": [
             [
              0,
              "#0d0887"
             ],
             [
              0.1111111111111111,
              "#46039f"
             ],
             [
              0.2222222222222222,
              "#7201a8"
             ],
             [
              0.3333333333333333,
              "#9c179e"
             ],
             [
              0.4444444444444444,
              "#bd3786"
             ],
             [
              0.5555555555555556,
              "#d8576b"
             ],
             [
              0.6666666666666666,
              "#ed7953"
             ],
             [
              0.7777777777777778,
              "#fb9f3a"
             ],
             [
              0.8888888888888888,
              "#fdca26"
             ],
             [
              1,
              "#f0f921"
             ]
            ],
            "type": "heatmap"
           }
          ],
          "heatmapgl": [
           {
            "colorbar": {
             "outlinewidth": 0,
             "ticks": ""
            },
            "colorscale": [
             [
              0,
              "#0d0887"
             ],
             [
              0.1111111111111111,
              "#46039f"
             ],
             [
              0.2222222222222222,
              "#7201a8"
             ],
             [
              0.3333333333333333,
              "#9c179e"
             ],
             [
              0.4444444444444444,
              "#bd3786"
             ],
             [
              0.5555555555555556,
              "#d8576b"
             ],
             [
              0.6666666666666666,
              "#ed7953"
             ],
             [
              0.7777777777777778,
              "#fb9f3a"
             ],
             [
              0.8888888888888888,
              "#fdca26"
             ],
             [
              1,
              "#f0f921"
             ]
            ],
            "type": "heatmapgl"
           }
          ],
          "histogram": [
           {
            "marker": {
             "pattern": {
              "fillmode": "overlay",
              "size": 10,
              "solidity": 0.2
             }
            },
            "type": "histogram"
           }
          ],
          "histogram2d": [
           {
            "colorbar": {
             "outlinewidth": 0,
             "ticks": ""
            },
            "colorscale": [
             [
              0,
              "#0d0887"
             ],
             [
              0.1111111111111111,
              "#46039f"
             ],
             [
              0.2222222222222222,
              "#7201a8"
             ],
             [
              0.3333333333333333,
              "#9c179e"
             ],
             [
              0.4444444444444444,
              "#bd3786"
             ],
             [
              0.5555555555555556,
              "#d8576b"
             ],
             [
              0.6666666666666666,
              "#ed7953"
             ],
             [
              0.7777777777777778,
              "#fb9f3a"
             ],
             [
              0.8888888888888888,
              "#fdca26"
             ],
             [
              1,
              "#f0f921"
             ]
            ],
            "type": "histogram2d"
           }
          ],
          "histogram2dcontour": [
           {
            "colorbar": {
             "outlinewidth": 0,
             "ticks": ""
            },
            "colorscale": [
             [
              0,
              "#0d0887"
             ],
             [
              0.1111111111111111,
              "#46039f"
             ],
             [
              0.2222222222222222,
              "#7201a8"
             ],
             [
              0.3333333333333333,
              "#9c179e"
             ],
             [
              0.4444444444444444,
              "#bd3786"
             ],
             [
              0.5555555555555556,
              "#d8576b"
             ],
             [
              0.6666666666666666,
              "#ed7953"
             ],
             [
              0.7777777777777778,
              "#fb9f3a"
             ],
             [
              0.8888888888888888,
              "#fdca26"
             ],
             [
              1,
              "#f0f921"
             ]
            ],
            "type": "histogram2dcontour"
           }
          ],
          "mesh3d": [
           {
            "colorbar": {
             "outlinewidth": 0,
             "ticks": ""
            },
            "type": "mesh3d"
           }
          ],
          "parcoords": [
           {
            "line": {
             "colorbar": {
              "outlinewidth": 0,
              "ticks": ""
             }
            },
            "type": "parcoords"
           }
          ],
          "pie": [
           {
            "automargin": true,
            "type": "pie"
           }
          ],
          "scatter": [
           {
            "fillpattern": {
             "fillmode": "overlay",
             "size": 10,
             "solidity": 0.2
            },
            "type": "scatter"
           }
          ],
          "scatter3d": [
           {
            "line": {
             "colorbar": {
              "outlinewidth": 0,
              "ticks": ""
             }
            },
            "marker": {
             "colorbar": {
              "outlinewidth": 0,
              "ticks": ""
             }
            },
            "type": "scatter3d"
           }
          ],
          "scattercarpet": [
           {
            "marker": {
             "colorbar": {
              "outlinewidth": 0,
              "ticks": ""
             }
            },
            "type": "scattercarpet"
           }
          ],
          "scattergeo": [
           {
            "marker": {
             "colorbar": {
              "outlinewidth": 0,
              "ticks": ""
             }
            },
            "type": "scattergeo"
           }
          ],
          "scattergl": [
           {
            "marker": {
             "colorbar": {
              "outlinewidth": 0,
              "ticks": ""
             }
            },
            "type": "scattergl"
           }
          ],
          "scattermapbox": [
           {
            "marker": {
             "colorbar": {
              "outlinewidth": 0,
              "ticks": ""
             }
            },
            "type": "scattermapbox"
           }
          ],
          "scatterpolar": [
           {
            "marker": {
             "colorbar": {
              "outlinewidth": 0,
              "ticks": ""
             }
            },
            "type": "scatterpolar"
           }
          ],
          "scatterpolargl": [
           {
            "marker": {
             "colorbar": {
              "outlinewidth": 0,
              "ticks": ""
             }
            },
            "type": "scatterpolargl"
           }
          ],
          "scatterternary": [
           {
            "marker": {
             "colorbar": {
              "outlinewidth": 0,
              "ticks": ""
             }
            },
            "type": "scatterternary"
           }
          ],
          "surface": [
           {
            "colorbar": {
             "outlinewidth": 0,
             "ticks": ""
            },
            "colorscale": [
             [
              0,
              "#0d0887"
             ],
             [
              0.1111111111111111,
              "#46039f"
             ],
             [
              0.2222222222222222,
              "#7201a8"
             ],
             [
              0.3333333333333333,
              "#9c179e"
             ],
             [
              0.4444444444444444,
              "#bd3786"
             ],
             [
              0.5555555555555556,
              "#d8576b"
             ],
             [
              0.6666666666666666,
              "#ed7953"
             ],
             [
              0.7777777777777778,
              "#fb9f3a"
             ],
             [
              0.8888888888888888,
              "#fdca26"
             ],
             [
              1,
              "#f0f921"
             ]
            ],
            "type": "surface"
           }
          ],
          "table": [
           {
            "cells": {
             "fill": {
              "color": "#EBF0F8"
             },
             "line": {
              "color": "white"
             }
            },
            "header": {
             "fill": {
              "color": "#C8D4E3"
             },
             "line": {
              "color": "white"
             }
            },
            "type": "table"
           }
          ]
         },
         "layout": {
          "annotationdefaults": {
           "arrowcolor": "#2a3f5f",
           "arrowhead": 0,
           "arrowwidth": 1
          },
          "autotypenumbers": "strict",
          "coloraxis": {
           "colorbar": {
            "outlinewidth": 0,
            "ticks": ""
           }
          },
          "colorscale": {
           "diverging": [
            [
             0,
             "#8e0152"
            ],
            [
             0.1,
             "#c51b7d"
            ],
            [
             0.2,
             "#de77ae"
            ],
            [
             0.3,
             "#f1b6da"
            ],
            [
             0.4,
             "#fde0ef"
            ],
            [
             0.5,
             "#f7f7f7"
            ],
            [
             0.6,
             "#e6f5d0"
            ],
            [
             0.7,
             "#b8e186"
            ],
            [
             0.8,
             "#7fbc41"
            ],
            [
             0.9,
             "#4d9221"
            ],
            [
             1,
             "#276419"
            ]
           ],
           "sequential": [
            [
             0,
             "#0d0887"
            ],
            [
             0.1111111111111111,
             "#46039f"
            ],
            [
             0.2222222222222222,
             "#7201a8"
            ],
            [
             0.3333333333333333,
             "#9c179e"
            ],
            [
             0.4444444444444444,
             "#bd3786"
            ],
            [
             0.5555555555555556,
             "#d8576b"
            ],
            [
             0.6666666666666666,
             "#ed7953"
            ],
            [
             0.7777777777777778,
             "#fb9f3a"
            ],
            [
             0.8888888888888888,
             "#fdca26"
            ],
            [
             1,
             "#f0f921"
            ]
           ],
           "sequentialminus": [
            [
             0,
             "#0d0887"
            ],
            [
             0.1111111111111111,
             "#46039f"
            ],
            [
             0.2222222222222222,
             "#7201a8"
            ],
            [
             0.3333333333333333,
             "#9c179e"
            ],
            [
             0.4444444444444444,
             "#bd3786"
            ],
            [
             0.5555555555555556,
             "#d8576b"
            ],
            [
             0.6666666666666666,
             "#ed7953"
            ],
            [
             0.7777777777777778,
             "#fb9f3a"
            ],
            [
             0.8888888888888888,
             "#fdca26"
            ],
            [
             1,
             "#f0f921"
            ]
           ]
          },
          "colorway": [
           "#636efa",
           "#EF553B",
           "#00cc96",
           "#ab63fa",
           "#FFA15A",
           "#19d3f3",
           "#FF6692",
           "#B6E880",
           "#FF97FF",
           "#FECB52"
          ],
          "font": {
           "color": "#2a3f5f"
          },
          "geo": {
           "bgcolor": "white",
           "lakecolor": "white",
           "landcolor": "#E5ECF6",
           "showlakes": true,
           "showland": true,
           "subunitcolor": "white"
          },
          "hoverlabel": {
           "align": "left"
          },
          "hovermode": "closest",
          "mapbox": {
           "style": "light"
          },
          "paper_bgcolor": "white",
          "plot_bgcolor": "#E5ECF6",
          "polar": {
           "angularaxis": {
            "gridcolor": "white",
            "linecolor": "white",
            "ticks": ""
           },
           "bgcolor": "#E5ECF6",
           "radialaxis": {
            "gridcolor": "white",
            "linecolor": "white",
            "ticks": ""
           }
          },
          "scene": {
           "xaxis": {
            "backgroundcolor": "#E5ECF6",
            "gridcolor": "white",
            "gridwidth": 2,
            "linecolor": "white",
            "showbackground": true,
            "ticks": "",
            "zerolinecolor": "white"
           },
           "yaxis": {
            "backgroundcolor": "#E5ECF6",
            "gridcolor": "white",
            "gridwidth": 2,
            "linecolor": "white",
            "showbackground": true,
            "ticks": "",
            "zerolinecolor": "white"
           },
           "zaxis": {
            "backgroundcolor": "#E5ECF6",
            "gridcolor": "white",
            "gridwidth": 2,
            "linecolor": "white",
            "showbackground": true,
            "ticks": "",
            "zerolinecolor": "white"
           }
          },
          "shapedefaults": {
           "line": {
            "color": "#2a3f5f"
           }
          },
          "ternary": {
           "aaxis": {
            "gridcolor": "white",
            "linecolor": "white",
            "ticks": ""
           },
           "baxis": {
            "gridcolor": "white",
            "linecolor": "white",
            "ticks": ""
           },
           "bgcolor": "#E5ECF6",
           "caxis": {
            "gridcolor": "white",
            "linecolor": "white",
            "ticks": ""
           }
          },
          "title": {
           "x": 0.05
          },
          "xaxis": {
           "automargin": true,
           "gridcolor": "white",
           "linecolor": "white",
           "ticks": "",
           "title": {
            "standoff": 15
           },
           "zerolinecolor": "white",
           "zerolinewidth": 2
          },
          "yaxis": {
           "automargin": true,
           "gridcolor": "white",
           "linecolor": "white",
           "ticks": "",
           "title": {
            "standoff": 15
           },
           "zerolinecolor": "white",
           "zerolinewidth": 2
          }
         }
        },
        "xaxis": {
         "anchor": "y",
         "domain": [
          0,
          1
         ],
         "title": {
          "text": "len_text"
         }
        },
        "yaxis": {
         "anchor": "x",
         "domain": [
          0,
          1
         ],
         "title": {
          "text": "count"
         }
        }
       }
      },
      "text/html": [
       "<div>                            <div id=\"7c303f8c-1878-48b9-9c91-f6ae67a17359\" class=\"plotly-graph-div\" style=\"height:525px; width:100%;\"></div>            <script type=\"text/javascript\">                require([\"plotly\"], function(Plotly) {                    window.PLOTLYENV=window.PLOTLYENV || {};                                    if (document.getElementById(\"7c303f8c-1878-48b9-9c91-f6ae67a17359\")) {                    Plotly.newPlot(                        \"7c303f8c-1878-48b9-9c91-f6ae67a17359\",                        [{\"alignmentgroup\":\"True\",\"bingroup\":\"x\",\"hovertemplate\":\"len_text=%{x}<br>count=%{y}<extra></extra>\",\"legendgroup\":\"\",\"marker\":{\"color\":\"#636efa\",\"pattern\":{\"shape\":\"\"}},\"name\":\"\",\"nbinsx\":100,\"offsetgroup\":\"\",\"orientation\":\"v\",\"showlegend\":false,\"x\":[42298,53355,36663,187828,87442,105387,46063,29225,82680,84776,41348,87686,50715,72638,58057,38282,74233,81699,30873,86690,55274,39105,86772,54088,81757,61124,44844,68415,63175,54047,52157,42659,59976,50866,97369,51173,102673,46931,127724,78932,84887,83322,70562,107596,48657,59182,105892,4588,69950,89568,32459,28092,43368,28711,112214,64660,40218,60820,72209,120226,63781,94821,65491,34129,36686,60836,56532,61273,46955,51321,50944,47002,35720,54218,46800,62188,57899,102938,100554,75271,111936,67783,59285,15822,62740,44076,178177,112421,45481,66167,28050,56866,60685,11297,167880,79101,70669,169675,66686,107726,69700,34092,106162,95834,83690,79397,48590,40565,46086,53673,59512,71203,75845,2893,61482,59223,49038,54872,97888,138670,103451,64905,53813,83497,81291,39621,40155,55406,39816,98970,67249,20634,57070,50011,6330,50216,88491,99919,17393,58448,71881,78452,58658,45181,47130,42109,41051,53893,106832,47506,46493,56797,38849,56376,39626,41428,32661,44176,10953,74532,46064,34175,54808,51723,60548,40820,47053,43392,47506,48249,37516,65733,62796,46178,53804,77513,72609,47806,45541,62760,54397,59830,70716,27057,49036,6408,39691,39303,51937,78936,43051,59336,96001,61412,86790,91271,65599,35698,84696,75172,77908,125222,54441,55513,41091,60045,53684,76717,58435,76352,73367,77776,62088,42567,36891,18427,72308,88271,43695,82824,50065,43562,34675,64719,52030,63149,47399,60272,52089,45694,21243,106015,60192,60899,72218,82021,85581,37125,80097,36568,39616,53594,67131,46143,17170,80332,77925,81742,29784,61711,63948,45427,13121,135306,15467,2727,62247,51898,58855,62288,71337,59751,10078,41203,49228,75330,48726,101713,58380,63516,79406,72567,2998,55253,27932,62968,23606,46054,27587,59540,73940,61231,49017,55719,35765,24093,66726,113953,76764,51221,38357,61432,77049,87795,73783,59432,72420,53289,36291,149039,65827,54107,81857,59740,42941,59789,91254,70227,54828,48753,76840,25539,74465,27494,2831,49824,58172,79290,43177,77644,41259,103410,73219,76804,90186,79282,69924,55881,50453,13752,55812,36921,41393,59500,42258,35716,111102,38716,28044,54514,50798,104199,63588,58494,33219,36003,26855,55905,61382,46924,44646,41986,194172,27212,60024,47167,92799,56394,57229,69055,79748,30910,46382,87754,71122,84798,54509,76662,8072,45876,31047,56815,48363,68774,74101,67018,53329,137779,68324,44760,29133,81083,83475,51070,67466,49000,67540,74292,150073,87589,53366,85557,67686,57756,30753,132658,115286,77618,65275,33962,40180,52792,46629,46674,62689,43399,36458,45152,53271,80689,75351,20937,31573,23463,57784,113475,46261,47877,67129,39025,77307,54468,62661,13978,43847,80668,47303,40702,54316,38719,56305,66893,62033,55705,54168,45679,77351,51145,46971,104481,81259,71146,67800,56984,112041,86959,70239,96627,33882,59002,66189,91709,69183,11703,53223,38344,44590,43567,75939,57443,66044,90793,40721,161076,77715,45785,33835,31482,45568,103652,26923,43866,57144,54501,46512,17430,22411,17704,81294,47922,45729,94499,47205,71837,37560,77114,92824,51161,47230,78452,99420,2407,87966,46476,66754,32267,121052,62737,63477,106432,43885,72392,90417,58669,53678,72474,18183,7298,46769,81756,60165,43388,45575,15636,83350,80718,54669,34255,35269,58134,66733,27909,91615,38860,115610,90139,90483,53484,39191,94739,44246,54815,93920,86076,54489,29220,49066,60368,32834,8585,54666,39777,143725,49178,34414,138091,43426,68209,39115,37864,56399,45926,36544,34910,48860,61548,37765,73625,93001,57064,58729,36407,31929,67137,55427,82025,76706,52531,49390,75759,44118,69641,65387,107193,47963,40168,39148,30061,39191,46491,84870,70328,83050,2509,29618,94989,78952,4390,77794,74854,70811,57360,114774,33964,65047,68338,45182,36607,66878,51828,58077,68804,36973,60220,29586,66938,90011,31485,67097,134678,46579,52895,31508,49873,47787,47701,40008,37345,66040,35360,44729,59738,52815,44811,124089,43485,32399,43861,72312,54503,70010,74307,111236,76534,46834,57697,38924,80336,41554,44407,78901,43850,42253,44213,47174,40715,48497,43727,45446,23528,18096,47987,12405,76731,125609,37760,55906,78612,41055,49729,46344,66278,84388,46745,47740,37374,72961,87063,77037,60168,41453,82236,71227,48394,43314,54664,46024,45216,95072,59130,43192,55732,52094,61225,69574,55883,65453,61076,70802,52488,66825,62194,37911,54117,55232,83888,39758,35924,45387,65997,86009,70439,10744,37527,46250,52871,49051,102138,57473,6259,33576,85120,51515,97156,126266,66375,15704,114055,73535,53980,66818,48969,90643,62987,52843,49524,40492,86203,50186,74327,57588,82771,47241,65612,74911,71526,35567,87414,47118,77988,37756,61980,65524,35831,69500,68629,40262,37944,93482,57804,20891,73375,41463,44801,13694,150665,86511,36328,72994,33580,16645,95603,37924,29251,100795,53780,49462,61781,76026,82825,30529,97540,44957,50472,57094,45228,113546,57374,30925,52443,45001,57284,34711,33305,108650,51309,30935,71095,68190,52842,50220,52149,93766,47526,43827,38443,82616,67962,35998,42120,51497,38203,79652,74687,49743,29238,106540,54198,39158,87057,30601,65391,51746,45080,69887,93795,69463,45349,58275,38673,37236,53189,46376,45622,80869,50694,52490,36198,49705,37797,81678,101648,69398,55810,58073,56709,67922,51633,46933,125840,34484,50624,19305,50694,81230,83035,80411,45221,63878,61787,77278,92879,98423,52903,53554,48334,39346,45359,103221,83918,55594,52550,45757,61232,33453,40397,32772,94828,14790,55406,76937,67010,82157,71574,58827,85633,52542,68273,66563,82560,63495,63633,39307,41285,34338,42066,72020,64474,53145,108819,61638,58906,92836,52032,54733,52228,54934,44248,40755,48959,84681,20608,51868,47035,36166,90971,33634,45556,49219,54535,29314,3499,65073,21437,52926,97311,41815,32522,65667,63794,69584,67808,73349,36086,29894,85109,47202,54221,56398,70063,50614,49189,36366,33189,66181,74477,12178,75305,37618,76315,44534,12246,76011,23505,54619,137328,66771,29500,44026,44065,82807,39766,82567,44560,67151,45414,82982,51218,33341,49069,64319,62570,59880,56716,20092,51344,79306,67186,27498,73902,59844,63731,51834,46977,16455,47434,55791,69232,27809,39583,93809,78885,7627,55744,53029,19910,45598,67682,54608,51342,44049,56919,44650,35519,91309,95910,33017,45734,93594,71079,4151,95298,72163,43877,56313,80326,101707,47405,57288,18664,135921,43191,56396,33242,46138,28651,43024,31761,59859,42881,37423,3786,79274,42109,31039,77472,29894,73335,93363,61012,45752,31349,41333,40255,40349,61496,50713,52987,71655,62198,52651,62676,79580,51782,16430,17400,48797,14042,48636,41594,53868,40133,103054,71350,9279,58867,40645,36643,59690,70113,33014,46022,55879,84947,26986,43950,17681,63383,108078,54455,3721,33086,52241,27875,60760,73557,2433,19779,49497,40035,57828,61646,69462,99878,69125,52028,58745,146128,163956,49085,47502,74538,66735,64430,33509,51406,62624,35054,66883,92759,6664,84419,50853,65045,39922,60504,43579,40611,62228,83890,41538,47898,45709,24417,70032,17038,41720,3142,60928,19472,37043,94409,20861,37449,14447,43027,66625,49836,83596,43357,118268,69823,66797,63121,44289,94786,52528,52413,59685,106524,73814,39737,48238,78961,35718,55063,74570,11920,39730,28948,61536,75034,60892,72922,50241,84601,45576,59410,54481,46554,60168,149865,79411,95012,37734,74238,62191,42057,80111,11580,60752,142449,16674,13872,41159,47542,106247,65571,12835,86311,33819,62687,74274,48190,29693,14485,51008,63337,63211,131501,112067,37875,10900,63399,52834,60854,45021,65369,62414,94560,83213,16994,33776,56072,63313,73929,17876,45383,66413,66957,49922,42071,37105,59102,54056,13097,2343,41568,76113,74096,57704,98098,39535,81598,129709,61344,38427,52768,103045,50001,108455,72656,57767,68996,48931,91983,32550,124486,48832,32379,28359,104715,124584,63144,82496,62477,67621,66035,43225,101326,55647,48496,51289,95534,35565,81204,49461,75315,58158,123352,35221,47190,86885,52395,54952,16485,43408,69872,68206,61347,42595,128807,79310,48304,62892,77517,51865,44667,54403,112339,53767,40760,55980,98112,60176,45585,58963,49920,76188,59352,32920,38350,35520,61492,61046,33974,40007,68023,17711,72325,88837,61079,56402,2789,57201,17737,21377,66424,58251,42589,54402,39874,48809,55881,137733,62584,46978,11074,50938,40662,73678,65524,96871,62433,85058,70461,46346,116893,61739,58939,57603,82289,54894,36875,55146,68207,22224,4376,55889,3838,64103,112363,40036,84322,107996,62879,81169,62629,39451,25570,26478,77507,50285,88379,86725,59235,69781,50558,48425,19550,63742,44432,45251,53808,51327,38453,70707,46748,72218,38504,85309,54360,53583,49158,136618,40693,44032,41741,50760,44530,72570,66606,55909,101122,95473,71005,87983,54067,36958,63769,42206,46614,75415,62191,70003,63572,85598,68340,94565,75872,76272,84687,46264,37314,31116,48084,53989,21124,51954,48014,59402,68442,68904,27024,89770,55740,54701,83161,122565,71406,118732,43058,35970,73410,56331,55753,66569,95105,78442,31739,53344,44623,54179,39562,106922,35919,55036,44804,27236,106030,39381,69599,57118,52112,46257,19037,75147,49271,56684,76253,41764,46925,30050,93822,85722,66637,72155,34474,57583,48135,37141,93359,55279,28537,49724,94269,74816,57640,70885,49576,43482,34617,67456,4111,65550,53329,32421,62517,60606,55746,43974,17320,77542,88829,11581,47975,65862,128708,33663,120371,74987,40076,63854,16029,36165,72470,60251,55823,45995,51388,86451,85254,77465,72867,28757,32326,55861,66010,56420,51484,40255,80500,33630,90955,126477,31777,68598,57211,58158,51111,37519,37652,43275,79172,131281,52776,12042,93153,81077,64935,18413,27094,34275,75269,53346,86287,71088,54209,51093,64261,44112,70805,49321,109038,52442,41358,54547,48046,59406,34017,88406,67230,12483,92938,74574,43601,64003,43179,77133,40621,42146,50529,72813,60222,73867,44701,63880,61861,57762,85106,47613,51480,84223,56190,45857,92302,40214,20042,55177,18905,21589,49364,116227,107765,72755,86089,35117,50221,46311,18964,48046,61169,109912,73566,81980,32382,52539,59497,46016,2101,77287,39205,14380,18561,65908,47598,98652,46996,71342,68515,31185,46712,84568,9774,24237,82510,87368,31872,71528,50000,66102,92289,24039,55061,36614,11702,38871,65656,84248,81626,54489,31440,55269,46165,14342,87301,3164,79749,66126,78579,91998,62054,36991,68278,52689,48373,43588,85936,65966,71768,69947,30603,55793,67967,57038,104137,93509,68147,54254,62667,56689,79256,55486,59157,30851,44152,64487,69972,43277,60238,91496,68965,55165,37908,45117,60983,68217,69053,55762,64707,50760,45845,34328,60047,90847,69988,64441,43373,80531,12389,60499,151136,45935,57159,51555,45963,73542,110670,26860,80724,9727,49895,70680,13204,61946,81049,92471,55846,39627,73675,24563,94302,48576,60943,48555,95671,60204,44912,76637,99231,51847,118011,106498,71228,35415,36356,67139,103028,46986,38105,45524,51290,56601,61754,45090,62387,69580,67854,63466,41476,62189,61394,63207,122527,39097,69595,51788,76205,55474,35748,35315,80304,69965,89245,35059,73747,31210,34005,30399,61629,165677,45175,37949,78384,56033,46774,114503,77093,54486,13170,23175,74619,54138,47924,41740,81317,166637,82035,11205,77194,66895,55857,53126,61961,72870,90966,27158,63740,15237,86009,42379,50224,64128,63121,66513,43715,58531,8385,54705,57486,60268,90067,47570,93293,34261,21539,51416,44785,77973,192324,181364,19446,45955,17805,55692,58186,70076,96175,49198,60604,120669,129254,61819,82330,52679,57509,65377,62157,39301,62322,35772,68491,47341,64441,28055,47995,77114,33838,43879,21160,54143,37629,23750,68999,73792,72124,47767,23707,53128,42827,53879,94077,79928,50916,43622,48751,55534,60881,109527,53872,33100,56465,28161,51228,111617,41359,50312,31996,54760,43135,47687,69219,85152,53635,215198,36722,63362,55530,60716,54613,57007,42054,60778,38873,47793,46376,32221,91843,44943,78350,59606,61896,52312,14292,46507,40956,46060,71309,82968,39244,88305,47016,87271,60409,82745,34774,60296,100037,120239,51712,61281,49132,13423,48482,7803,84837,67206,38212,110384,41516,113595,28784,50946,60653,61810,78235,55305,85521,59982,11252,54511,66365,43298,69868,100661,46653,66598,83321,95077,53280,137336,53295,65116,75262,50618,58306,93644,68338,71183,136141,184528,48068,58152,94498,54457,82478,74876,31903,49654,61976,44891,38046,65098,47737,33389,45775,42557,42805,49286,82657,32969,9801,36099,13174,41130,57308,45168,10140,47629,26539,40822,44670,67635,12788,57960,50393,45757,49714,117817,52198,88583,104003,54156,72329,40890,47190,38134,46612,39881,50808,70274,41312,47255,48817,37014,45475,60517,32485,37517,10961,87129,51273,107219,45139,49766,57750,14386,46374,44879,40700,53803,33759,73395,61944,40746,64719,78815,2387,53564,66779,48066,44618,53990,31360,33237,58642,40709,103148,72776,79338,52107,50737,64702,21540,10714,54828,63321,52557,46059,104482,32042,82791,86063,54383,85690,41619,56751,56545,16757,60256,56811,66333,43675,64982,90392,63549,24934,62997,41834,91523,65039,19484,118708,63061,59686,32790,93033,47867,69990,52811,43183,59308,56166,51070,51563,43317,89019,117741,90175,43135,93297,59777,56399,113037,106125,96585,71653,62272,74584,48812,95261,56961,94178,98028,54768,36467,49353,68360,52715,39649,51281,67191,51386,70587,31983,64593,102107,41339,60147,37523,82083,48035,51554,81088,35973,89445,69378,117708,35605,78377,63575,36043,46340,94961,69082,49478,72909,41342,35791,48879,77201,58773,45798,47256,42697,72734,45256,46481,46706,31804,21716,118119,27975,75079,19561,44956,42320,50517,87070,96819,48038,46996,39124,24696,53015,41990,62166,49480,42751,57049,87241,29026,42280,22657,34560,9307,52669,48312,152435,54552,66818,133077,48606,20040,36721,27634,43352,72955,52789,63900,94270,83139,33787,31752,71056,49022,64135,76537,76268,73115,67829,47437,67353,90922,56407,55333,54309,122135,71940,78807,44007,2135,52659,151447,85625,67230,69967,83297,27518,46793,2661,40908,59621,65377,34540,124860,58935,48820,49981,84816,41473,10744,68467,82772,74245,49550,44426,34877,124667,56582,73059,58474,48230,111407,58486,52304,50884,79035,49704,55462,20673,48440,66792,49878,96960,73844,70473,65771,87382,64299,68755,77374,62981,56495,92795,34960,121715,55758,59221,83729,70921,69793,40162,89954,47866,62171,17410,52449,43502,11698,46661,34978,93211,53775,55422,38265,51385,31000,72880,89588,69266,58423,48418,66326,53003,55450,75268,58194,34494,21793,76601,38477,51382,20011,35705,38096,76044,38181,50906,60374,62774,73784,50260,69508,35353,56800,49133,66177,77344,46252,51084,60662,94950,69776,48329,33629,15641,22863,44377,65620,14981,96359,44137,43259,57359,55961,48078,30111,51192,44498,25973,63460,148644,65891,43171,96859,67365,49358,89293,54912,58868,43114,85795,97625,41443,94928,88965,59653,47699,73114,55956,75888,69514,123267,79223,50951,69437,88989,60068,73807,48838,96100,60781,39652,59114,46009,52863,36261,33546,82299,84499,52148,67512,81871,52189,73206,52155,99036,55215,62431,54133,56260,51416,64363,58583,67922,59953,72564,17288,56746,48150,29115,51856,72093,61309,63327,54203,23884,21521,63685,37645,44220,87655,43505,35575,39581,56298,58896,83302,84984,34293,55848,83261,72279,55655,54913,59231,77458,72407,51146,76758,47602,50995,55444,64033,81557,85860,81923,67577,49576,55856,48605,98197,31431,46511,36753,45204,107670,78503,63821,31851,76285,61878,34687,70587,56514,61241,10985,40355,125264,70241,59314,45951,49410,27045,87274,9757,86874,61435,68258,50173,63332,36277,75095,42232,132490,53408,135293,51055,32507,64729,95492,106445,97841,35005,35061,73503,35908,82594,88364,70882,57133,58470,31809,106164,45637,58799,42162,79344,59526,69162,66012,32047,39133,41764,63289,97649,60257,39401,70474,49657,50820,59781,53195,60417,61949,43261,52941,31132,43846,55534,46461,33583],\"xaxis\":\"x\",\"yaxis\":\"y\",\"type\":\"histogram\"}],                        {\"template\":{\"data\":{\"histogram2dcontour\":[{\"type\":\"histogram2dcontour\",\"colorbar\":{\"outlinewidth\":0,\"ticks\":\"\"},\"colorscale\":[[0.0,\"#0d0887\"],[0.1111111111111111,\"#46039f\"],[0.2222222222222222,\"#7201a8\"],[0.3333333333333333,\"#9c179e\"],[0.4444444444444444,\"#bd3786\"],[0.5555555555555556,\"#d8576b\"],[0.6666666666666666,\"#ed7953\"],[0.7777777777777778,\"#fb9f3a\"],[0.8888888888888888,\"#fdca26\"],[1.0,\"#f0f921\"]]}],\"choropleth\":[{\"type\":\"choropleth\",\"colorbar\":{\"outlinewidth\":0,\"ticks\":\"\"}}],\"histogram2d\":[{\"type\":\"histogram2d\",\"colorbar\":{\"outlinewidth\":0,\"ticks\":\"\"},\"colorscale\":[[0.0,\"#0d0887\"],[0.1111111111111111,\"#46039f\"],[0.2222222222222222,\"#7201a8\"],[0.3333333333333333,\"#9c179e\"],[0.4444444444444444,\"#bd3786\"],[0.5555555555555556,\"#d8576b\"],[0.6666666666666666,\"#ed7953\"],[0.7777777777777778,\"#fb9f3a\"],[0.8888888888888888,\"#fdca26\"],[1.0,\"#f0f921\"]]}],\"heatmap\":[{\"type\":\"heatmap\",\"colorbar\":{\"outlinewidth\":0,\"ticks\":\"\"},\"colorscale\":[[0.0,\"#0d0887\"],[0.1111111111111111,\"#46039f\"],[0.2222222222222222,\"#7201a8\"],[0.3333333333333333,\"#9c179e\"],[0.4444444444444444,\"#bd3786\"],[0.5555555555555556,\"#d8576b\"],[0.6666666666666666,\"#ed7953\"],[0.7777777777777778,\"#fb9f3a\"],[0.8888888888888888,\"#fdca26\"],[1.0,\"#f0f921\"]]}],\"heatmapgl\":[{\"type\":\"heatmapgl\",\"colorbar\":{\"outlinewidth\":0,\"ticks\":\"\"},\"colorscale\":[[0.0,\"#0d0887\"],[0.1111111111111111,\"#46039f\"],[0.2222222222222222,\"#7201a8\"],[0.3333333333333333,\"#9c179e\"],[0.4444444444444444,\"#bd3786\"],[0.5555555555555556,\"#d8576b\"],[0.6666666666666666,\"#ed7953\"],[0.7777777777777778,\"#fb9f3a\"],[0.8888888888888888,\"#fdca26\"],[1.0,\"#f0f921\"]]}],\"contourcarpet\":[{\"type\":\"contourcarpet\",\"colorbar\":{\"outlinewidth\":0,\"ticks\":\"\"}}],\"contour\":[{\"type\":\"contour\",\"colorbar\":{\"outlinewidth\":0,\"ticks\":\"\"},\"colorscale\":[[0.0,\"#0d0887\"],[0.1111111111111111,\"#46039f\"],[0.2222222222222222,\"#7201a8\"],[0.3333333333333333,\"#9c179e\"],[0.4444444444444444,\"#bd3786\"],[0.5555555555555556,\"#d8576b\"],[0.6666666666666666,\"#ed7953\"],[0.7777777777777778,\"#fb9f3a\"],[0.8888888888888888,\"#fdca26\"],[1.0,\"#f0f921\"]]}],\"surface\":[{\"type\":\"surface\",\"colorbar\":{\"outlinewidth\":0,\"ticks\":\"\"},\"colorscale\":[[0.0,\"#0d0887\"],[0.1111111111111111,\"#46039f\"],[0.2222222222222222,\"#7201a8\"],[0.3333333333333333,\"#9c179e\"],[0.4444444444444444,\"#bd3786\"],[0.5555555555555556,\"#d8576b\"],[0.6666666666666666,\"#ed7953\"],[0.7777777777777778,\"#fb9f3a\"],[0.8888888888888888,\"#fdca26\"],[1.0,\"#f0f921\"]]}],\"mesh3d\":[{\"type\":\"mesh3d\",\"colorbar\":{\"outlinewidth\":0,\"ticks\":\"\"}}],\"scatter\":[{\"fillpattern\":{\"fillmode\":\"overlay\",\"size\":10,\"solidity\":0.2},\"type\":\"scatter\"}],\"parcoords\":[{\"type\":\"parcoords\",\"line\":{\"colorbar\":{\"outlinewidth\":0,\"ticks\":\"\"}}}],\"scatterpolargl\":[{\"type\":\"scatterpolargl\",\"marker\":{\"colorbar\":{\"outlinewidth\":0,\"ticks\":\"\"}}}],\"bar\":[{\"error_x\":{\"color\":\"#2a3f5f\"},\"error_y\":{\"color\":\"#2a3f5f\"},\"marker\":{\"line\":{\"color\":\"#E5ECF6\",\"width\":0.5},\"pattern\":{\"fillmode\":\"overlay\",\"size\":10,\"solidity\":0.2}},\"type\":\"bar\"}],\"scattergeo\":[{\"type\":\"scattergeo\",\"marker\":{\"colorbar\":{\"outlinewidth\":0,\"ticks\":\"\"}}}],\"scatterpolar\":[{\"type\":\"scatterpolar\",\"marker\":{\"colorbar\":{\"outlinewidth\":0,\"ticks\":\"\"}}}],\"histogram\":[{\"marker\":{\"pattern\":{\"fillmode\":\"overlay\",\"size\":10,\"solidity\":0.2}},\"type\":\"histogram\"}],\"scattergl\":[{\"type\":\"scattergl\",\"marker\":{\"colorbar\":{\"outlinewidth\":0,\"ticks\":\"\"}}}],\"scatter3d\":[{\"type\":\"scatter3d\",\"line\":{\"colorbar\":{\"outlinewidth\":0,\"ticks\":\"\"}},\"marker\":{\"colorbar\":{\"outlinewidth\":0,\"ticks\":\"\"}}}],\"scattermapbox\":[{\"type\":\"scattermapbox\",\"marker\":{\"colorbar\":{\"outlinewidth\":0,\"ticks\":\"\"}}}],\"scatterternary\":[{\"type\":\"scatterternary\",\"marker\":{\"colorbar\":{\"outlinewidth\":0,\"ticks\":\"\"}}}],\"scattercarpet\":[{\"type\":\"scattercarpet\",\"marker\":{\"colorbar\":{\"outlinewidth\":0,\"ticks\":\"\"}}}],\"carpet\":[{\"aaxis\":{\"endlinecolor\":\"#2a3f5f\",\"gridcolor\":\"white\",\"linecolor\":\"white\",\"minorgridcolor\":\"white\",\"startlinecolor\":\"#2a3f5f\"},\"baxis\":{\"endlinecolor\":\"#2a3f5f\",\"gridcolor\":\"white\",\"linecolor\":\"white\",\"minorgridcolor\":\"white\",\"startlinecolor\":\"#2a3f5f\"},\"type\":\"carpet\"}],\"table\":[{\"cells\":{\"fill\":{\"color\":\"#EBF0F8\"},\"line\":{\"color\":\"white\"}},\"header\":{\"fill\":{\"color\":\"#C8D4E3\"},\"line\":{\"color\":\"white\"}},\"type\":\"table\"}],\"barpolar\":[{\"marker\":{\"line\":{\"color\":\"#E5ECF6\",\"width\":0.5},\"pattern\":{\"fillmode\":\"overlay\",\"size\":10,\"solidity\":0.2}},\"type\":\"barpolar\"}],\"pie\":[{\"automargin\":true,\"type\":\"pie\"}]},\"layout\":{\"autotypenumbers\":\"strict\",\"colorway\":[\"#636efa\",\"#EF553B\",\"#00cc96\",\"#ab63fa\",\"#FFA15A\",\"#19d3f3\",\"#FF6692\",\"#B6E880\",\"#FF97FF\",\"#FECB52\"],\"font\":{\"color\":\"#2a3f5f\"},\"hovermode\":\"closest\",\"hoverlabel\":{\"align\":\"left\"},\"paper_bgcolor\":\"white\",\"plot_bgcolor\":\"#E5ECF6\",\"polar\":{\"bgcolor\":\"#E5ECF6\",\"angularaxis\":{\"gridcolor\":\"white\",\"linecolor\":\"white\",\"ticks\":\"\"},\"radialaxis\":{\"gridcolor\":\"white\",\"linecolor\":\"white\",\"ticks\":\"\"}},\"ternary\":{\"bgcolor\":\"#E5ECF6\",\"aaxis\":{\"gridcolor\":\"white\",\"linecolor\":\"white\",\"ticks\":\"\"},\"baxis\":{\"gridcolor\":\"white\",\"linecolor\":\"white\",\"ticks\":\"\"},\"caxis\":{\"gridcolor\":\"white\",\"linecolor\":\"white\",\"ticks\":\"\"}},\"coloraxis\":{\"colorbar\":{\"outlinewidth\":0,\"ticks\":\"\"}},\"colorscale\":{\"sequential\":[[0.0,\"#0d0887\"],[0.1111111111111111,\"#46039f\"],[0.2222222222222222,\"#7201a8\"],[0.3333333333333333,\"#9c179e\"],[0.4444444444444444,\"#bd3786\"],[0.5555555555555556,\"#d8576b\"],[0.6666666666666666,\"#ed7953\"],[0.7777777777777778,\"#fb9f3a\"],[0.8888888888888888,\"#fdca26\"],[1.0,\"#f0f921\"]],\"sequentialminus\":[[0.0,\"#0d0887\"],[0.1111111111111111,\"#46039f\"],[0.2222222222222222,\"#7201a8\"],[0.3333333333333333,\"#9c179e\"],[0.4444444444444444,\"#bd3786\"],[0.5555555555555556,\"#d8576b\"],[0.6666666666666666,\"#ed7953\"],[0.7777777777777778,\"#fb9f3a\"],[0.8888888888888888,\"#fdca26\"],[1.0,\"#f0f921\"]],\"diverging\":[[0,\"#8e0152\"],[0.1,\"#c51b7d\"],[0.2,\"#de77ae\"],[0.3,\"#f1b6da\"],[0.4,\"#fde0ef\"],[0.5,\"#f7f7f7\"],[0.6,\"#e6f5d0\"],[0.7,\"#b8e186\"],[0.8,\"#7fbc41\"],[0.9,\"#4d9221\"],[1,\"#276419\"]]},\"xaxis\":{\"gridcolor\":\"white\",\"linecolor\":\"white\",\"ticks\":\"\",\"title\":{\"standoff\":15},\"zerolinecolor\":\"white\",\"automargin\":true,\"zerolinewidth\":2},\"yaxis\":{\"gridcolor\":\"white\",\"linecolor\":\"white\",\"ticks\":\"\",\"title\":{\"standoff\":15},\"zerolinecolor\":\"white\",\"automargin\":true,\"zerolinewidth\":2},\"scene\":{\"xaxis\":{\"backgroundcolor\":\"#E5ECF6\",\"gridcolor\":\"white\",\"linecolor\":\"white\",\"showbackground\":true,\"ticks\":\"\",\"zerolinecolor\":\"white\",\"gridwidth\":2},\"yaxis\":{\"backgroundcolor\":\"#E5ECF6\",\"gridcolor\":\"white\",\"linecolor\":\"white\",\"showbackground\":true,\"ticks\":\"\",\"zerolinecolor\":\"white\",\"gridwidth\":2},\"zaxis\":{\"backgroundcolor\":\"#E5ECF6\",\"gridcolor\":\"white\",\"linecolor\":\"white\",\"showbackground\":true,\"ticks\":\"\",\"zerolinecolor\":\"white\",\"gridwidth\":2}},\"shapedefaults\":{\"line\":{\"color\":\"#2a3f5f\"}},\"annotationdefaults\":{\"arrowcolor\":\"#2a3f5f\",\"arrowhead\":0,\"arrowwidth\":1},\"geo\":{\"bgcolor\":\"white\",\"landcolor\":\"#E5ECF6\",\"subunitcolor\":\"white\",\"showland\":true,\"showlakes\":true,\"lakecolor\":\"white\"},\"title\":{\"x\":0.05},\"mapbox\":{\"style\":\"light\"}}},\"xaxis\":{\"anchor\":\"y\",\"domain\":[0.0,1.0],\"title\":{\"text\":\"len_text\"}},\"yaxis\":{\"anchor\":\"x\",\"domain\":[0.0,1.0],\"title\":{\"text\":\"count\"}},\"legend\":{\"tracegroupgap\":0},\"margin\":{\"t\":60},\"barmode\":\"relative\"},                        {\"responsive\": true}                    ).then(function(){\n",
       "                            \n",
       "var gd = document.getElementById('7c303f8c-1878-48b9-9c91-f6ae67a17359');\n",
       "var x = new MutationObserver(function (mutations, observer) {{\n",
       "        var display = window.getComputedStyle(gd).display;\n",
       "        if (!display || display === 'none') {{\n",
       "            console.log([gd, 'removed!']);\n",
       "            Plotly.purge(gd);\n",
       "            observer.disconnect();\n",
       "        }}\n",
       "}});\n",
       "\n",
       "// Listen for the removal of the full notebook cells\n",
       "var notebookContainer = gd.closest('#notebook-container');\n",
       "if (notebookContainer) {{\n",
       "    x.observe(notebookContainer, {childList: true});\n",
       "}}\n",
       "\n",
       "// Listen for the clearing of the current output cell\n",
       "var outputEl = gd.closest('.output');\n",
       "if (outputEl) {{\n",
       "    x.observe(outputEl, {childList: true});\n",
       "}}\n",
       "\n",
       "                        })                };                });            </script>        </div>"
      ]
     },
     "metadata": {},
     "output_type": "display_data"
    }
   ],
   "source": [
    "# 2. The distribution of the length of the text;\n",
    "df_subset[\"len_text\"] = df_subset[\"text\"].apply(lambda x: len(x))\n",
    "fig = px.histogram(df_subset, x=\"len_text\",nbins=100)\n",
    "fig.show()"
   ]
  },
  {
   "cell_type": "markdown",
   "id": "d46cd044",
   "metadata": {},
   "source": [
    "**Conclusion 2**: It does not seem a normal distribution because of the tail (it seems a binomial distribution). However, the sample dimension is too short to evaluate."
   ]
  },
  {
   "cell_type": "code",
   "execution_count": 24,
   "id": "3234a749",
   "metadata": {},
   "outputs": [
    {
     "ename": "NameError",
     "evalue": "name 'train_test' is not defined",
     "output_type": "error",
     "traceback": [
      "\u001b[0;31m---------------------------------------------------------------------------\u001b[0m",
      "\u001b[0;31mNameError\u001b[0m                                 Traceback (most recent call last)",
      "Input \u001b[0;32mIn [24]\u001b[0m, in \u001b[0;36m<cell line: 2>\u001b[0;34m()\u001b[0m\n\u001b[1;32m      1\u001b[0m \u001b[38;5;66;03m# The definition of the train and test split;\u001b[39;00m\n\u001b[0;32m----> 2\u001b[0m df_train, df_test \u001b[38;5;241m=\u001b[39m \u001b[43mtrain_test\u001b[49m(df)\n",
      "\u001b[0;31mNameError\u001b[0m: name 'train_test' is not defined"
     ]
    }
   ],
   "source": [
    "# The definition of the train and test split;\n",
    "df_train, df_test = train_test(df)"
   ]
  },
  {
   "cell_type": "markdown",
   "id": "42a08d5f",
   "metadata": {},
   "source": [
    "**Conclusion 3**: The test size is defined at 33%"
   ]
  },
  {
   "cell_type": "code",
   "execution_count": 23,
   "id": "396b27e8",
   "metadata": {},
   "outputs": [],
   "source": [
    "# Preprocessing of the train and \n",
    "df_train = IO(filename=\"df_train_preprocessed\",folder=\"02_intermediate\",format_=\"pickle\").load()\n",
    "df_test = IO(filename=\"df_test_preprocessed\",folder=\"02_intermediate\",format_=\"pickle\").load()    \n"
   ]
  },
  {
   "cell_type": "markdown",
   "id": "dc81d378",
   "metadata": {},
   "source": [
    "# Methods"
   ]
  },
  {
   "cell_type": "markdown",
   "id": "1b9d4ee7",
   "metadata": {},
   "source": [
    "# Results"
   ]
  },
  {
   "cell_type": "markdown",
   "id": "561186f5",
   "metadata": {},
   "source": [
    "# Conclusion"
   ]
  },
  {
   "cell_type": "markdown",
   "id": "7426e01d",
   "metadata": {},
   "source": [
    "# Deployment and application"
   ]
  },
  {
   "cell_type": "code",
   "execution_count": 4,
   "id": "9a40cc73",
   "metadata": {},
   "outputs": [],
   "source": [
    "import os\n",
    "os.chdir(\"/home/operti/inda/frontiers/src/\")"
   ]
  },
  {
   "cell_type": "code",
   "execution_count": null,
   "id": "5194dcc3",
   "metadata": {},
   "outputs": [],
   "source": []
  }
 ],
 "metadata": {
  "kernelspec": {
   "display_name": "Python 3 (ipykernel)",
   "language": "python",
   "name": "python3"
  },
  "language_info": {
   "codemirror_mode": {
    "name": "ipython",
    "version": 3
   },
   "file_extension": ".py",
   "mimetype": "text/x-python",
   "name": "python",
   "nbconvert_exporter": "python",
   "pygments_lexer": "ipython3",
   "version": "3.8.13"
  }
 },
 "nbformat": 4,
 "nbformat_minor": 5
}
