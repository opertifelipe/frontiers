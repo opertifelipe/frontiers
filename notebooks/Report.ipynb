{
 "cells": [
  {
   "cell_type": "markdown",
   "id": "d093bf69",
   "metadata": {},
   "source": [
    "# Technical report\n",
    "\n",
    "## Frontiers\n",
    " \n",
    "Frontiers runs a number of open access journals in several scientific fields. Authors can\n",
    "submit their articles for publication to one of these journals. However, in some cases the\n",
    "authors may not be aware of the journal that best matches the scope of their paper. If the\n",
    "wrong journal is chosen, it may result in delays or even rejection. To this end, we are\n",
    "developing a feature that suggests to the authors the three most relevant journals to their\n",
    "manuscript, to choose from.\n",
    "\n",
    "You are tasked to build a text classifier for this feature that, given some input text, can\n",
    "recommend the most suitable Frontiers journals to it.\n",
    "\n",
    "You have at your disposal a .jsonl file containing:\n",
    "- Article identifier\n",
    "- Body text\n",
    "- Frontiers journal name\n",
    "for all articles published by Frontiers in January 2020. You can find it here:\n",
    "https://drive.google.com/file/d/1es3EX0MdDAeolwFl_K_fS3RP0JFRxE2U/view?usp=sharing\n",
    "Remarks:\n",
    "- The solution should be coded in Python.\n",
    "- You can use any Python library you may find useful.\n",
    "- Together with the code you should also provide a report where you describe your approach and present the results.\n",
    "- You are particularly encouraged to discuss the choice of the evaluation metric(s) and how this translates to business value.\n",
    "- (last but not least) As you write code for this assignment, keep in mind that it will be reviewed (and in real life, put in production) by other colleagues. Clean code, a modular structure, python packaging, testability, explicit dependencies, documentation, are all things that can facilitate the team!\n",
    "\n",
    "Please email your solution in .zip format to davide.fiocco@frontiersin.org and be prepared to\n",
    "discuss it in the next interview stage.\n",
    "\n",
    "## Summary\n",
    "\n",
    "\n",
    "This report is divided into the following sections:\n",
    "- **Introduction:** In this section I introduce the problem by providing references and context.\n",
    "- **Data and evaluation metrics:**: In this section, I show an exploratory data analysis (EDA) of the given dataset providing useful insights for the definition of the best methods. Furthermore, I introduce the evaluation metrics that will be used to define the best method.\n",
    "- **Methods:** In this section, I describe the set of tested methods used to provide the best recommendation system.\n",
    "- **Results:** Here, I show the results of each method using the defined evaluation metrics comparing them with a trivial baseline.\n",
    "- **Conclusion:** Finally, I choose the best method considering both time and model performance justifying the reasons. \n",
    "- **Deployment and application**: In this section, I show how to easily deploy the model as REST API and interact with it with a simple web app."
   ]
  },
  {
   "cell_type": "markdown",
   "id": "2d172d1f",
   "metadata": {},
   "source": [
    "# Introduction\n",
    "\n",
    "The task consists to develop an algorithm that, given a scientific paper (or a simple text/report), it recommends the most suitable Frontiers journals. Several methodology could be used to define the best recommendation system and classifier. However, it strongly depends by the number of classes (Frontiers Journals) to be predicted. A previous study ([Meijer et al. *Document Embedding for Scientific Articles:\n",
    "Efficacy of Word Embeddings vs TFIDF.* 2021](https://arxiv.org/pdf/2107.05151.pdf)), already compare document embeddings using TFIDF and WordEmbeddings for classification of huge dataset of scientific papers (70 milion) into  30 thousand distinct journals or conferences.\n",
    "\n",
    "Here, I develop several variantions of document embedding using:\n",
    "- all document text;\n",
    "- only a list of keywords extracted from the text (from 3 to 7).\n",
    "\n",
    "From the text defined before I tested several embedding stategies such as:\n",
    "- TFIDF: \n",
    "- Word2Vec\n",
    "- SBERT"
   ]
  },
  {
   "cell_type": "markdown",
   "id": "10f17560",
   "metadata": {},
   "source": [
    "# Data and evaluation metrics"
   ]
  },
  {
   "cell_type": "markdown",
   "id": "50163907",
   "metadata": {},
   "source": [
    "# Methods"
   ]
  },
  {
   "cell_type": "markdown",
   "id": "5faab0cd",
   "metadata": {},
   "source": [
    "# Results"
   ]
  },
  {
   "cell_type": "markdown",
   "id": "5caedbc9",
   "metadata": {},
   "source": [
    "# Conclusion"
   ]
  },
  {
   "cell_type": "markdown",
   "id": "1c7e12d3",
   "metadata": {},
   "source": [
    "# Deployment and application"
   ]
  },
  {
   "cell_type": "code",
   "execution_count": 4,
   "id": "0f4e52e0",
   "metadata": {},
   "outputs": [],
   "source": [
    "import os\n",
    "os.chdir(\"/home/operti/inda/frontiers/src/\")"
   ]
  },
  {
   "cell_type": "code",
   "execution_count": null,
   "id": "4eca69bb",
   "metadata": {},
   "outputs": [],
   "source": []
  }
 ],
 "metadata": {
  "kernelspec": {
   "display_name": "Python 3 (ipykernel)",
   "language": "python",
   "name": "python3"
  },
  "language_info": {
   "codemirror_mode": {
    "name": "ipython",
    "version": 3
   },
   "file_extension": ".py",
   "mimetype": "text/x-python",
   "name": "python",
   "nbconvert_exporter": "python",
   "pygments_lexer": "ipython3",
   "version": "3.8.13"
  }
 },
 "nbformat": 4,
 "nbformat_minor": 5
}
