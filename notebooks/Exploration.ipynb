{
 "cells": [
  {
   "cell_type": "markdown",
   "id": "bf712578",
   "metadata": {},
   "source": [
    "# Exploration data analysis (EDA)"
   ]
  },
  {
   "cell_type": "code",
   "execution_count": 1,
   "id": "75806058",
   "metadata": {},
   "outputs": [],
   "source": [
    "import json\n",
    "import pandas as pd\n",
    "\n",
    "def load_data():\n",
    "    with open('../data/raw/Jan2020Frontiers.jsonl', 'r') as f:\n",
    "        list_of_papers = [json.loads(line) for line in f]\n",
    "    df = pd.DataFrame.from_dict(list_of_papers)\n",
    "    return df\n",
    "df = load_data()"
   ]
  },
  {
   "cell_type": "code",
   "execution_count": 2,
   "id": "3455467d",
   "metadata": {},
   "outputs": [
    {
     "data": {
      "text/html": [
       "<div>\n",
       "<style scoped>\n",
       "    .dataframe tbody tr th:only-of-type {\n",
       "        vertical-align: middle;\n",
       "    }\n",
       "\n",
       "    .dataframe tbody tr th {\n",
       "        vertical-align: top;\n",
       "    }\n",
       "\n",
       "    .dataframe thead th {\n",
       "        text-align: right;\n",
       "    }\n",
       "</style>\n",
       "<table border=\"1\" class=\"dataframe\">\n",
       "  <thead>\n",
       "    <tr style=\"text-align: right;\">\n",
       "      <th></th>\n",
       "      <th>id</th>\n",
       "      <th>text</th>\n",
       "      <th>journal</th>\n",
       "    </tr>\n",
       "  </thead>\n",
       "  <tbody>\n",
       "    <tr>\n",
       "      <th>0</th>\n",
       "      <td>465950</td>\n",
       "      <td>\\n Sleep Characteristics and Influencing Facto...</td>\n",
       "      <td>Frontiers in Medicine</td>\n",
       "    </tr>\n",
       "    <tr>\n",
       "      <th>1</th>\n",
       "      <td>483526</td>\n",
       "      <td>A Hybrid Approach for Modeling Type 2 Diabetes...</td>\n",
       "      <td>Frontiers in Genetics</td>\n",
       "    </tr>\n",
       "    <tr>\n",
       "      <th>2</th>\n",
       "      <td>482500</td>\n",
       "      <td>\\n Relationship Between SES and Academic Achie...</td>\n",
       "      <td>Frontiers in Psychology</td>\n",
       "    </tr>\n",
       "    <tr>\n",
       "      <th>3</th>\n",
       "      <td>437333</td>\n",
       "      <td>Environmental Health Research in Africa: Impor...</td>\n",
       "      <td>Frontiers in Genetics</td>\n",
       "    </tr>\n",
       "    <tr>\n",
       "      <th>4</th>\n",
       "      <td>486515</td>\n",
       "      <td>\\n 3,5-T2—A Janus-Faced Thyroid Hormone Metabo...</td>\n",
       "      <td>Frontiers in Endocrinology</td>\n",
       "    </tr>\n",
       "    <tr>\n",
       "      <th>5</th>\n",
       "      <td>463298</td>\n",
       "      <td>\\n Managing Oil Palm Plantations More Sustaina...</td>\n",
       "      <td>Frontiers in Forests and Global Change</td>\n",
       "    </tr>\n",
       "    <tr>\n",
       "      <th>6</th>\n",
       "      <td>488364</td>\n",
       "      <td>\\n Differential Regulation of LPS-Mediated VE-...</td>\n",
       "      <td>Frontiers in Cell and Developmental Biology</td>\n",
       "    </tr>\n",
       "    <tr>\n",
       "      <th>7</th>\n",
       "      <td>484438</td>\n",
       "      <td>\\n Association of T Stage and Serum CEA Levels...</td>\n",
       "      <td>Frontiers in Medicine</td>\n",
       "    </tr>\n",
       "    <tr>\n",
       "      <th>8</th>\n",
       "      <td>493109</td>\n",
       "      <td>Alcohol-Specific Computerized Interventions to...</td>\n",
       "      <td>Frontiers in Psychiatry</td>\n",
       "    </tr>\n",
       "    <tr>\n",
       "      <th>9</th>\n",
       "      <td>373107</td>\n",
       "      <td>\\n \\n A Systematic Scoping Review of the Resil...</td>\n",
       "      <td>Frontiers in Public Health</td>\n",
       "    </tr>\n",
       "    <tr>\n",
       "      <th>10</th>\n",
       "      <td>485379</td>\n",
       "      <td>In Vitro  Antioxidant, Anti-Inflammatory and S...</td>\n",
       "      <td>Frontiers in Pharmacology</td>\n",
       "    </tr>\n",
       "    <tr>\n",
       "      <th>11</th>\n",
       "      <td>476545</td>\n",
       "      <td>\\n “Fake it till You Make it”! Contaminating R...</td>\n",
       "      <td>Frontiers in Human Neuroscience</td>\n",
       "    </tr>\n",
       "    <tr>\n",
       "      <th>12</th>\n",
       "      <td>482878</td>\n",
       "      <td>Genetics of Non-Alcoholic Fatty Liver and Card...</td>\n",
       "      <td>Frontiers in Pharmacology</td>\n",
       "    </tr>\n",
       "    <tr>\n",
       "      <th>13</th>\n",
       "      <td>449799</td>\n",
       "      <td>Xuebijing Injection Maintains GRP78 Expression...</td>\n",
       "      <td>Frontiers in Pharmacology</td>\n",
       "    </tr>\n",
       "    <tr>\n",
       "      <th>14</th>\n",
       "      <td>480133</td>\n",
       "      <td>\\n Components and Predictors of Biological Soi...</td>\n",
       "      <td>Frontiers in Ecology and Evolution</td>\n",
       "    </tr>\n",
       "    <tr>\n",
       "      <th>15</th>\n",
       "      <td>503718</td>\n",
       "      <td>\\n \\n One-Step Synthesis of N, P-Codoped Carbo...</td>\n",
       "      <td>Frontiers in Chemistry</td>\n",
       "    </tr>\n",
       "    <tr>\n",
       "      <th>16</th>\n",
       "      <td>458317</td>\n",
       "      <td>\\n Assessment of Exercise Stroke Volume and ...</td>\n",
       "      <td>Frontiers in Physiology</td>\n",
       "    </tr>\n",
       "    <tr>\n",
       "      <th>17</th>\n",
       "      <td>443151</td>\n",
       "      <td>\\n Navigating Complexities: Agent-Based Modeli...</td>\n",
       "      <td>Frontiers in Marine Science</td>\n",
       "    </tr>\n",
       "    <tr>\n",
       "      <th>18</th>\n",
       "      <td>493298</td>\n",
       "      <td>GANsDTA: Predicting Drug-Target Binding Affini...</td>\n",
       "      <td>Frontiers in Genetics</td>\n",
       "    </tr>\n",
       "    <tr>\n",
       "      <th>19</th>\n",
       "      <td>489151</td>\n",
       "      <td>Aberrantly High Levels of Somatic LINE-1 Expre...</td>\n",
       "      <td>Frontiers in Genetics</td>\n",
       "    </tr>\n",
       "    <tr>\n",
       "      <th>20</th>\n",
       "      <td>494589</td>\n",
       "      <td>Analysis of miRNAs in Two Wheat Cultivars Infe...</td>\n",
       "      <td>Frontiers in Plant Science</td>\n",
       "    </tr>\n",
       "    <tr>\n",
       "      <th>21</th>\n",
       "      <td>478705</td>\n",
       "      <td>\\n T-Pattern Detection and Analysis (TPA) With...</td>\n",
       "      <td>Frontiers in Psychology</td>\n",
       "    </tr>\n",
       "    <tr>\n",
       "      <th>22</th>\n",
       "      <td>481339</td>\n",
       "      <td>Using a Mixed-Methods Approach to Analyze Trau...</td>\n",
       "      <td>Frontiers in Psychiatry</td>\n",
       "    </tr>\n",
       "    <tr>\n",
       "      <th>23</th>\n",
       "      <td>453442</td>\n",
       "      <td>\\n Risk Factors for Epilepsy After Thrombolysi...</td>\n",
       "      <td>Frontiers in Neurology</td>\n",
       "    </tr>\n",
       "    <tr>\n",
       "      <th>24</th>\n",
       "      <td>487686</td>\n",
       "      <td>\\n Can Simulated Nature Support Mental Health?...</td>\n",
       "      <td>Frontiers in Psychology</td>\n",
       "    </tr>\n",
       "    <tr>\n",
       "      <th>25</th>\n",
       "      <td>483440</td>\n",
       "      <td>\\n The Effects of a Multidimensional Exercis...</td>\n",
       "      <td>Frontiers in Psychology</td>\n",
       "    </tr>\n",
       "    <tr>\n",
       "      <th>26</th>\n",
       "      <td>496507</td>\n",
       "      <td>\\n VESTIGE: Adjuvant Immunotherapy in Patients...</td>\n",
       "      <td>Frontiers in Oncology</td>\n",
       "    </tr>\n",
       "    <tr>\n",
       "      <th>27</th>\n",
       "      <td>490467</td>\n",
       "      <td>Assessment of Pollen Viability for Wheat Danie...</td>\n",
       "      <td>Frontiers in Plant Science</td>\n",
       "    </tr>\n",
       "    <tr>\n",
       "      <th>28</th>\n",
       "      <td>478634</td>\n",
       "      <td>The Current State of MicroRNAs as Restenosis B...</td>\n",
       "      <td>Frontiers in Genetics</td>\n",
       "    </tr>\n",
       "    <tr>\n",
       "      <th>29</th>\n",
       "      <td>457218</td>\n",
       "      <td>The  Healing Encounters and Attitudes Lists  (...</td>\n",
       "      <td>Frontiers in Psychiatry</td>\n",
       "    </tr>\n",
       "    <tr>\n",
       "      <th>30</th>\n",
       "      <td>433060</td>\n",
       "      <td>Associations of Suicide Rates With Socioeconom...</td>\n",
       "      <td>Frontiers in Psychiatry</td>\n",
       "    </tr>\n",
       "    <tr>\n",
       "      <th>31</th>\n",
       "      <td>425233</td>\n",
       "      <td>Dysfunction of Pre-Attentive Visual Informatio...</td>\n",
       "      <td>Frontiers in Psychiatry</td>\n",
       "    </tr>\n",
       "    <tr>\n",
       "      <th>32</th>\n",
       "      <td>481416</td>\n",
       "      <td>Effects of Berberine and Its Derivatives on Ca...</td>\n",
       "      <td>Frontiers in Pharmacology</td>\n",
       "    </tr>\n",
       "    <tr>\n",
       "      <th>33</th>\n",
       "      <td>486088</td>\n",
       "      <td>Knowledge Translation for Improving the Care o...</td>\n",
       "      <td>Frontiers in Pharmacology</td>\n",
       "    </tr>\n",
       "    <tr>\n",
       "      <th>34</th>\n",
       "      <td>471978</td>\n",
       "      <td>\\n A Total Evidence Phylogenetic Analysis of P...</td>\n",
       "      <td>Frontiers in Ecology and Evolution</td>\n",
       "    </tr>\n",
       "    <tr>\n",
       "      <th>35</th>\n",
       "      <td>488955</td>\n",
       "      <td>\\n Development of a Biosensor for Detection of...</td>\n",
       "      <td>Frontiers in Bioengineering and Biotechnology</td>\n",
       "    </tr>\n",
       "    <tr>\n",
       "      <th>36</th>\n",
       "      <td>478723</td>\n",
       "      <td>\\n Enigmatic Deep-Water Mounds on the Orphan K...</td>\n",
       "      <td>Frontiers in Marine Science</td>\n",
       "    </tr>\n",
       "    <tr>\n",
       "      <th>37</th>\n",
       "      <td>494300</td>\n",
       "      <td>Candidate Regulators of Dyslipidemia in Chromo...</td>\n",
       "      <td>Frontiers in Genetics</td>\n",
       "    </tr>\n",
       "    <tr>\n",
       "      <th>38</th>\n",
       "      <td>496681</td>\n",
       "      <td>\\n Multiplex Neural Circuit Tracing With G-Del...</td>\n",
       "      <td>Frontiers in Neural Circuits</td>\n",
       "    </tr>\n",
       "    <tr>\n",
       "      <th>39</th>\n",
       "      <td>469920</td>\n",
       "      <td>Internet-Delivered Cognitive Behavior Therapy ...</td>\n",
       "      <td>Frontiers in Psychiatry</td>\n",
       "    </tr>\n",
       "    <tr>\n",
       "      <th>40</th>\n",
       "      <td>423244</td>\n",
       "      <td>Medicinal Plant Analysis: A Historical and Reg...</td>\n",
       "      <td>Frontiers in Pharmacology</td>\n",
       "    </tr>\n",
       "    <tr>\n",
       "      <th>41</th>\n",
       "      <td>469348</td>\n",
       "      <td>\\n Mapping Snowmelt Progression in the Upper I...</td>\n",
       "      <td>Frontiers in Earth Science</td>\n",
       "    </tr>\n",
       "    <tr>\n",
       "      <th>42</th>\n",
       "      <td>455388</td>\n",
       "      <td>Integrated Analysis of Methylome and Transcrip...</td>\n",
       "      <td>Frontiers in Genetics</td>\n",
       "    </tr>\n",
       "    <tr>\n",
       "      <th>43</th>\n",
       "      <td>472284</td>\n",
       "      <td>Use of Herbal Medicine by Pregnant Women: What...</td>\n",
       "      <td>Frontiers in Pharmacology</td>\n",
       "    </tr>\n",
       "    <tr>\n",
       "      <th>44</th>\n",
       "      <td>497578</td>\n",
       "      <td>Systemic Evaluation on the Pharmacokinetics of...</td>\n",
       "      <td>Frontiers in Pharmacology</td>\n",
       "    </tr>\n",
       "    <tr>\n",
       "      <th>45</th>\n",
       "      <td>488444</td>\n",
       "      <td>Extracellular Vesicles From the Cotton Pathoge...</td>\n",
       "      <td>Frontiers in Plant Science</td>\n",
       "    </tr>\n",
       "    <tr>\n",
       "      <th>46</th>\n",
       "      <td>485172</td>\n",
       "      <td>\\n Immunological Role of the Maternal Uterine ...</td>\n",
       "      <td>Frontiers in Immunology</td>\n",
       "    </tr>\n",
       "    <tr>\n",
       "      <th>47</th>\n",
       "      <td>512130</td>\n",
       "      <td>Corrigendum: The Assertive Brain: Anterior Cin...</td>\n",
       "      <td>Frontiers in Psychiatry</td>\n",
       "    </tr>\n",
       "    <tr>\n",
       "      <th>48</th>\n",
       "      <td>469327</td>\n",
       "      <td>Epigenetics and  In Utero  Acquired Predisposi...</td>\n",
       "      <td>Frontiers in Genetics</td>\n",
       "    </tr>\n",
       "    <tr>\n",
       "      <th>49</th>\n",
       "      <td>470267</td>\n",
       "      <td>Narrowing the Gap Between  In Vitro  and  In V...</td>\n",
       "      <td>Frontiers in Pharmacology</td>\n",
       "    </tr>\n",
       "  </tbody>\n",
       "</table>\n",
       "</div>"
      ],
      "text/plain": [
       "        id                                               text  \\\n",
       "0   465950  \\n Sleep Characteristics and Influencing Facto...   \n",
       "1   483526  A Hybrid Approach for Modeling Type 2 Diabetes...   \n",
       "2   482500  \\n Relationship Between SES and Academic Achie...   \n",
       "3   437333  Environmental Health Research in Africa: Impor...   \n",
       "4   486515  \\n 3,5-T2—A Janus-Faced Thyroid Hormone Metabo...   \n",
       "5   463298  \\n Managing Oil Palm Plantations More Sustaina...   \n",
       "6   488364  \\n Differential Regulation of LPS-Mediated VE-...   \n",
       "7   484438  \\n Association of T Stage and Serum CEA Levels...   \n",
       "8   493109  Alcohol-Specific Computerized Interventions to...   \n",
       "9   373107  \\n \\n A Systematic Scoping Review of the Resil...   \n",
       "10  485379  In Vitro  Antioxidant, Anti-Inflammatory and S...   \n",
       "11  476545  \\n “Fake it till You Make it”! Contaminating R...   \n",
       "12  482878  Genetics of Non-Alcoholic Fatty Liver and Card...   \n",
       "13  449799  Xuebijing Injection Maintains GRP78 Expression...   \n",
       "14  480133  \\n Components and Predictors of Biological Soi...   \n",
       "15  503718  \\n \\n One-Step Synthesis of N, P-Codoped Carbo...   \n",
       "16  458317    \\n Assessment of Exercise Stroke Volume and ...   \n",
       "17  443151  \\n Navigating Complexities: Agent-Based Modeli...   \n",
       "18  493298  GANsDTA: Predicting Drug-Target Binding Affini...   \n",
       "19  489151  Aberrantly High Levels of Somatic LINE-1 Expre...   \n",
       "20  494589  Analysis of miRNAs in Two Wheat Cultivars Infe...   \n",
       "21  478705  \\n T-Pattern Detection and Analysis (TPA) With...   \n",
       "22  481339  Using a Mixed-Methods Approach to Analyze Trau...   \n",
       "23  453442  \\n Risk Factors for Epilepsy After Thrombolysi...   \n",
       "24  487686  \\n Can Simulated Nature Support Mental Health?...   \n",
       "25  483440    \\n The Effects of a Multidimensional Exercis...   \n",
       "26  496507  \\n VESTIGE: Adjuvant Immunotherapy in Patients...   \n",
       "27  490467  Assessment of Pollen Viability for Wheat Danie...   \n",
       "28  478634  The Current State of MicroRNAs as Restenosis B...   \n",
       "29  457218  The  Healing Encounters and Attitudes Lists  (...   \n",
       "30  433060  Associations of Suicide Rates With Socioeconom...   \n",
       "31  425233  Dysfunction of Pre-Attentive Visual Informatio...   \n",
       "32  481416  Effects of Berberine and Its Derivatives on Ca...   \n",
       "33  486088  Knowledge Translation for Improving the Care o...   \n",
       "34  471978  \\n A Total Evidence Phylogenetic Analysis of P...   \n",
       "35  488955  \\n Development of a Biosensor for Detection of...   \n",
       "36  478723  \\n Enigmatic Deep-Water Mounds on the Orphan K...   \n",
       "37  494300  Candidate Regulators of Dyslipidemia in Chromo...   \n",
       "38  496681  \\n Multiplex Neural Circuit Tracing With G-Del...   \n",
       "39  469920  Internet-Delivered Cognitive Behavior Therapy ...   \n",
       "40  423244  Medicinal Plant Analysis: A Historical and Reg...   \n",
       "41  469348  \\n Mapping Snowmelt Progression in the Upper I...   \n",
       "42  455388  Integrated Analysis of Methylome and Transcrip...   \n",
       "43  472284  Use of Herbal Medicine by Pregnant Women: What...   \n",
       "44  497578  Systemic Evaluation on the Pharmacokinetics of...   \n",
       "45  488444  Extracellular Vesicles From the Cotton Pathoge...   \n",
       "46  485172  \\n Immunological Role of the Maternal Uterine ...   \n",
       "47  512130  Corrigendum: The Assertive Brain: Anterior Cin...   \n",
       "48  469327  Epigenetics and  In Utero  Acquired Predisposi...   \n",
       "49  470267  Narrowing the Gap Between  In Vitro  and  In V...   \n",
       "\n",
       "                                          journal  \n",
       "0                           Frontiers in Medicine  \n",
       "1                           Frontiers in Genetics  \n",
       "2                         Frontiers in Psychology  \n",
       "3                           Frontiers in Genetics  \n",
       "4                      Frontiers in Endocrinology  \n",
       "5          Frontiers in Forests and Global Change  \n",
       "6     Frontiers in Cell and Developmental Biology  \n",
       "7                           Frontiers in Medicine  \n",
       "8                         Frontiers in Psychiatry  \n",
       "9                      Frontiers in Public Health  \n",
       "10                      Frontiers in Pharmacology  \n",
       "11                Frontiers in Human Neuroscience  \n",
       "12                      Frontiers in Pharmacology  \n",
       "13                      Frontiers in Pharmacology  \n",
       "14             Frontiers in Ecology and Evolution  \n",
       "15                         Frontiers in Chemistry  \n",
       "16                        Frontiers in Physiology  \n",
       "17                    Frontiers in Marine Science  \n",
       "18                          Frontiers in Genetics  \n",
       "19                          Frontiers in Genetics  \n",
       "20                     Frontiers in Plant Science  \n",
       "21                        Frontiers in Psychology  \n",
       "22                        Frontiers in Psychiatry  \n",
       "23                         Frontiers in Neurology  \n",
       "24                        Frontiers in Psychology  \n",
       "25                        Frontiers in Psychology  \n",
       "26                          Frontiers in Oncology  \n",
       "27                     Frontiers in Plant Science  \n",
       "28                          Frontiers in Genetics  \n",
       "29                        Frontiers in Psychiatry  \n",
       "30                        Frontiers in Psychiatry  \n",
       "31                        Frontiers in Psychiatry  \n",
       "32                      Frontiers in Pharmacology  \n",
       "33                      Frontiers in Pharmacology  \n",
       "34             Frontiers in Ecology and Evolution  \n",
       "35  Frontiers in Bioengineering and Biotechnology  \n",
       "36                    Frontiers in Marine Science  \n",
       "37                          Frontiers in Genetics  \n",
       "38                   Frontiers in Neural Circuits  \n",
       "39                        Frontiers in Psychiatry  \n",
       "40                      Frontiers in Pharmacology  \n",
       "41                     Frontiers in Earth Science  \n",
       "42                          Frontiers in Genetics  \n",
       "43                      Frontiers in Pharmacology  \n",
       "44                      Frontiers in Pharmacology  \n",
       "45                     Frontiers in Plant Science  \n",
       "46                        Frontiers in Immunology  \n",
       "47                        Frontiers in Psychiatry  \n",
       "48                          Frontiers in Genetics  \n",
       "49                      Frontiers in Pharmacology  "
      ]
     },
     "execution_count": 2,
     "metadata": {},
     "output_type": "execute_result"
    }
   ],
   "source": [
    "df.head(50)"
   ]
  },
  {
   "cell_type": "markdown",
   "id": "49a0b8f9",
   "metadata": {},
   "source": [
    "# Train-test split "
   ]
  },
  {
   "cell_type": "code",
   "execution_count": 3,
   "id": "c3f26c79",
   "metadata": {},
   "outputs": [
    {
     "data": {
      "text/plain": [
       "<AxesSubplot:xlabel='journal'>"
      ]
     },
     "execution_count": 3,
     "metadata": {},
     "output_type": "execute_result"
    },
    {
     "data": {
      "image/png": "[encoded data removed]",
      "text/plain": [
       "<Figure size 1080x360 with 1 Axes>"
      ]
     },
     "metadata": {
      "needs_background": "light"
     },
     "output_type": "display_data"
    }
   ],
   "source": [
    "%matplotlib inline\n",
    "import matplotlib.pyplot as plt\n",
    "plt.rcParams['figure.figsize'] = [15,5]\n",
    "\n",
    "def filter_papers_min_sample(df):\n",
    "    documents_per_journal = df.groupby([\"journal\"]).size().sort_values(ascending=False)\n",
    "    subset_journals = list(documents_per_journal[documents_per_journal >1 ].index)\n",
    "    df_subset = df[df[\"journal\"].isin(subset_journals)]\n",
    "    return documents_per_journal, df_subset\n",
    "documents_per_journal, df_subset = filter_papers_min_sample(df)\n",
    "documents_per_journal.plot.bar()\n"
   ]
  },
  {
   "cell_type": "code",
   "execution_count": 4,
   "id": "69de7960",
   "metadata": {},
   "outputs": [
    {
     "data": {
      "text/plain": [
       "journal\n",
       "Frontiers in Microbiology    238\n",
       "Frontiers in Psychology      222\n",
       "Frontiers in Immunology      184\n",
       "dtype: int64"
      ]
     },
     "execution_count": 4,
     "metadata": {},
     "output_type": "execute_result"
    }
   ],
   "source": [
    "documents_per_journal[:3]"
   ]
  },
  {
   "cell_type": "code",
   "execution_count": 5,
   "id": "e811bc39",
   "metadata": {},
   "outputs": [],
   "source": [
    "from sklearn.model_selection import train_test_split\n",
    "\n",
    "def train_test(df_subset):\n",
    "    X_train, X_test, y_train, y_test = train_test_split(df_subset[[\"id\",\"text\"]],df_subset[\"journal\"].values, \n",
    "                                                        test_size=0.33, \n",
    "                                                        random_state=42,\n",
    "                                                        stratify=df_subset[\"journal\"].values)\n",
    "    df_train = X_train.copy()\n",
    "    df_train[\"journal\"] = y_train\n",
    "    df_test = X_test.copy()\n",
    "    df_test[\"journal\"] = y_test\n",
    "    return df_train.reset_index(drop=True), df_test.reset_index(drop=True)\n",
    "df_train, df_test = train_test(df_subset)"
   ]
  },
  {
   "cell_type": "code",
   "execution_count": 6,
   "id": "63b33c36",
   "metadata": {},
   "outputs": [
    {
     "data": {
      "text/plain": [
       "[['Frontiers in Microbiology',\n",
       "  'Frontiers in Psychology',\n",
       "  'Frontiers in Immunology'],\n",
       " ['Frontiers in Microbiology',\n",
       "  'Frontiers in Psychology',\n",
       "  'Frontiers in Immunology']]"
      ]
     },
     "execution_count": 6,
     "metadata": {},
     "output_type": "execute_result"
    }
   ],
   "source": [
    "import random\n",
    "journals_list = list(df_train[\"journal\"].unique())\n",
    "random_solution = []\n",
    "\n",
    "for i in range(df_train.shape[0]):\n",
    "    # random_solution.append([random.choice(journals_list),random.choice(journals_list),random.choice(journals_list)])\n",
    "    random_solution.append([\"Frontiers in Microbiology\",\"Frontiers in Psychology\",\"Frontiers in Immunology\"])\n",
    "\n",
    "random_solution[:2]    "
   ]
  },
  {
   "cell_type": "code",
   "execution_count": 7,
   "id": "0fabbc69",
   "metadata": {
    "scrolled": true
   },
   "outputs": [
    {
     "name": "stderr",
     "output_type": "stream",
     "text": [
      "/home/operti/miniconda3/envs/frontiers/lib/python3.8/site-packages/sklearn/metrics/_classification.py:1318: UndefinedMetricWarning: Precision and F-score are ill-defined and being set to 0.0 in labels with no predicted samples. Use `zero_division` parameter to control this behavior.\n",
      "  _warn_prf(average, modifier, msg_start, len(result))\n",
      "/home/operti/miniconda3/envs/frontiers/lib/python3.8/site-packages/sklearn/metrics/_classification.py:1318: UndefinedMetricWarning: Precision and F-score are ill-defined and being set to 0.0 in labels with no predicted samples. Use `zero_division` parameter to control this behavior.\n",
      "  _warn_prf(average, modifier, msg_start, len(result))\n",
      "/home/operti/miniconda3/envs/frontiers/lib/python3.8/site-packages/sklearn/metrics/_classification.py:1318: UndefinedMetricWarning: Precision and F-score are ill-defined and being set to 0.0 in labels with no predicted samples. Use `zero_division` parameter to control this behavior.\n",
      "  _warn_prf(average, modifier, msg_start, len(result))\n"
     ]
    }
   ],
   "source": [
    "from sklearn.metrics import precision_score, recall_score, f1_score\n",
    "from sklearn.metrics import classification_report\n",
    "\n",
    "def evaluator(y_true, y_pred):\n",
    "    df_evaluator = pd.DataFrame(y_true,columns=[\"y_true\"])\n",
    "    df_evaluator[\"y_pred\"] = y_pred\n",
    "    \n",
    "    def check_in(row):\n",
    "        if row[\"y_true\"] in row[\"y_pred\"]:\n",
    "            return 1\n",
    "        else:\n",
    "            return 0\n",
    "    \n",
    "    df_evaluator[\"tp\"] = df_evaluator.apply(check_in, axis=1)\n",
    "    accucary_score = round(df_evaluator[\"tp\"].sum() / df_evaluator.shape[0], 2)\n",
    "    \n",
    "    def mean_reciprocal_rank(row):\n",
    "        if row[\"y_true\"] in row[\"y_pred\"]:\n",
    "            index = row[\"y_pred\"].index(row[\"y_true\"])\n",
    "            return 1/(index+1)\n",
    "        else:\n",
    "            return 0\n",
    "    df_evaluator[\"reciprocal_rank\"] = df_evaluator.apply(mean_reciprocal_rank, axis=1)\n",
    "    \n",
    "    mean_reciprocal_rank = round(df_evaluator[\"reciprocal_rank\"].sum() / df_evaluator.shape[0],2)\n",
    "\n",
    "    def get_first_rank(row):\n",
    "        if row[\"y_true\"] in row[\"y_pred\"]:\n",
    "            return row[\"y_true\"]\n",
    "        else:\n",
    "            return row[\"y_pred\"][0]\n",
    "    df_evaluator[\"first_rank\"] = df_evaluator.apply(get_first_rank, axis=1)\n",
    "    \n",
    "    report = classification_report(df_evaluator[\"y_true\"], df_evaluator[\"first_rank\"])\n",
    "    \n",
    "    return df_evaluator, accucary_score, mean_reciprocal_rank, report\n",
    "df_evaluator, accucary_score, mean_reciprocal_rank, report = evaluator(df_train[\"journal\"].tolist(), random_solution)"
   ]
  },
  {
   "cell_type": "code",
   "execution_count": 8,
   "id": "0fc60301",
   "metadata": {
    "scrolled": true
   },
   "outputs": [
    {
     "name": "stdout",
     "output_type": "stream",
     "text": [
      "                                                  precision    recall  f1-score   support\n",
      "\n",
      "                       Frontiers for Young Minds       0.00      0.00      0.00        12\n",
      "                 Frontiers in Aging Neuroscience       0.00      0.00      0.00        19\n",
      " Frontiers in Applied Mathematics and Statistics       0.00      0.00      0.00         3\n",
      "            Frontiers in Artificial Intelligence       0.00      0.00      0.00         1\n",
      "       Frontiers in Astronomy and Space Sciences       0.00      0.00      0.00         3\n",
      "            Frontiers in Behavioral Neuroscience       0.00      0.00      0.00        15\n",
      "                           Frontiers in Big Data       0.00      0.00      0.00         3\n",
      "   Frontiers in Bioengineering and Biotechnology       0.00      0.00      0.00        38\n",
      "                         Frontiers in Blockchain       0.00      0.00      0.00         3\n",
      "                  Frontiers in Built Environment       0.00      0.00      0.00         5\n",
      "            Frontiers in Cardiovascular Medicine       0.00      0.00      0.00         7\n",
      "     Frontiers in Cell and Developmental Biology       0.00      0.00      0.00        32\n",
      "              Frontiers in Cellular Neuroscience       0.00      0.00      0.00        17\n",
      "Frontiers in Cellular and Infection Microbiology       0.00      0.00      0.00        31\n",
      "                          Frontiers in Chemistry       0.00      0.00      0.00        46\n",
      "                      Frontiers in Communication       0.00      0.00      0.00         2\n",
      "         Frontiers in Computational Neuroscience       0.00      0.00      0.00        10\n",
      "                      Frontiers in Earth Science       0.00      0.00      0.00        17\n",
      "              Frontiers in Ecology and Evolution       0.00      0.00      0.00        23\n",
      "                          Frontiers in Education       0.00      0.00      0.00         9\n",
      "                      Frontiers in Endocrinology       0.00      0.00      0.00        36\n",
      "                    Frontiers in Energy Research       0.00      0.00      0.00        11\n",
      "              Frontiers in Environmental Science       0.00      0.00      0.00         7\n",
      "          Frontiers in Forests and Global Change       0.00      0.00      0.00         7\n",
      "                           Frontiers in Genetics       0.00      0.00      0.00        66\n",
      "                 Frontiers in Human Neuroscience       0.00      0.00      0.00        17\n",
      "                         Frontiers in Immunology       1.00      1.00      1.00       123\n",
      "           Frontiers in Integrative Neuroscience       0.00      0.00      0.00         3\n",
      "                     Frontiers in Marine Science       0.00      0.00      0.00        43\n",
      "                          Frontiers in Materials       0.00      0.00      0.00        11\n",
      "             Frontiers in Mechanical Engineering       0.00      0.00      0.00         3\n",
      "                           Frontiers in Medicine       0.00      0.00      0.00        30\n",
      "                       Frontiers in Microbiology       0.11      1.00      0.20       159\n",
      "              Frontiers in Molecular Biosciences       0.00      0.00      0.00        12\n",
      "             Frontiers in Molecular Neuroscience       0.00      0.00      0.00        16\n",
      "                    Frontiers in Neural Circuits       0.00      0.00      0.00         5\n",
      "                       Frontiers in Neuroanatomy       0.00      0.00      0.00         2\n",
      "                   Frontiers in Neuroinformatics       0.00      0.00      0.00         1\n",
      "                          Frontiers in Neurology       0.00      0.00      0.00        51\n",
      "                      Frontiers in Neurorobotics       0.00      0.00      0.00         6\n",
      "                       Frontiers in Neuroscience       0.00      0.00      0.00        60\n",
      "                          Frontiers in Nutrition       0.00      0.00      0.00         6\n",
      "                           Frontiers in Oncology       0.00      0.00      0.00        88\n",
      "                         Frontiers in Pediatrics       0.00      0.00      0.00        29\n",
      "                       Frontiers in Pharmacology       0.00      0.00      0.00       116\n",
      "                            Frontiers in Physics       0.00      0.00      0.00        24\n",
      "                         Frontiers in Physiology       0.00      0.00      0.00        70\n",
      "                      Frontiers in Plant Science       0.00      0.00      0.00        97\n",
      "                         Frontiers in Psychiatry       0.00      0.00      0.00        58\n",
      "                         Frontiers in Psychology       1.00      1.00      1.00       149\n",
      "                      Frontiers in Public Health       0.00      0.00      0.00        19\n",
      "                    Frontiers in Robotics and AI       0.00      0.00      0.00        10\n",
      "                          Frontiers in Sociology       0.00      0.00      0.00         3\n",
      "           Frontiers in Sports and Active Living       0.00      0.00      0.00         5\n",
      "                            Frontiers in Surgery       0.00      0.00      0.00         6\n",
      "           Frontiers in Sustainable Food Systems       0.00      0.00      0.00         7\n",
      "              Frontiers in Synaptic Neuroscience       0.00      0.00      0.00         1\n",
      "               Frontiers in Systems Neuroscience       0.00      0.00      0.00         7\n",
      "                 Frontiers in Veterinary Science       0.00      0.00      0.00        30\n",
      "\n",
      "                                        accuracy                           0.26      1690\n",
      "                                       macro avg       0.04      0.05      0.04      1690\n",
      "                                    weighted avg       0.17      0.26      0.18      1690\n",
      "\n"
     ]
    }
   ],
   "source": [
    "print(report)"
   ]
  },
  {
   "cell_type": "code",
   "execution_count": 9,
   "id": "c3438507",
   "metadata": {},
   "outputs": [
    {
     "name": "stdout",
     "output_type": "stream",
     "text": [
      "Accuracy:0.26; Mean Reciprocal Rank (MRR): 0.16\n"
     ]
    }
   ],
   "source": [
    "print(f\"Accuracy:{accucary_score}; Mean Reciprocal Rank (MRR): {mean_reciprocal_rank}\")"
   ]
  },
  {
   "cell_type": "code",
   "execution_count": 11,
   "id": "d9df9f36",
   "metadata": {},
   "outputs": [
    {
     "name": "stderr",
     "output_type": "stream",
     "text": [
      "[nltk_data] Downloading package punkt to /home/operti/nltk_data...\n",
      "[nltk_data]   Package punkt is already up-to-date!\n",
      "[nltk_data] Downloading package stopwords to /home/operti/nltk_data...\n",
      "[nltk_data]   Package stopwords is already up-to-date!\n"
     ]
    },
    {
     "data": {
      "text/plain": [
       "True"
      ]
     },
     "execution_count": 11,
     "metadata": {},
     "output_type": "execute_result"
    }
   ],
   "source": [
    "from nltk import word_tokenize\n",
    "from nltk.corpus import stopwords\n",
    "import string\n",
    "import nltk\n",
    "nltk.download('punkt')\n",
    "nltk.download('stopwords')"
   ]
  },
  {
   "cell_type": "code",
   "execution_count": 12,
   "id": "bff60e2f",
   "metadata": {},
   "outputs": [],
   "source": [
    "import re\n",
    "def find_keywords_rule_based(s):\n",
    "    start = \"Keywords:\"\n",
    "    end = \"Citation:\"\n",
    "    s = s.replace(\" :\",\":\")\n",
    "    keywords_list = s[s.find(start)+len(start):s.rfind(end)].replace(\"\\n\",\" \").replace(\":\",\"\").split(\",\")\n",
    "    keywords_list = [keyword.strip() for keyword in keywords_list ]\n",
    "    return keywords_list"
   ]
  },
  {
   "cell_type": "code",
   "execution_count": 13,
   "id": "f2d98fef",
   "metadata": {
    "scrolled": true
   },
   "outputs": [],
   "source": [
    "def add_keywords(df):\n",
    "    list_of_all_keywords = []\n",
    "    for i, row in df.iterrows():\n",
    "        list_of_all_keywords.append(find_keywords_rule_based(row[\"text\"]))\n",
    "    df[\"keywords\"] = list_of_all_keywords\n",
    "    df[\"keywords_len\"] = df[\"keywords\"].apply(lambda x: len(x))"
   ]
  },
  {
   "cell_type": "code",
   "execution_count": 14,
   "id": "7be52494",
   "metadata": {},
   "outputs": [],
   "source": [
    "def preprocess_text(text):\n",
    "    word_to_remove = [\"google\", \"scholar\"]\n",
    "    text = re.sub(r'[^a-zA-Z]', ' ', text)\n",
    "    stop = set(stopwords.words('english') + list(string.punctuation))\n",
    "    preprocessed_text = \" \".join([i for i in word_tokenize(text.lower()) if (i not in stop) and (len(i) > 3) and (i not in word_to_remove)])\n",
    "    return preprocessed_text"
   ]
  },
  {
   "cell_type": "code",
   "execution_count": 15,
   "id": "a3a0a3be",
   "metadata": {},
   "outputs": [],
   "source": [
    "def preprocess(df):\n",
    "    df[\"preprocessed_text\"] = df[\"text\"].apply(preprocess_text)\n",
    "    df[\"keywords\"] = df[\"text\"].apply(find_keywords_rule_based)\n",
    "    df[\"keywords_len\"] = df[\"keywords\"].apply(lambda x: len(x))\n",
    "    return df\n",
    "df_train = preprocess(df_train)"
   ]
  },
  {
   "cell_type": "code",
   "execution_count": 16,
   "id": "18fd3f32",
   "metadata": {},
   "outputs": [
    {
     "data": {
      "text/html": [
       "<div>\n",
       "<style scoped>\n",
       "    .dataframe tbody tr th:only-of-type {\n",
       "        vertical-align: middle;\n",
       "    }\n",
       "\n",
       "    .dataframe tbody tr th {\n",
       "        vertical-align: top;\n",
       "    }\n",
       "\n",
       "    .dataframe thead th {\n",
       "        text-align: right;\n",
       "    }\n",
       "</style>\n",
       "<table border=\"1\" class=\"dataframe\">\n",
       "  <thead>\n",
       "    <tr style=\"text-align: right;\">\n",
       "      <th></th>\n",
       "      <th>id</th>\n",
       "      <th>text</th>\n",
       "      <th>journal</th>\n",
       "      <th>preprocessed_text</th>\n",
       "      <th>keywords</th>\n",
       "      <th>keywords_len</th>\n",
       "    </tr>\n",
       "  </thead>\n",
       "  <tbody>\n",
       "    <tr>\n",
       "      <th>0</th>\n",
       "      <td>494570</td>\n",
       "      <td>\\n \\n Low Testosterone in Adolescents &amp; Young ...</td>\n",
       "      <td>Frontiers in Endocrinology</td>\n",
       "      <td>testosterone adolescents young adults jordan c...</td>\n",
       "      <td>[testosterone, obesity, diabetes, adolescence,...</td>\n",
       "      <td>5</td>\n",
       "    </tr>\n",
       "    <tr>\n",
       "      <th>1</th>\n",
       "      <td>483146</td>\n",
       "      <td>\\n Dynamics and Outcome of Macrophage Interact...</td>\n",
       "      <td>Frontiers in Cellular and Infection Microbiology</td>\n",
       "      <td>dynamics outcome macrophage interaction salmon...</td>\n",
       "      <td>[S . Typhimurium, S . Gallinarum, S . Dublin, ...</td>\n",
       "      <td>5</td>\n",
       "    </tr>\n",
       "    <tr>\n",
       "      <th>2</th>\n",
       "      <td>493402</td>\n",
       "      <td>\\n Oral Treatments With Probiotics and Live  S...</td>\n",
       "      <td>Frontiers in Microbiology</td>\n",
       "      <td>oral treatments probiotics live salmonella vac...</td>\n",
       "      <td>[probiotics, poultry, intestine, neurochemical...</td>\n",
       "      <td>7</td>\n",
       "    </tr>\n",
       "    <tr>\n",
       "      <th>3</th>\n",
       "      <td>475909</td>\n",
       "      <td>\\n A Systematic, Regional Assessment of High M...</td>\n",
       "      <td>Frontiers in Earth Science</td>\n",
       "      <td>systematic regional assessment high mountain a...</td>\n",
       "      <td>[digital elevation model (DEM), Himalaya, geod...</td>\n",
       "      <td>8</td>\n",
       "    </tr>\n",
       "    <tr>\n",
       "      <th>4</th>\n",
       "      <td>508059</td>\n",
       "      <td>\\n Hot Water Extracted and Non-extracted Willo...</td>\n",
       "      <td>Frontiers in Energy Research</td>\n",
       "      <td>water extracted extracted willow biomass stora...</td>\n",
       "      <td>[willow biomass, hot water extraction, bioener...</td>\n",
       "      <td>6</td>\n",
       "    </tr>\n",
       "  </tbody>\n",
       "</table>\n",
       "</div>"
      ],
      "text/plain": [
       "       id                                               text  \\\n",
       "0  494570  \\n \\n Low Testosterone in Adolescents & Young ...   \n",
       "1  483146  \\n Dynamics and Outcome of Macrophage Interact...   \n",
       "2  493402  \\n Oral Treatments With Probiotics and Live  S...   \n",
       "3  475909  \\n A Systematic, Regional Assessment of High M...   \n",
       "4  508059  \\n Hot Water Extracted and Non-extracted Willo...   \n",
       "\n",
       "                                            journal  \\\n",
       "0                        Frontiers in Endocrinology   \n",
       "1  Frontiers in Cellular and Infection Microbiology   \n",
       "2                         Frontiers in Microbiology   \n",
       "3                        Frontiers in Earth Science   \n",
       "4                      Frontiers in Energy Research   \n",
       "\n",
       "                                   preprocessed_text  \\\n",
       "0  testosterone adolescents young adults jordan c...   \n",
       "1  dynamics outcome macrophage interaction salmon...   \n",
       "2  oral treatments probiotics live salmonella vac...   \n",
       "3  systematic regional assessment high mountain a...   \n",
       "4  water extracted extracted willow biomass stora...   \n",
       "\n",
       "                                            keywords  keywords_len  \n",
       "0  [testosterone, obesity, diabetes, adolescence,...             5  \n",
       "1  [S . Typhimurium, S . Gallinarum, S . Dublin, ...             5  \n",
       "2  [probiotics, poultry, intestine, neurochemical...             7  \n",
       "3  [digital elevation model (DEM), Himalaya, geod...             8  \n",
       "4  [willow biomass, hot water extraction, bioener...             6  "
      ]
     },
     "execution_count": 16,
     "metadata": {},
     "output_type": "execute_result"
    }
   ],
   "source": [
    "df_train.head(5)"
   ]
  },
  {
   "cell_type": "code",
   "execution_count": 17,
   "id": "25543467",
   "metadata": {},
   "outputs": [],
   "source": [
    "import pickle\n",
    "pickle.dump(df_train, open(\"../data/intermediate/df_train_intermediate.pickle\",\"wb\"))"
   ]
  },
  {
   "cell_type": "code",
   "execution_count": 18,
   "id": "32eb9f0d",
   "metadata": {},
   "outputs": [],
   "source": [
    "df_train = pickle.load( open(\"../data/intermediate/df_train_intermediate.pickle\",\"rb\"))"
   ]
  },
  {
   "cell_type": "code",
   "execution_count": 19,
   "id": "8b6ea7cd",
   "metadata": {},
   "outputs": [
    {
     "data": {
      "text/html": [
       "<div>\n",
       "<style scoped>\n",
       "    .dataframe tbody tr th:only-of-type {\n",
       "        vertical-align: middle;\n",
       "    }\n",
       "\n",
       "    .dataframe tbody tr th {\n",
       "        vertical-align: top;\n",
       "    }\n",
       "\n",
       "    .dataframe thead th {\n",
       "        text-align: right;\n",
       "    }\n",
       "</style>\n",
       "<table border=\"1\" class=\"dataframe\">\n",
       "  <thead>\n",
       "    <tr style=\"text-align: right;\">\n",
       "      <th></th>\n",
       "      <th>id</th>\n",
       "      <th>text</th>\n",
       "      <th>journal</th>\n",
       "      <th>preprocessed_text</th>\n",
       "      <th>keywords</th>\n",
       "      <th>keywords_len</th>\n",
       "    </tr>\n",
       "  </thead>\n",
       "  <tbody>\n",
       "    <tr>\n",
       "      <th>522</th>\n",
       "      <td>486107</td>\n",
       "      <td>\\n \\n \\n Do Not Swat the Wasp! \\n \\n \\n \\n \\n ...</td>\n",
       "      <td>Frontiers for Young Minds</td>\n",
       "      <td>swat wasp abstract probably like bees cute fur...</td>\n",
       "      <td>[Not Swat the Wasp!           Abstract   You p...</td>\n",
       "      <td>189</td>\n",
       "    </tr>\n",
       "    <tr>\n",
       "      <th>309</th>\n",
       "      <td>480838</td>\n",
       "      <td>\\n \\n \\n Drought, Floods, Climate Change, and ...</td>\n",
       "      <td>Frontiers for Young Minds</td>\n",
       "      <td>drought floods climate change forest loss amaz...</td>\n",
       "      <td>[ought, Floods, Climate Change, and Forest Los...</td>\n",
       "      <td>188</td>\n",
       "    </tr>\n",
       "    <tr>\n",
       "      <th>405</th>\n",
       "      <td>485296</td>\n",
       "      <td>\\n \\n \\n Blood Vessels Under the Microscope \\n...</td>\n",
       "      <td>Frontiers for Young Minds</td>\n",
       "      <td>blood vessels microscope abstract paper looks ...</td>\n",
       "      <td>[ood Vessels Under the Microscope           Ab...</td>\n",
       "      <td>179</td>\n",
       "    </tr>\n",
       "    <tr>\n",
       "      <th>538</th>\n",
       "      <td>495739</td>\n",
       "      <td>\\n \\n Meet Neo: Your Distant Cousin? \\n \\n \\n ...</td>\n",
       "      <td>Frontiers for Young Minds</td>\n",
       "      <td>meet distant cousin abstract ever wondered ext...</td>\n",
       "      <td>[Neo Your Distant Cousin?           Abstract  ...</td>\n",
       "      <td>159</td>\n",
       "    </tr>\n",
       "    <tr>\n",
       "      <th>258</th>\n",
       "      <td>469358</td>\n",
       "      <td>\\n \\n Cycads: Ancient Plants With Bacteria Liv...</td>\n",
       "      <td>Frontiers for Young Minds</td>\n",
       "      <td>cycads ancient plants bacteria living roots ab...</td>\n",
       "      <td>[ds Ancient Plants With Bacteria Living in The...</td>\n",
       "      <td>150</td>\n",
       "    </tr>\n",
       "    <tr>\n",
       "      <th>...</th>\n",
       "      <td>...</td>\n",
       "      <td>...</td>\n",
       "      <td>...</td>\n",
       "      <td>...</td>\n",
       "      <td>...</td>\n",
       "      <td>...</td>\n",
       "    </tr>\n",
       "    <tr>\n",
       "      <th>1036</th>\n",
       "      <td>503184</td>\n",
       "      <td>\\n Bacteriophages as an Up-and-Coming Alternat...</td>\n",
       "      <td>Frontiers in Microbiology</td>\n",
       "      <td>bacteriophages coming alternative sulfur dioxi...</td>\n",
       "      <td>[biocontrol, phages, acetic acid bacteria, lac...</td>\n",
       "      <td>5</td>\n",
       "    </tr>\n",
       "    <tr>\n",
       "      <th>1037</th>\n",
       "      <td>497650</td>\n",
       "      <td>\\n \\n Gut Microbiome as a Potential Factor for...</td>\n",
       "      <td>Frontiers in Immunology</td>\n",
       "      <td>microbiome potential factor modulating resista...</td>\n",
       "      <td>[gut microbiome, cancer immunotherapy, resista...</td>\n",
       "      <td>5</td>\n",
       "    </tr>\n",
       "    <tr>\n",
       "      <th>411</th>\n",
       "      <td>485392</td>\n",
       "      <td>Doxorubicin Induces Endotheliotoxicity and Mit...</td>\n",
       "      <td>Frontiers in Pharmacology</td>\n",
       "      <td>doxorubicin induces endotheliotoxicity mitocho...</td>\n",
       "      <td>[doxorubicin, vascular endothelium, endothelio...</td>\n",
       "      <td>5</td>\n",
       "    </tr>\n",
       "    <tr>\n",
       "      <th>1039</th>\n",
       "      <td>505381</td>\n",
       "      <td>\\n Recent Advances of L-ornithine Biosynthesis...</td>\n",
       "      <td>Frontiers in Bioengineering and Biotechnology</td>\n",
       "      <td>recent advances ornithine biosynthesis metabol...</td>\n",
       "      <td>[L-ornithine, Corynebacterium glutamicum, meta...</td>\n",
       "      <td>5</td>\n",
       "    </tr>\n",
       "    <tr>\n",
       "      <th>0</th>\n",
       "      <td>494570</td>\n",
       "      <td>\\n \\n Low Testosterone in Adolescents &amp; Young ...</td>\n",
       "      <td>Frontiers in Endocrinology</td>\n",
       "      <td>testosterone adolescents young adults jordan c...</td>\n",
       "      <td>[testosterone, obesity, diabetes, adolescence,...</td>\n",
       "      <td>5</td>\n",
       "    </tr>\n",
       "  </tbody>\n",
       "</table>\n",
       "<p>1690 rows × 6 columns</p>\n",
       "</div>"
      ],
      "text/plain": [
       "          id                                               text  \\\n",
       "522   486107  \\n \\n \\n Do Not Swat the Wasp! \\n \\n \\n \\n \\n ...   \n",
       "309   480838  \\n \\n \\n Drought, Floods, Climate Change, and ...   \n",
       "405   485296  \\n \\n \\n Blood Vessels Under the Microscope \\n...   \n",
       "538   495739  \\n \\n Meet Neo: Your Distant Cousin? \\n \\n \\n ...   \n",
       "258   469358  \\n \\n Cycads: Ancient Plants With Bacteria Liv...   \n",
       "...      ...                                                ...   \n",
       "1036  503184  \\n Bacteriophages as an Up-and-Coming Alternat...   \n",
       "1037  497650  \\n \\n Gut Microbiome as a Potential Factor for...   \n",
       "411   485392  Doxorubicin Induces Endotheliotoxicity and Mit...   \n",
       "1039  505381  \\n Recent Advances of L-ornithine Biosynthesis...   \n",
       "0     494570  \\n \\n Low Testosterone in Adolescents & Young ...   \n",
       "\n",
       "                                            journal  \\\n",
       "522                       Frontiers for Young Minds   \n",
       "309                       Frontiers for Young Minds   \n",
       "405                       Frontiers for Young Minds   \n",
       "538                       Frontiers for Young Minds   \n",
       "258                       Frontiers for Young Minds   \n",
       "...                                             ...   \n",
       "1036                      Frontiers in Microbiology   \n",
       "1037                        Frontiers in Immunology   \n",
       "411                       Frontiers in Pharmacology   \n",
       "1039  Frontiers in Bioengineering and Biotechnology   \n",
       "0                        Frontiers in Endocrinology   \n",
       "\n",
       "                                      preprocessed_text  \\\n",
       "522   swat wasp abstract probably like bees cute fur...   \n",
       "309   drought floods climate change forest loss amaz...   \n",
       "405   blood vessels microscope abstract paper looks ...   \n",
       "538   meet distant cousin abstract ever wondered ext...   \n",
       "258   cycads ancient plants bacteria living roots ab...   \n",
       "...                                                 ...   \n",
       "1036  bacteriophages coming alternative sulfur dioxi...   \n",
       "1037  microbiome potential factor modulating resista...   \n",
       "411   doxorubicin induces endotheliotoxicity mitocho...   \n",
       "1039  recent advances ornithine biosynthesis metabol...   \n",
       "0     testosterone adolescents young adults jordan c...   \n",
       "\n",
       "                                               keywords  keywords_len  \n",
       "522   [Not Swat the Wasp!           Abstract   You p...           189  \n",
       "309   [ought, Floods, Climate Change, and Forest Los...           188  \n",
       "405   [ood Vessels Under the Microscope           Ab...           179  \n",
       "538   [Neo Your Distant Cousin?           Abstract  ...           159  \n",
       "258   [ds Ancient Plants With Bacteria Living in The...           150  \n",
       "...                                                 ...           ...  \n",
       "1036  [biocontrol, phages, acetic acid bacteria, lac...             5  \n",
       "1037  [gut microbiome, cancer immunotherapy, resista...             5  \n",
       "411   [doxorubicin, vascular endothelium, endothelio...             5  \n",
       "1039  [L-ornithine, Corynebacterium glutamicum, meta...             5  \n",
       "0     [testosterone, obesity, diabetes, adolescence,...             5  \n",
       "\n",
       "[1690 rows x 6 columns]"
      ]
     },
     "execution_count": 19,
     "metadata": {},
     "output_type": "execute_result"
    }
   ],
   "source": [
    "df_train.sort_values(by=\"keywords_len\", ascending=False)"
   ]
  },
  {
   "cell_type": "code",
   "execution_count": 20,
   "id": "0f7bdae3",
   "metadata": {},
   "outputs": [
    {
     "data": {
      "text/plain": [
       "<AxesSubplot:>"
      ]
     },
     "execution_count": 20,
     "metadata": {},
     "output_type": "execute_result"
    },
    {
     "data": {
      "image/png": "[encoded data removed]",
      "text/plain": [
       "<Figure size 1080x360 with 1 Axes>"
      ]
     },
     "metadata": {
      "needs_background": "light"
     },
     "output_type": "display_data"
    }
   ],
   "source": [
    "df_train[\"keywords_len\"].hist(bins=50)"
   ]
  },
  {
   "cell_type": "code",
   "execution_count": 23,
   "id": "1a6bbf0d",
   "metadata": {
    "scrolled": false
   },
   "outputs": [
    {
     "data": {
      "text/plain": [
       "(14, 6)"
      ]
     },
     "execution_count": 23,
     "metadata": {},
     "output_type": "execute_result"
    }
   ],
   "source": [
    "import matplotlib.pyplot as plt\n",
    "df_train[df_train[\"keywords_len\"] >8].shape"
   ]
  },
  {
   "cell_type": "code",
   "execution_count": 19,
   "id": "e89c6c0f",
   "metadata": {},
   "outputs": [],
   "source": [
    "df_train = df_train[df_train[\"keywords_len\"] <=8]"
   ]
  },
  {
   "cell_type": "code",
   "execution_count": 20,
   "id": "bcfdea38",
   "metadata": {},
   "outputs": [
    {
     "data": {
      "text/html": [
       "<div>\n",
       "<style scoped>\n",
       "    .dataframe tbody tr th:only-of-type {\n",
       "        vertical-align: middle;\n",
       "    }\n",
       "\n",
       "    .dataframe tbody tr th {\n",
       "        vertical-align: top;\n",
       "    }\n",
       "\n",
       "    .dataframe thead th {\n",
       "        text-align: right;\n",
       "    }\n",
       "</style>\n",
       "<table border=\"1\" class=\"dataframe\">\n",
       "  <thead>\n",
       "    <tr style=\"text-align: right;\">\n",
       "      <th></th>\n",
       "      <th>id</th>\n",
       "      <th>text</th>\n",
       "      <th>journal</th>\n",
       "      <th>keywords</th>\n",
       "      <th>keywords_len</th>\n",
       "      <th>preprocessed_text</th>\n",
       "    </tr>\n",
       "  </thead>\n",
       "  <tbody>\n",
       "    <tr>\n",
       "      <th>0</th>\n",
       "      <td>465950</td>\n",
       "      <td>\\n Sleep Characteristics and Influencing Facto...</td>\n",
       "      <td>Frontiers in Medicine</td>\n",
       "      <td>[inflammatory bowel disease, arthritis, sleep ...</td>\n",
       "      <td>5</td>\n",
       "      <td>sleep characteristics influencing factors slee...</td>\n",
       "    </tr>\n",
       "    <tr>\n",
       "      <th>1</th>\n",
       "      <td>483526</td>\n",
       "      <td>A Hybrid Approach for Modeling Type 2 Diabetes...</td>\n",
       "      <td>Frontiers in Genetics</td>\n",
       "      <td>[type 2 diabetes mellitus, machine learning, h...</td>\n",
       "      <td>6</td>\n",
       "      <td>hybrid approach modeling type diabetes mellitu...</td>\n",
       "    </tr>\n",
       "    <tr>\n",
       "      <th>2</th>\n",
       "      <td>482500</td>\n",
       "      <td>\\n Relationship Between SES and Academic Achie...</td>\n",
       "      <td>Frontiers in Psychology</td>\n",
       "      <td>[socioeconomic status, self-concept, school ac...</td>\n",
       "      <td>5</td>\n",
       "      <td>relationship academic achievement junior high ...</td>\n",
       "    </tr>\n",
       "    <tr>\n",
       "      <th>3</th>\n",
       "      <td>437333</td>\n",
       "      <td>Environmental Health Research in Africa: Impor...</td>\n",
       "      <td>Frontiers in Genetics</td>\n",
       "      <td>[G x E, Africa, environmental, pesticides, met...</td>\n",
       "      <td>7</td>\n",
       "      <td>environmental health research africa important...</td>\n",
       "    </tr>\n",
       "    <tr>\n",
       "      <th>5</th>\n",
       "      <td>463298</td>\n",
       "      <td>\\n Managing Oil Palm Plantations More Sustaina...</td>\n",
       "      <td>Frontiers in Forests and Global Change</td>\n",
       "      <td>[biodiversity, habitat heterogeneity, palm oil...</td>\n",
       "      <td>8</td>\n",
       "      <td>managing palm plantations sustainably large-sc...</td>\n",
       "    </tr>\n",
       "  </tbody>\n",
       "</table>\n",
       "</div>"
      ],
      "text/plain": [
       "       id                                               text  \\\n",
       "0  465950  \\n Sleep Characteristics and Influencing Facto...   \n",
       "1  483526  A Hybrid Approach for Modeling Type 2 Diabetes...   \n",
       "2  482500  \\n Relationship Between SES and Academic Achie...   \n",
       "3  437333  Environmental Health Research in Africa: Impor...   \n",
       "5  463298  \\n Managing Oil Palm Plantations More Sustaina...   \n",
       "\n",
       "                                  journal  \\\n",
       "0                   Frontiers in Medicine   \n",
       "1                   Frontiers in Genetics   \n",
       "2                 Frontiers in Psychology   \n",
       "3                   Frontiers in Genetics   \n",
       "5  Frontiers in Forests and Global Change   \n",
       "\n",
       "                                            keywords  keywords_len  \\\n",
       "0  [inflammatory bowel disease, arthritis, sleep ...             5   \n",
       "1  [type 2 diabetes mellitus, machine learning, h...             6   \n",
       "2  [socioeconomic status, self-concept, school ac...             5   \n",
       "3  [G x E, Africa, environmental, pesticides, met...             7   \n",
       "5  [biodiversity, habitat heterogeneity, palm oil...             8   \n",
       "\n",
       "                                   preprocessed_text  \n",
       "0  sleep characteristics influencing factors slee...  \n",
       "1  hybrid approach modeling type diabetes mellitu...  \n",
       "2  relationship academic achievement junior high ...  \n",
       "3  environmental health research africa important...  \n",
       "5  managing palm plantations sustainably large-sc...  "
      ]
     },
     "execution_count": 20,
     "metadata": {},
     "output_type": "execute_result"
    }
   ],
   "source": [
    "df_remove_keywords_unknown.head()"
   ]
  },
  {
   "cell_type": "code",
   "execution_count": 21,
   "id": "636399c2",
   "metadata": {},
   "outputs": [
    {
     "data": {
      "text/plain": [
       "<AxesSubplot:xlabel='journal'>"
      ]
     },
     "execution_count": 21,
     "metadata": {},
     "output_type": "execute_result"
    },
    {
     "data": {
      "image/png": "[encoded data removed]",
      "text/plain": [
       "<Figure size 1080x360 with 1 Axes>"
      ]
     },
     "metadata": {
      "needs_background": "light"
     },
     "output_type": "display_data"
    }
   ],
   "source": [
    "%matplotlib inline\n",
    "import matplotlib.pyplot as plt\n",
    "plt.rcParams['figure.figsize'] = [15,5]\n",
    "df_remove_keywords_unknown.groupby([\"journal\"]).size().sort_values(ascending=False).plot.bar()\n"
   ]
  },
  {
   "cell_type": "markdown",
   "id": "17b2f7b3",
   "metadata": {},
   "source": [
    "# TF IDF vectors"
   ]
  },
  {
   "cell_type": "code",
   "execution_count": 22,
   "id": "18544934",
   "metadata": {},
   "outputs": [],
   "source": [
    "from sklearn.feature_extraction.text import TfidfVectorizer\n",
    "vectorizer = TfidfVectorizer()\n",
    "tf_idf_vectors = vectorizer.fit_transform(df[\"preprocessed_text\"].to_list())"
   ]
  },
  {
   "cell_type": "code",
   "execution_count": 28,
   "id": "ae467eae",
   "metadata": {},
   "outputs": [
    {
     "name": "stderr",
     "output_type": "stream",
     "text": [
      "/home/operti/miniconda3/envs/frontiers/lib/python3.8/site-packages/sklearn/utils/deprecation.py:87: FutureWarning: Function get_feature_names is deprecated; get_feature_names is deprecated in 1.0 and will be removed in 1.2. Please use get_feature_names_out instead.\n",
      "  warnings.warn(msg, category=FutureWarning)\n"
     ]
    }
   ],
   "source": [
    "tfidf_df = pd.DataFrame(tf_idf_vectors.toarray(), columns=vectorizer.get_feature_names())"
   ]
  },
  {
   "cell_type": "code",
   "execution_count": 29,
   "id": "21531623",
   "metadata": {},
   "outputs": [
    {
     "data": {
      "text/html": [
       "<div>\n",
       "<style scoped>\n",
       "    .dataframe tbody tr th:only-of-type {\n",
       "        vertical-align: middle;\n",
       "    }\n",
       "\n",
       "    .dataframe tbody tr th {\n",
       "        vertical-align: top;\n",
       "    }\n",
       "\n",
       "    .dataframe thead th {\n",
       "        text-align: right;\n",
       "    }\n",
       "</style>\n",
       "<table border=\"1\" class=\"dataframe\">\n",
       "  <thead>\n",
       "    <tr style=\"text-align: right;\">\n",
       "      <th></th>\n",
       "      <th>__</th>\n",
       "      <th>___</th>\n",
       "      <th>____</th>\n",
       "      <th>________</th>\n",
       "      <th>___access</th>\n",
       "      <th>___moesm_esm</th>\n",
       "      <th>__blob</th>\n",
       "      <th>__data</th>\n",
       "      <th>__def</th>\n",
       "      <th>__instance_ogwrsdq_advancedsearch</th>\n",
       "      <th>...</th>\n",
       "      <th>ﬂabellifolia</th>\n",
       "      <th>ﬂaps</th>\n",
       "      <th>ﬂavonoid</th>\n",
       "      <th>ﬂesh</th>\n",
       "      <th>ﬂoral</th>\n",
       "      <th>ﬂower</th>\n",
       "      <th>ﬂowering</th>\n",
       "      <th>ﬂuctuations</th>\n",
       "      <th>ﬂuorescence</th>\n",
       "      <th>ﬂuoxetine</th>\n",
       "    </tr>\n",
       "  </thead>\n",
       "  <tbody>\n",
       "    <tr>\n",
       "      <th>0</th>\n",
       "      <td>0.0</td>\n",
       "      <td>0.0</td>\n",
       "      <td>0.0</td>\n",
       "      <td>0.0</td>\n",
       "      <td>0.0</td>\n",
       "      <td>0.0</td>\n",
       "      <td>0.0</td>\n",
       "      <td>0.0</td>\n",
       "      <td>0.0</td>\n",
       "      <td>0.0</td>\n",
       "      <td>...</td>\n",
       "      <td>0.0</td>\n",
       "      <td>0.0</td>\n",
       "      <td>0.0</td>\n",
       "      <td>0.0</td>\n",
       "      <td>0.0</td>\n",
       "      <td>0.0</td>\n",
       "      <td>0.0</td>\n",
       "      <td>0.0</td>\n",
       "      <td>0.0</td>\n",
       "      <td>0.0</td>\n",
       "    </tr>\n",
       "    <tr>\n",
       "      <th>1</th>\n",
       "      <td>0.0</td>\n",
       "      <td>0.0</td>\n",
       "      <td>0.0</td>\n",
       "      <td>0.0</td>\n",
       "      <td>0.0</td>\n",
       "      <td>0.0</td>\n",
       "      <td>0.0</td>\n",
       "      <td>0.0</td>\n",
       "      <td>0.0</td>\n",
       "      <td>0.0</td>\n",
       "      <td>...</td>\n",
       "      <td>0.0</td>\n",
       "      <td>0.0</td>\n",
       "      <td>0.0</td>\n",
       "      <td>0.0</td>\n",
       "      <td>0.0</td>\n",
       "      <td>0.0</td>\n",
       "      <td>0.0</td>\n",
       "      <td>0.0</td>\n",
       "      <td>0.0</td>\n",
       "      <td>0.0</td>\n",
       "    </tr>\n",
       "  </tbody>\n",
       "</table>\n",
       "<p>2 rows × 300653 columns</p>\n",
       "</div>"
      ],
      "text/plain": [
       "    __  ___  ____  ________  ___access  ___moesm_esm  __blob  __data  __def  \\\n",
       "0  0.0  0.0   0.0       0.0        0.0           0.0     0.0     0.0    0.0   \n",
       "1  0.0  0.0   0.0       0.0        0.0           0.0     0.0     0.0    0.0   \n",
       "\n",
       "   __instance_ogwrsdq_advancedsearch  ...  ﬂabellifolia  ﬂaps  ﬂavonoid  ﬂesh  \\\n",
       "0                                0.0  ...           0.0   0.0       0.0   0.0   \n",
       "1                                0.0  ...           0.0   0.0       0.0   0.0   \n",
       "\n",
       "   ﬂoral  ﬂower  ﬂowering  ﬂuctuations  ﬂuorescence  ﬂuoxetine  \n",
       "0    0.0    0.0       0.0          0.0          0.0        0.0  \n",
       "1    0.0    0.0       0.0          0.0          0.0        0.0  \n",
       "\n",
       "[2 rows x 300653 columns]"
      ]
     },
     "execution_count": 29,
     "metadata": {},
     "output_type": "execute_result"
    }
   ],
   "source": [
    "tfidf_df.head(2)"
   ]
  },
  {
   "cell_type": "code",
   "execution_count": 25,
   "id": "ebd81b59",
   "metadata": {},
   "outputs": [
    {
     "data": {
      "text/plain": [
       "(2528, 300653)"
      ]
     },
     "execution_count": 25,
     "metadata": {},
     "output_type": "execute_result"
    }
   ],
   "source": [
    "tfidf_df.shape"
   ]
  },
  {
   "cell_type": "code",
   "execution_count": 30,
   "id": "783fbd1b",
   "metadata": {},
   "outputs": [],
   "source": [
    "tfidf_df[\"JOURNAL\"] = df[\"journal\"].to_list()"
   ]
  },
  {
   "cell_type": "code",
   "execution_count": 31,
   "id": "68aa2666",
   "metadata": {},
   "outputs": [
    {
     "data": {
      "text/plain": [
       "(2528, 300654)"
      ]
     },
     "execution_count": 31,
     "metadata": {},
     "output_type": "execute_result"
    }
   ],
   "source": [
    "tfidf_df.shape"
   ]
  },
  {
   "cell_type": "code",
   "execution_count": 38,
   "id": "b1eae884",
   "metadata": {},
   "outputs": [],
   "source": [
    "mean_tf_idf = tfidf_df.groupby([\"JOURNAL\"]).mean().reset_index()"
   ]
  },
  {
   "cell_type": "code",
   "execution_count": 39,
   "id": "7659eb1b",
   "metadata": {},
   "outputs": [
    {
     "data": {
      "text/plain": [
       "300653"
      ]
     },
     "execution_count": 39,
     "metadata": {},
     "output_type": "execute_result"
    }
   ],
   "source": [
    "len(tf_idf_vectors[0].toarray()[0])"
   ]
  },
  {
   "cell_type": "code",
   "execution_count": 40,
   "id": "4496274d",
   "metadata": {},
   "outputs": [
    {
     "data": {
      "text/plain": [
       "(64, 300654)"
      ]
     },
     "execution_count": 40,
     "metadata": {},
     "output_type": "execute_result"
    }
   ],
   "source": [
    "mean_tf_idf.shape"
   ]
  },
  {
   "cell_type": "code",
   "execution_count": 50,
   "id": "18ff5a99",
   "metadata": {},
   "outputs": [
    {
     "data": {
      "text/plain": [
       "array([[0.0418596 , 0.20259151, 0.02456117, 0.07224444, 0.09075548,\n",
       "        0.05769569, 0.18114475, 0.06385922, 0.26267122, 0.03778527,\n",
       "        0.09781409, 0.19177651, 0.23687412, 0.19459414, 0.23591287,\n",
       "        0.21506783, 0.04970441, 0.15258074, 0.04169527, 0.10050386,\n",
       "        0.17167498, 0.06871551, 0.50502781, 0.09278797, 0.12547515,\n",
       "        0.0961567 , 0.23484247, 0.11899111, 0.18051644, 0.24726569,\n",
       "        0.15217845, 0.16993515, 0.11379357, 0.05581512, 0.0804    ,\n",
       "        0.26801389, 0.25265114, 0.22776995, 0.22643951, 0.11696349,\n",
       "        0.1508738 , 0.1303866 , 0.23407331, 0.09430652, 0.25048718,\n",
       "        0.20065972, 0.2301959 , 0.20697869, 0.30166179, 0.15619605,\n",
       "        0.27551475, 0.18275944, 0.20340984, 0.19334613, 0.15769039,\n",
       "        0.04579465, 0.08725122, 0.06457545, 0.12181448, 0.14677204,\n",
       "        0.08333335, 0.07151312, 0.15305565, 0.21364838]])"
      ]
     },
     "execution_count": 50,
     "metadata": {},
     "output_type": "execute_result"
    }
   ],
   "source": [
    "from sklearn.metrics.pairwise import cosine_similarity\n",
    "index = 4\n",
    "cosine_sim = cosine_similarity(tf_idf_vectors[index].toarray(), mean_tf_idf.drop(\"JOURNAL\", axis=1).values)\n",
    "cosine_sim"
   ]
  },
  {
   "cell_type": "code",
   "execution_count": 51,
   "id": "195ce563",
   "metadata": {},
   "outputs": [
    {
     "data": {
      "text/plain": [
       "array([21, 47, 49])"
      ]
     },
     "execution_count": 51,
     "metadata": {},
     "output_type": "execute_result"
    }
   ],
   "source": [
    "idx = (-cosine_sim[0][1:]).argsort()[:3]\n",
    "idx"
   ]
  },
  {
   "cell_type": "code",
   "execution_count": 52,
   "id": "e459073f",
   "metadata": {},
   "outputs": [
    {
     "data": {
      "text/plain": [
       "('Frontiers in Endocrinology',\n",
       " 'Frontiers in Education',\n",
       " 'Frontiers in Pediatrics',\n",
       " 'Frontiers in Physics')"
      ]
     },
     "execution_count": 52,
     "metadata": {},
     "output_type": "execute_result"
    }
   ],
   "source": [
    "df[\"journal\"][index], mean_tf_idf[\"JOURNAL\"][idx[0]], mean_tf_idf[\"JOURNAL\"][idx[1]], mean_tf_idf[\"JOURNAL\"][idx[2]] "
   ]
  },
  {
   "cell_type": "markdown",
   "id": "73f1dc02",
   "metadata": {},
   "source": [
    "# Text Rank keyword extraction"
   ]
  },
  {
   "cell_type": "code",
   "execution_count": 26,
   "id": "8136f215",
   "metadata": {},
   "outputs": [
    {
     "data": {
      "text/plain": [
       "[('figure', 0.21900803728259657),\n",
       " ('figures', 0.21900803728259657),\n",
       " ('text', 0.1998638751360907),\n",
       " ('level', 0.17002356230345095),\n",
       " ('probiotic', 0.16932322445091336)]"
      ]
     },
     "execution_count": 26,
     "metadata": {},
     "output_type": "execute_result"
    }
   ],
   "source": [
    "from summa import keywords\n",
    "index = 2\n",
    "doc=df_train[\"preprocessed_text\"][index]\n",
    "TR_keywords = keywords.keywords(doc, scores=True)\n",
    "TR_keywords[0:5]"
   ]
  },
  {
   "cell_type": "code",
   "execution_count": null,
   "id": "e04726c2",
   "metadata": {},
   "outputs": [
    {
     "name": "stdout",
     "output_type": "stream",
     "text": [
      "INFO: Pandarallel will run on 8 workers.\n",
      "INFO: Pandarallel will use Memory file system to transfer data between the main process and workers.\n"
     ]
    },
    {
     "data": {
      "application/vnd.jupyter.widget-view+json": {
       "model_id": "6333b6cf1e87451b87ce119827c6b3b3",
       "version_major": 2,
       "version_minor": 0
      },
      "text/plain": [
       "VBox(children=(HBox(children=(IntProgress(value=0, description='0.00%', max=212), Label(value='0 / 212'))), HB…"
      ]
     },
     "metadata": {},
     "output_type": "display_data"
    },
    {
     "name": "stderr",
     "output_type": "stream",
     "text": [
      "Process ForkPoolWorker-17:\n",
      "Traceback (most recent call last):\n",
      "Process ForkPoolWorker-13:\n",
      "  File \"/home/operti/miniconda3/envs/frontiers/lib/python3.8/multiprocessing/process.py\", line 315, in _bootstrap\n",
      "    self.run()\n",
      "Process ForkPoolWorker-15:\n",
      "  File \"/home/operti/miniconda3/envs/frontiers/lib/python3.8/multiprocessing/process.py\", line 108, in run\n",
      "    self._target(*self._args, **self._kwargs)\n",
      "Traceback (most recent call last):\n",
      "Process ForkPoolWorker-18:\n",
      "Traceback (most recent call last):\n",
      "  File \"/home/operti/miniconda3/envs/frontiers/lib/python3.8/multiprocessing/process.py\", line 315, in _bootstrap\n",
      "    self.run()\n",
      "  File \"/home/operti/miniconda3/envs/frontiers/lib/python3.8/multiprocessing/pool.py\", line 125, in worker\n",
      "    result = (True, func(*args, **kwds))\n",
      "Traceback (most recent call last):\n",
      "  File \"/home/operti/miniconda3/envs/frontiers/lib/python3.8/multiprocessing/process.py\", line 315, in _bootstrap\n",
      "    self.run()\n",
      "  File \"/home/operti/miniconda3/envs/frontiers/lib/python3.8/multiprocessing/process.py\", line 108, in run\n",
      "    self._target(*self._args, **self._kwargs)\n",
      "  File \"/home/operti/miniconda3/envs/frontiers/lib/python3.8/multiprocessing/pool.py\", line 51, in starmapstar\n",
      "    return list(itertools.starmap(args[0], args[1]))\n",
      "  File \"/home/operti/miniconda3/envs/frontiers/lib/python3.8/multiprocessing/process.py\", line 315, in _bootstrap\n",
      "    self.run()\n",
      "  File \"/home/operti/miniconda3/envs/frontiers/lib/python3.8/multiprocessing/process.py\", line 108, in run\n",
      "    self._target(*self._args, **self._kwargs)\n",
      "  File \"/home/operti/miniconda3/envs/frontiers/lib/python3.8/site-packages/pandarallel/data_types/series.py\", line 26, in work\n",
      "    return data.apply(\n",
      "  File \"/home/operti/miniconda3/envs/frontiers/lib/python3.8/site-packages/pandarallel/core.py\", line 95, in __call__\n",
      "    result = self.work_function(\n",
      "  File \"/home/operti/miniconda3/envs/frontiers/lib/python3.8/multiprocessing/pool.py\", line 125, in worker\n",
      "    result = (True, func(*args, **kwds))\n",
      "  File \"/home/operti/miniconda3/envs/frontiers/lib/python3.8/multiprocessing/process.py\", line 108, in run\n",
      "    self._target(*self._args, **self._kwargs)\n",
      "  File \"/home/operti/miniconda3/envs/frontiers/lib/python3.8/multiprocessing/pool.py\", line 125, in worker\n",
      "    result = (True, func(*args, **kwds))\n",
      "  File \"/home/operti/miniconda3/envs/frontiers/lib/python3.8/multiprocessing/pool.py\", line 125, in worker\n",
      "    result = (True, func(*args, **kwds))\n",
      "  File \"/home/operti/miniconda3/envs/frontiers/lib/python3.8/multiprocessing/pool.py\", line 51, in starmapstar\n",
      "    return list(itertools.starmap(args[0], args[1]))\n",
      "  File \"/home/operti/miniconda3/envs/frontiers/lib/python3.8/site-packages/pandas/core/series.py\", line 4433, in apply\n",
      "    return SeriesApply(self, func, convert_dtype, args, kwargs).apply()\n",
      "  File \"/home/operti/miniconda3/envs/frontiers/lib/python3.8/site-packages/pandarallel/core.py\", line 95, in __call__\n",
      "    result = self.work_function(\n",
      "  File \"/home/operti/miniconda3/envs/frontiers/lib/python3.8/multiprocessing/pool.py\", line 51, in starmapstar\n",
      "    return list(itertools.starmap(args[0], args[1]))\n",
      "  File \"/home/operti/miniconda3/envs/frontiers/lib/python3.8/multiprocessing/pool.py\", line 51, in starmapstar\n",
      "    return list(itertools.starmap(args[0], args[1]))\n",
      "  File \"/home/operti/miniconda3/envs/frontiers/lib/python3.8/site-packages/pandas/core/apply.py\", line 1082, in apply\n",
      "    return self.apply_standard()\n",
      "  File \"/home/operti/miniconda3/envs/frontiers/lib/python3.8/site-packages/pandarallel/data_types/series.py\", line 26, in work\n",
      "    return data.apply(\n",
      "  File \"/home/operti/miniconda3/envs/frontiers/lib/python3.8/site-packages/pandas/core/series.py\", line 4433, in apply\n",
      "    return SeriesApply(self, func, convert_dtype, args, kwargs).apply()\n",
      "  File \"/home/operti/miniconda3/envs/frontiers/lib/python3.8/site-packages/pandarallel/core.py\", line 95, in __call__\n",
      "    result = self.work_function(\n",
      "  File \"/home/operti/miniconda3/envs/frontiers/lib/python3.8/site-packages/pandarallel/core.py\", line 95, in __call__\n",
      "    result = self.work_function(\n",
      "  File \"/home/operti/miniconda3/envs/frontiers/lib/python3.8/site-packages/pandas/core/apply.py\", line 1137, in apply_standard\n",
      "    mapped = lib.map_infer(\n",
      "  File \"/home/operti/miniconda3/envs/frontiers/lib/python3.8/site-packages/pandas/core/apply.py\", line 1082, in apply\n",
      "    return self.apply_standard()\n",
      "  File \"/home/operti/miniconda3/envs/frontiers/lib/python3.8/site-packages/pandarallel/data_types/series.py\", line 26, in work\n",
      "    return data.apply(\n",
      "  File \"/home/operti/miniconda3/envs/frontiers/lib/python3.8/site-packages/pandarallel/data_types/series.py\", line 26, in work\n",
      "    return data.apply(\n",
      "  File \"/home/operti/miniconda3/envs/frontiers/lib/python3.8/site-packages/pandarallel/progress_bars.py\", line 210, in closure\n",
      "    return user_defined_function(\n",
      "  File \"pandas/_libs/lib.pyx\", line 2870, in pandas._libs.lib.map_infer\n",
      "  File \"/home/operti/miniconda3/envs/frontiers/lib/python3.8/site-packages/pandas/core/series.py\", line 4433, in apply\n",
      "    return SeriesApply(self, func, convert_dtype, args, kwargs).apply()\n",
      "  File \"/home/operti/miniconda3/envs/frontiers/lib/python3.8/site-packages/pandarallel/progress_bars.py\", line 210, in closure\n",
      "    return user_defined_function(\n",
      "  File \"/home/operti/miniconda3/envs/frontiers/lib/python3.8/site-packages/pandas/core/apply.py\", line 1137, in apply_standard\n",
      "    mapped = lib.map_infer(\n",
      "  File \"/home/operti/miniconda3/envs/frontiers/lib/python3.8/site-packages/pandas/core/series.py\", line 4433, in apply\n",
      "    return SeriesApply(self, func, convert_dtype, args, kwargs).apply()\n",
      "  File \"pandas/_libs/lib.pyx\", line 2870, in pandas._libs.lib.map_infer\n",
      "  File \"/tmp/ipykernel_21703/2117326882.py\", line 6, in get_keywords_from_textrank\n",
      "    TR_keywords = keywords.keywords(text, scores=True)\n",
      "  File \"pandas/_libs/lib.pyx\", line 2870, in pandas._libs.lib.map_infer\n",
      "  File \"/home/operti/miniconda3/envs/frontiers/lib/python3.8/site-packages/pandas/core/apply.py\", line 1082, in apply\n",
      "    return self.apply_standard()\n",
      "  File \"/home/operti/miniconda3/envs/frontiers/lib/python3.8/site-packages/summa/keywords.py\", line 207, in keywords\n",
      "    pagerank_scores = _pagerank(graph)\n",
      "  File \"/home/operti/miniconda3/envs/frontiers/lib/python3.8/site-packages/pandas/core/apply.py\", line 1137, in apply_standard\n",
      "    mapped = lib.map_infer(\n",
      "  File \"/home/operti/miniconda3/envs/frontiers/lib/python3.8/site-packages/pandas/core/apply.py\", line 1082, in apply\n",
      "    return self.apply_standard()\n",
      "  File \"/home/operti/miniconda3/envs/frontiers/lib/python3.8/site-packages/pandas/core/apply.py\", line 1137, in apply_standard\n",
      "    mapped = lib.map_infer(\n",
      "  File \"/tmp/ipykernel_21703/2117326882.py\", line 6, in get_keywords_from_textrank\n",
      "    TR_keywords = keywords.keywords(text, scores=True)\n",
      "  File \"/home/operti/miniconda3/envs/frontiers/lib/python3.8/site-packages/summa/pagerank_weighted.py\", line 42, in pagerank_weighted_scipy\n",
      "    adjacency_matrix = build_adjacency_matrix(graph)\n",
      "  File \"pandas/_libs/lib.pyx\", line 2870, in pandas._libs.lib.map_infer\n",
      "  File \"/home/operti/miniconda3/envs/frontiers/lib/python3.8/site-packages/summa/pagerank_weighted.py\", line 61, in build_adjacency_matrix\n",
      "    edge_weight = float(graph.edge_weight((current_node, nodes[j])))\n",
      "  File \"/home/operti/miniconda3/envs/frontiers/lib/python3.8/site-packages/summa/graph.py\", line 160, in edge_weight\n",
      "    return self.get_edge_properties( edge ).setdefault( self.WEIGHT_ATTRIBUTE_NAME, self.DEFAULT_WEIGHT )\n",
      "  File \"/home/operti/miniconda3/envs/frontiers/lib/python3.8/site-packages/pandarallel/progress_bars.py\", line 210, in closure\n",
      "    return user_defined_function(\n",
      "  File \"/tmp/ipykernel_21703/2117326882.py\", line 6, in get_keywords_from_textrank\n",
      "    TR_keywords = keywords.keywords(text, scores=True)\n",
      "  File \"/home/operti/miniconda3/envs/frontiers/lib/python3.8/site-packages/summa/keywords.py\", line 207, in keywords\n",
      "    pagerank_scores = _pagerank(graph)\n",
      "  File \"/home/operti/miniconda3/envs/frontiers/lib/python3.8/site-packages/pandarallel/progress_bars.py\", line 210, in closure\n",
      "    return user_defined_function(\n",
      "  File \"/home/operti/miniconda3/envs/frontiers/lib/python3.8/site-packages/summa/pagerank_weighted.py\", line 42, in pagerank_weighted_scipy\n",
      "    adjacency_matrix = build_adjacency_matrix(graph)\n"
     ]
    },
    {
     "name": "stderr",
     "output_type": "stream",
     "text": [
      "  File \"/home/operti/miniconda3/envs/frontiers/lib/python3.8/site-packages/summa/graph.py\", line 204, in get_edge_properties\n",
      "    return self.edge_properties.setdefault( edge, {} )\n",
      "  File \"/home/operti/miniconda3/envs/frontiers/lib/python3.8/site-packages/summa/keywords.py\", line 207, in keywords\n",
      "    pagerank_scores = _pagerank(graph)\n",
      "  File \"/home/operti/miniconda3/envs/frontiers/lib/python3.8/site-packages/summa/pagerank_weighted.py\", line 42, in pagerank_weighted_scipy\n",
      "    adjacency_matrix = build_adjacency_matrix(graph)\n",
      "  File \"/tmp/ipykernel_21703/2117326882.py\", line 6, in get_keywords_from_textrank\n",
      "    TR_keywords = keywords.keywords(text, scores=True)\n",
      "KeyboardInterrupt\n",
      "  File \"/home/operti/miniconda3/envs/frontiers/lib/python3.8/site-packages/summa/keywords.py\", line 207, in keywords\n",
      "    pagerank_scores = _pagerank(graph)\n",
      "  File \"/home/operti/miniconda3/envs/frontiers/lib/python3.8/site-packages/summa/pagerank_weighted.py\", line 61, in build_adjacency_matrix\n",
      "    edge_weight = float(graph.edge_weight((current_node, nodes[j])))\n",
      "  File \"/home/operti/miniconda3/envs/frontiers/lib/python3.8/site-packages/summa/pagerank_weighted.py\", line 42, in pagerank_weighted_scipy\n",
      "    adjacency_matrix = build_adjacency_matrix(graph)\n",
      "  File \"/home/operti/miniconda3/envs/frontiers/lib/python3.8/site-packages/summa/pagerank_weighted.py\", line 62, in build_adjacency_matrix\n",
      "    if i != j and edge_weight != 0:\n",
      "  File \"/home/operti/miniconda3/envs/frontiers/lib/python3.8/site-packages/summa/graph.py\", line 160, in edge_weight\n",
      "    return self.get_edge_properties( edge ).setdefault( self.WEIGHT_ATTRIBUTE_NAME, self.DEFAULT_WEIGHT )\n",
      "  File \"/home/operti/miniconda3/envs/frontiers/lib/python3.8/site-packages/summa/graph.py\", line 204, in get_edge_properties\n",
      "    return self.edge_properties.setdefault( edge, {} )\n",
      "KeyboardInterrupt\n",
      "  File \"/home/operti/miniconda3/envs/frontiers/lib/python3.8/site-packages/summa/pagerank_weighted.py\", line 61, in build_adjacency_matrix\n",
      "    edge_weight = float(graph.edge_weight((current_node, nodes[j])))\n",
      "  File \"/home/operti/miniconda3/envs/frontiers/lib/python3.8/site-packages/summa/graph.py\", line 160, in edge_weight\n",
      "    return self.get_edge_properties( edge ).setdefault( self.WEIGHT_ATTRIBUTE_NAME, self.DEFAULT_WEIGHT )\n",
      "  File \"/home/operti/miniconda3/envs/frontiers/lib/python3.8/site-packages/summa/graph.py\", line 204, in get_edge_properties\n",
      "    return self.edge_properties.setdefault( edge, {} )\n",
      "KeyboardInterrupt\n",
      "KeyboardInterrupt\n",
      "Process ForkPoolWorker-14:\n"
     ]
    }
   ],
   "source": [
    "from summa import keywords\n",
    "from pandarallel import pandarallel\n",
    "\n",
    "\n",
    "def get_keywords_from_textrank(text):\n",
    "    TR_keywords = keywords.keywords(text, scores=True)\n",
    "    return [key[0] for key in TR_keywords[0:5]]\n",
    "\n",
    "pandarallel.initialize(nb_workers=8,progress_bar=True)\n",
    "\n",
    "df_train[\"preprocessed_text\"].parallel_apply(get_keywords_from_textrank)"
   ]
  },
  {
   "cell_type": "code",
   "execution_count": 220,
   "id": "545b6ee2",
   "metadata": {},
   "outputs": [
    {
     "data": {
      "text/plain": [
       "'Frontiers in Psychology'"
      ]
     },
     "execution_count": 220,
     "metadata": {},
     "output_type": "execute_result"
    }
   ],
   "source": [
    "df[\"journal\"][index]"
   ]
  },
  {
   "cell_type": "markdown",
   "id": "f83a6940",
   "metadata": {},
   "source": [
    "# SPACY word2vec (keywords)\n",
    "https://spacy.io/usage/linguistic-features/#vectors-similarity"
   ]
  },
  {
   "cell_type": "code",
   "execution_count": 19,
   "id": "c59e9d7a",
   "metadata": {},
   "outputs": [],
   "source": [
    "import spacy\n",
    "nlp = spacy.load(\"en_core_web_lg\")"
   ]
  },
  {
   "cell_type": "code",
   "execution_count": 20,
   "id": "5ba7e074",
   "metadata": {},
   "outputs": [
    {
     "data": {
      "text/html": [
       "<div>\n",
       "<style scoped>\n",
       "    .dataframe tbody tr th:only-of-type {\n",
       "        vertical-align: middle;\n",
       "    }\n",
       "\n",
       "    .dataframe tbody tr th {\n",
       "        vertical-align: top;\n",
       "    }\n",
       "\n",
       "    .dataframe thead th {\n",
       "        text-align: right;\n",
       "    }\n",
       "</style>\n",
       "<table border=\"1\" class=\"dataframe\">\n",
       "  <thead>\n",
       "    <tr style=\"text-align: right;\">\n",
       "      <th></th>\n",
       "      <th>id</th>\n",
       "      <th>text</th>\n",
       "      <th>journal</th>\n",
       "      <th>keywords</th>\n",
       "      <th>keywords_len</th>\n",
       "      <th>preprocessed_text</th>\n",
       "    </tr>\n",
       "  </thead>\n",
       "  <tbody>\n",
       "    <tr>\n",
       "      <th>0</th>\n",
       "      <td>465950</td>\n",
       "      <td>\\n Sleep Characteristics and Influencing Facto...</td>\n",
       "      <td>Frontiers in Medicine</td>\n",
       "      <td>[inflammatory bowel disease, arthritis, sleep ...</td>\n",
       "      <td>5</td>\n",
       "      <td>sleep characteristics influencing factors slee...</td>\n",
       "    </tr>\n",
       "    <tr>\n",
       "      <th>1</th>\n",
       "      <td>483526</td>\n",
       "      <td>A Hybrid Approach for Modeling Type 2 Diabetes...</td>\n",
       "      <td>Frontiers in Genetics</td>\n",
       "      <td>[type 2 diabetes mellitus, machine learning, h...</td>\n",
       "      <td>6</td>\n",
       "      <td>hybrid approach modeling type diabetes mellitu...</td>\n",
       "    </tr>\n",
       "  </tbody>\n",
       "</table>\n",
       "</div>"
      ],
      "text/plain": [
       "       id                                               text  \\\n",
       "0  465950  \\n Sleep Characteristics and Influencing Facto...   \n",
       "1  483526  A Hybrid Approach for Modeling Type 2 Diabetes...   \n",
       "\n",
       "                 journal                                           keywords  \\\n",
       "0  Frontiers in Medicine  [inflammatory bowel disease, arthritis, sleep ...   \n",
       "1  Frontiers in Genetics  [type 2 diabetes mellitus, machine learning, h...   \n",
       "\n",
       "   keywords_len                                  preprocessed_text  \n",
       "0             5  sleep characteristics influencing factors slee...  \n",
       "1             6  hybrid approach modeling type diabetes mellitu...  "
      ]
     },
     "execution_count": 20,
     "metadata": {},
     "output_type": "execute_result"
    }
   ],
   "source": [
    "df.head(2)"
   ]
  },
  {
   "cell_type": "code",
   "execution_count": 17,
   "id": "1ec84fe0",
   "metadata": {},
   "outputs": [
    {
     "data": {
      "text/plain": [
       "array([1., 3.])"
      ]
     },
     "execution_count": 17,
     "metadata": {},
     "output_type": "execute_result"
    }
   ],
   "source": [
    "import numpy as np\n",
    "np.array([[1,2],[1,4]]).mean(axis=0)"
   ]
  },
  {
   "cell_type": "code",
   "execution_count": 149,
   "id": "adb4c8ac",
   "metadata": {},
   "outputs": [],
   "source": [
    "def get_embeddings_keyword(list_of_keywords):\n",
    "    vectors = []\n",
    "    for key in list_of_keywords:\n",
    "        key_doc = nlp(key)\n",
    "        vectors.append(key_doc.vector)\n",
    "    return np.array(vectors).mean(axis=0)"
   ]
  },
  {
   "cell_type": "code",
   "execution_count": 46,
   "id": "6c7931d4",
   "metadata": {},
   "outputs": [
    {
     "name": "stdout",
     "output_type": "stream",
     "text": [
      "INFO: Pandarallel will run on 4 workers.\n",
      "INFO: Pandarallel will use Memory file system to transfer data between the main process and workers.\n"
     ]
    },
    {
     "data": {
      "application/vnd.jupyter.widget-view+json": {
       "model_id": "8fc2a04b66554cf4a9227cf107703a1f",
       "version_major": 2,
       "version_minor": 0
      },
      "text/plain": [
       "VBox(children=(HBox(children=(IntProgress(value=0, description='0.00%', max=632), Label(value='0 / 632'))), HB…"
      ]
     },
     "metadata": {},
     "output_type": "display_data"
    }
   ],
   "source": [
    "from pandarallel import pandarallel\n",
    "\n",
    "pandarallel.initialize(nb_workers=7,progress_bar=True)\n",
    "\n",
    "df[\"keywords_embeddings\"] = df[\"keywords\"].parallel_apply(get_embeddings_keyword)"
   ]
  },
  {
   "cell_type": "code",
   "execution_count": 101,
   "id": "fc57395e",
   "metadata": {},
   "outputs": [
    {
     "data": {
      "text/html": [
       "<div>\n",
       "<style scoped>\n",
       "    .dataframe tbody tr th:only-of-type {\n",
       "        vertical-align: middle;\n",
       "    }\n",
       "\n",
       "    .dataframe tbody tr th {\n",
       "        vertical-align: top;\n",
       "    }\n",
       "\n",
       "    .dataframe thead th {\n",
       "        text-align: right;\n",
       "    }\n",
       "</style>\n",
       "<table border=\"1\" class=\"dataframe\">\n",
       "  <thead>\n",
       "    <tr style=\"text-align: right;\">\n",
       "      <th></th>\n",
       "      <th>journal</th>\n",
       "      <th>keywords_embeddings</th>\n",
       "    </tr>\n",
       "  </thead>\n",
       "  <tbody>\n",
       "    <tr>\n",
       "      <th>0</th>\n",
       "      <td>Frontiers for Young Minds</td>\n",
       "      <td>[-0.07116392, 0.15114562, -0.11049343, -0.0755...</td>\n",
       "    </tr>\n",
       "    <tr>\n",
       "      <th>1</th>\n",
       "      <td>Frontiers in Aging Neuroscience</td>\n",
       "      <td>[-0.048097316, 0.1325472, -0.0554827, -0.03627...</td>\n",
       "    </tr>\n",
       "    <tr>\n",
       "      <th>2</th>\n",
       "      <td>Frontiers in Agronomy</td>\n",
       "      <td>[-0.43071333, 0.27597216, 0.03861053, -0.38834...</td>\n",
       "    </tr>\n",
       "    <tr>\n",
       "      <th>3</th>\n",
       "      <td>Frontiers in Applied Mathematics and Statistics</td>\n",
       "      <td>[-0.25631008, 0.21899977, -0.047217213, 0.0342...</td>\n",
       "    </tr>\n",
       "    <tr>\n",
       "      <th>4</th>\n",
       "      <td>Frontiers in Artificial Intelligence</td>\n",
       "      <td>[-0.1045075, 0.19754782, 0.008936133, 0.026789...</td>\n",
       "    </tr>\n",
       "    <tr>\n",
       "      <th>...</th>\n",
       "      <td>...</td>\n",
       "      <td>...</td>\n",
       "    </tr>\n",
       "    <tr>\n",
       "      <th>59</th>\n",
       "      <td>Frontiers in Surgery</td>\n",
       "      <td>[-0.13345355, 0.1275831, -0.053415906, 0.15579...</td>\n",
       "    </tr>\n",
       "    <tr>\n",
       "      <th>60</th>\n",
       "      <td>Frontiers in Sustainable Food Systems</td>\n",
       "      <td>[-0.24585603, 0.19002391, -0.017854257, -0.119...</td>\n",
       "    </tr>\n",
       "    <tr>\n",
       "      <th>61</th>\n",
       "      <td>Frontiers in Synaptic Neuroscience</td>\n",
       "      <td>[0.18620527, 0.04562223, -0.18779495, -0.02507...</td>\n",
       "    </tr>\n",
       "    <tr>\n",
       "      <th>62</th>\n",
       "      <td>Frontiers in Systems Neuroscience</td>\n",
       "      <td>[0.07675902, 0.17128514, -0.13052903, 0.043196...</td>\n",
       "    </tr>\n",
       "    <tr>\n",
       "      <th>63</th>\n",
       "      <td>Frontiers in Veterinary Science</td>\n",
       "      <td>[-0.23129673, 0.16602705, -0.028538805, -0.040...</td>\n",
       "    </tr>\n",
       "  </tbody>\n",
       "</table>\n",
       "<p>64 rows × 2 columns</p>\n",
       "</div>"
      ],
      "text/plain": [
       "                                            journal  \\\n",
       "0                         Frontiers for Young Minds   \n",
       "1                   Frontiers in Aging Neuroscience   \n",
       "2                             Frontiers in Agronomy   \n",
       "3   Frontiers in Applied Mathematics and Statistics   \n",
       "4              Frontiers in Artificial Intelligence   \n",
       "..                                              ...   \n",
       "59                             Frontiers in Surgery   \n",
       "60            Frontiers in Sustainable Food Systems   \n",
       "61               Frontiers in Synaptic Neuroscience   \n",
       "62                Frontiers in Systems Neuroscience   \n",
       "63                  Frontiers in Veterinary Science   \n",
       "\n",
       "                                  keywords_embeddings  \n",
       "0   [-0.07116392, 0.15114562, -0.11049343, -0.0755...  \n",
       "1   [-0.048097316, 0.1325472, -0.0554827, -0.03627...  \n",
       "2   [-0.43071333, 0.27597216, 0.03861053, -0.38834...  \n",
       "3   [-0.25631008, 0.21899977, -0.047217213, 0.0342...  \n",
       "4   [-0.1045075, 0.19754782, 0.008936133, 0.026789...  \n",
       "..                                                ...  \n",
       "59  [-0.13345355, 0.1275831, -0.053415906, 0.15579...  \n",
       "60  [-0.24585603, 0.19002391, -0.017854257, -0.119...  \n",
       "61  [0.18620527, 0.04562223, -0.18779495, -0.02507...  \n",
       "62  [0.07675902, 0.17128514, -0.13052903, 0.043196...  \n",
       "63  [-0.23129673, 0.16602705, -0.028538805, -0.040...  \n",
       "\n",
       "[64 rows x 2 columns]"
      ]
     },
     "execution_count": 101,
     "metadata": {},
     "output_type": "execute_result"
    }
   ],
   "source": [
    "journal_embeddings = df.groupby([\"journal\"])[\"keywords_embeddings\"].mean().to_frame().reset_index()\n",
    "journal_embeddings"
   ]
  },
  {
   "cell_type": "code",
   "execution_count": 102,
   "id": "c173508b",
   "metadata": {
    "scrolled": true
   },
   "outputs": [
    {
     "data": {
      "text/html": [
       "<div>\n",
       "<style scoped>\n",
       "    .dataframe tbody tr th:only-of-type {\n",
       "        vertical-align: middle;\n",
       "    }\n",
       "\n",
       "    .dataframe tbody tr th {\n",
       "        vertical-align: top;\n",
       "    }\n",
       "\n",
       "    .dataframe thead th {\n",
       "        text-align: right;\n",
       "    }\n",
       "</style>\n",
       "<table border=\"1\" class=\"dataframe\">\n",
       "  <thead>\n",
       "    <tr style=\"text-align: right;\">\n",
       "      <th></th>\n",
       "      <th>id</th>\n",
       "      <th>text</th>\n",
       "      <th>journal</th>\n",
       "      <th>keywords</th>\n",
       "      <th>keywords_len</th>\n",
       "      <th>preprocessed_text</th>\n",
       "      <th>keywords_embeddings</th>\n",
       "    </tr>\n",
       "  </thead>\n",
       "  <tbody>\n",
       "    <tr>\n",
       "      <th>0</th>\n",
       "      <td>465950</td>\n",
       "      <td>\\n Sleep Characteristics and Influencing Facto...</td>\n",
       "      <td>Frontiers in Medicine</td>\n",
       "      <td>[inflammatory bowel disease, arthritis, sleep ...</td>\n",
       "      <td>5</td>\n",
       "      <td>sleep characteristics influencing factors slee...</td>\n",
       "      <td>[-0.19882119, 0.32291594, -0.27029547, -0.0390...</td>\n",
       "    </tr>\n",
       "    <tr>\n",
       "      <th>1</th>\n",
       "      <td>483526</td>\n",
       "      <td>A Hybrid Approach for Modeling Type 2 Diabetes...</td>\n",
       "      <td>Frontiers in Genetics</td>\n",
       "      <td>[type 2 diabetes mellitus, machine learning, h...</td>\n",
       "      <td>6</td>\n",
       "      <td>hybrid approach modeling type diabetes mellitu...</td>\n",
       "      <td>[-0.17922127, 0.32079363, -0.09769386, 0.04941...</td>\n",
       "    </tr>\n",
       "  </tbody>\n",
       "</table>\n",
       "</div>"
      ],
      "text/plain": [
       "       id                                               text  \\\n",
       "0  465950  \\n Sleep Characteristics and Influencing Facto...   \n",
       "1  483526  A Hybrid Approach for Modeling Type 2 Diabetes...   \n",
       "\n",
       "                 journal                                           keywords  \\\n",
       "0  Frontiers in Medicine  [inflammatory bowel disease, arthritis, sleep ...   \n",
       "1  Frontiers in Genetics  [type 2 diabetes mellitus, machine learning, h...   \n",
       "\n",
       "   keywords_len                                  preprocessed_text  \\\n",
       "0             5  sleep characteristics influencing factors slee...   \n",
       "1             6  hybrid approach modeling type diabetes mellitu...   \n",
       "\n",
       "                                 keywords_embeddings  \n",
       "0  [-0.19882119, 0.32291594, -0.27029547, -0.0390...  \n",
       "1  [-0.17922127, 0.32079363, -0.09769386, 0.04941...  "
      ]
     },
     "execution_count": 102,
     "metadata": {},
     "output_type": "execute_result"
    }
   ],
   "source": [
    "df.head(2)"
   ]
  },
  {
   "cell_type": "code",
   "execution_count": 146,
   "id": "b85a9de3",
   "metadata": {},
   "outputs": [
    {
     "data": {
      "text/plain": [
       "array([[0.50726074, 0.51568997, 0.5838501 , 0.557706  , 0.52329665,\n",
       "        0.5100353 , 0.538583  , 0.6287531 , 0.59479153, 0.35973155,\n",
       "        0.6436441 , 0.44694018, 0.47793683, 0.43849185, 0.53674054,\n",
       "        0.59000784, 0.42205784, 0.55904466, 0.40350667, 0.7730214 ,\n",
       "        0.7905419 , 0.50404793, 0.5031027 , 0.5991471 , 0.7571712 ,\n",
       "        0.8507979 , 0.5893229 , 0.44723868, 0.56165195, 0.48336497,\n",
       "        0.53922653, 0.78621066, 0.5424148 , 0.59364027, 0.4107512 ,\n",
       "        0.54840195, 0.61265206, 0.55753666, 0.49499887, 0.4542924 ,\n",
       "        0.38982505, 0.5239486 , 0.51916605, 0.5263492 , 0.56998134,\n",
       "        0.56746614, 0.4774621 , 0.49184275, 0.52782094, 0.60036546,\n",
       "        0.571319  , 0.69894564, 0.5244699 , 0.5461649 , 0.5807305 ,\n",
       "        0.42773446, 0.524528  , 0.47397375, 0.51960313, 0.46375048,\n",
       "        0.75303113, 0.41075805, 0.5034278 , 0.57995033]], dtype=float32)"
      ]
     },
     "execution_count": 146,
     "metadata": {},
     "output_type": "execute_result"
    }
   ],
   "source": [
    "from sklearn.metrics.pairwise import cosine_similarity\n",
    "index = 14\n",
    "cosine_sim = cosine_similarity(df[\"keywords_embeddings\"][index].reshape(1,-1), np.stack(journal_embeddings[\"keywords_embeddings\"].values))\n",
    "cosine_sim"
   ]
  },
  {
   "cell_type": "code",
   "execution_count": 147,
   "id": "64385261",
   "metadata": {},
   "outputs": [
    {
     "data": {
      "text/plain": [
       "array([25, 20, 31])"
      ]
     },
     "execution_count": 147,
     "metadata": {},
     "output_type": "execute_result"
    }
   ],
   "source": [
    "idx = (-cosine_sim[0]).argsort()[:3]\n",
    "idx"
   ]
  },
  {
   "cell_type": "code",
   "execution_count": 148,
   "id": "19c04671",
   "metadata": {},
   "outputs": [
    {
     "data": {
      "text/plain": [
       "('Frontiers in Ecology and Evolution',\n",
       " 'Frontiers in Forests and Global Change',\n",
       " 'Frontiers in Ecology and Evolution',\n",
       " 'Frontiers in Marine Science')"
      ]
     },
     "execution_count": 148,
     "metadata": {},
     "output_type": "execute_result"
    }
   ],
   "source": [
    "df[\"journal\"][index], journal_embeddings[\"journal\"][idx[0]], journal_embeddings[\"journal\"][idx[1]], journal_embeddings[\"journal\"][idx[2]] "
   ]
  },
  {
   "cell_type": "code",
   "execution_count": 194,
   "id": "b840f9d1",
   "metadata": {},
   "outputs": [
    {
     "data": {
      "text/plain": [
       "('Frontiers in Sociology',\n",
       " 'Frontiers in Public Health',\n",
       " 'Frontiers in Environmental Science')"
      ]
     },
     "execution_count": 194,
     "metadata": {},
     "output_type": "execute_result"
    }
   ],
   "source": [
    "# custom test\n",
    "keywords_embeddings_test = get_embeddings_keyword([ \"physics of cities\", \"census\", \"racial residential segregation\", \"gentrification\", \"city clustering algorithm\"])\n",
    "cosine_sim = cosine_similarity(keywords_embeddings_test.reshape(1,-1), np.stack(journal_embeddings[\"keywords_embeddings\"].values))\n",
    "idx = (-cosine_sim[0]).argsort()[:3]\n",
    "journal_embeddings[\"journal\"][idx[0]], journal_embeddings[\"journal\"][idx[1]], journal_embeddings[\"journal\"][idx[2]]"
   ]
  },
  {
   "cell_type": "markdown",
   "id": "6b45e278",
   "metadata": {},
   "source": [
    "# SPACY word2vec (whole document)"
   ]
  },
  {
   "cell_type": "code",
   "execution_count": 156,
   "id": "282527a8",
   "metadata": {},
   "outputs": [],
   "source": [
    "def get_document_embedding(text):\n",
    "    doc = nlp(text)\n",
    "    return doc.vector"
   ]
  },
  {
   "cell_type": "code",
   "execution_count": 159,
   "id": "930542bc",
   "metadata": {},
   "outputs": [
    {
     "name": "stdout",
     "output_type": "stream",
     "text": [
      "INFO: Pandarallel will run on 7 workers.\n",
      "INFO: Pandarallel will use Memory file system to transfer data between the main process and workers.\n"
     ]
    },
    {
     "data": {
      "application/vnd.jupyter.widget-view+json": {
       "model_id": "b680b251ed994a128946d335d438d9ac",
       "version_major": 2,
       "version_minor": 0
      },
      "text/plain": [
       "VBox(children=(HBox(children=(IntProgress(value=0, description='0.00%', max=362), Label(value='0 / 362'))), HB…"
      ]
     },
     "metadata": {},
     "output_type": "display_data"
    }
   ],
   "source": [
    "pandarallel.initialize(nb_workers=7,progress_bar=True)\n",
    "\n",
    "df[\"embeddings_preproceed_text\"] = df[\"preprocessed_text\"].parallel_apply(get_document_embedding)"
   ]
  },
  {
   "cell_type": "code",
   "execution_count": 160,
   "id": "c3c224d7",
   "metadata": {},
   "outputs": [],
   "source": [
    "journal_embeddings_whole_text = df.groupby([\"journal\"])[\"embeddings_preproceed_text\"].mean().to_frame().reset_index()\n"
   ]
  },
  {
   "cell_type": "code",
   "execution_count": 161,
   "id": "1d17aa54",
   "metadata": {},
   "outputs": [
    {
     "data": {
      "text/html": [
       "<div>\n",
       "<style scoped>\n",
       "    .dataframe tbody tr th:only-of-type {\n",
       "        vertical-align: middle;\n",
       "    }\n",
       "\n",
       "    .dataframe tbody tr th {\n",
       "        vertical-align: top;\n",
       "    }\n",
       "\n",
       "    .dataframe thead th {\n",
       "        text-align: right;\n",
       "    }\n",
       "</style>\n",
       "<table border=\"1\" class=\"dataframe\">\n",
       "  <thead>\n",
       "    <tr style=\"text-align: right;\">\n",
       "      <th></th>\n",
       "      <th>id</th>\n",
       "      <th>text</th>\n",
       "      <th>journal</th>\n",
       "      <th>keywords</th>\n",
       "      <th>keywords_len</th>\n",
       "      <th>preprocessed_text</th>\n",
       "      <th>keywords_embeddings</th>\n",
       "      <th>embeddings_preproceed_text</th>\n",
       "    </tr>\n",
       "  </thead>\n",
       "  <tbody>\n",
       "    <tr>\n",
       "      <th>0</th>\n",
       "      <td>465950</td>\n",
       "      <td>\\n Sleep Characteristics and Influencing Facto...</td>\n",
       "      <td>Frontiers in Medicine</td>\n",
       "      <td>[inflammatory bowel disease, arthritis, sleep ...</td>\n",
       "      <td>5</td>\n",
       "      <td>sleep characteristics influencing factors slee...</td>\n",
       "      <td>[-0.19882119, 0.32291594, -0.27029547, -0.0390...</td>\n",
       "      <td>[-0.14144625, 0.19849797, -0.13403033, 0.05077...</td>\n",
       "    </tr>\n",
       "    <tr>\n",
       "      <th>1</th>\n",
       "      <td>483526</td>\n",
       "      <td>A Hybrid Approach for Modeling Type 2 Diabetes...</td>\n",
       "      <td>Frontiers in Genetics</td>\n",
       "      <td>[type 2 diabetes mellitus, machine learning, h...</td>\n",
       "      <td>6</td>\n",
       "      <td>hybrid approach modeling type diabetes mellitu...</td>\n",
       "      <td>[-0.17922127, 0.32079363, -0.09769386, 0.04941...</td>\n",
       "      <td>[-0.1051252, 0.16541193, -0.067528166, 0.01435...</td>\n",
       "    </tr>\n",
       "    <tr>\n",
       "      <th>2</th>\n",
       "      <td>482500</td>\n",
       "      <td>\\n Relationship Between SES and Academic Achie...</td>\n",
       "      <td>Frontiers in Psychology</td>\n",
       "      <td>[socioeconomic status, self-concept, school ac...</td>\n",
       "      <td>5</td>\n",
       "      <td>relationship academic achievement junior high ...</td>\n",
       "      <td>[-0.13371883, 0.17204794, -0.029828792, -0.094...</td>\n",
       "      <td>[-0.096085764, 0.15218453, -0.0245518, 0.01957...</td>\n",
       "    </tr>\n",
       "    <tr>\n",
       "      <th>3</th>\n",
       "      <td>437333</td>\n",
       "      <td>Environmental Health Research in Africa: Impor...</td>\n",
       "      <td>Frontiers in Genetics</td>\n",
       "      <td>[G x E, Africa, environmental, pesticides, met...</td>\n",
       "      <td>7</td>\n",
       "      <td>environmental health research africa important...</td>\n",
       "      <td>[-0.35752907, 0.31384423, -0.06836276, -0.0358...</td>\n",
       "      <td>[-0.09711438, 0.104003854, -0.022595188, 0.090...</td>\n",
       "    </tr>\n",
       "    <tr>\n",
       "      <th>4</th>\n",
       "      <td>486515</td>\n",
       "      <td>\\n 3,5-T2—A Janus-Faced Thyroid Hormone Metabo...</td>\n",
       "      <td>Frontiers in Endocrinology</td>\n",
       "      <td>[thyroid hormone, 3, 5-diiodothyronine, hypoth...</td>\n",
       "      <td>9</td>\n",
       "      <td>3,5-t2—a janus-faced thyroid hormone metabolit...</td>\n",
       "      <td>[-0.17045988, 0.22827056, -0.1552076, 0.135012...</td>\n",
       "      <td>[-0.08338285, 0.16250584, -0.11525327, 0.10031...</td>\n",
       "    </tr>\n",
       "  </tbody>\n",
       "</table>\n",
       "</div>"
      ],
      "text/plain": [
       "       id                                               text  \\\n",
       "0  465950  \\n Sleep Characteristics and Influencing Facto...   \n",
       "1  483526  A Hybrid Approach for Modeling Type 2 Diabetes...   \n",
       "2  482500  \\n Relationship Between SES and Academic Achie...   \n",
       "3  437333  Environmental Health Research in Africa: Impor...   \n",
       "4  486515  \\n 3,5-T2—A Janus-Faced Thyroid Hormone Metabo...   \n",
       "\n",
       "                      journal  \\\n",
       "0       Frontiers in Medicine   \n",
       "1       Frontiers in Genetics   \n",
       "2     Frontiers in Psychology   \n",
       "3       Frontiers in Genetics   \n",
       "4  Frontiers in Endocrinology   \n",
       "\n",
       "                                            keywords  keywords_len  \\\n",
       "0  [inflammatory bowel disease, arthritis, sleep ...             5   \n",
       "1  [type 2 diabetes mellitus, machine learning, h...             6   \n",
       "2  [socioeconomic status, self-concept, school ac...             5   \n",
       "3  [G x E, Africa, environmental, pesticides, met...             7   \n",
       "4  [thyroid hormone, 3, 5-diiodothyronine, hypoth...             9   \n",
       "\n",
       "                                   preprocessed_text  \\\n",
       "0  sleep characteristics influencing factors slee...   \n",
       "1  hybrid approach modeling type diabetes mellitu...   \n",
       "2  relationship academic achievement junior high ...   \n",
       "3  environmental health research africa important...   \n",
       "4  3,5-t2—a janus-faced thyroid hormone metabolit...   \n",
       "\n",
       "                                 keywords_embeddings  \\\n",
       "0  [-0.19882119, 0.32291594, -0.27029547, -0.0390...   \n",
       "1  [-0.17922127, 0.32079363, -0.09769386, 0.04941...   \n",
       "2  [-0.13371883, 0.17204794, -0.029828792, -0.094...   \n",
       "3  [-0.35752907, 0.31384423, -0.06836276, -0.0358...   \n",
       "4  [-0.17045988, 0.22827056, -0.1552076, 0.135012...   \n",
       "\n",
       "                          embeddings_preproceed_text  \n",
       "0  [-0.14144625, 0.19849797, -0.13403033, 0.05077...  \n",
       "1  [-0.1051252, 0.16541193, -0.067528166, 0.01435...  \n",
       "2  [-0.096085764, 0.15218453, -0.0245518, 0.01957...  \n",
       "3  [-0.09711438, 0.104003854, -0.022595188, 0.090...  \n",
       "4  [-0.08338285, 0.16250584, -0.11525327, 0.10031...  "
      ]
     },
     "execution_count": 161,
     "metadata": {},
     "output_type": "execute_result"
    }
   ],
   "source": [
    "df.head()"
   ]
  },
  {
   "cell_type": "code",
   "execution_count": 190,
   "id": "c72006ae",
   "metadata": {},
   "outputs": [
    {
     "data": {
      "text/plain": [
       "array([[0.82183737, 0.93559927, 0.7924809 , 0.8350165 , 0.9229171 ,\n",
       "        0.81971055, 0.9152569 , 0.8381097 , 0.9021582 , 0.78838116,\n",
       "        0.84372663, 0.9504678 , 0.90504014, 0.89830285, 0.9253841 ,\n",
       "        0.8487728 , 0.8124156 , 0.8661909 , 0.8246237 , 0.82364446,\n",
       "        0.8705696 , 0.8200557 , 0.95583075, 0.82003087, 0.8355962 ,\n",
       "        0.82864535, 0.9283372 , 0.8913353 , 0.8998831 , 0.9266007 ,\n",
       "        0.91021997, 0.8575944 , 0.8092152 , 0.8014112 , 0.88489   ,\n",
       "        0.959232  , 0.89950794, 0.89822936, 0.90245056, 0.8948908 ,\n",
       "        0.89706314, 0.88120764, 0.9492162 , 0.84284425, 0.9172355 ,\n",
       "        0.93018275, 0.96958315, 0.95373166, 0.941096  , 0.8392121 ,\n",
       "        0.9309617 , 0.8796777 , 0.9173789 , 0.876785  , 0.8931234 ,\n",
       "        0.82287395, 0.8310114 , 0.8216346 , 0.8807856 , 0.9470755 ,\n",
       "        0.82741493, 0.8697964 , 0.9003209 , 0.9350507 ]], dtype=float32)"
      ]
     },
     "execution_count": 190,
     "metadata": {},
     "output_type": "execute_result"
    }
   ],
   "source": [
    "index = 7\n",
    "cosine_sim = cosine_similarity(df[\"embeddings_preproceed_text\"][index].reshape(1,-1), np.stack(journal_embeddings_whole_text[\"embeddings_preproceed_text\"].values))\n",
    "cosine_sim"
   ]
  },
  {
   "cell_type": "code",
   "execution_count": 191,
   "id": "65a42040",
   "metadata": {},
   "outputs": [],
   "source": [
    "idx = (-cosine_sim[0]).argsort()[:3]"
   ]
  },
  {
   "cell_type": "code",
   "execution_count": 192,
   "id": "dc3aaeb0",
   "metadata": {},
   "outputs": [
    {
     "data": {
      "text/plain": [
       "('Frontiers in Medicine',\n",
       " 'Frontiers in Oncology',\n",
       " 'Frontiers in Medicine',\n",
       " 'Frontiers in Endocrinology')"
      ]
     },
     "execution_count": 192,
     "metadata": {},
     "output_type": "execute_result"
    }
   ],
   "source": [
    "df[\"journal\"][index], journal_embeddings_whole_text[\"journal\"][idx[0]], journal_embeddings_whole_text[\"journal\"][idx[1]], journal_embeddings_whole_text[\"journal\"][idx[2]] "
   ]
  },
  {
   "cell_type": "code",
   "execution_count": 193,
   "id": "374ae933",
   "metadata": {},
   "outputs": [
    {
     "data": {
      "text/plain": [
       "('Frontiers for Young Minds',\n",
       " 'Frontiers in Sociology',\n",
       " 'Frontiers in Public Health')"
      ]
     },
     "execution_count": 193,
     "metadata": {},
     "output_type": "execute_result"
    }
   ],
   "source": [
    "# Custom\n",
    "text = \"\"\"Racial residential segregation is interconnected with several other phenomena such as income inequalities, property values inequalities, and racial disparities in health and education. Furthermore, recent literature suggests the phenomenon of gentrification as a cause of perpetuation or increase of racial residential segregation in some American cities. In this paper, we analyze the dynamics of racial residential segregation for white, black, Asian, and Hispanic citizens in New York City in 1990, 2000, and 2010. It was possible to observe that segregation between white and Hispanic citizens and between white and Asian ones has grown, while segregation between white and black is relatively stable. Furthermore, we analyzed the per capita income and the Gini coefficient in each segregated zone, showing that the highest inequalities occur in the zones where there is an overlap of high-density zones of pair of races. Focusing on the changing of the density of population across the city during these 20 years, and by analyzing white and black people’s segregation, our analysis reveals that a positive flux of white (black) people is associated with a substantial increase (decrease) of the property values, as compared with the city mean. Furthermore, by clustering the region with the higher density of black citizens, we measured the variation of area and displacement of the four most significant clusters from 1990 to 2010. The large displacements (≈1.6km) observed for two of these clusters, namely, one in the neighborhood of Harlem and the other inside the borough of Brooklyn, led to the emergence of typically gentrified regions.\"\"\"\n",
    "document_embeddings_test = get_document_embedding(text)\n",
    "cosine_sim = cosine_similarity(document_embeddings_test.reshape(1,-1), np.stack(journal_embeddings_whole_text[\"embeddings_preproceed_text\"].values))\n",
    "idx = (-cosine_sim[0]).argsort()[:3]\n",
    "journal_embeddings_whole_text[\"journal\"][idx[0]], journal_embeddings_whole_text[\"journal\"][idx[1]], journal_embeddings_whole_text[\"journal\"][idx[2]]"
   ]
  },
  {
   "cell_type": "markdown",
   "id": "7163c83d",
   "metadata": {},
   "source": [
    "# Sentence Transformers BERT (only keywords)"
   ]
  },
  {
   "cell_type": "markdown",
   "id": "4efcbdc1",
   "metadata": {},
   "source": [
    "# Sentence Transformers with SciBERT  (only keywords)\n"
   ]
  },
  {
   "cell_type": "markdown",
   "id": "a9ab0dad",
   "metadata": {},
   "source": [
    "# Sentence Transformers BERT (whole document)\n",
    "\n",
    "Only feaseable with GPU"
   ]
  },
  {
   "cell_type": "markdown",
   "id": "e07919f2",
   "metadata": {},
   "source": [
    "# Sentence Transformers with SciBERT  (whole document)\n",
    "\n",
    "Only feaseable with GPU"
   ]
  },
  {
   "cell_type": "code",
   "execution_count": 6,
   "id": "abd3e55f",
   "metadata": {
    "scrolled": true
   },
   "outputs": [
    {
     "name": "stderr",
     "output_type": "stream",
     "text": [
      "Some weights of the model checkpoint at allenai/scibert_scivocab_uncased were not used when initializing BertModel: ['cls.predictions.transform.dense.weight', 'cls.predictions.transform.LayerNorm.weight', 'cls.predictions.decoder.bias', 'cls.predictions.decoder.weight', 'cls.predictions.transform.dense.bias', 'cls.predictions.transform.LayerNorm.bias', 'cls.seq_relationship.bias', 'cls.seq_relationship.weight', 'cls.predictions.bias']\n",
      "- This IS expected if you are initializing BertModel from the checkpoint of a model trained on another task or with another architecture (e.g. initializing a BertForSequenceClassification model from a BertForPreTraining model).\n",
      "- This IS NOT expected if you are initializing BertModel from the checkpoint of a model that you expect to be exactly identical (initializing a BertForSequenceClassification model from a BertForSequenceClassification model).\n"
     ]
    }
   ],
   "source": [
    "from sentence_transformers import SentenceTransformer, models\n",
    "from torch import nn\n",
    "\n",
    "word_embedding_model = models.Transformer('allenai/scibert_scivocab_uncased', max_seq_length=256)\n",
    "pooling_model = models.Pooling(word_embedding_model.get_word_embedding_dimension())\n",
    "dense_model = models.Dense(in_features=pooling_model.get_sentence_embedding_dimension(), out_features=256, activation_function=nn.Tanh())\n",
    "\n",
    "model = SentenceTransformer(modules=[word_embedding_model, pooling_model, dense_model])"
   ]
  },
  {
   "cell_type": "code",
   "execution_count": 15,
   "id": "d9e3c97e",
   "metadata": {},
   "outputs": [
    {
     "data": {
      "text/plain": [
       "['\\n Sleep Characteristics and Influencing Factors of Sleep Quality in Patients With Inflammatory Bowel Disease-Peripheral Arthritis \\n \\n Yin Zhang 1 † ,  Bin Pi 2 † ‡ ,  Xianlin Xu 1 ,  Ying Li 3 ,  Xiangfan Chen 3 ,  Ningxi Yang 4 *  and  Xiaoyan Li 3 \\n \\n 1 Department of Gastroenterology, Huiyang Sanhe Hospital, Huizhou, China \\n 2 Department of Orthopedics, Fifth Affiliated Hospital, Guangzhou Medical University, Guangzhou, China \\n 3 School of Health Science, Wuhan University, Wuhan, China \\n 4 College of Humanities and Social Sciences, Harbin Engineering University, Harbin, China \\n \\n Background:  Patients with inflammatory bowel disease-peripheral arthritis (IBD-PA) often accompany by sleep problems, but few studies have used polysomnography to investigate the objective sleep characteristics of IBD-PA',\n",
       " '\\n Methods:  Patients in IBD-PA group, inflammatory bowel disease (IBD) group, healthy control (HC) group were examined by polysomnography (PSG) and the sleep characteristics were compared',\n",
       " 'PSG and Pittsburgh Sleep Quality Scale (PSQI) indices were compared between active and remission IBD-PA patients',\n",
       " 'The correlation between disease activity and sleep quality in IBD-PA patients was analyzed',\n",
       " 'The influencing factors of sleep efficiency of IBD-PA patients were analyzed',\n",
       " '\\n Results:  The total sleep time (TST), rapid-eye-movement sleep (REM) time, slow wave sleep (S3 + S4) and sleep efficiency (SE) in the IBD-PA group were significantly less than those in the HC group and IBD group ( P  < 0.05), while the number and time of wake after sleep onset (WASO) and sleep latency (SL) were significantly longer than those in the HC group and IBD group ( P  < 0.05)',\n",
       " 'To IBD-PA patients, the disease activity was negatively related to sleep quality',\n",
       " 'There was a significant difference in SE, the number of WASO, S1, S3+S4 of PSG, as well as the PSQI total score between active and remission patients',\n",
       " 'Abdominal pain, joint pain, depression, and C-reactive protein were the influencing factors of sleep efficiency',\n",
       " '\\n Conclusions:  The sleep quality of patients with IBD was poor than the control group, and that of patients with IBD-PA was even worse',\n",
       " 'Therefore, sleep management should be included in IBD management',\n",
       " \"\\n \\n \\n \\n Introduction \\n Inflammatory bowel diseases (IBD) include ulcerative colitis (UC) and Crohn's disease\",\n",
       " 'IBD is a non-specific, recurrent intestinal inflammatory disease involving all segments of the digestive tract ( 1 )',\n",
       " 'Inflammatory bowel disease-peripheral arthritis (IBD-PA) is an arthritis associated with IBD, which is the most common parenteral manifestation of IBD',\n",
       " 'About 15–20% of patients with IBD may have arthralgia or arthritis',\n",
       " 'IBD-PA belongs to reactive arthritis and the diseases involve peripheral joint and axial joint',\n",
       " 'It can involve not only peripheral joints which leads to pain and swelling in knee, ankle, shoulder, elbow, and wrist joints, but also may involve medial axis joints, which can cause sacroiliac arthritis and hip joint involvement',\n",
       " 'A few patients can develop ankylosing spondylitis',\n",
       " 'Among them, peripheral arthritis is the most common, and major joints of lower limbs such as knee, ankle, and foot are the most common involve ( 2 – 4 )',\n",
       " '\\n For patients with IBD, they not only suffer physical discomfort, but also often accompanied by depression, anxiety, pain, sleep disorders, and other mental and psychological problems ( 5 – 7 )',\n",
       " 'Good sleep is a necessary condition for maintaining good health',\n",
       " 'Previous studies have found that patients with IBD have a higher incidence of sleep disorders ( 8 )',\n",
       " 'For patients with IBD-PA, they often face more serious sleep problems because of joint symptoms',\n",
       " '\\n Sleep plays an important role in patients with IBD',\n",
       " 'Previous studies have confirmed that good sleep can help reduce fatigue, improve quality of life and alleviate gastrointestinal symptoms in patients with IBD ( 9 ,  10 )',\n",
       " 'In IBD patients, the relationship between sleep, and mucosal activity and recurrence has been confirmed ( 11 ,  12 )',\n",
       " 'Therefore, it is very important to know the sleep status of patients, which will help provide the basis for further sleep intervention in the future, and help patients improve the treatment effect ultimately',\n",
       " 'Because of the high incidence of the disease in Western countries, the psychological and behavioral research of patients is relatively mature',\n",
       " 'In recent years, the incidence of IBD has increased in China and other Asian countries, but the related psychiatric research is less ( 13 )',\n",
       " 'Most of the previous studies used scales such as Pittsburgh Sleep Quality Scale (PSQI) to measure subjective sleep quality in patients with IBD ( 14 )',\n",
       " 'They confirmed IBD patients suffered poor sleep quality',\n",
       " 'For example, Sisson reported the mean PSQI was 9.6 in IBD patients ( 15 )',\n",
       " 'Bucci found the 41.4% of CD patients and 31.6% of UC patients reported the PSQI score over 5 ( 9 )',\n",
       " 'In a study involving 120 Chinese patients, researchers found their average PSQI score was 8.07 ± 2.91',\n",
       " 'Specifically, the sleep subjective quality score was 1.54 ± 0.66, the sleep latency score was 1.62 ± 0.74, the sleep duration score was 1.16 ± 0.71, the habitual sleep efficiency score was 0.89 ± 0.63, the sleep disturbances score was 1.10 ± 0.42, the use of sleeping medications score was 0.17 ± 0.37, and the daytime dysfunction score was 1.59 ± 0.76 ( 16 )',\n",
       " 'Although several researches have reported the sleep status of patients with IBD, the study of patients with IBD-PA and research on objective sleep quality are very limited',\n",
       " 'As an objective tool, PSG plays an important role in understanding the sleep parameters and structure of patients',\n",
       " 'In this study, sleep characteristics of Chinese patients with IBD-PA and IBD were measured by both polysomnography (PSG) and PSQI',\n",
       " 'Then the influencing factors of sleep quality of patients with IBD-PA were analyzed',\n",
       " '\\n Materials and Methods \\n In this study, the sample size of this study was calculated according to the following sample size formula: \\n n = λ 2 [ sin − 1 ( p max ) 1 / 2 − sin − 1 ( p min ) 1 / 2 ] 2 \\n According to the former literature ( 17 ), p max  = 0.82, p min  = 0.51, α = 0.05, β = 0.1, ν =  k -1 = 3–1 = 2, λ 0.05, 0.1;2  = 12.65',\n",
       " 'The results was  n  = 87 in each group',\n",
       " 'Therefore, between June 2018 and July 2019, 120 patients with IBD and 120 patients with IBD-PA were recruited through snowball and online recruitment, and 120 healthy persons were selected as control group',\n",
       " 'The patients met the predetermined criteria for eligibility: (1) Each patient was diagnosed with IBD or IBD-PA',\n",
       " 'For IBD-PA, patients with peripheral arthritis were enrolled',\n",
       " 'They knew their diagnosis and were able to provide informed consent and complete all questionnaires with full awareness of their diagnosis',\n",
       " '(2) Each patient was age between 18 and 70',\n",
       " '(3) Each patient had clear thinking and no cognitive impairment',\n",
       " '(4) They were being hospitalized and the prescription may be mercaptopurine/azathioprine and/or mesalamine according to their condition',\n",
       " \"Exclusion criteria were as follows: Patients who suffer from other diseases that may affect the evaluation of the scale, such as other joint diseases, skin itching, cancer, severe infection, acute cardiovascular and cerebrovascular diseases, encephalopathy such as Parkinson's and epilepsy, schizophrenia and other mental diseases, severe respiratory, and liver and kidney diseases affecting sleep, prostate diseases causing frequent nocturia, etc\",\n",
       " 'The exclusion criteria of the control group were the same as those of the patients with IBD',\n",
       " '\\n Procedures \\n Firstly, PSG was used to monitor the sleep of three groups for two nights, and the data of the second night were analyzed to minimize the changes of sleep habits caused by environmental changes',\n",
       " 'At the same time, three groups of subjects were surveyed by PSQI questionnaire',\n",
       " 'Then the PSG parameters and PSQI scores of the three groups were compared',\n",
       " 'PSG and PSQI indices were compared between active and remission IBD-PA patients',\n",
       " 'The correlation between disease activity and sleep quality in IBD-PA patients was analyzed',\n",
       " 'Finally, because sleep efficiency is an important indicator of sleep quality, so we set it as the dependent variable, and analyzed the influencing factors of it',\n",
       " '\\n Measures   Essential Information \\n In the questionnaire, we designed the essential information section',\n",
       " 'This section included sociol-demographic information, such as age, sex, marital status, educational background, working situation, etc',\n",
       " '\\n Disease and Treatment Condition \\n For the patient group, disease activity, disease type, course of disease, medication, perianal disease, disease extension, and nocturnal gastrointestinal symptoms were investigated',\n",
       " 'The diagnosis of IBD or IBD-PA was verified through chart review, which was provided by the patients',\n",
       " \"\\n Depressive Mood \\n Zung's self-rating depression scale (SDS) was used to assess patients' depressed mood\",\n",
       " 'The SDS scale is a 20 point self-assessment scale used for screening for depressive mood in 1 week',\n",
       " 'Participants are asked to choose their option response for each question',\n",
       " 'The total score of the 20 items was SDS raw score',\n",
       " 'Multiply raw score by 1.25 and keep the integer part, the standard score is calculated',\n",
       " 'Higher standard scores indicate severer depression ( 18 )',\n",
       " 'According to the norm of China, the standard score in 50 points and above prompts depressive mood',\n",
       " '\\n Joint Pain \\n The degree of joint pain in patients with IBD-PA was measured by numerical rating scale (NRS)',\n",
       " 'Pain intensity was described with 0–10',\n",
       " 'Higher numbers indicate a stronger sense of pain ( 19 )',\n",
       " '\\n Abdominal Pain \\n Patients provided ratings of abdominal pain with a 4-point Likert scale (i.e., none, mild, moderate, or severe)',\n",
       " 'The higher the scores means the degree of the pain is higher (the score ranges from 1 to 4)',\n",
       " '\\n C-Reactive Protein \\n C-reactive protein was measured by latex agglutination turbidimetry',\n",
       " 'The patient was extracted 3 ml venous blood on an empty stomach in the morning and monitored after serum separation',\n",
       " 'The reference value is 0–10 mg/L',\n",
       " \"\\n Disease Activity \\n Harvey–Bradshaw for Crohn's disease (CD) and the Mayo Endoscopy Score (MES) for ulcerative colitis (UC) were used to measure the disease activity of the patients\",\n",
       " 'Harvey-Bradshaw scale for CD is composed of 5 parameters: general well-being, abdominal pain, number of liquid stools per day, abdominal mass, and complications ( 20 )',\n",
       " 'In this scale higher scores indicates the disease activity is more active',\n",
       " 'Patients scores 4 or less indicates the remission stage, while scores more than 4 indicates the active stage',\n",
       " 'Mayo Endoscopy Score consists of diarrhea, rectal bleeding, enteroscopy, and physician evaluation',\n",
       " 'It ranges from 0 to 3: 0 for inactive diseases, 1 for mild stage, 2 for moderate stage, and 3 for severe stage ( 21 )',\n",
       " '\\n Sleep \\n Sleep monitoring was performed in three groups by polysomnography',\n",
       " 'All patients were monitored by PSG throughout the night (at least 7 h)',\n",
       " 'According to the international standard method, the surface disc electrodes were used to record the electroencephalogram (EEG) signals of six parts synchronously (F3-A2, F4-A1, C3-A2, 01-A2, 02-A1)',\n",
       " 'Two surface electrodes were taken to record the electromyogram (EMG) of the chin',\n",
       " 'An electrode was placed at 1 cm above and below the lateral canthus to record the eye movements of the left and right eyes',\n",
       " \"The impedance thoracoabdominal mobility transducer was used to record the patients' chest and abdominal respiratory mobility\",\n",
       " 'Pressure sensors placed in the nasal vestibule were used to record oronasal respiratory airflow',\n",
       " 'Sleep parameters are as follows: (1) Total sleep time (TST):total real sleep time during night sleep monitoring',\n",
       " '(2) Sleep latency (SL): the time from light off to the first sleep period begins',\n",
       " 'If the SL>30 min, patients were defined as difficulty falling asleep',\n",
       " '(3) Sleep efficiency (SE):ratio of TST to bedtime',\n",
       " '(4) Rapid-eye-movement sleep (REM) time: total time of REM during nighttime sleep',\n",
       " '(5) Times of wake after sleep onset (WASO): number of awakenings from sleep to the end of sleep with each time not <15 seconds',\n",
       " '(6) Total time of WASO: total time of awakenings from sleep to the end of sleep',\n",
       " 'In addition, sleep structure is divided into four stages (I-IV)',\n",
       " '\\n Pittsburgh sleep quality index (PSQI) was used to evaluate the subjective sleep quality of patients in the past month',\n",
       " 'Eight items of the scale consist of seven parts, including sleep quality, sleep latency, sleep duration, habitual sleep efficiency, sleep disturbances, use of sleeping medications and daytime dysfunction',\n",
       " 'Each part is scored in 0–3 grades',\n",
       " 'The cumulative score of each component is the total score of PSQI',\n",
       " 'The higher the score, the worse the sleep quality ( 22 )',\n",
       " '\\n Statistical Analyses \\n Epi Info version 3.1 (Centers for Disease Control and Prevention, Atlanta, GA, USA) was used for the entry and summary of the data',\n",
       " 'IBM SPSS Statistics, version 20 (IBM Corp., Armonk, NY, USA) was used to analyze the data',\n",
       " 'All data are expressed as mean values the standard deviation',\n",
       " 'Differences in frequencies among groups were calculated using χ 2  test',\n",
       " 'One-way analysis of variance (ANOVA) with a least significant difference (LSD) test was used to compare the three groups on the indices',\n",
       " \"Pearson's correlation analysis was used to measure the correlation between disease activity and sleep quality in IBD-PA patients\",\n",
       " 'The PSG and PSQI indices of active and remission IBD-PA patients were compared by  t  test',\n",
       " 'Univariate analysis was used to compare sleep efficiency of patients with different demographic characteristics and disease conditions',\n",
       " 'Multivariate linear regression was used to evaluate the influencing factors of sleep efficiency',\n",
       " '\\n Results \\n Sample \\n Four hundred twelve people received our invitation and 360 people took part in the research with a participation rate of 87.38%',\n",
       " 'There was no significant difference in basic demographic and clinical characteristics among the three groups',\n",
       " 'The results are summarized in  Table 1 ',\n",
       " '\\n \\n TABLE 1 \\n \\n \\n \\n \\n Table 1 ',\n",
       " 'Comparison of basic demographic and clinical characteristics of 13 groups of subjects',\n",
       " '\\n \\n \\n \\n Comparison of PSG Indices of the Three Groups \\n The PSG data of three groups were analyzed by variance analysis and LSD test',\n",
       " 'Variance analysis results showed that there were significant differences in TST, sleep latency, sleep efficiency, the number and time of WASO and sleep structure among the three groups ( P  < 0.001)',\n",
       " 'The results are given in  Table 2 ',\n",
       " '\\n \\n TABLE 2 \\n \\n \\n \\n \\n Table 2 ',\n",
       " 'Variance analysis results of the differences between IBD group, IBD-PA group and control group in PSG sleep parameters',\n",
       " '\\n \\n \\n \\n LSD test results were showed in  Table 3 ',\n",
       " 'Compared with the control group, the indexes of IBD group and IBD-PA group were significantly different ( P  < 0.001)',\n",
       " 'In addition, there were significant differences between IBD-PA group and IBD group ( P  < 0.001)',\n",
       " 'Overall, the sleep quality of patients with IBD and IBD-PA was lower than healthy control group, and the sleep quality of patients with IBD-PA was worse lower than IBD group',\n",
       " 'In detail, the TST, REM time, slow wave sleep (S3 + S4) and sleep efficiency (SE) in the IBD and IBD-PA group were significantly less than those in the HC group ( P  < 0.001)',\n",
       " 'In terms of the above parameters, IBD-PA group were significantly less than those in the IBD group ( P  < 0.001)',\n",
       " 'By contraries, compared with the HC group, the number and time of WASO and sleep latency (SL) in IBD group and IBD-PA group were significantly longer ( P  < 0.001)',\n",
       " 'In terms of the above parameters, IBD-PA group were significantly longer than those in the IBD group ( P  < 0.001)',\n",
       " '\\n \\n TABLE 3 \\n \\n \\n \\n \\n Table 3 ',\n",
       " 'LSD test results of the differences between IBD group, IBD-PA group and control group in PSG sleep parameters',\n",
       " '\\n \\n \\n \\n Comparison of PQSI Indices of the Three Groups \\n The PQSI data of three groups were analyzed by variance analysis and LSD test',\n",
       " 'Variance analysis results showed that there were significant differences in PSQI score, sleep quality, sleep latency, sleep duration, habitual sleep efficiency, sleep disturbances, use of sleeping medications and daytime dysfunction among the three groups ( P  < 0.001)',\n",
       " 'The results are given in  Table 4 ',\n",
       " '\\n \\n TABLE 4 \\n \\n \\n \\n \\n Table 4 ',\n",
       " 'Variance analysis results of the differences between IBD group, IBD-PA group and control group in PSQI sleep parameters',\n",
       " '\\n \\n \\n \\n LSD test results were showed in  Table 5 ',\n",
       " 'Compared with the control group, the indexes of IBD group and IBD-PA group were significantly different',\n",
       " 'Scores in all the seven dimensions and the total score of IBD group and IBD-PA group were significantly higher than the control group',\n",
       " 'In addition, IBD-PA group scored significantly higher than IBD group in sleep latency, sleep duration, habitual sleep efficiency, sleep disturbances, daytime dysfunction, and total score',\n",
       " 'But there was no significant difference between them in self-evaluation sleep quality and use of sleeping medications',\n",
       " 'According to the scoring rules of the PQSI scale and basing on the total scores, the above results illustrate that compared with the control group, IBD group and IBD-PA group showed worse sleep quality',\n",
       " 'Compared with the IBD group, the sleep quality of IBD-PA group was even worse',\n",
       " '\\n \\n TABLE 5 \\n \\n \\n \\n \\n Table 5 ',\n",
       " 'LSD test results of the differences between IBD group, IBD-PA group, and control group in PSQI sleep parameters',\n",
       " '\\n \\n \\n \\n PSG and PSQI Indices Comparison Between Active and Remission IBD-PA Patients \\n The PSG and PSQI indices of active and remission IBD-PA patients were compared',\n",
       " 'Results showed that for the PSG indices, the SE of active patients was lower than the remission patients ( P  < 0.001)',\n",
       " 'The number of WASO of active patients was larger than the remission patients ( P  < 0.001)',\n",
       " 'The S1 of active patients was longer ( P  = 0.008) and S3 + S4 was longer than the remission patients ( P  = 0.01)',\n",
       " 'Moreover, the PSQI total score of active patients was higher than the remission patients ( P  = 0.021)',\n",
       " 'The results are shown in  Table 6 ',\n",
       " '\\n \\n TABLE 6 \\n \\n \\n \\n \\n Table 6 ',\n",
       " 'PSG and PSQI indices comparison between active and remission IBD-PA patients',\n",
       " '\\n \\n \\n \\n The Correlation Between Disease Activity and Sleep Quality in IBD-PA Patients \\n The correlations between disease activity and sleep quality (total score of PSQI and sleep efficiency of PSG) of IBD-PA patients were analyzed',\n",
       " 'For the CD patients, there was a positive correlation between Harvey-Bradshaw indices and total score of PSQI ( r  = 0.528,  P  < 0.05), and a negative correlation between Harvey-Bradshaw indices and sleep efficiency of PSG ( r  = −0.478,  P  < 0.05)',\n",
       " 'Similarly, for the UC patients, there was a positive correlation between MES and total score of PSQI ( r  = 0.673,  P  < 0.05), and a negative correlation between MES and sleep efficiency of PSG ( r  = −0.566,  P  < 0.05)',\n",
       " \"\\n The Effect of Demographic Characteristics and Disease Condition on the IBD-PA Patients' Sleep Efficiency of PSG \\n Univariate analysis was used to compare sleep efficiency of patients with different demographic characteristics and disease conditions\",\n",
       " ' Table 7  presents the results',\n",
       " 'Then using sleep efficiency as dependent variable, the data of IBD-PA patients were analyzed by multiple linear regression',\n",
       " 'The results showed that abdominal pain, joint pain, depression, and C-reactive protein were the influencing factors of sleep efficiency',\n",
       " 'The results are shown in  Table 8 ',\n",
       " '\\n \\n TABLE 7 \\n \\n \\n \\n \\n Table 7 ',\n",
       " 'Comparison of sleep efficiency of patients with different demographic characteristics and diseases situation',\n",
       " '\\n \\n \\n \\n TABLE 8 \\n \\n \\n \\n \\n Table 8 ',\n",
       " 'Influencing factors of objective sleep efficiency in patients with IBD-PA',\n",
       " '\\n \\n \\n \\n Discussion \\n According to the results, the objective sleep parameters and subjective self-assessment of sleep quality between the control group, IBD group, and IBD-PA group were significantly different',\n",
       " '\\n First, compared with the control group, patients in IBD group showed poorer sleep quality in both PSG data and PSQI',\n",
       " 'Sleep disorder is a common problem in patients with IBD',\n",
       " 'This result was similar to those of previous studies',\n",
       " 'For example, Uemura et al',\n",
       " 'reported the prevalence of sleep disturbances was 44.1% in Japanese IBD patients ( 23 )',\n",
       " 'In a study from China, 55.8% IBD patients reported poor sleep ( 16 )',\n",
       " 'There are few studies on PSG in IBD patients',\n",
       " 'Compared with Keefer et al',\n",
       " 'research, some results are similar',\n",
       " 'For example, they found that IBD patients had less sleep efficiency and TST than the control group, which are similar with ours',\n",
       " 'In their research, the average sleep efficiency of IBD patients was 84.44 ± 5.06 while it was 78.0 ± 13.43 in control group',\n",
       " 'The average TST of IBD group was 418.55 ± 55.67, while in the control group the average TST was 464.18 ± 19.26',\n",
       " 'The sleep efficiency were higher and TST were longer than those in our study',\n",
       " 'Unlike our findings, there was no significant difference in other indicators between the two groups ( 24 )',\n",
       " 'Bar-Gil Shitrit et al',\n",
       " 'found a significantly less REM sleep was noted in the inactive IBD patient group vs',\n",
       " 'control and light sleep percentage and REM latency were also longer in the IBD group',\n",
       " 'All other sleep parameters including number of wakes, sleep latency, were similar in both groups ( 25 )',\n",
       " 'Sleep problems of patients include short sleep time, difficulty in falling asleep, increased number of WASO, etc ( 26 )',\n",
       " 'Summarizing their research, the factors affecting sleep quality of IBD patients include disease active period, unemployment, female, hormone therapy, restless legs syndrome, fatigue, anxiety, inflammatory factors, and so on ( 16 ,  27 – 29 )',\n",
       " '\\n Second, when it comes to comparing the sleep quality between the control group and IBD-PA group, results showed the IBD-PA group was poorer',\n",
       " \"In previous studies, there were more questionnaire surveys on sleep of IBD patients, but we haven't found any studies focused on sleep of IBD-PA patients\",\n",
       " 'In addition to the possible causes of sleep disorders in patients with IBD in the first part, these patients not only suffer from digestive tract symptoms, but also experience joint pain and limited movement, which may seriously affect their sleep',\n",
       " '\\n Third, compared with IBD patients, the sleep quality of IBD-PA patients was even worse',\n",
       " 'Sleep status of patients with IBD-PA is the focus of this study',\n",
       " \"As to the objective sleep parameters, the patients showed very low sleep efficiency and very short sleep time, which indicated that the patients' sleep problems were serious and should be paid great attention to\",\n",
       " \"In terms of sleep structure, the patients' slow wave sleep (deep sleep, S3 + S4) time is shorter\",\n",
       " 'Deep sleep is associated with cognition and helps patients regain energy ( 30 )',\n",
       " 'The rapid eye movement sleep of patients is also short, which has a negative effect on the mental health of patients ( 31 )',\n",
       " \"Therefore, attention should be paid to patients' mental health, such as cognition\",\n",
       " \"As to the subjective assessment results, patients' with IBD-PA reported higher scores in all the 7 items and the total score of PSQI than IBD group, which indicated their subjective sleep quality was worse\",\n",
       " '\\n In this study, it was found that sleep was in relation to disease activity in IBD-PA patients',\n",
       " 'Active patients had worse sleep than remission patients',\n",
       " 'This was the same as other studies',\n",
       " 'For example, Graff et al',\n",
       " 'conducted a PSQI survey of 318 adult IBD patients and found that 82% of active IBD patients had sleep disorder, while 51% of remission IBD patients had sleep disorder ( 32 )',\n",
       " 'Ali et al',\n",
       " 'confirmed that 100% of patients in active stage of disease had sleep disorders, while only 54% of patients in remission stage had sleep disorders ( 11 )',\n",
       " \"This is because the physical and mental health of patients in the active stage of disease is worse, which affects patients' sleep\",\n",
       " 'In addition, cytokines also affect sleep',\n",
       " 'In addition, the levels of cytokines were different between active patients and remission patients',\n",
       " 'Cytokines interact with sleep',\n",
       " 'For example, IL-1 can regulate sleep through serum receptor pathways',\n",
       " 'Low levels of IL-1 can promote NREM, while high levels of IL-1 can inhibit NREM ( 33 )',\n",
       " '\\n In order to explain why IBD-PA patients had the poorest sleep quality than the IBD patients and the control group, regression, and correlation analysis were used to explore the influencing factors of objective sleep efficiency',\n",
       " 'Results showed that abdominal pain, joint pain, depression, and C-reactive protein were the influencing factors of sleep efficiency in patients with IBD-PA',\n",
       " 'This study found that patients with gastrointestinal symptoms, such as abdominal pain, reduced their sleep quality',\n",
       " 'This is the same as previous research results',\n",
       " 'For example, Pirinen et al',\n",
       " 'found that sleep disorders were associated with clinical symptoms',\n",
       " 'In adolescent IBD patients, 41% of patients with severe clinical symptoms and 22% of patients with mild clinical symptoms had sleep disorders ( 34 )',\n",
       " \"Joint pain severely affects the patient's sleep\",\n",
       " \"Patients' with higher pain index got lower sleep efficiency because pain causes frequent awakening during sleep\",\n",
       " 'Depression is also an important factor in sleep, which is the same as other studies ( 35 ,  36 )',\n",
       " 'IBD patients often have negative emotions such as anxiety and depression because the course of illness is long and repeated, which seriously affects work and life, and patients perceive the uncertainty of illness ( 37 )',\n",
       " 'Moreover, emotions affect the outcome of disease and the quality of life of patients ( 38 )',\n",
       " 'Patients with IBD-PA are more likely to have mental health problems because they have more joint symptoms on this basis',\n",
       " 'Pain, negative emotions and sleep disorders often form a vicious circle',\n",
       " 'This suggests that pain management and psychological intervention should be strengthened in patients with IBD-PA ( 39 )',\n",
       " 'In addition, CRP, a marker of inflammation, was related to sleep',\n",
       " 'In inflammatory diseases, the body produces NF-kB, which affects sleep rhythm ( 40 )',\n",
       " 'Higher CRP means more inflammation, so sleep is more affected',\n",
       " 'Understanding these factors is helpful for targeted sleep intervention',\n",
       " '\\n Limitations \\n There are limitations of our present study',\n",
       " \"First, there are many factors affecting the patients' sleep quality, including hormone level, sport, nutritional status, intestinal flora, etc\",\n",
       " 'In the present study, we incorporated limited factors',\n",
       " 'Clearly, it is difficult and unpractical to control for all these factors in a study',\n",
       " 'We can only control a certain number of the factors',\n",
       " 'Second, in the selection of the object, the sample size was small because the total number of such patients is relatively small',\n",
       " \"Third, this was a cross-sectional study that only measured patients' indices at a single time point\",\n",
       " 'Therefore, it has a certain contingency; long-term intervention studies and cohort studies need to be conducted in the future',\n",
       " '\\n Conclusion \\n Generally speaking, the objective and subjective sleep quality of patients with IBD were poor, and these of IBD-PA patients were even worse',\n",
       " 'Specifically, on objective sleep quality, the TST, sleep efficiency, REM time, S2, S3 + S4 of IBD, and IBD-PA group were shorter than the control group',\n",
       " 'However, the sleep latency, number of WASO, time of WASO and S1 of IBD and IBD-PA group were longer or more than the control group',\n",
       " 'The above sleep problems of IBD-PA group were more serious than IBD group',\n",
       " 'On subjective sleep quality, all the 7 dimension scores and the total score of PSQI in IBD group and IBD-PA group were higher than the control group',\n",
       " 'IBD-PA group scored significantly higher than IBD group in sleep latency, sleep duration, habitual sleep efficiency, sleep disturbances, daytime dysfunction, and total score',\n",
       " \"The influencing factors of IBD-PA patients' sleep quality were hormone use, nocturnal gastrointestinal symptoms, joint pain, depression, and disease activity\",\n",
       " 'Therefore, sleep management should be integrated into IBD management',\n",
       " '\\n Data Availability Statement \\n The datasets generated for this study are available on request to the corresponding author',\n",
       " '\\n Ethics Statement \\n This study was carried out in accordance with the recommendations of Wuhan University School of Medicine Ethics Committee (No',\n",
       " '20161101) with written informed consent from all subjects',\n",
       " 'All subjects gave written informed consent in accordance with the Declaration of Helsinki',\n",
       " 'The protocol was approved by the Wuhan University School of Medicine Ethics Committee',\n",
       " '\\n Author Contributions \\n NY designed the research',\n",
       " 'YZ and BP were responsible for drafting the manuscript and collected the data',\n",
       " 'YL and XC analyzed the data',\n",
       " 'YZ, NY, and XL reviewed and revised the manuscript',\n",
       " 'XX reviewed the manuscript',\n",
       " 'All authors approved this version to be published',\n",
       " '\\n Funding \\n This study was funded by the Huizhou Science and Technology Project (Healthcare) (2019Y323) and the Fundamental Research Funds for the Central Universities (HEUCF20181312)',\n",
       " '\\n Conflict of Interest Statement \\n The authors declare that the research was conducted in the absence of any commercial or financial relationships that could be construed as a potential conflict of interest',\n",
       " '\\n Acknowledgments \\n The authors thank all the patients who generously participated in this study at such a difficult time in their lives',\n",
       " '\\n References \\n \\n  1',\n",
       " 'Molodecky NA, Soon IS, Rabi DM, Ghali WA, Ferris M, Chernoff G, et al',\n",
       " 'Increasing incidence and prevalence of the inflammatory bowel diseases with time, based on systematic review',\n",
       " ' Gastroenterology',\n",
       " ' (2012) 142:46–54',\n",
       " 'doi: 10.1053/j.gastro.2011.10.001 \\n PubMed Abstract  |  CrossRef Full Text  |  Google Scholar \\n \\n \\n  2',\n",
       " 'Gionchetti P, Rizzello F',\n",
       " 'IBD: IBD and spondyloarthritis: joint management',\n",
       " ' Nat Rev Gastroenterol Hepatol',\n",
       " ' (2016) 13:9–10',\n",
       " 'doi: 10.1038/nrgastro.2015.208 \\n PubMed Abstract  |  CrossRef Full Text  |  Google Scholar \\n \\n \\n  3',\n",
       " 'Hoda M, Grace L, Jason H',\n",
       " 'Characterization and prevalence of spondyloarthritis and peripheral arthritis among patients with inflammatory bowel disease',\n",
       " ' Clin Exp Gastroenterol',\n",
       " ' (2017) 10:259–63',\n",
       " 'doi: 10.2147/CEG.S136383 \\n CrossRef Full Text  |  Google Scholar \\n \\n \\n  4',\n",
       " 'Gravallese EM, Kantrowitz FG',\n",
       " 'Arthritic manifestations of inflammatory bowel disease',\n",
       " ' Am J Gastroenterol',\n",
       " ' (1988) 83:703–9',\n",
       " ' \\n PubMed Abstract  |  Google Scholar \\n \\n \\n  5',\n",
       " 'Neuendorf R, Harding A, Stello N, Hanes D, Wahbeh H',\n",
       " 'Depression and anxiety in patients with Inflammatory Bowel Disease: a systematic review',\n",
       " ' J Psychosom Res',\n",
       " ' (2016) 87:70–80',\n",
       " 'doi: 10.1016/j.jpsychores.2016.06.001 \\n PubMed Abstract  |  CrossRef Full Text  |  Google Scholar \\n \\n \\n  6',\n",
       " 'Dibley L, Czuber-Dochan W, Woodward S, Wade T, Bassett P, Sturt J, et al',\n",
       " 'Development and psychometric properties of the Inflammatory Bowel Disease Distress Scale (IBD-DS): a new tool to measure disease-specific distress',\n",
       " ' Inflamm Bowel Dis',\n",
       " ' (2018) 24:2068–77',\n",
       " 'doi: 10.1093/ibd/izy108 \\n CrossRef Full Text  |  Google Scholar \\n \\n \\n  7',\n",
       " 'Sweeney L, Moss-Morris R, Czuber-Dochan W, Meade L, Chumbley G, Norton C',\n",
       " 'Systematic review: psychosocial factors associated with pain in inflammatory bowel disease',\n",
       " ' Aliment Pharmacol Ther',\n",
       " ' (2018) 47:715–29',\n",
       " 'doi: 10.1111/apt.14493 \\n PubMed Abstract  |  CrossRef Full Text  |  Google Scholar \\n \\n \\n  8',\n",
       " 'Ali T, Orr WC',\n",
       " 'Sleep disturbances and inflammatory bowel disease',\n",
       " ' Inflamm Bowel Dis',\n",
       " ' (2014) 20:1986–95',\n",
       " 'doi: 10.1097/MIB.0000000000000108 \\n PubMed Abstract  |  CrossRef Full Text  |  Google Scholar \\n \\n \\n  9',\n",
       " 'Bucci C, Amato M, Zingone F, Caggiano M, Iovino P, Ciacci C',\n",
       " 'Prevalence of sleep bruxism in IBD patients and its correlation to other dental disorders and quality of life',\n",
       " ' Gastroent Res Pract',\n",
       " ' (2018) 2018:7274318',\n",
       " 'doi: 10.1155/2018/7274318 \\n PubMed Abstract  |  CrossRef Full Text  |  Google Scholar \\n \\n \\n  10',\n",
       " 'Hashash JG, Ramos-Rivers C, Youk A, Chiu WK, Duff K, Regueiro M',\n",
       " 'Quality of sleep and coexistent psychopathology have significant impact on fatigue burden in patients with inflammatory bowel disease',\n",
       " ' J Clin Gastroenterol',\n",
       " ' (2018) 52:423–30',\n",
       " 'doi: 10.1097/MCG.0000000000000729 \\n PubMed Abstract  |  CrossRef Full Text  |  Google Scholar \\n \\n \\n  11',\n",
       " 'Ali T, Madhoun MF, Orr WC, Rubin DT',\n",
       " 'Assessment of the relationship between quality of sleep and disease activity in inflammatory bowel disease patient',\n",
       " ' Inflamm Bowel Dis',\n",
       " ' (2013) 19:2440–3',\n",
       " 'doi: 10.1097/MIB.0b013e3182a0ea54 \\n CrossRef Full Text  |  Google Scholar \\n \\n \\n  12',\n",
       " 'Michalopoulos G, Vrakas S, Makris K, Tzathas C',\n",
       " 'Association of sleep quality and mucosal healing in patients with inflammatory bowel disease in clinical remission',\n",
       " ' Ann Gastroenterol ',\n",
       " '(2018) 31:211–6',\n",
       " 'doi: 10.20524/aog.2018.0227 \\n PubMed Abstract  |  CrossRef Full Text  |  Google Scholar \\n \\n \\n  13',\n",
       " 'Haack M, Sanchez E, Mullington JM',\n",
       " 'Elevated inflammatory markers in response to prolonged sleep restriction are associated with increased pain experience in healthy volunteers',\n",
       " ' Sleep ',\n",
       " '(2007) 30:1145–52',\n",
       " 'doi: 10.1093/sleep/30.9.1145 \\n PubMed Abstract  |  CrossRef Full Text  |  Google Scholar \\n \\n \\n  14',\n",
       " 'Abedelmalek S, Souissi N, Chtourou H, Denguezli M, Aouichaoui C, Ajina M, et al',\n",
       " 'Effects of partial sleep deprivation on proinflammatory cytokines, growth hormone, and steroid hormone concentrations during repeated brief sprint interval exercise',\n",
       " ' Chronobiol Int ',\n",
       " '(2013) 30:502–9',\n",
       " 'doi: 10.3109/07420528.2012.742102 \\n PubMed Abstract  |  CrossRef Full Text  |  Google Scholar \\n \\n \\n  15',\n",
       " 'Sisson G, Junghans C, Bjarnason I',\n",
       " 'PTH-044 Poor sleep quality in irritable bowel syndrome: a comparison with healthy adult controls',\n",
       " ' Gut ',\n",
       " '(2010) 59:A140',\n",
       " 'doi: 10.1136/gut.2009.209049e \\n CrossRef Full Text  |  Google Scholar \\n \\n \\n  16',\n",
       " 'Shi Q, Kong J, Dai XJ, Chen C, Feng JX',\n",
       " 'Sleep quality and influencing factors in patients with inflammatory bowel disease',\n",
       " ' Chin Nurs Manag ',\n",
       " '(2016) 16:1206–11',\n",
       " '\\n Google Scholar \\n \\n \\n  17',\n",
       " 'Chen C, Li J, Yang XS',\n",
       " 'A review of inflammatory bowel disease comorbid sleep disorders',\n",
       " ' Chin Mental Health J ',\n",
       " '(2018) 32:478–83',\n",
       " 'doi: 10.3969/j.issn.1000-6729.2018.06.006 \\n CrossRef Full Text  |  Google Scholar \\n \\n \\n  18',\n",
       " 'Sakamoto S, Kijima N, Tomoda A, Kambara M',\n",
       " 'Factor structures of the Zung Self-Rating Depression Scale (SDS) for undergraduates',\n",
       " ' J Clin Psychol ',\n",
       " '(1998) 54:477–87',\n",
       " 'doi: 10.1002/(SICI)1097-4679(199806)54:4<477::AID-JCLP9>3.0.CO;2-K \\n PubMed Abstract  |  CrossRef Full Text  |  Google Scholar \\n \\n \\n  19',\n",
       " 'Pagé MG, Katz J, Stinson J, Isaac L, Martin-Pichora AL, Campbell F',\n",
       " 'Validation of the numerical rating scale for pain intensity and unpleasantness in pediatric acute postoperative pain: sensitivity to change over time',\n",
       " ' J Pain ',\n",
       " '(2012) 13:359–69',\n",
       " 'doi: 10.1016/j.jpain.2011.12.010 \\n PubMed Abstract  |  CrossRef Full Text  |  Google Scholar \\n \\n \\n  20',\n",
       " 'Vermeire S, Schreiber S, Sandborn WJ, Dubois C, Rutgeerts P',\n",
       " \"Correlation between the Crohn's disease activity and Harvey-Bradshaw indices in assessing Crohn's disease severity\",\n",
       " ' Clin Gastroenterol H ',\n",
       " '(2010) 8:357–63',\n",
       " 'doi: 10.1016/j.cgh.2010.01.001 \\n PubMed Abstract  |  CrossRef Full Text  |  Google Scholar \\n \\n \\n  21',\n",
       " 'Kristensen V, Klepp P, Cvancarova M, Røseth A, Skar V, Moum B',\n",
       " 'Prediction of endoscopic disease activity in ulcerative colitis by two different assays for fecal calprotectin',\n",
       " ' J Crohns Coliti ',\n",
       " '(2014) 9:164–69',\n",
       " 'doi: 10.1093/ecco-jcc/jju015 \\n PubMed Abstract  |  CrossRef Full Text  |  Google Scholar \\n \\n \\n  22',\n",
       " 'Carpenter JS, Andrykowski MA',\n",
       " 'Psychometric evaluation of the Pittsburgh Sleep Quality Index',\n",
       " ' J Psychosom Res ',\n",
       " '(1998) 45:5–13',\n",
       " 'doi: 10.1016/S0022-3999(97)00298-5 \\n PubMed Abstract  |  CrossRef Full Text  |  Google Scholar \\n \\n \\n  23',\n",
       " 'Uemura R, Fujiwara Y, Iwakura N, Shiba M, Watanabe K, Kamata N, et al',\n",
       " 'Sleep disturbances in Japanese patients with inflammatory bowel disease and their impact on disease flare',\n",
       " ' Springerplus ',\n",
       " '(2016) 5:1792',\n",
       " 'doi: 10.1186/s40064-016-3408-6 \\n PubMed Abstract  |  CrossRef Full Text  |  Google Scholar \\n \\n \\n  24',\n",
       " 'Keefer L, Stepanski EJ, Ranjbaran Z, Benson LM, Keshavarzian A',\n",
       " 'An initial report of sleep disturbance in inactive inflammatory bowel disease',\n",
       " ' J Clin Sleep Med ',\n",
       " '(2006) 2:409–16',\n",
       " ' \\n PubMed Abstract  |  Google Scholar \\n \\n \\n  25',\n",
       " 'Bar-Gil Shitrit A, Chen-Shuali C, Adar T, Koslowsky B, Shteingart S, Paz K, et al',\n",
       " 'Sleep disturbances can be prospectively observed in patients with an inactive inflammatory bowel disease',\n",
       " ' Dig Dis Sci ',\n",
       " '(2018) 63:2992–7',\n",
       " 'doi: 10.1007/s10620-018-5207-0 \\n PubMed Abstract  |  CrossRef Full Text  |  Google Scholar \\n \\n \\n  26',\n",
       " 'Ranjbaran Z, Keefer L, Farhadi A, Stepanski E, Sedghi S, Keshavarzian A',\n",
       " 'Impact of sleep disturbances in inflammatory bowel disease',\n",
       " ' J Gastroenterol Hepatol ',\n",
       " '(2007) 22:1748–53',\n",
       " 'doi: 10.1111/j.1440-1746.2006.04820.x \\n PubMed Abstract  |  CrossRef Full Text  |  Google Scholar \\n \\n \\n  27',\n",
       " 'Wilson RG, Stevens BW, Guo AY, Russell CN, Thornton A, Cohen MA, et al',\n",
       " 'High C-reactive protein is associated with poor sleep quality independent of nocturnal symptoms in patients with inflammatory bowel disease',\n",
       " ' Dig Dis Sci ',\n",
       " '(2015) 60:2136–43',\n",
       " 'doi: 10.1007/s10620-015-3580-5 \\n PubMed Abstract  |  CrossRef Full Text  |  Google Scholar \\n \\n \\n  28',\n",
       " 'Schindlbeck KA, Becker J, Berger F, Mehl A, Rewitzer C, Geffe S, et al',\n",
       " 'Impact of restless legs syndrome in patients with inflammatory bowel disease on sleep, fatigue, and quality of life',\n",
       " ' Int J Colorectal Dis ',\n",
       " '(2017) 32:125–30',\n",
       " 'doi: 10.1007/s00384-016-2681-8 \\n PubMed Abstract  |  CrossRef Full Text  |  Google Scholar \\n \\n \\n  29',\n",
       " 'Ananthakrishnan AN, Long MD, Martin CF, Sandler RS, Kappelman MD',\n",
       " \"Sleep disturbance and risk of active disease in patients with Crohn's disease and ulcerative colitis\",\n",
       " ' Clin Gastroenterol Hepatol',\n",
       " ' (2013) 11:965–71',\n",
       " 'doi: 10.1016/j.cgh.2013.01.021 \\n PubMed Abstract  |  CrossRef Full Text  |  Google Scholar \\n \\n \\n  30',\n",
       " 'Buechel HM, Popovic J, Searcy JL, Porter NM, Thibault O, Blalock EM',\n",
       " 'Deep sleep and parietal cortex gene expression changes are related to cognitive deficits with age',\n",
       " ' PLoS ONE ',\n",
       " '(2011) 6:e18387',\n",
       " 'doi: 10.1371/journal.pone.0018387 \\n PubMed Abstract  |  CrossRef Full Text  |  Google Scholar \\n \\n \\n  31',\n",
       " 'McNamara P, Johnson P, McLaren D, Harris E, Beauharnais C, Auerbach S',\n",
       " 'REM and NREM sleep mentation',\n",
       " ' Int Rev Neurobiol',\n",
       " ' (2010) 92: 69–86',\n",
       " 'doi: 10.1016/S0074-7742(10)92004-7 \\n PubMed Abstract  |  CrossRef Full Text  |  Google Scholar \\n \\n \\n  32',\n",
       " 'Graff LA, Vincent N, Walker JR, Clara I, Carr R, Ediger J, et al',\n",
       " 'A population-based study of fatigue and sleep difficulties in inflammatory bowel disease',\n",
       " ' Inflamm Bowel Dis ',\n",
       " '(2011) 17:1882–9',\n",
       " 'doi: 10.1002/ibd.21580 \\n PubMed Abstract  |  CrossRef Full Text  |  Google Scholar \\n \\n \\n  33',\n",
       " 'Opp MR',\n",
       " 'Cytokines and sleep',\n",
       " ' Sleep Med Rev ',\n",
       " '(2005) 9:355–64',\n",
       " 'doi: 10.1016/j.smrv.2005.01.002 \\n PubMed Abstract  |  CrossRef Full Text  |  Google Scholar \\n \\n \\n  34',\n",
       " 'Pirinen T, Kolho KL, Simola P, Ashorn M, Aronen ET',\n",
       " 'Parent and self-report of sleep problems and daytime tiredness among adolescents with inflammatory bowel disease and their population-based controls',\n",
       " ' Sleep',\n",
       " ' (2010) 1487–93',\n",
       " 'doi: 10.1055/s-0030-1266761 \\n PubMed Abstract  |  CrossRef Full Text  |  Google Scholar \\n \\n \\n  35',\n",
       " 'Benhayon D, Youk A, McCarthy FN, Davis S, Keljo DJ, Bousvaros A, et al',\n",
       " \"Characterization of relationships between sleep, inflammation, and psychiatric dysfunction in depressed youth with Crohn's disease\",\n",
       " ' J Pediatr Gastroenterol Nutr',\n",
       " ' (2013) 57:335–42',\n",
       " 'doi: 10.1097/MPG.0b013e31829641df \\n CrossRef Full Text  |  Google Scholar \\n \\n \\n  36',\n",
       " 'Pirinen T, Kolho KL, Ashorn M, Aronen ET',\n",
       " 'Sleep and emotional and behavioral symptoms in adolescents with inflammatory bowel disease',\n",
       " ' Sleep Disord ',\n",
       " '(2014) 2014:379450',\n",
       " 'doi: 10.1155/2014/379450 \\n PubMed Abstract  |  CrossRef Full Text  |  Google Scholar \\n \\n \\n  37',\n",
       " 'Reed-Knight B, Lobato D, Hagin S, McQuaid EL, Seifer R, Kopel SJ, et al',\n",
       " 'Depressive symptoms in youth with inflammatory bowel disease compared with a community sample',\n",
       " ' Inflamm Bowel Dis ',\n",
       " '(2014) 20:614–21',\n",
       " 'doi: 10.1097/01.MIB.0000442678.62674.b7 \\n PubMed Abstract  |  CrossRef Full Text  |  Google Scholar \\n \\n \\n  38',\n",
       " 'Luo XP, Mao R, Chen BL, Qiu Y, Zhang SH, He Y, et al',\n",
       " 'Over-reaching beyond disease activity: the influence of anxiety and medical economic burden on health-related quality of life in patients with inflammatory bowel disease',\n",
       " ' Patient Prefer Adher',\n",
       " ' (2017) 11:23–31',\n",
       " 'doi: 10.2147/PPA.S118589 \\n PubMed Abstract  |  CrossRef Full Text  |  Google Scholar \\n \\n \\n  39',\n",
       " 'Boakye PA, Olechowski C, Rashiq S, Verrier MJ, Kerr B, Witmans M, et al',\n",
       " 'A critical review of neurobiological factors involved in the interactions between chronic pain, depression, and sleep disruption',\n",
       " ' Clin J Pain',\n",
       " ' (2016) 32:327–36',\n",
       " 'doi: 10.1097/AJP.0000000000000260 \\n PubMed Abstract  |  CrossRef Full Text  |  Google Scholar \\n \\n \\n  40',\n",
       " 'Hong HK, Maury E, Ramsey KM, Perelis M, Marcheva B, Omura C, et al',\n",
       " 'Requirement for NF-κB in maintenance of molecular and behavioral circadian rhythms in mice',\n",
       " ' Genes Dev ',\n",
       " '(2018) 32:1367–79',\n",
       " 'doi: 10.1101/gad.319228.118 \\n PubMed Abstract  |  CrossRef Full Text  |  Google Scholar \\n \\n \\n \\n \\n Keywords:  inflammatory bowel disease, arthritis, sleep disturbances, polysomnography, pittsburgh sleep quality scale (PSQI) \\n Citation:  Zhang Y, Pi B, Xu X, Li Y, Chen X, Yang N and Li X (2020) Sleep Characteristics and Influencing Factors of Sleep Quality in Patients With Inflammatory Bowel Disease-Peripheral Arthritis',\n",
       " ' Front',\n",
       " 'Med',\n",
       " ' 6:190',\n",
       " 'doi: 10.3389/fmed.2019.00190 \\n Received:  14 April 2019;  Accepted:  09 August 2019;   Published:  06 January 2020',\n",
       " '\\n Edited by:   Murat Toruner , Ankara University, Turkey \\n Reviewed by:   Giuseppe Losurdo , University of Bari Medical School, Italy   Chenyang Wang , Medical School, Nanjing University, China \\n Copyright  © 2020 Zhang, Pi, Xu, Li, Chen, Yang and Li',\n",
       " 'This is an open-access article distributed under the terms of the  Creative Commons Attribution License (CC BY) ',\n",
       " 'The use, distribution or reproduction in other forums is permitted, provided the original author(s) and the copyright owner(s) are credited and that the original publication in this journal is cited, in accordance with accepted academic practice',\n",
       " 'No use, distribution or reproduction is permitted which does not comply with these terms',\n",
       " '\\n *Correspondence:  Ningxi Yang,  yangningxi@bjmu.edu.cn \\n † These authors have contributed equally to this work \\n ‡ These authors share first authorship \\n \\n']"
      ]
     },
     "execution_count": 15,
     "metadata": {},
     "output_type": "execute_result"
    }
   ],
   "source": [
    "df[\"text\"][0].split(\". \")"
   ]
  },
  {
   "cell_type": "code",
   "execution_count": 53,
   "id": "07bb8d70",
   "metadata": {},
   "outputs": [],
   "source": [
    "import numpy as np\n",
    "def get_doc_embeddings_bert(text):\n",
    "    sentences = text.split(\". \")\n",
    "    embeddings = model.encode(sentences)\n",
    "    doc_embeddings_bert = np.mean(embeddings, axis=0)\n",
    "    return doc_embeddings_bert"
   ]
  },
  {
   "cell_type": "code",
   "execution_count": 55,
   "id": "2e32b662",
   "metadata": {},
   "outputs": [
    {
     "data": {
      "text/plain": [
       "array([-0.66781706,  0.24296108, -0.04957093, -0.17639278, -0.2589734 ,\n",
       "        0.07442345, -0.25876293, -0.14203766, -0.09850138, -0.00230448,\n",
       "        0.52635366, -0.13941966, -0.02832645,  0.13385026, -0.2838427 ,\n",
       "        0.12234153, -0.16152292, -0.00152437,  0.564619  ,  0.26419577,\n",
       "        0.02726902,  0.06813429,  0.2783701 , -0.09753691, -0.2787659 ,\n",
       "        0.05814543, -0.30563346, -0.07554113, -0.20844828, -0.44558436,\n",
       "        0.1832341 ,  0.26399025,  0.09474081,  0.41053587, -0.01212333,\n",
       "        0.02974139,  0.48768717, -0.04848086,  0.0845094 , -0.04187105,\n",
       "       -0.0273311 , -0.18245909,  0.18992195,  0.32025495,  0.16291533,\n",
       "       -0.30250868,  0.36970222,  0.02290853, -0.3123043 ,  0.2726394 ,\n",
       "        0.34825733,  0.05387367,  0.37505442, -0.16196667, -0.18153793,\n",
       "       -0.39513654, -0.43422344, -0.00259814, -0.19940825, -0.21230572,\n",
       "        0.18739343, -0.22030506, -0.21173397,  0.17880014, -0.4676171 ,\n",
       "        0.02103107,  0.09145419, -0.12812766,  0.20799133,  0.0574943 ,\n",
       "        0.04765177,  0.0563625 , -0.29793245,  0.0995265 ,  0.2847887 ,\n",
       "        0.10809518,  0.20707862, -0.02640768,  0.18758354,  0.578544  ,\n",
       "        0.01827688,  0.08022996, -0.11065465, -0.02889023,  0.15858117,\n",
       "        0.48603258,  0.04213917, -0.32827953,  0.09451102,  0.45654705,\n",
       "        0.18860835,  0.04012024,  0.13393009, -0.32373   ,  0.17056978,\n",
       "       -0.19542973, -0.12654406,  0.22916174,  0.26269633,  0.20012312,\n",
       "       -0.07689293, -0.0693466 , -0.29249355,  0.20664515, -0.44196644,\n",
       "        0.017027  , -0.06753061, -0.03424045,  0.3577048 ,  0.22502686,\n",
       "       -0.10038223,  0.38490775, -0.14301784, -0.00401394,  0.35897994,\n",
       "       -0.16771068, -0.25331143, -0.12378544,  0.1156861 , -0.07582098,\n",
       "        0.07320804,  0.44485688, -0.27771336, -0.34316695,  0.40959513,\n",
       "       -0.25405583,  0.11584235,  0.10452585, -0.03181671,  0.3408595 ,\n",
       "        0.43828988,  0.21841016,  0.045509  ,  0.09945842, -0.33228958,\n",
       "       -0.0273814 , -0.17814703,  0.07349055,  0.00526277,  0.06549142,\n",
       "        0.15563129,  0.09005592, -0.2279292 ,  0.54149586,  0.16476391,\n",
       "        0.15692124, -0.34867448,  0.4245477 ,  0.23312761,  0.37612304,\n",
       "       -0.11562618,  0.27621147,  0.18285815,  0.08912183,  0.08924174,\n",
       "       -0.65105605,  0.12854418,  0.31011003,  0.09603008,  0.38279364,\n",
       "       -0.02424863, -0.05447495,  0.01066263, -0.3492507 , -0.39804208,\n",
       "        0.080004  , -0.01999968,  0.08391594,  0.0666642 ,  0.36149228,\n",
       "        0.11063015,  0.0769858 ,  0.3643147 ,  0.27501184,  0.02424178,\n",
       "       -0.08133917, -0.17590101,  0.25325713, -0.07797117, -0.03629415,\n",
       "        0.46271688,  0.38201156, -0.1816193 , -0.17344028, -0.00815673,\n",
       "        0.2971674 , -0.07094278,  0.4231582 ,  0.14136589,  0.31994087,\n",
       "        0.17826954, -0.20518504, -0.05628859, -0.33466315,  0.3872249 ,\n",
       "        0.00970446, -0.20170228, -0.31153563,  0.31036896,  0.18545084,\n",
       "        0.22033948, -0.17882629,  0.15394744, -0.08586758, -0.20309876,\n",
       "       -0.09103148,  0.04671961, -0.10027809, -0.04850248, -0.39127907,\n",
       "        0.3492424 , -0.23319207, -0.12747507,  0.468047  ,  0.29828075,\n",
       "       -0.25176263, -0.1743713 , -0.25722203,  0.17461497, -0.3213981 ,\n",
       "       -0.2594037 , -0.32253397,  0.1614036 ,  0.32420322, -0.05785218,\n",
       "        0.00523817, -0.03921239, -0.10621342,  0.08660159,  0.30870682,\n",
       "        0.30173635,  0.34163693,  0.20829894,  0.00614603,  0.20284694,\n",
       "        0.1038468 , -0.12030257, -0.18331994,  0.4206676 ,  0.11237453,\n",
       "       -0.08145265, -0.44842342, -0.1586571 ,  0.0437432 ,  0.0925416 ,\n",
       "        0.02142746, -0.14219835, -0.3703744 , -0.0944861 , -0.02138286,\n",
       "        0.13044631,  0.5213244 ,  0.19876494, -0.12641245, -0.29324603,\n",
       "        0.01696329], dtype=float32)"
      ]
     },
     "execution_count": 55,
     "metadata": {},
     "output_type": "execute_result"
    }
   ],
   "source": [
    "text = df[\"text\"][0]\n",
    "get_doc_embeddings_bert(text)"
   ]
  },
  {
   "cell_type": "code",
   "execution_count": 58,
   "id": "011a1b88",
   "metadata": {},
   "outputs": [
    {
     "ename": "KeyboardInterrupt",
     "evalue": "",
     "output_type": "error",
     "traceback": [
      "\u001b[0;31m---------------------------------------------------------------------------\u001b[0m",
      "\u001b[0;31mKeyboardInterrupt\u001b[0m                         Traceback (most recent call last)",
      "Input \u001b[0;32mIn [58]\u001b[0m, in \u001b[0;36m<cell line: 1>\u001b[0;34m()\u001b[0m\n\u001b[0;32m----> 1\u001b[0m df[\u001b[38;5;124m\"\u001b[39m\u001b[38;5;124membeddings_text_bert\u001b[39m\u001b[38;5;124m\"\u001b[39m] \u001b[38;5;241m=\u001b[39m \u001b[43mdf\u001b[49m\u001b[43m[\u001b[49m\u001b[38;5;124;43m\"\u001b[39;49m\u001b[38;5;124;43mtext\u001b[39;49m\u001b[38;5;124;43m\"\u001b[39;49m\u001b[43m]\u001b[49m\u001b[38;5;241;43m.\u001b[39;49m\u001b[43mapply\u001b[49m\u001b[43m(\u001b[49m\u001b[43mget_doc_embeddings_bert\u001b[49m\u001b[43m)\u001b[49m\n",
      "File \u001b[0;32m~/miniconda3/envs/frontiers/lib/python3.8/site-packages/pandas/core/series.py:4433\u001b[0m, in \u001b[0;36mSeries.apply\u001b[0;34m(self, func, convert_dtype, args, **kwargs)\u001b[0m\n\u001b[1;32m   4323\u001b[0m \u001b[38;5;28;01mdef\u001b[39;00m \u001b[38;5;21mapply\u001b[39m(\n\u001b[1;32m   4324\u001b[0m     \u001b[38;5;28mself\u001b[39m,\n\u001b[1;32m   4325\u001b[0m     func: AggFuncType,\n\u001b[0;32m   (...)\u001b[0m\n\u001b[1;32m   4328\u001b[0m     \u001b[38;5;241m*\u001b[39m\u001b[38;5;241m*\u001b[39mkwargs,\n\u001b[1;32m   4329\u001b[0m ) \u001b[38;5;241m-\u001b[39m\u001b[38;5;241m>\u001b[39m DataFrame \u001b[38;5;241m|\u001b[39m Series:\n\u001b[1;32m   4330\u001b[0m     \u001b[38;5;124;03m\"\"\"\u001b[39;00m\n\u001b[1;32m   4331\u001b[0m \u001b[38;5;124;03m    Invoke function on values of Series.\u001b[39;00m\n\u001b[1;32m   4332\u001b[0m \n\u001b[0;32m   (...)\u001b[0m\n\u001b[1;32m   4431\u001b[0m \u001b[38;5;124;03m    dtype: float64\u001b[39;00m\n\u001b[1;32m   4432\u001b[0m \u001b[38;5;124;03m    \"\"\"\u001b[39;00m\n\u001b[0;32m-> 4433\u001b[0m     \u001b[38;5;28;01mreturn\u001b[39;00m \u001b[43mSeriesApply\u001b[49m\u001b[43m(\u001b[49m\u001b[38;5;28;43mself\u001b[39;49m\u001b[43m,\u001b[49m\u001b[43m \u001b[49m\u001b[43mfunc\u001b[49m\u001b[43m,\u001b[49m\u001b[43m \u001b[49m\u001b[43mconvert_dtype\u001b[49m\u001b[43m,\u001b[49m\u001b[43m \u001b[49m\u001b[43margs\u001b[49m\u001b[43m,\u001b[49m\u001b[43m \u001b[49m\u001b[43mkwargs\u001b[49m\u001b[43m)\u001b[49m\u001b[38;5;241;43m.\u001b[39;49m\u001b[43mapply\u001b[49m\u001b[43m(\u001b[49m\u001b[43m)\u001b[49m\n",
      "File \u001b[0;32m~/miniconda3/envs/frontiers/lib/python3.8/site-packages/pandas/core/apply.py:1082\u001b[0m, in \u001b[0;36mSeriesApply.apply\u001b[0;34m(self)\u001b[0m\n\u001b[1;32m   1078\u001b[0m \u001b[38;5;28;01mif\u001b[39;00m \u001b[38;5;28misinstance\u001b[39m(\u001b[38;5;28mself\u001b[39m\u001b[38;5;241m.\u001b[39mf, \u001b[38;5;28mstr\u001b[39m):\n\u001b[1;32m   1079\u001b[0m     \u001b[38;5;66;03m# if we are a string, try to dispatch\u001b[39;00m\n\u001b[1;32m   1080\u001b[0m     \u001b[38;5;28;01mreturn\u001b[39;00m \u001b[38;5;28mself\u001b[39m\u001b[38;5;241m.\u001b[39mapply_str()\n\u001b[0;32m-> 1082\u001b[0m \u001b[38;5;28;01mreturn\u001b[39;00m \u001b[38;5;28;43mself\u001b[39;49m\u001b[38;5;241;43m.\u001b[39;49m\u001b[43mapply_standard\u001b[49m\u001b[43m(\u001b[49m\u001b[43m)\u001b[49m\n",
      "File \u001b[0;32m~/miniconda3/envs/frontiers/lib/python3.8/site-packages/pandas/core/apply.py:1137\u001b[0m, in \u001b[0;36mSeriesApply.apply_standard\u001b[0;34m(self)\u001b[0m\n\u001b[1;32m   1131\u001b[0m         values \u001b[38;5;241m=\u001b[39m obj\u001b[38;5;241m.\u001b[39mastype(\u001b[38;5;28mobject\u001b[39m)\u001b[38;5;241m.\u001b[39m_values\n\u001b[1;32m   1132\u001b[0m         \u001b[38;5;66;03m# error: Argument 2 to \"map_infer\" has incompatible type\u001b[39;00m\n\u001b[1;32m   1133\u001b[0m         \u001b[38;5;66;03m# \"Union[Callable[..., Any], str, List[Union[Callable[..., Any], str]],\u001b[39;00m\n\u001b[1;32m   1134\u001b[0m         \u001b[38;5;66;03m# Dict[Hashable, Union[Union[Callable[..., Any], str],\u001b[39;00m\n\u001b[1;32m   1135\u001b[0m         \u001b[38;5;66;03m# List[Union[Callable[..., Any], str]]]]]\"; expected\u001b[39;00m\n\u001b[1;32m   1136\u001b[0m         \u001b[38;5;66;03m# \"Callable[[Any], Any]\"\u001b[39;00m\n\u001b[0;32m-> 1137\u001b[0m         mapped \u001b[38;5;241m=\u001b[39m \u001b[43mlib\u001b[49m\u001b[38;5;241;43m.\u001b[39;49m\u001b[43mmap_infer\u001b[49m\u001b[43m(\u001b[49m\n\u001b[1;32m   1138\u001b[0m \u001b[43m            \u001b[49m\u001b[43mvalues\u001b[49m\u001b[43m,\u001b[49m\n\u001b[1;32m   1139\u001b[0m \u001b[43m            \u001b[49m\u001b[43mf\u001b[49m\u001b[43m,\u001b[49m\u001b[43m  \u001b[49m\u001b[38;5;66;43;03m# type: ignore[arg-type]\u001b[39;49;00m\n\u001b[1;32m   1140\u001b[0m \u001b[43m            \u001b[49m\u001b[43mconvert\u001b[49m\u001b[38;5;241;43m=\u001b[39;49m\u001b[38;5;28;43mself\u001b[39;49m\u001b[38;5;241;43m.\u001b[39;49m\u001b[43mconvert_dtype\u001b[49m\u001b[43m,\u001b[49m\n\u001b[1;32m   1141\u001b[0m \u001b[43m        \u001b[49m\u001b[43m)\u001b[49m\n\u001b[1;32m   1143\u001b[0m \u001b[38;5;28;01mif\u001b[39;00m \u001b[38;5;28mlen\u001b[39m(mapped) \u001b[38;5;129;01mand\u001b[39;00m \u001b[38;5;28misinstance\u001b[39m(mapped[\u001b[38;5;241m0\u001b[39m], ABCSeries):\n\u001b[1;32m   1144\u001b[0m     \u001b[38;5;66;03m# GH#43986 Need to do list(mapped) in order to get treated as nested\u001b[39;00m\n\u001b[1;32m   1145\u001b[0m     \u001b[38;5;66;03m#  See also GH#25959 regarding EA support\u001b[39;00m\n\u001b[1;32m   1146\u001b[0m     \u001b[38;5;28;01mreturn\u001b[39;00m obj\u001b[38;5;241m.\u001b[39m_constructor_expanddim(\u001b[38;5;28mlist\u001b[39m(mapped), index\u001b[38;5;241m=\u001b[39mobj\u001b[38;5;241m.\u001b[39mindex)\n",
      "File \u001b[0;32m~/miniconda3/envs/frontiers/lib/python3.8/site-packages/pandas/_libs/lib.pyx:2870\u001b[0m, in \u001b[0;36mpandas._libs.lib.map_infer\u001b[0;34m()\u001b[0m\n",
      "Input \u001b[0;32mIn [53]\u001b[0m, in \u001b[0;36mget_doc_embeddings_bert\u001b[0;34m(text)\u001b[0m\n\u001b[1;32m      2\u001b[0m \u001b[38;5;28;01mdef\u001b[39;00m \u001b[38;5;21mget_doc_embeddings_bert\u001b[39m(text):\n\u001b[1;32m      3\u001b[0m     sentences \u001b[38;5;241m=\u001b[39m text\u001b[38;5;241m.\u001b[39msplit(\u001b[38;5;124m\"\u001b[39m\u001b[38;5;124m. \u001b[39m\u001b[38;5;124m\"\u001b[39m)\n\u001b[0;32m----> 4\u001b[0m     embeddings \u001b[38;5;241m=\u001b[39m \u001b[43mmodel\u001b[49m\u001b[38;5;241;43m.\u001b[39;49m\u001b[43mencode\u001b[49m\u001b[43m(\u001b[49m\u001b[43msentences\u001b[49m\u001b[43m)\u001b[49m\n\u001b[1;32m      5\u001b[0m     doc_embeddings_bert \u001b[38;5;241m=\u001b[39m np\u001b[38;5;241m.\u001b[39mmean(embeddings, axis\u001b[38;5;241m=\u001b[39m\u001b[38;5;241m0\u001b[39m)\n\u001b[1;32m      6\u001b[0m     \u001b[38;5;28;01mreturn\u001b[39;00m doc_embeddings_bert\n",
      "File \u001b[0;32m~/miniconda3/envs/frontiers/lib/python3.8/site-packages/sentence_transformers/SentenceTransformer.py:164\u001b[0m, in \u001b[0;36mSentenceTransformer.encode\u001b[0;34m(self, sentences, batch_size, show_progress_bar, output_value, convert_to_numpy, convert_to_tensor, device, normalize_embeddings)\u001b[0m\n\u001b[1;32m    161\u001b[0m features \u001b[38;5;241m=\u001b[39m batch_to_device(features, device)\n\u001b[1;32m    163\u001b[0m \u001b[38;5;28;01mwith\u001b[39;00m torch\u001b[38;5;241m.\u001b[39mno_grad():\n\u001b[0;32m--> 164\u001b[0m     out_features \u001b[38;5;241m=\u001b[39m \u001b[38;5;28;43mself\u001b[39;49m\u001b[38;5;241;43m.\u001b[39;49m\u001b[43mforward\u001b[49m\u001b[43m(\u001b[49m\u001b[43mfeatures\u001b[49m\u001b[43m)\u001b[49m\n\u001b[1;32m    166\u001b[0m     \u001b[38;5;28;01mif\u001b[39;00m output_value \u001b[38;5;241m==\u001b[39m \u001b[38;5;124m'\u001b[39m\u001b[38;5;124mtoken_embeddings\u001b[39m\u001b[38;5;124m'\u001b[39m:\n\u001b[1;32m    167\u001b[0m         embeddings \u001b[38;5;241m=\u001b[39m []\n",
      "File \u001b[0;32m~/miniconda3/envs/frontiers/lib/python3.8/site-packages/torch/nn/modules/container.py:141\u001b[0m, in \u001b[0;36mSequential.forward\u001b[0;34m(self, input)\u001b[0m\n\u001b[1;32m    139\u001b[0m \u001b[38;5;28;01mdef\u001b[39;00m \u001b[38;5;21mforward\u001b[39m(\u001b[38;5;28mself\u001b[39m, \u001b[38;5;28minput\u001b[39m):\n\u001b[1;32m    140\u001b[0m     \u001b[38;5;28;01mfor\u001b[39;00m module \u001b[38;5;129;01min\u001b[39;00m \u001b[38;5;28mself\u001b[39m:\n\u001b[0;32m--> 141\u001b[0m         \u001b[38;5;28minput\u001b[39m \u001b[38;5;241m=\u001b[39m \u001b[43mmodule\u001b[49m\u001b[43m(\u001b[49m\u001b[38;5;28;43minput\u001b[39;49m\u001b[43m)\u001b[49m\n\u001b[1;32m    142\u001b[0m     \u001b[38;5;28;01mreturn\u001b[39;00m \u001b[38;5;28minput\u001b[39m\n",
      "File \u001b[0;32m~/miniconda3/envs/frontiers/lib/python3.8/site-packages/torch/nn/modules/module.py:1110\u001b[0m, in \u001b[0;36mModule._call_impl\u001b[0;34m(self, *input, **kwargs)\u001b[0m\n\u001b[1;32m   1106\u001b[0m \u001b[38;5;66;03m# If we don't have any hooks, we want to skip the rest of the logic in\u001b[39;00m\n\u001b[1;32m   1107\u001b[0m \u001b[38;5;66;03m# this function, and just call forward.\u001b[39;00m\n\u001b[1;32m   1108\u001b[0m \u001b[38;5;28;01mif\u001b[39;00m \u001b[38;5;129;01mnot\u001b[39;00m (\u001b[38;5;28mself\u001b[39m\u001b[38;5;241m.\u001b[39m_backward_hooks \u001b[38;5;129;01mor\u001b[39;00m \u001b[38;5;28mself\u001b[39m\u001b[38;5;241m.\u001b[39m_forward_hooks \u001b[38;5;129;01mor\u001b[39;00m \u001b[38;5;28mself\u001b[39m\u001b[38;5;241m.\u001b[39m_forward_pre_hooks \u001b[38;5;129;01mor\u001b[39;00m _global_backward_hooks\n\u001b[1;32m   1109\u001b[0m         \u001b[38;5;129;01mor\u001b[39;00m _global_forward_hooks \u001b[38;5;129;01mor\u001b[39;00m _global_forward_pre_hooks):\n\u001b[0;32m-> 1110\u001b[0m     \u001b[38;5;28;01mreturn\u001b[39;00m \u001b[43mforward_call\u001b[49m\u001b[43m(\u001b[49m\u001b[38;5;241;43m*\u001b[39;49m\u001b[38;5;28;43minput\u001b[39;49m\u001b[43m,\u001b[49m\u001b[43m \u001b[49m\u001b[38;5;241;43m*\u001b[39;49m\u001b[38;5;241;43m*\u001b[39;49m\u001b[43mkwargs\u001b[49m\u001b[43m)\u001b[49m\n\u001b[1;32m   1111\u001b[0m \u001b[38;5;66;03m# Do not call functions when jit is used\u001b[39;00m\n\u001b[1;32m   1112\u001b[0m full_backward_hooks, non_full_backward_hooks \u001b[38;5;241m=\u001b[39m [], []\n",
      "File \u001b[0;32m~/miniconda3/envs/frontiers/lib/python3.8/site-packages/sentence_transformers/models/Transformer.py:66\u001b[0m, in \u001b[0;36mTransformer.forward\u001b[0;34m(self, features)\u001b[0m\n\u001b[1;32m     63\u001b[0m \u001b[38;5;28;01mif\u001b[39;00m \u001b[38;5;124m'\u001b[39m\u001b[38;5;124mtoken_type_ids\u001b[39m\u001b[38;5;124m'\u001b[39m \u001b[38;5;129;01min\u001b[39;00m features:\n\u001b[1;32m     64\u001b[0m     trans_features[\u001b[38;5;124m'\u001b[39m\u001b[38;5;124mtoken_type_ids\u001b[39m\u001b[38;5;124m'\u001b[39m] \u001b[38;5;241m=\u001b[39m features[\u001b[38;5;124m'\u001b[39m\u001b[38;5;124mtoken_type_ids\u001b[39m\u001b[38;5;124m'\u001b[39m]\n\u001b[0;32m---> 66\u001b[0m output_states \u001b[38;5;241m=\u001b[39m \u001b[38;5;28;43mself\u001b[39;49m\u001b[38;5;241;43m.\u001b[39;49m\u001b[43mauto_model\u001b[49m\u001b[43m(\u001b[49m\u001b[38;5;241;43m*\u001b[39;49m\u001b[38;5;241;43m*\u001b[39;49m\u001b[43mtrans_features\u001b[49m\u001b[43m,\u001b[49m\u001b[43m \u001b[49m\u001b[43mreturn_dict\u001b[49m\u001b[38;5;241;43m=\u001b[39;49m\u001b[38;5;28;43;01mFalse\u001b[39;49;00m\u001b[43m)\u001b[49m\n\u001b[1;32m     67\u001b[0m output_tokens \u001b[38;5;241m=\u001b[39m output_states[\u001b[38;5;241m0\u001b[39m]\n\u001b[1;32m     69\u001b[0m features\u001b[38;5;241m.\u001b[39mupdate({\u001b[38;5;124m'\u001b[39m\u001b[38;5;124mtoken_embeddings\u001b[39m\u001b[38;5;124m'\u001b[39m: output_tokens, \u001b[38;5;124m'\u001b[39m\u001b[38;5;124mattention_mask\u001b[39m\u001b[38;5;124m'\u001b[39m: features[\u001b[38;5;124m'\u001b[39m\u001b[38;5;124mattention_mask\u001b[39m\u001b[38;5;124m'\u001b[39m]})\n",
      "File \u001b[0;32m~/miniconda3/envs/frontiers/lib/python3.8/site-packages/torch/nn/modules/module.py:1110\u001b[0m, in \u001b[0;36mModule._call_impl\u001b[0;34m(self, *input, **kwargs)\u001b[0m\n\u001b[1;32m   1106\u001b[0m \u001b[38;5;66;03m# If we don't have any hooks, we want to skip the rest of the logic in\u001b[39;00m\n\u001b[1;32m   1107\u001b[0m \u001b[38;5;66;03m# this function, and just call forward.\u001b[39;00m\n\u001b[1;32m   1108\u001b[0m \u001b[38;5;28;01mif\u001b[39;00m \u001b[38;5;129;01mnot\u001b[39;00m (\u001b[38;5;28mself\u001b[39m\u001b[38;5;241m.\u001b[39m_backward_hooks \u001b[38;5;129;01mor\u001b[39;00m \u001b[38;5;28mself\u001b[39m\u001b[38;5;241m.\u001b[39m_forward_hooks \u001b[38;5;129;01mor\u001b[39;00m \u001b[38;5;28mself\u001b[39m\u001b[38;5;241m.\u001b[39m_forward_pre_hooks \u001b[38;5;129;01mor\u001b[39;00m _global_backward_hooks\n\u001b[1;32m   1109\u001b[0m         \u001b[38;5;129;01mor\u001b[39;00m _global_forward_hooks \u001b[38;5;129;01mor\u001b[39;00m _global_forward_pre_hooks):\n\u001b[0;32m-> 1110\u001b[0m     \u001b[38;5;28;01mreturn\u001b[39;00m \u001b[43mforward_call\u001b[49m\u001b[43m(\u001b[49m\u001b[38;5;241;43m*\u001b[39;49m\u001b[38;5;28;43minput\u001b[39;49m\u001b[43m,\u001b[49m\u001b[43m \u001b[49m\u001b[38;5;241;43m*\u001b[39;49m\u001b[38;5;241;43m*\u001b[39;49m\u001b[43mkwargs\u001b[49m\u001b[43m)\u001b[49m\n\u001b[1;32m   1111\u001b[0m \u001b[38;5;66;03m# Do not call functions when jit is used\u001b[39;00m\n\u001b[1;32m   1112\u001b[0m full_backward_hooks, non_full_backward_hooks \u001b[38;5;241m=\u001b[39m [], []\n",
      "File \u001b[0;32m~/miniconda3/envs/frontiers/lib/python3.8/site-packages/transformers/models/bert/modeling_bert.py:996\u001b[0m, in \u001b[0;36mBertModel.forward\u001b[0;34m(self, input_ids, attention_mask, token_type_ids, position_ids, head_mask, inputs_embeds, encoder_hidden_states, encoder_attention_mask, past_key_values, use_cache, output_attentions, output_hidden_states, return_dict)\u001b[0m\n\u001b[1;32m    987\u001b[0m head_mask \u001b[38;5;241m=\u001b[39m \u001b[38;5;28mself\u001b[39m\u001b[38;5;241m.\u001b[39mget_head_mask(head_mask, \u001b[38;5;28mself\u001b[39m\u001b[38;5;241m.\u001b[39mconfig\u001b[38;5;241m.\u001b[39mnum_hidden_layers)\n\u001b[1;32m    989\u001b[0m embedding_output \u001b[38;5;241m=\u001b[39m \u001b[38;5;28mself\u001b[39m\u001b[38;5;241m.\u001b[39membeddings(\n\u001b[1;32m    990\u001b[0m     input_ids\u001b[38;5;241m=\u001b[39minput_ids,\n\u001b[1;32m    991\u001b[0m     position_ids\u001b[38;5;241m=\u001b[39mposition_ids,\n\u001b[0;32m   (...)\u001b[0m\n\u001b[1;32m    994\u001b[0m     past_key_values_length\u001b[38;5;241m=\u001b[39mpast_key_values_length,\n\u001b[1;32m    995\u001b[0m )\n\u001b[0;32m--> 996\u001b[0m encoder_outputs \u001b[38;5;241m=\u001b[39m \u001b[38;5;28;43mself\u001b[39;49m\u001b[38;5;241;43m.\u001b[39;49m\u001b[43mencoder\u001b[49m\u001b[43m(\u001b[49m\n\u001b[1;32m    997\u001b[0m \u001b[43m    \u001b[49m\u001b[43membedding_output\u001b[49m\u001b[43m,\u001b[49m\n\u001b[1;32m    998\u001b[0m \u001b[43m    \u001b[49m\u001b[43mattention_mask\u001b[49m\u001b[38;5;241;43m=\u001b[39;49m\u001b[43mextended_attention_mask\u001b[49m\u001b[43m,\u001b[49m\n\u001b[1;32m    999\u001b[0m \u001b[43m    \u001b[49m\u001b[43mhead_mask\u001b[49m\u001b[38;5;241;43m=\u001b[39;49m\u001b[43mhead_mask\u001b[49m\u001b[43m,\u001b[49m\n\u001b[1;32m   1000\u001b[0m \u001b[43m    \u001b[49m\u001b[43mencoder_hidden_states\u001b[49m\u001b[38;5;241;43m=\u001b[39;49m\u001b[43mencoder_hidden_states\u001b[49m\u001b[43m,\u001b[49m\n\u001b[1;32m   1001\u001b[0m \u001b[43m    \u001b[49m\u001b[43mencoder_attention_mask\u001b[49m\u001b[38;5;241;43m=\u001b[39;49m\u001b[43mencoder_extended_attention_mask\u001b[49m\u001b[43m,\u001b[49m\n\u001b[1;32m   1002\u001b[0m \u001b[43m    \u001b[49m\u001b[43mpast_key_values\u001b[49m\u001b[38;5;241;43m=\u001b[39;49m\u001b[43mpast_key_values\u001b[49m\u001b[43m,\u001b[49m\n\u001b[1;32m   1003\u001b[0m \u001b[43m    \u001b[49m\u001b[43muse_cache\u001b[49m\u001b[38;5;241;43m=\u001b[39;49m\u001b[43muse_cache\u001b[49m\u001b[43m,\u001b[49m\n\u001b[1;32m   1004\u001b[0m \u001b[43m    \u001b[49m\u001b[43moutput_attentions\u001b[49m\u001b[38;5;241;43m=\u001b[39;49m\u001b[43moutput_attentions\u001b[49m\u001b[43m,\u001b[49m\n\u001b[1;32m   1005\u001b[0m \u001b[43m    \u001b[49m\u001b[43moutput_hidden_states\u001b[49m\u001b[38;5;241;43m=\u001b[39;49m\u001b[43moutput_hidden_states\u001b[49m\u001b[43m,\u001b[49m\n\u001b[1;32m   1006\u001b[0m \u001b[43m    \u001b[49m\u001b[43mreturn_dict\u001b[49m\u001b[38;5;241;43m=\u001b[39;49m\u001b[43mreturn_dict\u001b[49m\u001b[43m,\u001b[49m\n\u001b[1;32m   1007\u001b[0m \u001b[43m\u001b[49m\u001b[43m)\u001b[49m\n\u001b[1;32m   1008\u001b[0m sequence_output \u001b[38;5;241m=\u001b[39m encoder_outputs[\u001b[38;5;241m0\u001b[39m]\n\u001b[1;32m   1009\u001b[0m pooled_output \u001b[38;5;241m=\u001b[39m \u001b[38;5;28mself\u001b[39m\u001b[38;5;241m.\u001b[39mpooler(sequence_output) \u001b[38;5;28;01mif\u001b[39;00m \u001b[38;5;28mself\u001b[39m\u001b[38;5;241m.\u001b[39mpooler \u001b[38;5;129;01mis\u001b[39;00m \u001b[38;5;129;01mnot\u001b[39;00m \u001b[38;5;28;01mNone\u001b[39;00m \u001b[38;5;28;01melse\u001b[39;00m \u001b[38;5;28;01mNone\u001b[39;00m\n",
      "File \u001b[0;32m~/miniconda3/envs/frontiers/lib/python3.8/site-packages/torch/nn/modules/module.py:1110\u001b[0m, in \u001b[0;36mModule._call_impl\u001b[0;34m(self, *input, **kwargs)\u001b[0m\n\u001b[1;32m   1106\u001b[0m \u001b[38;5;66;03m# If we don't have any hooks, we want to skip the rest of the logic in\u001b[39;00m\n\u001b[1;32m   1107\u001b[0m \u001b[38;5;66;03m# this function, and just call forward.\u001b[39;00m\n\u001b[1;32m   1108\u001b[0m \u001b[38;5;28;01mif\u001b[39;00m \u001b[38;5;129;01mnot\u001b[39;00m (\u001b[38;5;28mself\u001b[39m\u001b[38;5;241m.\u001b[39m_backward_hooks \u001b[38;5;129;01mor\u001b[39;00m \u001b[38;5;28mself\u001b[39m\u001b[38;5;241m.\u001b[39m_forward_hooks \u001b[38;5;129;01mor\u001b[39;00m \u001b[38;5;28mself\u001b[39m\u001b[38;5;241m.\u001b[39m_forward_pre_hooks \u001b[38;5;129;01mor\u001b[39;00m _global_backward_hooks\n\u001b[1;32m   1109\u001b[0m         \u001b[38;5;129;01mor\u001b[39;00m _global_forward_hooks \u001b[38;5;129;01mor\u001b[39;00m _global_forward_pre_hooks):\n\u001b[0;32m-> 1110\u001b[0m     \u001b[38;5;28;01mreturn\u001b[39;00m \u001b[43mforward_call\u001b[49m\u001b[43m(\u001b[49m\u001b[38;5;241;43m*\u001b[39;49m\u001b[38;5;28;43minput\u001b[39;49m\u001b[43m,\u001b[49m\u001b[43m \u001b[49m\u001b[38;5;241;43m*\u001b[39;49m\u001b[38;5;241;43m*\u001b[39;49m\u001b[43mkwargs\u001b[49m\u001b[43m)\u001b[49m\n\u001b[1;32m   1111\u001b[0m \u001b[38;5;66;03m# Do not call functions when jit is used\u001b[39;00m\n\u001b[1;32m   1112\u001b[0m full_backward_hooks, non_full_backward_hooks \u001b[38;5;241m=\u001b[39m [], []\n",
      "File \u001b[0;32m~/miniconda3/envs/frontiers/lib/python3.8/site-packages/transformers/models/bert/modeling_bert.py:585\u001b[0m, in \u001b[0;36mBertEncoder.forward\u001b[0;34m(self, hidden_states, attention_mask, head_mask, encoder_hidden_states, encoder_attention_mask, past_key_values, use_cache, output_attentions, output_hidden_states, return_dict)\u001b[0m\n\u001b[1;32m    576\u001b[0m     layer_outputs \u001b[38;5;241m=\u001b[39m torch\u001b[38;5;241m.\u001b[39mutils\u001b[38;5;241m.\u001b[39mcheckpoint\u001b[38;5;241m.\u001b[39mcheckpoint(\n\u001b[1;32m    577\u001b[0m         create_custom_forward(layer_module),\n\u001b[1;32m    578\u001b[0m         hidden_states,\n\u001b[0;32m   (...)\u001b[0m\n\u001b[1;32m    582\u001b[0m         encoder_attention_mask,\n\u001b[1;32m    583\u001b[0m     )\n\u001b[1;32m    584\u001b[0m \u001b[38;5;28;01melse\u001b[39;00m:\n\u001b[0;32m--> 585\u001b[0m     layer_outputs \u001b[38;5;241m=\u001b[39m \u001b[43mlayer_module\u001b[49m\u001b[43m(\u001b[49m\n\u001b[1;32m    586\u001b[0m \u001b[43m        \u001b[49m\u001b[43mhidden_states\u001b[49m\u001b[43m,\u001b[49m\n\u001b[1;32m    587\u001b[0m \u001b[43m        \u001b[49m\u001b[43mattention_mask\u001b[49m\u001b[43m,\u001b[49m\n\u001b[1;32m    588\u001b[0m \u001b[43m        \u001b[49m\u001b[43mlayer_head_mask\u001b[49m\u001b[43m,\u001b[49m\n\u001b[1;32m    589\u001b[0m \u001b[43m        \u001b[49m\u001b[43mencoder_hidden_states\u001b[49m\u001b[43m,\u001b[49m\n\u001b[1;32m    590\u001b[0m \u001b[43m        \u001b[49m\u001b[43mencoder_attention_mask\u001b[49m\u001b[43m,\u001b[49m\n\u001b[1;32m    591\u001b[0m \u001b[43m        \u001b[49m\u001b[43mpast_key_value\u001b[49m\u001b[43m,\u001b[49m\n\u001b[1;32m    592\u001b[0m \u001b[43m        \u001b[49m\u001b[43moutput_attentions\u001b[49m\u001b[43m,\u001b[49m\n\u001b[1;32m    593\u001b[0m \u001b[43m    \u001b[49m\u001b[43m)\u001b[49m\n\u001b[1;32m    595\u001b[0m hidden_states \u001b[38;5;241m=\u001b[39m layer_outputs[\u001b[38;5;241m0\u001b[39m]\n\u001b[1;32m    596\u001b[0m \u001b[38;5;28;01mif\u001b[39;00m use_cache:\n",
      "File \u001b[0;32m~/miniconda3/envs/frontiers/lib/python3.8/site-packages/torch/nn/modules/module.py:1110\u001b[0m, in \u001b[0;36mModule._call_impl\u001b[0;34m(self, *input, **kwargs)\u001b[0m\n\u001b[1;32m   1106\u001b[0m \u001b[38;5;66;03m# If we don't have any hooks, we want to skip the rest of the logic in\u001b[39;00m\n\u001b[1;32m   1107\u001b[0m \u001b[38;5;66;03m# this function, and just call forward.\u001b[39;00m\n\u001b[1;32m   1108\u001b[0m \u001b[38;5;28;01mif\u001b[39;00m \u001b[38;5;129;01mnot\u001b[39;00m (\u001b[38;5;28mself\u001b[39m\u001b[38;5;241m.\u001b[39m_backward_hooks \u001b[38;5;129;01mor\u001b[39;00m \u001b[38;5;28mself\u001b[39m\u001b[38;5;241m.\u001b[39m_forward_hooks \u001b[38;5;129;01mor\u001b[39;00m \u001b[38;5;28mself\u001b[39m\u001b[38;5;241m.\u001b[39m_forward_pre_hooks \u001b[38;5;129;01mor\u001b[39;00m _global_backward_hooks\n\u001b[1;32m   1109\u001b[0m         \u001b[38;5;129;01mor\u001b[39;00m _global_forward_hooks \u001b[38;5;129;01mor\u001b[39;00m _global_forward_pre_hooks):\n\u001b[0;32m-> 1110\u001b[0m     \u001b[38;5;28;01mreturn\u001b[39;00m \u001b[43mforward_call\u001b[49m\u001b[43m(\u001b[49m\u001b[38;5;241;43m*\u001b[39;49m\u001b[38;5;28;43minput\u001b[39;49m\u001b[43m,\u001b[49m\u001b[43m \u001b[49m\u001b[38;5;241;43m*\u001b[39;49m\u001b[38;5;241;43m*\u001b[39;49m\u001b[43mkwargs\u001b[49m\u001b[43m)\u001b[49m\n\u001b[1;32m   1111\u001b[0m \u001b[38;5;66;03m# Do not call functions when jit is used\u001b[39;00m\n\u001b[1;32m   1112\u001b[0m full_backward_hooks, non_full_backward_hooks \u001b[38;5;241m=\u001b[39m [], []\n",
      "File \u001b[0;32m~/miniconda3/envs/frontiers/lib/python3.8/site-packages/transformers/models/bert/modeling_bert.py:472\u001b[0m, in \u001b[0;36mBertLayer.forward\u001b[0;34m(self, hidden_states, attention_mask, head_mask, encoder_hidden_states, encoder_attention_mask, past_key_value, output_attentions)\u001b[0m\n\u001b[1;32m    460\u001b[0m \u001b[38;5;28;01mdef\u001b[39;00m \u001b[38;5;21mforward\u001b[39m(\n\u001b[1;32m    461\u001b[0m     \u001b[38;5;28mself\u001b[39m,\n\u001b[1;32m    462\u001b[0m     hidden_states: torch\u001b[38;5;241m.\u001b[39mTensor,\n\u001b[0;32m   (...)\u001b[0m\n\u001b[1;32m    469\u001b[0m ) \u001b[38;5;241m-\u001b[39m\u001b[38;5;241m>\u001b[39m Tuple[torch\u001b[38;5;241m.\u001b[39mTensor]:\n\u001b[1;32m    470\u001b[0m     \u001b[38;5;66;03m# decoder uni-directional self-attention cached key/values tuple is at positions 1,2\u001b[39;00m\n\u001b[1;32m    471\u001b[0m     self_attn_past_key_value \u001b[38;5;241m=\u001b[39m past_key_value[:\u001b[38;5;241m2\u001b[39m] \u001b[38;5;28;01mif\u001b[39;00m past_key_value \u001b[38;5;129;01mis\u001b[39;00m \u001b[38;5;129;01mnot\u001b[39;00m \u001b[38;5;28;01mNone\u001b[39;00m \u001b[38;5;28;01melse\u001b[39;00m \u001b[38;5;28;01mNone\u001b[39;00m\n\u001b[0;32m--> 472\u001b[0m     self_attention_outputs \u001b[38;5;241m=\u001b[39m \u001b[38;5;28;43mself\u001b[39;49m\u001b[38;5;241;43m.\u001b[39;49m\u001b[43mattention\u001b[49m\u001b[43m(\u001b[49m\n\u001b[1;32m    473\u001b[0m \u001b[43m        \u001b[49m\u001b[43mhidden_states\u001b[49m\u001b[43m,\u001b[49m\n\u001b[1;32m    474\u001b[0m \u001b[43m        \u001b[49m\u001b[43mattention_mask\u001b[49m\u001b[43m,\u001b[49m\n\u001b[1;32m    475\u001b[0m \u001b[43m        \u001b[49m\u001b[43mhead_mask\u001b[49m\u001b[43m,\u001b[49m\n\u001b[1;32m    476\u001b[0m \u001b[43m        \u001b[49m\u001b[43moutput_attentions\u001b[49m\u001b[38;5;241;43m=\u001b[39;49m\u001b[43moutput_attentions\u001b[49m\u001b[43m,\u001b[49m\n\u001b[1;32m    477\u001b[0m \u001b[43m        \u001b[49m\u001b[43mpast_key_value\u001b[49m\u001b[38;5;241;43m=\u001b[39;49m\u001b[43mself_attn_past_key_value\u001b[49m\u001b[43m,\u001b[49m\n\u001b[1;32m    478\u001b[0m \u001b[43m    \u001b[49m\u001b[43m)\u001b[49m\n\u001b[1;32m    479\u001b[0m     attention_output \u001b[38;5;241m=\u001b[39m self_attention_outputs[\u001b[38;5;241m0\u001b[39m]\n\u001b[1;32m    481\u001b[0m     \u001b[38;5;66;03m# if decoder, the last output is tuple of self-attn cache\u001b[39;00m\n",
      "File \u001b[0;32m~/miniconda3/envs/frontiers/lib/python3.8/site-packages/torch/nn/modules/module.py:1110\u001b[0m, in \u001b[0;36mModule._call_impl\u001b[0;34m(self, *input, **kwargs)\u001b[0m\n\u001b[1;32m   1106\u001b[0m \u001b[38;5;66;03m# If we don't have any hooks, we want to skip the rest of the logic in\u001b[39;00m\n\u001b[1;32m   1107\u001b[0m \u001b[38;5;66;03m# this function, and just call forward.\u001b[39;00m\n\u001b[1;32m   1108\u001b[0m \u001b[38;5;28;01mif\u001b[39;00m \u001b[38;5;129;01mnot\u001b[39;00m (\u001b[38;5;28mself\u001b[39m\u001b[38;5;241m.\u001b[39m_backward_hooks \u001b[38;5;129;01mor\u001b[39;00m \u001b[38;5;28mself\u001b[39m\u001b[38;5;241m.\u001b[39m_forward_hooks \u001b[38;5;129;01mor\u001b[39;00m \u001b[38;5;28mself\u001b[39m\u001b[38;5;241m.\u001b[39m_forward_pre_hooks \u001b[38;5;129;01mor\u001b[39;00m _global_backward_hooks\n\u001b[1;32m   1109\u001b[0m         \u001b[38;5;129;01mor\u001b[39;00m _global_forward_hooks \u001b[38;5;129;01mor\u001b[39;00m _global_forward_pre_hooks):\n\u001b[0;32m-> 1110\u001b[0m     \u001b[38;5;28;01mreturn\u001b[39;00m \u001b[43mforward_call\u001b[49m\u001b[43m(\u001b[49m\u001b[38;5;241;43m*\u001b[39;49m\u001b[38;5;28;43minput\u001b[39;49m\u001b[43m,\u001b[49m\u001b[43m \u001b[49m\u001b[38;5;241;43m*\u001b[39;49m\u001b[38;5;241;43m*\u001b[39;49m\u001b[43mkwargs\u001b[49m\u001b[43m)\u001b[49m\n\u001b[1;32m   1111\u001b[0m \u001b[38;5;66;03m# Do not call functions when jit is used\u001b[39;00m\n\u001b[1;32m   1112\u001b[0m full_backward_hooks, non_full_backward_hooks \u001b[38;5;241m=\u001b[39m [], []\n",
      "File \u001b[0;32m~/miniconda3/envs/frontiers/lib/python3.8/site-packages/transformers/models/bert/modeling_bert.py:402\u001b[0m, in \u001b[0;36mBertAttention.forward\u001b[0;34m(self, hidden_states, attention_mask, head_mask, encoder_hidden_states, encoder_attention_mask, past_key_value, output_attentions)\u001b[0m\n\u001b[1;32m    392\u001b[0m \u001b[38;5;28;01mdef\u001b[39;00m \u001b[38;5;21mforward\u001b[39m(\n\u001b[1;32m    393\u001b[0m     \u001b[38;5;28mself\u001b[39m,\n\u001b[1;32m    394\u001b[0m     hidden_states: torch\u001b[38;5;241m.\u001b[39mTensor,\n\u001b[0;32m   (...)\u001b[0m\n\u001b[1;32m    400\u001b[0m     output_attentions: Optional[\u001b[38;5;28mbool\u001b[39m] \u001b[38;5;241m=\u001b[39m \u001b[38;5;28;01mFalse\u001b[39;00m,\n\u001b[1;32m    401\u001b[0m ) \u001b[38;5;241m-\u001b[39m\u001b[38;5;241m>\u001b[39m Tuple[torch\u001b[38;5;241m.\u001b[39mTensor]:\n\u001b[0;32m--> 402\u001b[0m     self_outputs \u001b[38;5;241m=\u001b[39m \u001b[38;5;28;43mself\u001b[39;49m\u001b[38;5;241;43m.\u001b[39;49m\u001b[43mself\u001b[49m\u001b[43m(\u001b[49m\n\u001b[1;32m    403\u001b[0m \u001b[43m        \u001b[49m\u001b[43mhidden_states\u001b[49m\u001b[43m,\u001b[49m\n\u001b[1;32m    404\u001b[0m \u001b[43m        \u001b[49m\u001b[43mattention_mask\u001b[49m\u001b[43m,\u001b[49m\n\u001b[1;32m    405\u001b[0m \u001b[43m        \u001b[49m\u001b[43mhead_mask\u001b[49m\u001b[43m,\u001b[49m\n\u001b[1;32m    406\u001b[0m \u001b[43m        \u001b[49m\u001b[43mencoder_hidden_states\u001b[49m\u001b[43m,\u001b[49m\n\u001b[1;32m    407\u001b[0m \u001b[43m        \u001b[49m\u001b[43mencoder_attention_mask\u001b[49m\u001b[43m,\u001b[49m\n\u001b[1;32m    408\u001b[0m \u001b[43m        \u001b[49m\u001b[43mpast_key_value\u001b[49m\u001b[43m,\u001b[49m\n\u001b[1;32m    409\u001b[0m \u001b[43m        \u001b[49m\u001b[43moutput_attentions\u001b[49m\u001b[43m,\u001b[49m\n\u001b[1;32m    410\u001b[0m \u001b[43m    \u001b[49m\u001b[43m)\u001b[49m\n\u001b[1;32m    411\u001b[0m     attention_output \u001b[38;5;241m=\u001b[39m \u001b[38;5;28mself\u001b[39m\u001b[38;5;241m.\u001b[39moutput(self_outputs[\u001b[38;5;241m0\u001b[39m], hidden_states)\n\u001b[1;32m    412\u001b[0m     outputs \u001b[38;5;241m=\u001b[39m (attention_output,) \u001b[38;5;241m+\u001b[39m self_outputs[\u001b[38;5;241m1\u001b[39m:]  \u001b[38;5;66;03m# add attentions if we output them\u001b[39;00m\n",
      "File \u001b[0;32m~/miniconda3/envs/frontiers/lib/python3.8/site-packages/torch/nn/modules/module.py:1110\u001b[0m, in \u001b[0;36mModule._call_impl\u001b[0;34m(self, *input, **kwargs)\u001b[0m\n\u001b[1;32m   1106\u001b[0m \u001b[38;5;66;03m# If we don't have any hooks, we want to skip the rest of the logic in\u001b[39;00m\n\u001b[1;32m   1107\u001b[0m \u001b[38;5;66;03m# this function, and just call forward.\u001b[39;00m\n\u001b[1;32m   1108\u001b[0m \u001b[38;5;28;01mif\u001b[39;00m \u001b[38;5;129;01mnot\u001b[39;00m (\u001b[38;5;28mself\u001b[39m\u001b[38;5;241m.\u001b[39m_backward_hooks \u001b[38;5;129;01mor\u001b[39;00m \u001b[38;5;28mself\u001b[39m\u001b[38;5;241m.\u001b[39m_forward_hooks \u001b[38;5;129;01mor\u001b[39;00m \u001b[38;5;28mself\u001b[39m\u001b[38;5;241m.\u001b[39m_forward_pre_hooks \u001b[38;5;129;01mor\u001b[39;00m _global_backward_hooks\n\u001b[1;32m   1109\u001b[0m         \u001b[38;5;129;01mor\u001b[39;00m _global_forward_hooks \u001b[38;5;129;01mor\u001b[39;00m _global_forward_pre_hooks):\n\u001b[0;32m-> 1110\u001b[0m     \u001b[38;5;28;01mreturn\u001b[39;00m \u001b[43mforward_call\u001b[49m\u001b[43m(\u001b[49m\u001b[38;5;241;43m*\u001b[39;49m\u001b[38;5;28;43minput\u001b[39;49m\u001b[43m,\u001b[49m\u001b[43m \u001b[49m\u001b[38;5;241;43m*\u001b[39;49m\u001b[38;5;241;43m*\u001b[39;49m\u001b[43mkwargs\u001b[49m\u001b[43m)\u001b[49m\n\u001b[1;32m   1111\u001b[0m \u001b[38;5;66;03m# Do not call functions when jit is used\u001b[39;00m\n\u001b[1;32m   1112\u001b[0m full_backward_hooks, non_full_backward_hooks \u001b[38;5;241m=\u001b[39m [], []\n",
      "File \u001b[0;32m~/miniconda3/envs/frontiers/lib/python3.8/site-packages/transformers/models/bert/modeling_bert.py:330\u001b[0m, in \u001b[0;36mBertSelfAttention.forward\u001b[0;34m(self, hidden_states, attention_mask, head_mask, encoder_hidden_states, encoder_attention_mask, past_key_value, output_attentions)\u001b[0m\n\u001b[1;32m    327\u001b[0m     attention_scores \u001b[38;5;241m=\u001b[39m attention_scores \u001b[38;5;241m+\u001b[39m attention_mask\n\u001b[1;32m    329\u001b[0m \u001b[38;5;66;03m# Normalize the attention scores to probabilities.\u001b[39;00m\n\u001b[0;32m--> 330\u001b[0m attention_probs \u001b[38;5;241m=\u001b[39m \u001b[43mnn\u001b[49m\u001b[38;5;241;43m.\u001b[39;49m\u001b[43mfunctional\u001b[49m\u001b[38;5;241;43m.\u001b[39;49m\u001b[43msoftmax\u001b[49m\u001b[43m(\u001b[49m\u001b[43mattention_scores\u001b[49m\u001b[43m,\u001b[49m\u001b[43m \u001b[49m\u001b[43mdim\u001b[49m\u001b[38;5;241;43m=\u001b[39;49m\u001b[38;5;241;43m-\u001b[39;49m\u001b[38;5;241;43m1\u001b[39;49m\u001b[43m)\u001b[49m\n\u001b[1;32m    332\u001b[0m \u001b[38;5;66;03m# This is actually dropping out entire tokens to attend to, which might\u001b[39;00m\n\u001b[1;32m    333\u001b[0m \u001b[38;5;66;03m# seem a bit unusual, but is taken from the original Transformer paper.\u001b[39;00m\n\u001b[1;32m    334\u001b[0m attention_probs \u001b[38;5;241m=\u001b[39m \u001b[38;5;28mself\u001b[39m\u001b[38;5;241m.\u001b[39mdropout(attention_probs)\n",
      "File \u001b[0;32m~/miniconda3/envs/frontiers/lib/python3.8/site-packages/torch/nn/functional.py:1818\u001b[0m, in \u001b[0;36msoftmax\u001b[0;34m(input, dim, _stacklevel, dtype)\u001b[0m\n\u001b[1;32m   1816\u001b[0m     dim \u001b[38;5;241m=\u001b[39m _get_softmax_dim(\u001b[38;5;124m\"\u001b[39m\u001b[38;5;124msoftmax\u001b[39m\u001b[38;5;124m\"\u001b[39m, \u001b[38;5;28minput\u001b[39m\u001b[38;5;241m.\u001b[39mdim(), _stacklevel)\n\u001b[1;32m   1817\u001b[0m \u001b[38;5;28;01mif\u001b[39;00m dtype \u001b[38;5;129;01mis\u001b[39;00m \u001b[38;5;28;01mNone\u001b[39;00m:\n\u001b[0;32m-> 1818\u001b[0m     ret \u001b[38;5;241m=\u001b[39m \u001b[38;5;28;43minput\u001b[39;49m\u001b[38;5;241;43m.\u001b[39;49m\u001b[43msoftmax\u001b[49m\u001b[43m(\u001b[49m\u001b[43mdim\u001b[49m\u001b[43m)\u001b[49m\n\u001b[1;32m   1819\u001b[0m \u001b[38;5;28;01melse\u001b[39;00m:\n\u001b[1;32m   1820\u001b[0m     ret \u001b[38;5;241m=\u001b[39m \u001b[38;5;28minput\u001b[39m\u001b[38;5;241m.\u001b[39msoftmax(dim, dtype\u001b[38;5;241m=\u001b[39mdtype)\n",
      "\u001b[0;31mKeyboardInterrupt\u001b[0m: "
     ]
    }
   ],
   "source": [
    "df[\"embeddings_text_bert\"] = df[\"text\"].apply(get_doc_embeddings_bert)"
   ]
  },
  {
   "cell_type": "code",
   "execution_count": null,
   "id": "6fae05b7",
   "metadata": {},
   "outputs": [],
   "source": []
  }
 ],
 "metadata": {
  "kernelspec": {
   "display_name": "Python 3 (ipykernel)",
   "language": "python",
   "name": "python3"
  },
  "language_info": {
   "codemirror_mode": {
    "name": "ipython",
    "version": 3
   },
   "file_extension": ".py",
   "mimetype": "text/x-python",
   "name": "python",
   "nbconvert_exporter": "python",
   "pygments_lexer": "ipython3",
   "version": "3.8.13"
  }
 },
 "nbformat": 4,
 "nbformat_minor": 5
}
