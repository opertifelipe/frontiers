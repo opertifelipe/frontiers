{
 "cells": [
  {
   "cell_type": "markdown",
   "id": "bf712578",
   "metadata": {},
   "source": [
    "# Exploration data analysis (EDA)"
   ]
  },
  {
   "cell_type": "code",
   "execution_count": 128,
   "id": "68fea080",
   "metadata": {},
   "outputs": [],
   "source": [
    "# Load data\n",
    "import json\n",
    "with open('../data/raw/Jan2020Frontiers.jsonl', 'r') as json_file:\n",
    "    json_list = list(json_file)\n",
    "\n",
    "list_of_papers = []\n",
    "    \n",
    "for json_str in json_list:\n",
    "    result = json.loads(json_str)\n",
    "    list_of_papers.append(result)"
   ]
  },
  {
   "cell_type": "code",
   "execution_count": 129,
   "id": "3455467d",
   "metadata": {},
   "outputs": [],
   "source": [
    "import pandas as pd\n",
    "df = pd.DataFrame.from_dict(list_of_papers)"
   ]
  },
  {
   "cell_type": "code",
   "execution_count": 130,
   "id": "5ebaf35a",
   "metadata": {},
   "outputs": [
    {
     "data": {
      "text/html": [
       "<div>\n",
       "<style scoped>\n",
       "    .dataframe tbody tr th:only-of-type {\n",
       "        vertical-align: middle;\n",
       "    }\n",
       "\n",
       "    .dataframe tbody tr th {\n",
       "        vertical-align: top;\n",
       "    }\n",
       "\n",
       "    .dataframe thead th {\n",
       "        text-align: right;\n",
       "    }\n",
       "</style>\n",
       "<table border=\"1\" class=\"dataframe\">\n",
       "  <thead>\n",
       "    <tr style=\"text-align: right;\">\n",
       "      <th></th>\n",
       "      <th>id</th>\n",
       "      <th>text</th>\n",
       "      <th>journal</th>\n",
       "    </tr>\n",
       "  </thead>\n",
       "  <tbody>\n",
       "    <tr>\n",
       "      <th>379</th>\n",
       "      <td>493646</td>\n",
       "      <td>\\n Longitudinal Characterization of Coccidiosi...</td>\n",
       "      <td>Frontiers in Veterinary Science</td>\n",
       "    </tr>\n",
       "    <tr>\n",
       "      <th>138</th>\n",
       "      <td>492485</td>\n",
       "      <td>\\n Use of Slow-Release Injectable Moxidectin f...</td>\n",
       "      <td>Frontiers in Veterinary Science</td>\n",
       "    </tr>\n",
       "    <tr>\n",
       "      <th>2500</th>\n",
       "      <td>509440</td>\n",
       "      <td>\\n Evaluation of Yeast Fermented Poultry By-Pr...</td>\n",
       "      <td>Frontiers in Veterinary Science</td>\n",
       "    </tr>\n",
       "    <tr>\n",
       "      <th>474</th>\n",
       "      <td>511274</td>\n",
       "      <td>\\n In-vivo  Intramuscular Collagen Synthesis, ...</td>\n",
       "      <td>Frontiers in Veterinary Science</td>\n",
       "    </tr>\n",
       "    <tr>\n",
       "      <th>2405</th>\n",
       "      <td>501066</td>\n",
       "      <td>\\n Risk Factors of Anesthesia-Related Mortalit...</td>\n",
       "      <td>Frontiers in Veterinary Science</td>\n",
       "    </tr>\n",
       "    <tr>\n",
       "      <th>...</th>\n",
       "      <td>...</td>\n",
       "      <td>...</td>\n",
       "      <td>...</td>\n",
       "    </tr>\n",
       "    <tr>\n",
       "      <th>1266</th>\n",
       "      <td>495739</td>\n",
       "      <td>\\n \\n Meet Neo: Your Distant Cousin? \\n \\n \\n ...</td>\n",
       "      <td>Frontiers for Young Minds</td>\n",
       "    </tr>\n",
       "    <tr>\n",
       "      <th>254</th>\n",
       "      <td>469380</td>\n",
       "      <td>\\n \\n \\n What Are Model Microorganisms? \\n \\n ...</td>\n",
       "      <td>Frontiers for Young Minds</td>\n",
       "    </tr>\n",
       "    <tr>\n",
       "      <th>1792</th>\n",
       "      <td>461075</td>\n",
       "      <td>\\n \\n Computing the Climate: Building a Model ...</td>\n",
       "      <td>Frontiers for Young Minds</td>\n",
       "    </tr>\n",
       "    <tr>\n",
       "      <th>1782</th>\n",
       "      <td>492340</td>\n",
       "      <td>\\n \\n \\n Why Vaccines Do Not Work Without Trus...</td>\n",
       "      <td>Frontiers for Young Minds</td>\n",
       "    </tr>\n",
       "    <tr>\n",
       "      <th>1207</th>\n",
       "      <td>494542</td>\n",
       "      <td>\\n \\n Stuttering and Its Invisibility: Why Doe...</td>\n",
       "      <td>Frontiers for Young Minds</td>\n",
       "    </tr>\n",
       "  </tbody>\n",
       "</table>\n",
       "<p>2528 rows × 3 columns</p>\n",
       "</div>"
      ],
      "text/plain": [
       "          id                                               text  \\\n",
       "379   493646  \\n Longitudinal Characterization of Coccidiosi...   \n",
       "138   492485  \\n Use of Slow-Release Injectable Moxidectin f...   \n",
       "2500  509440  \\n Evaluation of Yeast Fermented Poultry By-Pr...   \n",
       "474   511274  \\n In-vivo  Intramuscular Collagen Synthesis, ...   \n",
       "2405  501066  \\n Risk Factors of Anesthesia-Related Mortalit...   \n",
       "...      ...                                                ...   \n",
       "1266  495739  \\n \\n Meet Neo: Your Distant Cousin? \\n \\n \\n ...   \n",
       "254   469380  \\n \\n \\n What Are Model Microorganisms? \\n \\n ...   \n",
       "1792  461075  \\n \\n Computing the Climate: Building a Model ...   \n",
       "1782  492340  \\n \\n \\n Why Vaccines Do Not Work Without Trus...   \n",
       "1207  494542  \\n \\n Stuttering and Its Invisibility: Why Doe...   \n",
       "\n",
       "                              journal  \n",
       "379   Frontiers in Veterinary Science  \n",
       "138   Frontiers in Veterinary Science  \n",
       "2500  Frontiers in Veterinary Science  \n",
       "474   Frontiers in Veterinary Science  \n",
       "2405  Frontiers in Veterinary Science  \n",
       "...                               ...  \n",
       "1266        Frontiers for Young Minds  \n",
       "254         Frontiers for Young Minds  \n",
       "1792        Frontiers for Young Minds  \n",
       "1782        Frontiers for Young Minds  \n",
       "1207        Frontiers for Young Minds  \n",
       "\n",
       "[2528 rows x 3 columns]"
      ]
     },
     "execution_count": 130,
     "metadata": {},
     "output_type": "execute_result"
    }
   ],
   "source": [
    "df.sort_values(by=\"journal\", ascending=False)"
   ]
  },
  {
   "cell_type": "code",
   "execution_count": 132,
   "id": "bff60e2f",
   "metadata": {},
   "outputs": [],
   "source": [
    "import re\n",
    "def find_keywords(s):\n",
    "    start = \"Keywords:\"\n",
    "    end = \"Citation:\"\n",
    "    s = s.replace(\" :\",\":\")\n",
    "    keywords_list = s[s.find(start)+len(start):s.rfind(end)].replace(\"\\n\",\" \").replace(\":\",\"\").split(\",\")\n",
    "    keywords_list = [keyword.strip() for keyword in keywords_list ]\n",
    "    return keywords_list"
   ]
  },
  {
   "cell_type": "code",
   "execution_count": 133,
   "id": "f2d98fef",
   "metadata": {
    "scrolled": true
   },
   "outputs": [],
   "source": [
    "list_of_all_keywords = []\n",
    "for i, row in df.iterrows():\n",
    "    list_of_all_keywords.append(find_keywords(row[\"text\"]))\n",
    "df[\"keywords\"] = list_of_all_keywords\n",
    "df[\"keywords_len\"] = df[\"keywords\"].apply(lambda x: len(x))"
   ]
  },
  {
   "cell_type": "code",
   "execution_count": 136,
   "id": "2db90978",
   "metadata": {},
   "outputs": [],
   "source": [
    "def preprocess(text):\n",
    "    word_to_remove = [\"google\", \"scholar\",\"pub\",\"1\",\"2\",\"3\",\"4\",\"5\",\"6\",\"7\",\"8\",\"9\"]\n",
    "    stop = set(stopwords.words('english') + list(string.punctuation))\n",
    "    preprocessed_text = \" \".join([i for i in word_tokenize(text.lower()) if (i not in stop) and (len(i) > 3) and (i not in word_to_remove)])\n",
    "    return preprocessed_text"
   ]
  },
  {
   "cell_type": "code",
   "execution_count": 137,
   "id": "a3a0a3be",
   "metadata": {},
   "outputs": [],
   "source": [
    "df[\"proprocessed_text\"] = df[\"text\"].apply(preprocess)"
   ]
  },
  {
   "cell_type": "code",
   "execution_count": 138,
   "id": "ef36ed87",
   "metadata": {},
   "outputs": [
    {
     "data": {
      "text/plain": [
       "(2528, 6)"
      ]
     },
     "execution_count": 138,
     "metadata": {},
     "output_type": "execute_result"
    }
   ],
   "source": [
    "df.shape"
   ]
  },
  {
   "cell_type": "code",
   "execution_count": 139,
   "id": "18fd3f32",
   "metadata": {},
   "outputs": [
    {
     "data": {
      "text/html": [
       "<div>\n",
       "<style scoped>\n",
       "    .dataframe tbody tr th:only-of-type {\n",
       "        vertical-align: middle;\n",
       "    }\n",
       "\n",
       "    .dataframe tbody tr th {\n",
       "        vertical-align: top;\n",
       "    }\n",
       "\n",
       "    .dataframe thead th {\n",
       "        text-align: right;\n",
       "    }\n",
       "</style>\n",
       "<table border=\"1\" class=\"dataframe\">\n",
       "  <thead>\n",
       "    <tr style=\"text-align: right;\">\n",
       "      <th></th>\n",
       "      <th>id</th>\n",
       "      <th>text</th>\n",
       "      <th>journal</th>\n",
       "      <th>keywords</th>\n",
       "      <th>keywords_len</th>\n",
       "      <th>proprocessed_text</th>\n",
       "    </tr>\n",
       "  </thead>\n",
       "  <tbody>\n",
       "    <tr>\n",
       "      <th>0</th>\n",
       "      <td>465950</td>\n",
       "      <td>\\n Sleep Characteristics and Influencing Facto...</td>\n",
       "      <td>Frontiers in Medicine</td>\n",
       "      <td>[inflammatory bowel disease, arthritis, sleep ...</td>\n",
       "      <td>5</td>\n",
       "      <td>sleep characteristics influencing factors slee...</td>\n",
       "    </tr>\n",
       "    <tr>\n",
       "      <th>1</th>\n",
       "      <td>483526</td>\n",
       "      <td>A Hybrid Approach for Modeling Type 2 Diabetes...</td>\n",
       "      <td>Frontiers in Genetics</td>\n",
       "      <td>[type 2 diabetes mellitus, machine learning, h...</td>\n",
       "      <td>6</td>\n",
       "      <td>hybrid approach modeling type diabetes mellitu...</td>\n",
       "    </tr>\n",
       "    <tr>\n",
       "      <th>2</th>\n",
       "      <td>482500</td>\n",
       "      <td>\\n Relationship Between SES and Academic Achie...</td>\n",
       "      <td>Frontiers in Psychology</td>\n",
       "      <td>[socioeconomic status, self-concept, school ac...</td>\n",
       "      <td>5</td>\n",
       "      <td>relationship academic achievement junior high ...</td>\n",
       "    </tr>\n",
       "    <tr>\n",
       "      <th>3</th>\n",
       "      <td>437333</td>\n",
       "      <td>Environmental Health Research in Africa: Impor...</td>\n",
       "      <td>Frontiers in Genetics</td>\n",
       "      <td>[G x E, Africa, environmental, pesticides, met...</td>\n",
       "      <td>7</td>\n",
       "      <td>environmental health research africa important...</td>\n",
       "    </tr>\n",
       "    <tr>\n",
       "      <th>4</th>\n",
       "      <td>486515</td>\n",
       "      <td>\\n 3,5-T2—A Janus-Faced Thyroid Hormone Metabo...</td>\n",
       "      <td>Frontiers in Endocrinology</td>\n",
       "      <td>[thyroid hormone, 3, 5-diiodothyronine, hypoth...</td>\n",
       "      <td>9</td>\n",
       "      <td>3,5-t2—a janus-faced thyroid hormone metabolit...</td>\n",
       "    </tr>\n",
       "  </tbody>\n",
       "</table>\n",
       "</div>"
      ],
      "text/plain": [
       "       id                                               text  \\\n",
       "0  465950  \\n Sleep Characteristics and Influencing Facto...   \n",
       "1  483526  A Hybrid Approach for Modeling Type 2 Diabetes...   \n",
       "2  482500  \\n Relationship Between SES and Academic Achie...   \n",
       "3  437333  Environmental Health Research in Africa: Impor...   \n",
       "4  486515  \\n 3,5-T2—A Janus-Faced Thyroid Hormone Metabo...   \n",
       "\n",
       "                      journal  \\\n",
       "0       Frontiers in Medicine   \n",
       "1       Frontiers in Genetics   \n",
       "2     Frontiers in Psychology   \n",
       "3       Frontiers in Genetics   \n",
       "4  Frontiers in Endocrinology   \n",
       "\n",
       "                                            keywords  keywords_len  \\\n",
       "0  [inflammatory bowel disease, arthritis, sleep ...             5   \n",
       "1  [type 2 diabetes mellitus, machine learning, h...             6   \n",
       "2  [socioeconomic status, self-concept, school ac...             5   \n",
       "3  [G x E, Africa, environmental, pesticides, met...             7   \n",
       "4  [thyroid hormone, 3, 5-diiodothyronine, hypoth...             9   \n",
       "\n",
       "                                   proprocessed_text  \n",
       "0  sleep characteristics influencing factors slee...  \n",
       "1  hybrid approach modeling type diabetes mellitu...  \n",
       "2  relationship academic achievement junior high ...  \n",
       "3  environmental health research africa important...  \n",
       "4  3,5-t2—a janus-faced thyroid hormone metabolit...  "
      ]
     },
     "execution_count": 139,
     "metadata": {},
     "output_type": "execute_result"
    }
   ],
   "source": [
    "df.head(5)"
   ]
  },
  {
   "cell_type": "code",
   "execution_count": 140,
   "id": "8b6ea7cd",
   "metadata": {},
   "outputs": [
    {
     "data": {
      "text/html": [
       "<div>\n",
       "<style scoped>\n",
       "    .dataframe tbody tr th:only-of-type {\n",
       "        vertical-align: middle;\n",
       "    }\n",
       "\n",
       "    .dataframe tbody tr th {\n",
       "        vertical-align: top;\n",
       "    }\n",
       "\n",
       "    .dataframe thead th {\n",
       "        text-align: right;\n",
       "    }\n",
       "</style>\n",
       "<table border=\"1\" class=\"dataframe\">\n",
       "  <thead>\n",
       "    <tr style=\"text-align: right;\">\n",
       "      <th></th>\n",
       "      <th>id</th>\n",
       "      <th>text</th>\n",
       "      <th>journal</th>\n",
       "      <th>keywords</th>\n",
       "      <th>keywords_len</th>\n",
       "      <th>proprocessed_text</th>\n",
       "    </tr>\n",
       "  </thead>\n",
       "  <tbody>\n",
       "    <tr>\n",
       "      <th>1116</th>\n",
       "      <td>486107</td>\n",
       "      <td>\\n \\n \\n Do Not Swat the Wasp! \\n \\n \\n \\n \\n ...</td>\n",
       "      <td>Frontiers for Young Minds</td>\n",
       "      <td>[Not Swat the Wasp!           Abstract   You p...</td>\n",
       "      <td>189</td>\n",
       "      <td>swat wasp abstract probably like bees cute fur...</td>\n",
       "    </tr>\n",
       "    <tr>\n",
       "      <th>1044</th>\n",
       "      <td>480838</td>\n",
       "      <td>\\n \\n \\n Drought, Floods, Climate Change, and ...</td>\n",
       "      <td>Frontiers for Young Minds</td>\n",
       "      <td>[ought, Floods, Climate Change, and Forest Los...</td>\n",
       "      <td>188</td>\n",
       "      <td>drought floods climate change forest loss amaz...</td>\n",
       "    </tr>\n",
       "    <tr>\n",
       "      <th>1482</th>\n",
       "      <td>490548</td>\n",
       "      <td>\\n \\n From Ouch to Ah-ha! Understanding Wounds...</td>\n",
       "      <td>Frontiers for Young Minds</td>\n",
       "      <td>[Ouch to Ah-ha! Understanding Wounds, Healing,...</td>\n",
       "      <td>181</td>\n",
       "      <td>ouch ah-ha understanding wounds healing infect...</td>\n",
       "    </tr>\n",
       "    <tr>\n",
       "      <th>1123</th>\n",
       "      <td>485296</td>\n",
       "      <td>\\n \\n \\n Blood Vessels Under the Microscope \\n...</td>\n",
       "      <td>Frontiers for Young Minds</td>\n",
       "      <td>[ood Vessels Under the Microscope           Ab...</td>\n",
       "      <td>179</td>\n",
       "      <td>blood vessels microscope abstract paper looks ...</td>\n",
       "    </tr>\n",
       "    <tr>\n",
       "      <th>1266</th>\n",
       "      <td>495739</td>\n",
       "      <td>\\n \\n Meet Neo: Your Distant Cousin? \\n \\n \\n ...</td>\n",
       "      <td>Frontiers for Young Minds</td>\n",
       "      <td>[Neo Your Distant Cousin?           Abstract  ...</td>\n",
       "      <td>159</td>\n",
       "      <td>meet distant cousin abstract ever wondered ext...</td>\n",
       "    </tr>\n",
       "    <tr>\n",
       "      <th>...</th>\n",
       "      <td>...</td>\n",
       "      <td>...</td>\n",
       "      <td>...</td>\n",
       "      <td>...</td>\n",
       "      <td>...</td>\n",
       "      <td>...</td>\n",
       "    </tr>\n",
       "    <tr>\n",
       "      <th>1081</th>\n",
       "      <td>486292</td>\n",
       "      <td>\\n Metabolic Syndrome, and Particularly the Hy...</td>\n",
       "      <td>Frontiers in Endocrinology</td>\n",
       "      <td>[breast cancer, metabolic syndrome, hypertrigl...</td>\n",
       "      <td>5</td>\n",
       "      <td>metabolic syndrome particularly hypertriglycer...</td>\n",
       "    </tr>\n",
       "    <tr>\n",
       "      <th>1080</th>\n",
       "      <td>496512</td>\n",
       "      <td>\\n Prognosis and Risk Factors of Radiation-Ind...</td>\n",
       "      <td>Frontiers in Oncology</td>\n",
       "      <td>[radiation-induced lymphopenia, stereotactic b...</td>\n",
       "      <td>5</td>\n",
       "      <td>prognosis risk factors radiation-induced lymph...</td>\n",
       "    </tr>\n",
       "    <tr>\n",
       "      <th>1079</th>\n",
       "      <td>503594</td>\n",
       "      <td>\\n Saikosaponin A Inhibits Triple-Negative Bre...</td>\n",
       "      <td>Frontiers in Oncology</td>\n",
       "      <td>[saikosaponin A, natural product, triple-negat...</td>\n",
       "      <td>5</td>\n",
       "      <td>saikosaponin inhibits triple-negative breast c...</td>\n",
       "    </tr>\n",
       "    <tr>\n",
       "      <th>1078</th>\n",
       "      <td>478403</td>\n",
       "      <td>\\n Brain Gray Matter Volume Associations With ...</td>\n",
       "      <td>Frontiers in Aging Neuroscience</td>\n",
       "      <td>[MRI, aged, brain, motricity, EPI-epidemiology]</td>\n",
       "      <td>5</td>\n",
       "      <td>brain gray matter volume associations abnormal...</td>\n",
       "    </tr>\n",
       "    <tr>\n",
       "      <th>1264</th>\n",
       "      <td>502838</td>\n",
       "      <td>\\n The Potential Role of Nrf2 Signaling in Lei...</td>\n",
       "      <td>Frontiers in Cellular and Infection Microbiology</td>\n",
       "      <td>[Nrf2 signaling, immune system modulation, pro...</td>\n",
       "      <td>5</td>\n",
       "      <td>potential role nrf2 signaling leishmania infec...</td>\n",
       "    </tr>\n",
       "  </tbody>\n",
       "</table>\n",
       "<p>2528 rows × 6 columns</p>\n",
       "</div>"
      ],
      "text/plain": [
       "          id                                               text  \\\n",
       "1116  486107  \\n \\n \\n Do Not Swat the Wasp! \\n \\n \\n \\n \\n ...   \n",
       "1044  480838  \\n \\n \\n Drought, Floods, Climate Change, and ...   \n",
       "1482  490548  \\n \\n From Ouch to Ah-ha! Understanding Wounds...   \n",
       "1123  485296  \\n \\n \\n Blood Vessels Under the Microscope \\n...   \n",
       "1266  495739  \\n \\n Meet Neo: Your Distant Cousin? \\n \\n \\n ...   \n",
       "...      ...                                                ...   \n",
       "1081  486292  \\n Metabolic Syndrome, and Particularly the Hy...   \n",
       "1080  496512  \\n Prognosis and Risk Factors of Radiation-Ind...   \n",
       "1079  503594  \\n Saikosaponin A Inhibits Triple-Negative Bre...   \n",
       "1078  478403  \\n Brain Gray Matter Volume Associations With ...   \n",
       "1264  502838  \\n The Potential Role of Nrf2 Signaling in Lei...   \n",
       "\n",
       "                                               journal  \\\n",
       "1116                         Frontiers for Young Minds   \n",
       "1044                         Frontiers for Young Minds   \n",
       "1482                         Frontiers for Young Minds   \n",
       "1123                         Frontiers for Young Minds   \n",
       "1266                         Frontiers for Young Minds   \n",
       "...                                                ...   \n",
       "1081                        Frontiers in Endocrinology   \n",
       "1080                             Frontiers in Oncology   \n",
       "1079                             Frontiers in Oncology   \n",
       "1078                   Frontiers in Aging Neuroscience   \n",
       "1264  Frontiers in Cellular and Infection Microbiology   \n",
       "\n",
       "                                               keywords  keywords_len  \\\n",
       "1116  [Not Swat the Wasp!           Abstract   You p...           189   \n",
       "1044  [ought, Floods, Climate Change, and Forest Los...           188   \n",
       "1482  [Ouch to Ah-ha! Understanding Wounds, Healing,...           181   \n",
       "1123  [ood Vessels Under the Microscope           Ab...           179   \n",
       "1266  [Neo Your Distant Cousin?           Abstract  ...           159   \n",
       "...                                                 ...           ...   \n",
       "1081  [breast cancer, metabolic syndrome, hypertrigl...             5   \n",
       "1080  [radiation-induced lymphopenia, stereotactic b...             5   \n",
       "1079  [saikosaponin A, natural product, triple-negat...             5   \n",
       "1078    [MRI, aged, brain, motricity, EPI-epidemiology]             5   \n",
       "1264  [Nrf2 signaling, immune system modulation, pro...             5   \n",
       "\n",
       "                                      proprocessed_text  \n",
       "1116  swat wasp abstract probably like bees cute fur...  \n",
       "1044  drought floods climate change forest loss amaz...  \n",
       "1482  ouch ah-ha understanding wounds healing infect...  \n",
       "1123  blood vessels microscope abstract paper looks ...  \n",
       "1266  meet distant cousin abstract ever wondered ext...  \n",
       "...                                                 ...  \n",
       "1081  metabolic syndrome particularly hypertriglycer...  \n",
       "1080  prognosis risk factors radiation-induced lymph...  \n",
       "1079  saikosaponin inhibits triple-negative breast c...  \n",
       "1078  brain gray matter volume associations abnormal...  \n",
       "1264  potential role nrf2 signaling leishmania infec...  \n",
       "\n",
       "[2528 rows x 6 columns]"
      ]
     },
     "execution_count": 140,
     "metadata": {},
     "output_type": "execute_result"
    }
   ],
   "source": [
    "df.sort_values(by=\"keywords_len\", ascending=False)"
   ]
  },
  {
   "cell_type": "code",
   "execution_count": 142,
   "id": "f2817081",
   "metadata": {},
   "outputs": [
    {
     "data": {
      "text/plain": [
       "<AxesSubplot:>"
      ]
     },
     "execution_count": 142,
     "metadata": {},
     "output_type": "execute_result"
    },
    {
     "data": {
      "image/png": "[encoded data removed]",
      "text/plain": [
       "<Figure size 432x288 with 1 Axes>"
      ]
     },
     "metadata": {
      "needs_background": "light"
     },
     "output_type": "display_data"
    }
   ],
   "source": [
    "df[\"keywords_len\"].hist(bins=50)"
   ]
  },
  {
   "cell_type": "code",
   "execution_count": 144,
   "id": "1a6bbf0d",
   "metadata": {
    "scrolled": false
   },
   "outputs": [
    {
     "data": {
      "text/plain": [
       "(21, 6)"
      ]
     },
     "execution_count": 144,
     "metadata": {},
     "output_type": "execute_result"
    }
   ],
   "source": [
    "import matplotlib.pyplot as plt\n",
    "df[df[\"keywords_len\"] >8].shape"
   ]
  },
  {
   "cell_type": "code",
   "execution_count": 145,
   "id": "df6ff0b0",
   "metadata": {},
   "outputs": [],
   "source": [
    "df_remove_keywords_unknown = df[df[\"keywords_len\"] <=8]"
   ]
  },
  {
   "cell_type": "code",
   "execution_count": 146,
   "id": "85895c86",
   "metadata": {},
   "outputs": [
    {
     "data": {
      "text/html": [
       "<div>\n",
       "<style scoped>\n",
       "    .dataframe tbody tr th:only-of-type {\n",
       "        vertical-align: middle;\n",
       "    }\n",
       "\n",
       "    .dataframe tbody tr th {\n",
       "        vertical-align: top;\n",
       "    }\n",
       "\n",
       "    .dataframe thead th {\n",
       "        text-align: right;\n",
       "    }\n",
       "</style>\n",
       "<table border=\"1\" class=\"dataframe\">\n",
       "  <thead>\n",
       "    <tr style=\"text-align: right;\">\n",
       "      <th></th>\n",
       "      <th>id</th>\n",
       "      <th>text</th>\n",
       "      <th>journal</th>\n",
       "      <th>keywords</th>\n",
       "      <th>keywords_len</th>\n",
       "      <th>proprocessed_text</th>\n",
       "    </tr>\n",
       "  </thead>\n",
       "  <tbody>\n",
       "    <tr>\n",
       "      <th>0</th>\n",
       "      <td>465950</td>\n",
       "      <td>\\n Sleep Characteristics and Influencing Facto...</td>\n",
       "      <td>Frontiers in Medicine</td>\n",
       "      <td>[inflammatory bowel disease, arthritis, sleep ...</td>\n",
       "      <td>5</td>\n",
       "      <td>sleep characteristics influencing factors slee...</td>\n",
       "    </tr>\n",
       "    <tr>\n",
       "      <th>1</th>\n",
       "      <td>483526</td>\n",
       "      <td>A Hybrid Approach for Modeling Type 2 Diabetes...</td>\n",
       "      <td>Frontiers in Genetics</td>\n",
       "      <td>[type 2 diabetes mellitus, machine learning, h...</td>\n",
       "      <td>6</td>\n",
       "      <td>hybrid approach modeling type diabetes mellitu...</td>\n",
       "    </tr>\n",
       "    <tr>\n",
       "      <th>2</th>\n",
       "      <td>482500</td>\n",
       "      <td>\\n Relationship Between SES and Academic Achie...</td>\n",
       "      <td>Frontiers in Psychology</td>\n",
       "      <td>[socioeconomic status, self-concept, school ac...</td>\n",
       "      <td>5</td>\n",
       "      <td>relationship academic achievement junior high ...</td>\n",
       "    </tr>\n",
       "    <tr>\n",
       "      <th>3</th>\n",
       "      <td>437333</td>\n",
       "      <td>Environmental Health Research in Africa: Impor...</td>\n",
       "      <td>Frontiers in Genetics</td>\n",
       "      <td>[G x E, Africa, environmental, pesticides, met...</td>\n",
       "      <td>7</td>\n",
       "      <td>environmental health research africa important...</td>\n",
       "    </tr>\n",
       "    <tr>\n",
       "      <th>5</th>\n",
       "      <td>463298</td>\n",
       "      <td>\\n Managing Oil Palm Plantations More Sustaina...</td>\n",
       "      <td>Frontiers in Forests and Global Change</td>\n",
       "      <td>[biodiversity, habitat heterogeneity, palm oil...</td>\n",
       "      <td>8</td>\n",
       "      <td>managing palm plantations sustainably large-sc...</td>\n",
       "    </tr>\n",
       "  </tbody>\n",
       "</table>\n",
       "</div>"
      ],
      "text/plain": [
       "       id                                               text  \\\n",
       "0  465950  \\n Sleep Characteristics and Influencing Facto...   \n",
       "1  483526  A Hybrid Approach for Modeling Type 2 Diabetes...   \n",
       "2  482500  \\n Relationship Between SES and Academic Achie...   \n",
       "3  437333  Environmental Health Research in Africa: Impor...   \n",
       "5  463298  \\n Managing Oil Palm Plantations More Sustaina...   \n",
       "\n",
       "                                  journal  \\\n",
       "0                   Frontiers in Medicine   \n",
       "1                   Frontiers in Genetics   \n",
       "2                 Frontiers in Psychology   \n",
       "3                   Frontiers in Genetics   \n",
       "5  Frontiers in Forests and Global Change   \n",
       "\n",
       "                                            keywords  keywords_len  \\\n",
       "0  [inflammatory bowel disease, arthritis, sleep ...             5   \n",
       "1  [type 2 diabetes mellitus, machine learning, h...             6   \n",
       "2  [socioeconomic status, self-concept, school ac...             5   \n",
       "3  [G x E, Africa, environmental, pesticides, met...             7   \n",
       "5  [biodiversity, habitat heterogeneity, palm oil...             8   \n",
       "\n",
       "                                   proprocessed_text  \n",
       "0  sleep characteristics influencing factors slee...  \n",
       "1  hybrid approach modeling type diabetes mellitu...  \n",
       "2  relationship academic achievement junior high ...  \n",
       "3  environmental health research africa important...  \n",
       "5  managing palm plantations sustainably large-sc...  "
      ]
     },
     "execution_count": 146,
     "metadata": {},
     "output_type": "execute_result"
    }
   ],
   "source": [
    "df_remove_keywords_unknown.head()"
   ]
  },
  {
   "cell_type": "code",
   "execution_count": 148,
   "id": "fd214399",
   "metadata": {},
   "outputs": [
    {
     "data": {
      "text/plain": [
       "<AxesSubplot:xlabel='journal'>"
      ]
     },
     "execution_count": 148,
     "metadata": {},
     "output_type": "execute_result"
    },
    {
     "data": {
      "image/png": "[encoded data removed]",
      "text/plain": [
       "<Figure size 432x288 with 1 Axes>"
      ]
     },
     "metadata": {
      "needs_background": "light"
     },
     "output_type": "display_data"
    }
   ],
   "source": [
    "df_remove_keywords_unknown.groupby([\"journal\"]).size().plot()"
   ]
  },
  {
   "cell_type": "code",
   "execution_count": 11,
   "id": "6101e24a",
   "metadata": {},
   "outputs": [],
   "source": [
    "from sentence_transformers import SentenceTransformer\n",
    "\n",
    "\n",
    "sentences = [df[\"text\"][0]]\n",
    "\n",
    "model = SentenceTransformer('sentence-transformers/bert-base-nli-mean-tokens')\n",
    "embeddings = model.encode(sentences)\n"
   ]
  },
  {
   "cell_type": "code",
   "execution_count": 12,
   "id": "b92aa286",
   "metadata": {},
   "outputs": [
    {
     "data": {
      "text/plain": [
       "array([[-4.34988946e-01,  8.24405968e-01,  2.47655675e-01,\n",
       "        -4.72737610e-01,  6.67110741e-01, -5.89472093e-02,\n",
       "         4.44832087e-01, -3.27395737e-01,  2.06932306e-01,\n",
       "        -8.70081365e-01, -4.02162284e-01,  3.00427407e-01,\n",
       "         9.73128796e-01,  5.63259602e-01, -5.91041982e-01,\n",
       "         5.92413545e-01, -2.64529381e-02,  1.43713176e-01,\n",
       "        -1.58739775e-01, -2.64645457e-01, -2.06478253e-01,\n",
       "        -2.86111712e-01,  1.17042750e-01,  1.12030649e+00,\n",
       "         5.27035654e-01,  1.06935227e+00, -6.01438701e-01,\n",
       "         5.19289672e-01, -6.27637386e-01, -2.87059426e-01,\n",
       "        -3.14248423e-03,  2.66370270e-02, -1.29437009e-02,\n",
       "        -8.40113640e-01,  6.23296618e-01,  6.47993326e-01,\n",
       "        -5.04028141e-01,  1.76729113e-01,  1.67715997e-01,\n",
       "        -2.53443509e-01, -6.43000245e-01, -5.82649291e-01,\n",
       "         2.23008782e-01,  5.98040164e-01, -7.70253658e-01,\n",
       "        -4.49304074e-01, -1.90851286e-01,  5.66382408e-01,\n",
       "         2.26814091e-01, -2.77289361e-01,  6.77231371e-01,\n",
       "         1.39125362e-01,  1.77254546e+00,  7.95523822e-02,\n",
       "        -2.62774765e-01, -5.95687367e-02,  2.85478383e-01,\n",
       "        -4.62668926e-01, -5.77838480e-01, -2.39130095e-01,\n",
       "        -2.01396435e-01,  3.73987406e-01, -2.89968193e-01,\n",
       "         4.86991853e-01, -5.15412807e-01,  2.13139728e-01,\n",
       "         4.21546772e-02,  3.40466410e-01, -5.70960164e-01,\n",
       "        -7.01833308e-01, -3.55160803e-01, -1.94842249e-01,\n",
       "        -7.79166996e-01, -1.69614464e-01,  9.66194272e-02,\n",
       "         2.41697595e-01,  1.91697538e-01, -1.87899813e-01,\n",
       "         9.36044395e-01,  6.16533995e-01, -2.91457117e-01,\n",
       "         8.77822116e-02,  6.55662358e-01, -3.53225499e-01,\n",
       "         4.12049919e-01,  2.44676381e-01,  1.00949034e-01,\n",
       "         9.49719548e-03,  1.27057940e-01,  9.38391387e-01,\n",
       "         4.69034016e-01, -6.65987134e-02,  7.34288514e-01,\n",
       "        -6.57151163e-01, -9.65303481e-01, -5.47563434e-01,\n",
       "        -3.61141488e-02, -2.79077202e-01, -6.87655330e-01,\n",
       "        -1.40966624e-01, -7.90810704e-01,  9.93305519e-02,\n",
       "        -4.24605515e-03,  8.37446272e-01,  7.70671293e-04,\n",
       "         2.32704490e-01, -3.69745225e-01,  1.52958915e-01,\n",
       "        -1.69417882e+00,  1.18543580e-01,  3.98622543e-01,\n",
       "        -2.78580319e-02, -7.46663034e-01, -5.83899200e-01,\n",
       "        -3.32618386e-01, -9.24952149e-01, -4.07457173e-01,\n",
       "         3.60721260e-01, -2.87805870e-02,  2.59003520e-01,\n",
       "        -1.72379076e-01, -4.13627565e-01, -5.08140445e-01,\n",
       "         3.08839008e-02,  4.91542161e-01,  6.31787062e-01,\n",
       "         1.06376064e+00,  1.84285212e-02, -5.70687592e-01,\n",
       "        -1.52841106e-01,  4.19211954e-01,  9.17216778e-01,\n",
       "        -4.92374778e-01, -1.94923818e-01, -8.57551843e-02,\n",
       "         7.55639017e-01, -2.42330760e-01,  1.81415394e-01,\n",
       "         1.20085880e-01,  3.55032146e-01,  2.85574436e-01,\n",
       "        -4.92756426e-01,  5.58643267e-02, -2.62554288e-01,\n",
       "        -8.23814690e-01,  8.04742426e-02, -1.17518020e+00,\n",
       "         8.49705338e-02, -3.11984032e-01, -2.14795202e-01,\n",
       "         1.11674197e-01,  4.05842923e-02,  1.54583501e-02,\n",
       "         3.14899087e-01,  3.69113684e-02, -1.62189350e-01,\n",
       "        -1.23568988e+00, -6.85368776e-01,  1.67502135e-01,\n",
       "        -5.75814843e-01, -1.17078714e-01,  6.54071867e-01,\n",
       "        -6.08309865e-01,  1.20374680e+00, -3.31799418e-01,\n",
       "         5.50179370e-03,  3.78107727e-01, -2.98907459e-01,\n",
       "        -6.94704413e-01,  4.16788161e-01, -7.01501727e-01,\n",
       "        -9.86439139e-02,  5.62766910e-01, -2.59232700e-01,\n",
       "         1.02240980e+00,  3.25419456e-01, -1.24183841e-01,\n",
       "        -2.05473319e-01,  2.22918421e-01,  1.82714716e-01,\n",
       "         2.41839662e-02,  4.09551829e-01, -1.02983153e+00,\n",
       "        -4.01126407e-02,  7.01251626e-01, -3.93292397e-01,\n",
       "         6.53667867e-01, -7.88608566e-02,  9.28937078e-01,\n",
       "         4.04562205e-02, -4.83298302e-01, -6.53399706e-01,\n",
       "         2.50635326e-01, -2.45248705e-01, -6.31568849e-01,\n",
       "         3.44824374e-01, -8.44605803e-01,  7.47223079e-01,\n",
       "        -5.74371576e-01, -9.46599603e-01, -3.54418248e-01,\n",
       "         5.25136709e-01,  3.31827581e-01,  1.10829487e-01,\n",
       "        -4.78119433e-01,  4.36042815e-01, -7.75101110e-02,\n",
       "        -1.91433996e-01, -1.27506959e+00,  2.64798850e-01,\n",
       "        -6.46284893e-02,  2.70781249e-01,  1.91715494e-01,\n",
       "         3.42406869e-01,  1.32972157e+00, -7.35814750e-01,\n",
       "        -1.56795189e-01, -1.00552559e+00, -1.38907850e-01,\n",
       "         1.83136448e-01,  7.42541850e-01, -2.42312670e-01,\n",
       "         2.07249075e-04,  1.45777059e+00, -1.49504036e-01,\n",
       "         1.48617840e+00,  2.61852533e-01, -4.46596950e-01,\n",
       "         6.84369206e-02,  1.03809559e+00, -2.87019819e-01,\n",
       "        -1.85313582e-01, -5.04587829e-01, -1.07327022e-01,\n",
       "         1.52788311e-01,  3.36004019e-01, -1.01777017e+00,\n",
       "        -1.94138199e-01,  7.96085775e-01, -5.82711101e-01,\n",
       "         2.87687302e-01, -4.32562232e-02,  1.86578721e-01,\n",
       "         3.28954577e-01,  4.19241786e-02, -9.20029998e-01,\n",
       "        -8.80441844e-01,  2.44428143e-02, -3.71803910e-01,\n",
       "         1.54287413e-01, -7.88719356e-02,  2.85113603e-02,\n",
       "         1.19602084e-01,  6.97328225e-02, -4.56596166e-02,\n",
       "        -7.05386698e-02,  3.60115990e-02,  5.11431575e-01,\n",
       "        -5.46805322e-01,  1.97586179e-01,  4.06391025e-01,\n",
       "         9.52165365e-01,  3.00270468e-01,  4.79180455e-01,\n",
       "         5.76846361e-01,  2.24609882e-01, -2.60789692e-01,\n",
       "        -8.46446827e-02, -3.89116108e-01,  2.22040102e-01,\n",
       "        -2.31203318e-01, -5.10026276e-01, -2.62443870e-01,\n",
       "         4.57625568e-01, -1.40983021e+00, -6.03644967e-01,\n",
       "        -3.39435428e-01,  3.04716825e-01, -3.27732623e-01,\n",
       "         1.44915238e-01,  4.05435950e-01, -3.82306963e-01,\n",
       "        -1.90178037e-01,  2.32670352e-01, -7.37912536e-01,\n",
       "         3.35071266e-01, -2.39545986e-01,  2.11611301e-01,\n",
       "        -2.89785802e-01, -4.42095995e-01, -5.59117794e-01,\n",
       "         4.53298151e-01,  2.89269775e-01,  1.25459790e-01,\n",
       "        -4.77860630e-01, -6.47677183e-01,  7.45072186e-01,\n",
       "         1.06660962e+00,  1.39965892e+00,  2.10384354e-01,\n",
       "         4.92123187e-01,  2.21734680e-03, -5.92403412e-01,\n",
       "         2.68837154e-01, -7.16934741e-01, -7.43808568e-01,\n",
       "         2.11793661e-01,  3.75975937e-01,  3.28066528e-01,\n",
       "        -3.31421256e-01, -8.10721755e-01, -6.19825959e-01,\n",
       "         1.03093159e+00,  7.96477139e-01,  1.18880533e-02,\n",
       "        -2.67435133e-01, -4.08063948e-01, -3.24628145e-01,\n",
       "        -3.25204402e-01, -1.06146015e-01, -2.64567167e-01,\n",
       "        -4.17569458e-01,  4.11511898e-01,  2.89018266e-02,\n",
       "         1.79775998e-01, -5.57058334e-01,  1.81909263e-01,\n",
       "         5.51123261e-01,  1.93639904e-01,  4.61656004e-01,\n",
       "         2.30848193e-01, -3.02491356e-02, -1.60860240e-01,\n",
       "         1.00760984e+00,  1.66836202e-01,  8.78397584e-01,\n",
       "        -1.19055319e+00,  8.60305130e-02,  1.73678100e-01,\n",
       "        -4.33649451e-01,  3.52274895e-01,  6.08736932e-01,\n",
       "        -3.71925414e-01,  9.22257155e-02, -3.55133474e-01,\n",
       "        -1.07449919e-01, -6.14048839e-02,  1.97391555e-01,\n",
       "        -9.49981630e-01,  1.08501658e-01, -1.33802086e-01,\n",
       "        -5.71345866e-01,  8.72846127e-01,  1.24759689e-01,\n",
       "         6.91424087e-02,  4.74937409e-01,  2.69397646e-01,\n",
       "         8.73174310e-01, -2.89689183e-01,  4.52632234e-02,\n",
       "        -8.11950803e-01,  1.64814937e+00, -9.18037146e-02,\n",
       "         7.65524991e-03, -3.42095762e-01,  5.52780747e-01,\n",
       "        -8.59680414e-01, -2.87830144e-01, -6.87921494e-02,\n",
       "        -1.20987073e-02, -4.21404183e-01,  1.75821319e-01,\n",
       "        -1.10772228e+00, -3.55007112e-01, -4.51122761e-01,\n",
       "        -4.78567302e-01, -8.16718102e-01,  2.97254562e-01,\n",
       "         2.48483360e-01,  1.52189657e-01,  1.37556881e-01,\n",
       "        -1.11431755e-01,  7.24346220e-01, -1.50728655e+00,\n",
       "         1.30300909e-01, -7.32227445e-01,  3.46521825e-01,\n",
       "         2.32979596e-01, -5.91900706e-01, -2.98854103e-03,\n",
       "         1.00255048e+00,  5.50523341e-01, -8.17341283e-02,\n",
       "        -6.23697996e-01,  2.19208635e-02,  3.70383918e-01,\n",
       "         1.38215885e-01,  3.78132045e-01, -5.86522281e-01,\n",
       "        -5.45442998e-01, -2.55468905e-01,  2.42059678e-01,\n",
       "         7.18391612e-02, -9.41417813e-01,  9.34555978e-02,\n",
       "         8.56141806e-01,  7.73381174e-01, -6.70830429e-01,\n",
       "         9.25560296e-01, -2.35609636e-01, -1.04132712e-01,\n",
       "        -6.81881011e-01,  1.23657763e-01, -6.14416823e-02,\n",
       "         7.87604526e-02,  4.89454865e-02,  4.58334148e-01,\n",
       "        -4.08322036e-01, -8.97863925e-01,  9.56081271e-01,\n",
       "        -1.90826073e-01, -9.58758593e-01,  1.36046875e+00,\n",
       "        -5.67965269e-01,  4.42350537e-01,  1.17444292e-01,\n",
       "        -5.30835807e-01, -1.80661798e-01,  3.15204114e-01,\n",
       "         7.21071243e-01,  2.12363556e-01, -1.65979281e-01,\n",
       "         2.64382839e-01,  8.81745577e-01,  9.52799439e-01,\n",
       "        -5.24761438e-01, -1.97493553e-01,  4.43995565e-01,\n",
       "         3.45984817e-01, -9.48917091e-01,  4.23903584e-01,\n",
       "        -8.39169174e-02,  8.36238444e-01, -2.71206677e-01,\n",
       "        -8.59535456e-01,  5.87234497e-01, -1.87925965e-01,\n",
       "         9.02187943e-01,  4.14440036e-01,  2.28117615e-01,\n",
       "         2.15177089e-01, -7.93497562e-01,  1.91581786e-01,\n",
       "         2.92610586e-01, -2.56169945e-01, -1.60223335e-01,\n",
       "        -2.84382224e-01, -4.61462557e-01, -1.72782198e-01,\n",
       "        -2.04889625e-01, -3.04033339e-01,  4.20609802e-01,\n",
       "        -2.90657103e-01,  3.01067621e-01,  3.26797366e-01,\n",
       "         1.88925683e-01, -2.84568548e-01, -5.93687952e-01,\n",
       "         4.92675811e-01, -3.17472547e-01,  1.23573076e-02,\n",
       "         7.27284700e-02, -2.49250591e-01,  1.30841029e+00,\n",
       "         5.74601218e-02, -9.76931453e-01,  1.35165080e-01,\n",
       "         2.38844857e-01,  4.71173972e-01,  4.81073529e-01,\n",
       "         1.17064230e-01,  9.08699855e-02,  6.16620243e-01,\n",
       "         9.89884734e-01, -4.15274262e-01,  3.18504483e-01,\n",
       "        -3.20662349e-01,  6.95967913e-01,  5.04818782e-02,\n",
       "        -3.25352192e-01, -3.73243749e-01, -1.39433011e-01,\n",
       "        -9.72601891e-01,  2.76422113e-01,  6.16609633e-01,\n",
       "        -8.53004694e-01, -1.98656954e-02,  4.32413876e-01,\n",
       "         4.58846807e-01, -1.54993683e-01,  5.84026158e-01,\n",
       "         3.88255209e-01,  8.43693316e-02, -5.83689511e-01,\n",
       "         8.87120068e-01,  3.55982184e-02, -3.14721942e-01,\n",
       "         3.53877932e-01, -3.64351034e-01,  1.10241115e-01,\n",
       "         3.38620305e-01, -1.02053531e-01,  3.24062288e-01,\n",
       "        -6.32784843e-01, -2.83408940e-01, -1.16793439e-01,\n",
       "        -4.11613762e-01, -1.20688565e-01, -7.79603660e-01,\n",
       "        -2.76152819e-01,  4.93899256e-01, -1.38521399e-02,\n",
       "         1.44773543e-01,  3.61754037e-02, -5.51991403e-01,\n",
       "        -5.44071138e-01,  3.71101111e-01,  1.63669258e-01,\n",
       "        -2.66914129e-01, -4.05440062e-01, -3.01538110e-01,\n",
       "        -4.99541640e-01,  4.16574404e-02,  3.57473940e-01,\n",
       "        -9.56431270e-01, -4.08986568e-01, -3.73783745e-02,\n",
       "         7.34451562e-02, -5.54722190e-01, -1.99457049e-01,\n",
       "        -4.39616263e-01, -3.58900070e-01,  8.60573292e-01,\n",
       "        -1.60706565e-01, -4.11553606e-02, -4.67534930e-01,\n",
       "        -1.56715550e-02, -1.70227870e-01, -2.99941659e-01,\n",
       "         6.94076121e-01, -7.73134589e-01, -2.69666225e-01,\n",
       "         7.49074519e-01,  1.02516544e+00,  4.85572547e-01,\n",
       "        -9.87469926e-02, -4.23892379e-01,  3.80266845e-01,\n",
       "        -1.81880780e-02, -1.80044010e-01,  5.16116917e-01,\n",
       "        -2.57503510e-01, -5.46492219e-01,  4.85703915e-01,\n",
       "         5.01689315e-01, -6.03412092e-01, -1.81625769e-01,\n",
       "        -6.87610149e-01, -9.06480432e-01, -8.27709138e-01,\n",
       "         5.62405944e-01, -5.15993118e-01,  1.01892197e+00,\n",
       "         9.81732428e-01, -8.16923559e-01,  1.12364069e-01,\n",
       "        -7.26616263e-01, -1.45405972e+00,  3.07508171e-01,\n",
       "         1.35119721e-01, -3.48309606e-01,  4.81638402e-01,\n",
       "         1.61956280e-01,  3.38321209e-01, -4.42349553e-01,\n",
       "        -5.74216187e-01,  3.65924895e-01,  3.34611893e-01,\n",
       "        -6.44471645e-02, -1.06777704e+00, -3.81263912e-01,\n",
       "         3.91976178e-01,  1.96084484e-01,  1.09754100e-01,\n",
       "        -5.09609282e-02,  6.93941116e-01, -2.62328148e-01,\n",
       "         1.96432576e-01,  2.62492120e-01, -9.79048252e-01,\n",
       "        -3.36683914e-02, -4.01742071e-01, -7.62292564e-01,\n",
       "         2.00653315e-01, -1.96599096e-01,  9.11413550e-01,\n",
       "         4.15657580e-01, -2.63718426e-01, -9.99357820e-01,\n",
       "         3.63561541e-01,  7.99231708e-01,  4.16910768e-01,\n",
       "         2.41867840e-01, -4.07390326e-01, -6.73186302e-01,\n",
       "        -5.64775109e-01, -9.02553052e-02, -1.76608205e-01,\n",
       "         2.68249840e-01, -5.52655458e-01,  2.06661988e-02,\n",
       "         2.81456202e-01, -1.47215113e-01, -1.76677659e-01,\n",
       "         1.50388703e-01, -6.33163825e-02,  7.52816558e-01,\n",
       "        -5.53397834e-01, -6.29179537e-01,  6.69883311e-01,\n",
       "         4.26558077e-01, -2.11244151e-01, -3.59673232e-01,\n",
       "         1.06449854e+00, -1.23252797e+00,  5.14127374e-01,\n",
       "        -2.60005653e-01,  1.18223011e+00,  6.95750713e-01,\n",
       "        -8.75928476e-02,  3.55556756e-01,  8.16695809e-01,\n",
       "        -1.12827763e-01,  5.29352389e-02,  2.47129276e-02,\n",
       "        -8.52940619e-01,  6.77458644e-02, -9.23510432e-01,\n",
       "         2.01970369e-01,  2.04564750e-01,  3.31698298e-01,\n",
       "         1.15815139e+00, -1.26948804e-01,  2.56014448e-02,\n",
       "        -6.51776254e-01,  2.81758249e-01, -4.15201068e-01,\n",
       "        -8.79382670e-01,  6.12245966e-03,  7.06515729e-01,\n",
       "         3.55801046e-01,  3.56512040e-01,  7.23001808e-02,\n",
       "         8.83427203e-01,  7.43874073e-01,  1.04447231e-01,\n",
       "        -1.28624320e-01,  1.14414120e+00, -2.02070519e-01,\n",
       "        -6.49230242e-01,  5.76982610e-02, -5.31823099e-01,\n",
       "         5.00553429e-01, -5.92911430e-02,  8.12619805e-01,\n",
       "        -1.23724401e+00,  3.41059864e-01,  3.39373499e-01,\n",
       "         2.47553214e-02, -4.57085632e-02, -8.25585306e-01,\n",
       "        -9.92544413e-01, -1.89130560e-01, -1.39845741e+00,\n",
       "         1.93869412e-01,  2.24865034e-01,  2.54788160e-01,\n",
       "         8.64137560e-02,  4.90995854e-01, -2.25673810e-01,\n",
       "         5.56675076e-01, -1.46047962e+00, -7.74023950e-01,\n",
       "        -8.19676593e-02, -3.82285267e-01, -2.03837886e-01,\n",
       "         4.12098706e-01,  8.15991879e-01,  6.45124793e-01,\n",
       "         8.91227067e-01, -7.59573817e-01, -3.12271833e-01,\n",
       "         4.36252892e-01, -4.09342386e-02,  5.65809429e-01,\n",
       "        -1.07360393e-01,  7.68735930e-02, -8.40151533e-02,\n",
       "        -7.96281934e-01, -5.99207163e-01,  1.24064572e-01,\n",
       "         3.81707758e-01, -6.48337007e-01,  4.85715747e-01,\n",
       "        -1.00861001e+00,  6.55459285e-01,  3.95863205e-01,\n",
       "         2.29554921e-01, -6.43762171e-01, -8.20846763e-03,\n",
       "        -5.03806658e-02,  4.47133705e-02,  3.24584134e-02,\n",
       "        -8.28254580e-01,  4.63060915e-01, -3.50337833e-01,\n",
       "        -3.63765985e-01,  3.28786045e-01, -1.28982723e+00,\n",
       "        -1.30196452e-01, -1.56128243e-01, -7.50424623e-01,\n",
       "         2.45485097e-01,  8.52162838e-02,  4.00902122e-01,\n",
       "         9.67042893e-02,  5.14230251e-01, -3.72112840e-01,\n",
       "        -9.78440404e-01, -8.91469479e-01, -6.90033793e-01,\n",
       "        -4.40083444e-01, -5.36367476e-01, -3.58102828e-01,\n",
       "         2.52462059e-01,  4.58783478e-01, -1.26908615e-01,\n",
       "         4.21014071e-01,  2.37768307e-01, -3.33727807e-01,\n",
       "        -9.73640203e-01, -4.94939908e-02,  4.69492167e-01,\n",
       "         8.22915912e-01, -4.63548571e-01, -2.70137489e-01,\n",
       "        -1.11011595e-01, -4.57242072e-01, -4.37899262e-01,\n",
       "        -8.83000016e-01, -5.03820539e-01, -1.05996728e+00,\n",
       "         3.57604504e-01, -3.44758362e-01, -3.94672126e-01,\n",
       "         2.12569147e-01,  2.54499733e-01,  4.87454027e-01]], dtype=float32)"
      ]
     },
     "execution_count": 12,
     "metadata": {},
     "output_type": "execute_result"
    }
   ],
   "source": [
    "embeddings"
   ]
  },
  {
   "cell_type": "code",
   "execution_count": null,
   "id": "95889366",
   "metadata": {},
   "outputs": [],
   "source": [
    "allenai/scibert_scivocab_uncased"
   ]
  },
  {
   "cell_type": "code",
   "execution_count": null,
   "id": "b1843da0",
   "metadata": {},
   "outputs": [],
   "source": [
    "from flair.data import Sentence\n",
    "from flair.embeddings import BertEmbeddings"
   ]
  },
  {
   "cell_type": "markdown",
   "id": "4586a264",
   "metadata": {},
   "source": [
    "# TF-IDF (whole document)"
   ]
  },
  {
   "cell_type": "code",
   "execution_count": null,
   "id": "d2b26811",
   "metadata": {},
   "outputs": [],
   "source": []
  },
  {
   "cell_type": "markdown",
   "id": "1ea8fe1d",
   "metadata": {},
   "source": [
    "# SPACY word2vec (keywords)\n",
    "https://spacy.io/usage/linguistic-features/#vectors-similarity"
   ]
  },
  {
   "cell_type": "code",
   "execution_count": 24,
   "id": "28860c46",
   "metadata": {},
   "outputs": [],
   "source": [
    "import spacy\n",
    "nlp = spacy.load(\"en_core_web_lg\")"
   ]
  },
  {
   "cell_type": "code",
   "execution_count": 31,
   "id": "adc36bd9",
   "metadata": {},
   "outputs": [],
   "source": [
    "key1 = nlp(\"microbiology\")\n",
    "key2 = nlp(\"biology\")"
   ]
  },
  {
   "cell_type": "code",
   "execution_count": 28,
   "id": "4667814b",
   "metadata": {},
   "outputs": [
    {
     "data": {
      "text/plain": [
       "0.7490798450975483"
      ]
     },
     "execution_count": 28,
     "metadata": {},
     "output_type": "execute_result"
    }
   ],
   "source": [
    "key1.similarity(key2)"
   ]
  },
  {
   "cell_type": "markdown",
   "id": "4215e3b6",
   "metadata": {},
   "source": [
    "# SPACY word2vec (whole document)"
   ]
  },
  {
   "cell_type": "code",
   "execution_count": null,
   "id": "cfc611d8",
   "metadata": {},
   "outputs": [],
   "source": [
    "import spacy\n",
    "nlp = spacy.load(\"en_core_web_lg\")"
   ]
  },
  {
   "cell_type": "code",
   "execution_count": 34,
   "id": "c11b558f",
   "metadata": {},
   "outputs": [],
   "source": [
    "doc1 = nlp(df[\"text\"][379])\n",
    "doc2 = nlp(df[\"text\"][138])\n",
    "doc3 = nlp(df[\"text\"][1207])"
   ]
  },
  {
   "cell_type": "code",
   "execution_count": 33,
   "id": "5c09941e",
   "metadata": {},
   "outputs": [
    {
     "data": {
      "text/plain": [
       "0.9739975989700037"
      ]
     },
     "execution_count": 33,
     "metadata": {},
     "output_type": "execute_result"
    }
   ],
   "source": [
    "doc1.similarity(doc2)"
   ]
  },
  {
   "cell_type": "code",
   "execution_count": 35,
   "id": "7684db09",
   "metadata": {},
   "outputs": [
    {
     "data": {
      "text/plain": [
       "0.8944915184773169"
      ]
     },
     "execution_count": 35,
     "metadata": {},
     "output_type": "execute_result"
    }
   ],
   "source": [
    "doc1.similarity(doc3)"
   ]
  },
  {
   "cell_type": "code",
   "execution_count": 37,
   "id": "0ab860cb",
   "metadata": {},
   "outputs": [
    {
     "data": {
      "text/plain": [
       "0.9136686877940435"
      ]
     },
     "execution_count": 37,
     "metadata": {},
     "output_type": "execute_result"
    }
   ],
   "source": [
    "doc2.similarity(doc3)"
   ]
  },
  {
   "cell_type": "code",
   "execution_count": 106,
   "id": "95b723e0",
   "metadata": {},
   "outputs": [
    {
     "name": "stdout",
     "output_type": "stream",
     "text": [
      "(Alyson E. Gautier, Juan D. Latorre, Phil L. Matsler, University of Arkansas, Fayetteville, AR, United States, 3, NC, VAC, Cobb, BWG, 12, 16, 20, 28, 36, 10, 12, 16, 20, 36, IDE, 12, 20, 36, VAC, 0.05, 20, 0.05, VAC, NC, FCR, 28, 36, FCR, 0.05, VAC, NC, VAC, IDE, 0.05, VAC, VAC, VAC, IDE, VAC, 20 or, 36, VAC, IDE, 20, the United States, 1, 2, 3, 3, 4, 5, 5, 8, Adedokun et al., fed, 7, 11, the first 3 weeks, One thousand, five-hundred, Cobb, 500, 120, 14, 0.07 m, 2, 30, first, 12, 12, 0.08 m, 2, 90, 36, 0–14, 15–28, 29–36, 13, 1, 1, 1, 0 to, 36, one-third, 500, Merck Animal Health, Intervet Inc., Millsboro, DE, USA, 0.25 mL, three, 1, NC, 2, Clinacox, Huvepharma, 3, VAC, 10, 0, 12, 16, 20, 28, 36, BWG, FCR, FCR, OPG, 12, 16, 20, 28, 36, 3, 4, 1 week, 1 ml, 9 ml, McMaster, 10, 0.15 ml, Blood, 10, 12, 16, 20, 36, half, Digesta, 12, 16, 36, 2, 15 min, 1,300 ×, Mettler-Toledo, UK, Meckel, PBS, 10%, 14, 934.02, Parr 6200, Parr Instruments Co., Moline, IL., CE Elantech, Lakewood, NJ, EDTA, 990.03, 14, 14, 920.39, the Megazyme Total Starch Assay Kit, Megazyme Int. Ireland Ltd., Wicklow, Ireland, 0.5%, TiO 2, 15, 2, 2, 2, × 100, 2, TiO 2, IDE, Allen, 16, NO2, Cayman Chemical CO., Ann Arbor, MI, VWR, Radnor, PA, 4, hematoxylin, Photomicrographs, Nikon, Eclipse, Nikon, 4x, Villus, 17, 17, 2, 10, SAS, 10, ANOVA, Tukey, 0.05, Plasma Measurements \n",
      " Litter, 1, 12, 16, OPG, VAC, 0.05, NC, 20, OPG, NC, VAC, 0.05, NC, 28, OPG, NC, 0.05, VAC, VAC, 36, OPG, 0.05, NC, VAC, 1, 1, 0 to, 36, 10, NC, VAC, 0.05, 2, NC, 0.05, VAC, 12, 16, 20, NC, VAC, 0.05, 36, 2, 2, 12, 36, 1, 2, BWG, FCR, 0 to, 12, 0 to, 16, 0 to, 20, BWG, 0.05, VAC, NC, FCR, 28, BWG, VAC, NC, NC, 0.05, BWG, 28, NC, VAC, 0.05, FCR, 36, FCR, 0.05, NC, VAC, 3, 3, 0 to, 36, 1, 2, 0.05, IDE, NC, 12, 16, IDE, 0.05, VAC, NC, 20, IDE, VAC, NC, 0.05, IDE, VAC, 36, IDE, 36, 0.05, NC, VAC, 4, 4, 36, 1, 2, Jejunal Morphology, 5, 12, 0.07, VAC, NC, 36, 0.07, VAC, NC, 5, 5, 36, 1, 2, Eimeria, VAC, VAC, NC, NC, VAC, 12, 16, between 14 and 28, 5, 12, 16, 20, FCR, VAC, 28, 5, FCR, 36, 22, BWG, NC, 28, NC, VAC, 28, FCR, 28 and, NC, VAC, 12, second, Eimeria, 23, IDE, 261 kcal, 5.2, 9.7, 3.1, 6.3, 10.9, 3.4, 12, 24, 25, VAC, 16, 12, second, 12, IDE, IDE, VAC, 16, 5.1, 6%, VAC, 16, NC, 20, 20.8, 24%, NC, 20, 7.3, 8%, VAC, 10, 18.8%, 96%, 4, 9.5 kcal/kg, VAC, 27, 28, Sharma, Fernando, 32, 33, 12, 30, 34, 35, 36, VAC, 12, Luquetti et al, 36, 14, 37, 38, 39, Eimeria, Allen, Rochell et al, 41, 40%, Perez-Carbajal et al, VAC, FCR, 12, VAC, 20, VAC, VAC, University of Arkansas, JL, AG, AG, AG, SR, the US Poultry and Egg Association, Chapman HD, USA, the years 1995–1999, Poult Sci, 2001, 80:572–80, 10.1093, 2, Kitandu A, Juranova R. Progress, 2006, 10.2754, 3, Chapman H, Cherry T, Danforth H, Richards G, Shirley M, Williams R. Sustainable, 2002, 32:617–29, 10.1016, Williams RB, 1998, 28:1089–98, 10.1016, 6, 5, Lehman R, Moran ET, Hess JB, Poult Sci, 2009, 10.3382, 6, Lee JT, Eckert NH, Ameiss KA, Stevens SM, Anderson PN, Caldwell DJ, Poult Sci, 2011, 90:1916–25, 10.3382, Adedokun SA, Helmbrecht A, Applegate TJ, 21-day-old, Poult Sci, 2016, 95:1825–35, 10.3382, Persia ME, Young EL, Utterback PL, Parsons CM, Poult Sci, 2006, 10.1093, 9, Parker J, Clack BA, Clemente-Hernandez S, Osborne J, Pierson, Poult Sci, 2007, 86:643–53, 10.1093, 10, Poult Sci, 2015, 94:673–80, 10.3382, 11, Rochell SJ, Parsons CM, Dilger RN, Poult Sci, 2016, 10.3382, 12, Adedokun SA, J Anim Sci ., 2017, 97:258–67, 10.1139, 13, Cobb-Vantress, 500, Siloam Springs, Cobb-Vantress Inc., 2015, 14, AOAC International, Official Methods of Analysis, 18th ed, Gaithersburg, MD, 2006, 15, FJ, Gorton P, Wiseman J, Boorman KN, Anim Feed Sci Tech, 1996, 59:215–21, Allen PC, Eimeria, acervulina, Poult Sci, 1987, 10.3382, 17, Iji PA, Saki A, Br Poult Sci ., 2001, 42:505–13, 10.1080/00071660120073151, 18, Conway, Sasai K, Gaafar SM, Eimeria, E. tenella, E. maxima, Avian Dis, 1993, 37:118–23, 10.2307/1591464, 19, Holdsworth PA, Conway, McKenzie ME, Dayton AD, Chapman HD, Williams RB, World Association for the Advancement of Veterinary Parasitology, WAAVP, 2004, 121:189–212, 10.1016, 20, Hernández-Velasco XD, Chapman H, Owens CM, Kuttappan VA, Fuente-Martínez B, three, Eimeria, 2014, 55:167–73, 10.1080/00071668.2013.879095, Silva ICM, Ribeiro AML, Canal CW, Pinheiro CC, de Vieira MM, Lacerda L. Broiler, J Appl Poult Res, 2009, 18:752–60, 10.3382, 22, Chapman HD, Roberts B, Shirley MW, Williams RB, 2005, 34:279–90, 10.1080/03079450500178378, 23, Hammond D. Life, 1973, 1:45–79, 24, Sander JE, Cai T, Dale N, Bennett LW, J Appl Poult Res, 1996, 5:161–6, 10.1093, 25, Tamim NM, Bennett LW, Shellem TA, Doerr JA, 2002, 50:5012–5, 10.1021, 26, Timbermont L, Haesebrouck F, 2011, 40:341–7, 10.1080/03079457.2011.590967, 27, Yonekura L, Mol Nutr Food Res, 2007, 10.1002, 28, Morris A, Shanmugasundaram R, McDonald J, 25-hydroxyvitamin, J Anim Sci ., 2015, 93:2894–903, 10.2527, 29, Swiatkiewicz S, Arczewska-Wlosek A, Bederska-Lojewska D, Józefiak D., 2017, 73:57–68, 10.1017, 30, Blake DP, Kyriazakis I. Interactions, Poult Sci, 2019, 98:5679–90, 10.3382, Titball R, Basak A., Clostridium, Anaerobe, 1999, 5:51–64, 10.1006, 32, Sharma VD, Fernando MA, 1975, 39:146–54, 33, Adams C, 1996, 75:875–80, 10.1079, 34, Fernando MA, McCraw BM, J Parasitol, 1973, 59:493–501, 10.2307/3278782, 35, Alfaro DM, Silva AVF, Borges SA, Maiorka FA, Vargas S, Santin E. Use, Yucca, schidigera, J Appl Poult Res, 2007, 16:248–54, 10.1093, 36, Luquetti BC, Alarcon MFF, Lunedo RDMB, Furlan RL, Sci Agric, 2016, 73:322–7, 10.1590/0103, Teeter RG, Beker A, Brown C, Broussard C, Fitz-Coy S, Radu J, 23rd, World's Poultry Congress, Brisbane, QLD, 2008, 18–21, 38, Paris NE, Wong EA, Eimeria, Poult Sci, 2013, 92:1331–5, 10.3382, 39, JR, Ruff MD, Eimeria, Spp, 1978, 45:234–40, 10.1016/0014-4894(78)90064-4, 40, Allen PC, Eimeria, 1997, 76:814–21, 10.1093, 41, Rochell SJ, Parsons CM, Dilger RN, Poult Sci, 2017, 96:659–66, 10.3382, 42, Perez-Carbajal C, Caldwell D, Farnell M, Stringfellow K, Pohl S, Casco G, Eimeria, Poult Sci, 2010, 89:1870–7, 10.3382, Gautier AE, Latorre JD, Matsler PL, Rochell SJ, 2020, Sci, 6:468, 10.3389, 25 August 2019, 02 December 2019, 14 January 2020, Michael Kogut, United States, United States, Christi Swaggerty, United States Department of Agriculture, USDA, United States, Lisa Bielke, The Ohio State University, 2020, Gautier, Latorre, Matsler, Rochell, the  Creative Commons Attribution License, Samuel J. Rochell)\n"
     ]
    }
   ],
   "source": [
    "print(doc1.ents)"
   ]
  },
  {
   "cell_type": "markdown",
   "id": "ebfdc0b9",
   "metadata": {},
   "source": [
    "# Sentence BERT"
   ]
  },
  {
   "cell_type": "code",
   "execution_count": 51,
   "id": "b74ca3dd",
   "metadata": {},
   "outputs": [],
   "source": [
    "from keybert import KeyBERT\n",
    "kw_model = KeyBERT(model='all-mpnet-base-v2')\n"
   ]
  },
  {
   "cell_type": "code",
   "execution_count": 52,
   "id": "6e89b0d4",
   "metadata": {},
   "outputs": [
    {
     "data": {
      "text/html": [
       "<div>\n",
       "<style scoped>\n",
       "    .dataframe tbody tr th:only-of-type {\n",
       "        vertical-align: middle;\n",
       "    }\n",
       "\n",
       "    .dataframe tbody tr th {\n",
       "        vertical-align: top;\n",
       "    }\n",
       "\n",
       "    .dataframe thead th {\n",
       "        text-align: right;\n",
       "    }\n",
       "</style>\n",
       "<table border=\"1\" class=\"dataframe\">\n",
       "  <thead>\n",
       "    <tr style=\"text-align: right;\">\n",
       "      <th></th>\n",
       "      <th>id</th>\n",
       "      <th>text</th>\n",
       "      <th>journal</th>\n",
       "      <th>keywords</th>\n",
       "      <th>keywords_len</th>\n",
       "    </tr>\n",
       "  </thead>\n",
       "  <tbody>\n",
       "    <tr>\n",
       "      <th>0</th>\n",
       "      <td>465950</td>\n",
       "      <td>\\n Sleep Characteristics and Influencing Facto...</td>\n",
       "      <td>Frontiers in Medicine</td>\n",
       "      <td>[inflammatory bowel disease, arthritis, sleep ...</td>\n",
       "      <td>5</td>\n",
       "    </tr>\n",
       "    <tr>\n",
       "      <th>1</th>\n",
       "      <td>483526</td>\n",
       "      <td>A Hybrid Approach for Modeling Type 2 Diabetes...</td>\n",
       "      <td>Frontiers in Genetics</td>\n",
       "      <td>[type 2 diabetes mellitus, machine learning, h...</td>\n",
       "      <td>6</td>\n",
       "    </tr>\n",
       "  </tbody>\n",
       "</table>\n",
       "</div>"
      ],
      "text/plain": [
       "       id                                               text  \\\n",
       "0  465950  \\n Sleep Characteristics and Influencing Facto...   \n",
       "1  483526  A Hybrid Approach for Modeling Type 2 Diabetes...   \n",
       "\n",
       "                 journal                                           keywords  \\\n",
       "0  Frontiers in Medicine  [inflammatory bowel disease, arthritis, sleep ...   \n",
       "1  Frontiers in Genetics  [type 2 diabetes mellitus, machine learning, h...   \n",
       "\n",
       "   keywords_len  \n",
       "0             5  \n",
       "1             6  "
      ]
     },
     "execution_count": 52,
     "metadata": {},
     "output_type": "execute_result"
    }
   ],
   "source": [
    "df.head(2)"
   ]
  },
  {
   "cell_type": "code",
   "execution_count": 77,
   "id": "99e7edea",
   "metadata": {},
   "outputs": [
    {
     "name": "stdout",
     "output_type": "stream",
     "text": [
      "Frontiers in Genetics\n"
     ]
    },
    {
     "name": "stderr",
     "output_type": "stream",
     "text": [
      "[nltk_data] Downloading package punkt to /home/operti/nltk_data...\n",
      "[nltk_data]   Package punkt is already up-to-date!\n",
      "[nltk_data] Downloading package stopwords to /home/operti/nltk_data...\n",
      "[nltk_data]   Package stopwords is already up-to-date!\n"
     ]
    }
   ],
   "source": [
    "from nltk import word_tokenize\n",
    "from nltk.corpus import stopwords\n",
    "import string\n",
    "import nltk\n",
    "nltk.download('punkt')\n",
    "nltk.download('stopwords')\n",
    "\n",
    "index = 3\n",
    "sent = df[\"text\"][index]\n",
    "print(df[\"journal\"][index])\n",
    "stop = set(stopwords.words('english') + list(string.punctuation))\n",
    "preprocessed_text = \" \".join([i for i in word_tokenize(sent.lower()) if (i not in stop) and (len(i) > 3)])"
   ]
  },
  {
   "cell_type": "code",
   "execution_count": 85,
   "id": "c224faa2",
   "metadata": {},
   "outputs": [],
   "source": [
    "df = df[:20]\n",
    "def preprocess(text):\n",
    "    stop = set(stopwords.words('english') + list(string.punctuation))\n",
    "    preprocessed_text = \" \".join([i for i in word_tokenize(text.lower()) if (i not in stop) and (len(i) > 3)])\n",
    "    return preprocessed_text\n",
    "df[\"preprocessed_text\"] = df[\"text\"].apply(preprocess)"
   ]
  },
  {
   "cell_type": "code",
   "execution_count": 101,
   "id": "1edc691f",
   "metadata": {},
   "outputs": [
    {
     "data": {
      "text/plain": [
       "0     sleep characteristics influencing factors slee...\n",
       "1     hybrid approach modeling type diabetes mellitu...\n",
       "2     relationship academic achievement junior high ...\n",
       "3     environmental health research africa important...\n",
       "4     3,5-t2—a janus-faced thyroid hormone metabolit...\n",
       "5     managing palm plantations sustainably large-sc...\n",
       "6     differential regulation lps-mediated ve-cadher...\n",
       "7     association stage serum levels determining sur...\n",
       "8     alcohol-specific computerized interventions al...\n",
       "9     systematic scoping review resilience intervent...\n",
       "10    vitro antioxidant anti-inflammatory skin perme...\n",
       "11    fake till make contaminating rubber hands mult...\n",
       "12    genetics non-alcoholic fatty liver cardiovascu...\n",
       "13    xuebijing injection maintains grp78 expression...\n",
       "14    components predictors biological soil crusts v...\n",
       "15    one-step synthesis p-codoped carbon nanosheets...\n",
       "16    assessment exercise stroke volume prediction o...\n",
       "17    navigating complexities agent-based modeling s...\n",
       "18    gansdta predicting drug-target binding affinit...\n",
       "19    aberrantly high levels somatic line-1 expressi...\n",
       "Name: preprocessed_text, dtype: object"
      ]
     },
     "execution_count": 101,
     "metadata": {},
     "output_type": "execute_result"
    }
   ],
   "source": [
    "df[\"preprocessed_text\"]"
   ]
  },
  {
   "cell_type": "code",
   "execution_count": 88,
   "id": "a412aa28",
   "metadata": {},
   "outputs": [],
   "source": [
    "from sklearn.feature_extraction.text import CountVectorizer\n",
    "cv=CountVectorizer(max_df=0.85,max_features=10000)\n",
    "word_count_vector=cv.fit_transform(df[\"preprocessed_text\"].to_list())"
   ]
  },
  {
   "cell_type": "code",
   "execution_count": 89,
   "id": "d474b969",
   "metadata": {},
   "outputs": [
    {
     "data": {
      "text/plain": [
       "<20x10000 sparse matrix of type '<class 'numpy.int64'>'\n",
       "\twith 27838 stored elements in Compressed Sparse Row format>"
      ]
     },
     "execution_count": 89,
     "metadata": {},
     "output_type": "execute_result"
    }
   ],
   "source": [
    "word_count_vector"
   ]
  },
  {
   "cell_type": "code",
   "execution_count": 90,
   "id": "ae086e86",
   "metadata": {},
   "outputs": [
    {
     "data": {
      "text/plain": [
       "['sleep',\n",
       " 'characteristics',\n",
       " 'influencing',\n",
       " 'factors',\n",
       " 'quality',\n",
       " 'patients',\n",
       " 'inflammatory',\n",
       " 'bowel',\n",
       " 'disease',\n",
       " 'peripheral']"
      ]
     },
     "execution_count": 90,
     "metadata": {},
     "output_type": "execute_result"
    }
   ],
   "source": [
    "list(cv.vocabulary_.keys())[:10]\n"
   ]
  },
  {
   "cell_type": "code",
   "execution_count": 91,
   "id": "9e0f48b7",
   "metadata": {},
   "outputs": [
    {
     "data": {
      "text/plain": [
       "TfidfTransformer()"
      ]
     },
     "execution_count": 91,
     "metadata": {},
     "output_type": "execute_result"
    }
   ],
   "source": [
    "from sklearn.feature_extraction.text import TfidfTransformer\n",
    "tfidf_transformer=TfidfTransformer(smooth_idf=True,use_idf=True)\n",
    "tfidf_transformer.fit(word_count_vector)"
   ]
  },
  {
   "cell_type": "code",
   "execution_count": 98,
   "id": "30f3253f",
   "metadata": {},
   "outputs": [],
   "source": [
    "def sort_coo(coo_matrix):\n",
    "    tuples = zip(coo_matrix.col, coo_matrix.data)\n",
    "    return sorted(tuples, key=lambda x: (x[1], x[0]), reverse=True)\n",
    "def extract_topn_from_vector(feature_names, sorted_items, topn=10):\n",
    "    \"\"\"get the feature names and tf-idf score of top n items\"\"\"\n",
    "    \n",
    "    #use only topn items from vector\n",
    "    sorted_items = sorted_items[:topn]\n",
    "    score_vals = []\n",
    "    feature_vals = []\n",
    "    \n",
    "    # word index and corresponding tf-idf score\n",
    "    for idx, score in sorted_items:\n",
    "        \n",
    "        #keep track of feature name and its corresponding score\n",
    "        score_vals.append(round(score, 3))\n",
    "        feature_vals.append(feature_names[idx])\n",
    "    #create a tuples of feature,score\n",
    "    #results = zip(feature_vals,score_vals)\n",
    "    results= {}\n",
    "    for idx in range(len(feature_vals)):\n",
    "        results[feature_vals[idx]]=score_vals[idx]\n",
    "    \n",
    "    return results"
   ]
  },
  {
   "cell_type": "code",
   "execution_count": 100,
   "id": "2bed5824",
   "metadata": {},
   "outputs": [
    {
     "data": {
      "text/plain": [
       "{'sleep': 0.767,\n",
       " 'ibd': 0.287,\n",
       " 'patients': 0.286,\n",
       " 'pa': 0.275,\n",
       " 'bowel': 0.145,\n",
       " 'disease': 0.133,\n",
       " 'group': 0.118,\n",
       " 'psqi': 0.113,\n",
       " 'quality': 0.105,\n",
       " 'inflammatory': 0.092}"
      ]
     },
     "execution_count": 100,
     "metadata": {},
     "output_type": "execute_result"
    }
   ],
   "source": [
    "feature_names=cv.get_feature_names()\n",
    "doc=df[\"preprocessed_text\"][0]\n",
    "tf_idf_vector=tfidf_transformer.transform(cv.transform([doc]))\n",
    "sorted_items=sort_coo(tf_idf_vector.tocoo())\n",
    "keywords=extract_topn_from_vector(feature_names,sorted_items,10)\n",
    "keywords"
   ]
  },
  {
   "cell_type": "code",
   "execution_count": 125,
   "id": "43fedd33",
   "metadata": {},
   "outputs": [
    {
     "data": {
      "text/plain": [
       "'Frontiers in Forests and Global Change'"
      ]
     },
     "execution_count": 125,
     "metadata": {},
     "output_type": "execute_result"
    }
   ],
   "source": [
    "index = 5\n",
    "df[\"journal\"][index]"
   ]
  },
  {
   "cell_type": "code",
   "execution_count": 135,
   "id": "e272fa51",
   "metadata": {},
   "outputs": [
    {
     "name": "stdout",
     "output_type": "stream",
     "text": [
      "[('exposures', 0.266459677310982), ('google scholar', 0.22095053333156467), ('associated', 0.20335826651772923), ('associations', 0.20335826651772923), ('associate', 0.20335826651772923), ('study', 0.18965505526213502), ('studied', 0.18965505526213502), ('risk', 0.13019722238480208), ('risks', 0.13019722238480208), ('observed association', 0.11805318318045614), ('effects', 0.11423542985869288), ('effect', 0.11423542985869288), ('effective', 0.11423542985869288), ('effectiveness', 0.11423542985869288), ('children', 0.1126370084653243), ('environmental health research africa important', 0.10863603303417665), ('queried pubmed', 0.10390480586262892), ('high levels', 0.10222986247323514), ('exposure categories listed', 0.09915865451513423), ('publications studies evaluating', 0.09634407753072521)]\n"
     ]
    }
   ],
   "source": [
    "from summa import keywords\n",
    "TR_keywords = keywords.keywords(preprocessed_text, scores=True)\n",
    "print(TR_keywords[0:20])"
   ]
  },
  {
   "cell_type": "code",
   "execution_count": 104,
   "id": "725d4efb",
   "metadata": {},
   "outputs": [
    {
     "ename": "KeyboardInterrupt",
     "evalue": "",
     "output_type": "error",
     "traceback": [
      "\u001b[0;31m---------------------------------------------------------------------------\u001b[0m",
      "\u001b[0;31mKeyboardInterrupt\u001b[0m                         Traceback (most recent call last)",
      "Input \u001b[0;32mIn [104]\u001b[0m, in \u001b[0;36m<cell line: 1>\u001b[0;34m()\u001b[0m\n\u001b[0;32m----> 1\u001b[0m keywords \u001b[38;5;241m=\u001b[39m \u001b[43mkw_model\u001b[49m\u001b[38;5;241;43m.\u001b[39;49m\u001b[43mextract_keywords\u001b[49m\u001b[43m(\u001b[49m\u001b[43mpreprocessed_text\u001b[49m\u001b[43m,\u001b[49m\u001b[43m \u001b[49m\n\u001b[1;32m      2\u001b[0m \n\u001b[1;32m      3\u001b[0m \u001b[43m                                     \u001b[49m\u001b[43mkeyphrase_ngram_range\u001b[49m\u001b[38;5;241;43m=\u001b[39;49m\u001b[43m(\u001b[49m\u001b[38;5;241;43m1\u001b[39;49m\u001b[43m,\u001b[49m\u001b[43m \u001b[49m\u001b[38;5;241;43m4\u001b[39;49m\u001b[43m)\u001b[49m\u001b[43m,\u001b[49m\u001b[43m \u001b[49m\n\u001b[1;32m      4\u001b[0m \n\u001b[1;32m      5\u001b[0m \u001b[43m                                     \u001b[49m\u001b[43mstop_words\u001b[49m\u001b[38;5;241;43m=\u001b[39;49m\u001b[38;5;124;43m'\u001b[39;49m\u001b[38;5;124;43menglish\u001b[39;49m\u001b[38;5;124;43m'\u001b[39;49m\u001b[43m,\u001b[49m\u001b[43m \u001b[49m\n\u001b[1;32m      6\u001b[0m \n\u001b[1;32m      7\u001b[0m \u001b[43m                                     \u001b[49m\u001b[43mhighlight\u001b[49m\u001b[38;5;241;43m=\u001b[39;49m\u001b[38;5;28;43;01mFalse\u001b[39;49;00m\u001b[43m,\u001b[49m\n\u001b[1;32m      8\u001b[0m \n\u001b[1;32m      9\u001b[0m \u001b[43m                                     \u001b[49m\u001b[43mtop_n\u001b[49m\u001b[38;5;241;43m=\u001b[39;49m\u001b[38;5;241;43m3\u001b[39;49m\u001b[43m)\u001b[49m\n\u001b[1;32m     11\u001b[0m keywords_list\u001b[38;5;241m=\u001b[39m \u001b[38;5;28mlist\u001b[39m(\u001b[38;5;28mdict\u001b[39m(keywords)\u001b[38;5;241m.\u001b[39mkeys())\n",
      "File \u001b[0;32m~/miniconda3/envs/frontiers/lib/python3.8/site-packages/keybert/_model.py:111\u001b[0m, in \u001b[0;36mKeyBERT.extract_keywords\u001b[0;34m(self, docs, candidates, keyphrase_ngram_range, stop_words, top_n, min_df, use_maxsum, use_mmr, diversity, nr_candidates, vectorizer, highlight, seed_keywords)\u001b[0m\n\u001b[1;32m     68\u001b[0m \u001b[38;5;124;03m\"\"\"Extract keywords and/or keyphrases\u001b[39;00m\n\u001b[1;32m     69\u001b[0m \n\u001b[1;32m     70\u001b[0m \u001b[38;5;124;03mI would advise you to iterate over single documents as they\u001b[39;00m\n\u001b[0;32m   (...)\u001b[0m\n\u001b[1;32m    107\u001b[0m \n\u001b[1;32m    108\u001b[0m \u001b[38;5;124;03m\"\"\"\u001b[39;00m\n\u001b[1;32m    110\u001b[0m \u001b[38;5;28;01mif\u001b[39;00m \u001b[38;5;28misinstance\u001b[39m(docs, \u001b[38;5;28mstr\u001b[39m):\n\u001b[0;32m--> 111\u001b[0m     keywords \u001b[38;5;241m=\u001b[39m \u001b[38;5;28;43mself\u001b[39;49m\u001b[38;5;241;43m.\u001b[39;49m\u001b[43m_extract_keywords_single_doc\u001b[49m\u001b[43m(\u001b[49m\n\u001b[1;32m    112\u001b[0m \u001b[43m        \u001b[49m\u001b[43mdoc\u001b[49m\u001b[38;5;241;43m=\u001b[39;49m\u001b[43mdocs\u001b[49m\u001b[43m,\u001b[49m\n\u001b[1;32m    113\u001b[0m \u001b[43m        \u001b[49m\u001b[43mcandidates\u001b[49m\u001b[38;5;241;43m=\u001b[39;49m\u001b[43mcandidates\u001b[49m\u001b[43m,\u001b[49m\n\u001b[1;32m    114\u001b[0m \u001b[43m        \u001b[49m\u001b[43mkeyphrase_ngram_range\u001b[49m\u001b[38;5;241;43m=\u001b[39;49m\u001b[43mkeyphrase_ngram_range\u001b[49m\u001b[43m,\u001b[49m\n\u001b[1;32m    115\u001b[0m \u001b[43m        \u001b[49m\u001b[43mstop_words\u001b[49m\u001b[38;5;241;43m=\u001b[39;49m\u001b[43mstop_words\u001b[49m\u001b[43m,\u001b[49m\n\u001b[1;32m    116\u001b[0m \u001b[43m        \u001b[49m\u001b[43mtop_n\u001b[49m\u001b[38;5;241;43m=\u001b[39;49m\u001b[43mtop_n\u001b[49m\u001b[43m,\u001b[49m\n\u001b[1;32m    117\u001b[0m \u001b[43m        \u001b[49m\u001b[43muse_maxsum\u001b[49m\u001b[38;5;241;43m=\u001b[39;49m\u001b[43muse_maxsum\u001b[49m\u001b[43m,\u001b[49m\n\u001b[1;32m    118\u001b[0m \u001b[43m        \u001b[49m\u001b[43muse_mmr\u001b[49m\u001b[38;5;241;43m=\u001b[39;49m\u001b[43muse_mmr\u001b[49m\u001b[43m,\u001b[49m\n\u001b[1;32m    119\u001b[0m \u001b[43m        \u001b[49m\u001b[43mdiversity\u001b[49m\u001b[38;5;241;43m=\u001b[39;49m\u001b[43mdiversity\u001b[49m\u001b[43m,\u001b[49m\n\u001b[1;32m    120\u001b[0m \u001b[43m        \u001b[49m\u001b[43mnr_candidates\u001b[49m\u001b[38;5;241;43m=\u001b[39;49m\u001b[43mnr_candidates\u001b[49m\u001b[43m,\u001b[49m\n\u001b[1;32m    121\u001b[0m \u001b[43m        \u001b[49m\u001b[43mvectorizer\u001b[49m\u001b[38;5;241;43m=\u001b[39;49m\u001b[43mvectorizer\u001b[49m\u001b[43m,\u001b[49m\n\u001b[1;32m    122\u001b[0m \u001b[43m        \u001b[49m\u001b[43mseed_keywords\u001b[49m\u001b[38;5;241;43m=\u001b[39;49m\u001b[43mseed_keywords\u001b[49m\u001b[43m,\u001b[49m\n\u001b[1;32m    123\u001b[0m \u001b[43m    \u001b[49m\u001b[43m)\u001b[49m\n\u001b[1;32m    124\u001b[0m     \u001b[38;5;28;01mif\u001b[39;00m highlight:\n\u001b[1;32m    125\u001b[0m         highlight_document(docs, keywords)\n",
      "File \u001b[0;32m~/miniconda3/envs/frontiers/lib/python3.8/site-packages/keybert/_model.py:186\u001b[0m, in \u001b[0;36mKeyBERT._extract_keywords_single_doc\u001b[0;34m(self, doc, candidates, keyphrase_ngram_range, stop_words, top_n, use_maxsum, use_mmr, diversity, nr_candidates, vectorizer, seed_keywords)\u001b[0m\n\u001b[1;32m    184\u001b[0m \u001b[38;5;66;03m# Extract Embeddings\u001b[39;00m\n\u001b[1;32m    185\u001b[0m doc_embedding \u001b[38;5;241m=\u001b[39m \u001b[38;5;28mself\u001b[39m\u001b[38;5;241m.\u001b[39mmodel\u001b[38;5;241m.\u001b[39membed([doc])\n\u001b[0;32m--> 186\u001b[0m candidate_embeddings \u001b[38;5;241m=\u001b[39m \u001b[38;5;28;43mself\u001b[39;49m\u001b[38;5;241;43m.\u001b[39;49m\u001b[43mmodel\u001b[49m\u001b[38;5;241;43m.\u001b[39;49m\u001b[43membed\u001b[49m\u001b[43m(\u001b[49m\u001b[43mcandidates\u001b[49m\u001b[43m)\u001b[49m\n\u001b[1;32m    188\u001b[0m \u001b[38;5;66;03m# Guided KeyBERT with seed keywords\u001b[39;00m\n\u001b[1;32m    189\u001b[0m \u001b[38;5;28;01mif\u001b[39;00m seed_keywords \u001b[38;5;129;01mis\u001b[39;00m \u001b[38;5;129;01mnot\u001b[39;00m \u001b[38;5;28;01mNone\u001b[39;00m:\n",
      "File \u001b[0;32m~/miniconda3/envs/frontiers/lib/python3.8/site-packages/keybert/backend/_sentencetransformers.py:62\u001b[0m, in \u001b[0;36mSentenceTransformerBackend.embed\u001b[0;34m(self, documents, verbose)\u001b[0m\n\u001b[1;32m     50\u001b[0m \u001b[38;5;28;01mdef\u001b[39;00m \u001b[38;5;21membed\u001b[39m(\u001b[38;5;28mself\u001b[39m, documents: List[\u001b[38;5;28mstr\u001b[39m], verbose: \u001b[38;5;28mbool\u001b[39m \u001b[38;5;241m=\u001b[39m \u001b[38;5;28;01mFalse\u001b[39;00m) \u001b[38;5;241m-\u001b[39m\u001b[38;5;241m>\u001b[39m np\u001b[38;5;241m.\u001b[39mndarray:\n\u001b[1;32m     51\u001b[0m     \u001b[38;5;124;03m\"\"\"Embed a list of n documents/words into an n-dimensional\u001b[39;00m\n\u001b[1;32m     52\u001b[0m \u001b[38;5;124;03m    matrix of embeddings\u001b[39;00m\n\u001b[1;32m     53\u001b[0m \n\u001b[0;32m   (...)\u001b[0m\n\u001b[1;32m     60\u001b[0m \u001b[38;5;124;03m        that each have an embeddings size of `m`\u001b[39;00m\n\u001b[1;32m     61\u001b[0m \u001b[38;5;124;03m    \"\"\"\u001b[39;00m\n\u001b[0;32m---> 62\u001b[0m     embeddings \u001b[38;5;241m=\u001b[39m \u001b[38;5;28;43mself\u001b[39;49m\u001b[38;5;241;43m.\u001b[39;49m\u001b[43membedding_model\u001b[49m\u001b[38;5;241;43m.\u001b[39;49m\u001b[43mencode\u001b[49m\u001b[43m(\u001b[49m\u001b[43mdocuments\u001b[49m\u001b[43m,\u001b[49m\u001b[43m \u001b[49m\u001b[43mshow_progress_bar\u001b[49m\u001b[38;5;241;43m=\u001b[39;49m\u001b[43mverbose\u001b[49m\u001b[43m)\u001b[49m\n\u001b[1;32m     63\u001b[0m     \u001b[38;5;28;01mreturn\u001b[39;00m embeddings\n",
      "File \u001b[0;32m~/miniconda3/envs/frontiers/lib/python3.8/site-packages/sentence_transformers/SentenceTransformer.py:164\u001b[0m, in \u001b[0;36mSentenceTransformer.encode\u001b[0;34m(self, sentences, batch_size, show_progress_bar, output_value, convert_to_numpy, convert_to_tensor, device, normalize_embeddings)\u001b[0m\n\u001b[1;32m    161\u001b[0m features \u001b[38;5;241m=\u001b[39m batch_to_device(features, device)\n\u001b[1;32m    163\u001b[0m \u001b[38;5;28;01mwith\u001b[39;00m torch\u001b[38;5;241m.\u001b[39mno_grad():\n\u001b[0;32m--> 164\u001b[0m     out_features \u001b[38;5;241m=\u001b[39m \u001b[38;5;28;43mself\u001b[39;49m\u001b[38;5;241;43m.\u001b[39;49m\u001b[43mforward\u001b[49m\u001b[43m(\u001b[49m\u001b[43mfeatures\u001b[49m\u001b[43m)\u001b[49m\n\u001b[1;32m    166\u001b[0m     \u001b[38;5;28;01mif\u001b[39;00m output_value \u001b[38;5;241m==\u001b[39m \u001b[38;5;124m'\u001b[39m\u001b[38;5;124mtoken_embeddings\u001b[39m\u001b[38;5;124m'\u001b[39m:\n\u001b[1;32m    167\u001b[0m         embeddings \u001b[38;5;241m=\u001b[39m []\n",
      "File \u001b[0;32m~/miniconda3/envs/frontiers/lib/python3.8/site-packages/torch/nn/modules/container.py:141\u001b[0m, in \u001b[0;36mSequential.forward\u001b[0;34m(self, input)\u001b[0m\n\u001b[1;32m    139\u001b[0m \u001b[38;5;28;01mdef\u001b[39;00m \u001b[38;5;21mforward\u001b[39m(\u001b[38;5;28mself\u001b[39m, \u001b[38;5;28minput\u001b[39m):\n\u001b[1;32m    140\u001b[0m     \u001b[38;5;28;01mfor\u001b[39;00m module \u001b[38;5;129;01min\u001b[39;00m \u001b[38;5;28mself\u001b[39m:\n\u001b[0;32m--> 141\u001b[0m         \u001b[38;5;28minput\u001b[39m \u001b[38;5;241m=\u001b[39m \u001b[43mmodule\u001b[49m\u001b[43m(\u001b[49m\u001b[38;5;28;43minput\u001b[39;49m\u001b[43m)\u001b[49m\n\u001b[1;32m    142\u001b[0m     \u001b[38;5;28;01mreturn\u001b[39;00m \u001b[38;5;28minput\u001b[39m\n",
      "File \u001b[0;32m~/miniconda3/envs/frontiers/lib/python3.8/site-packages/torch/nn/modules/module.py:1110\u001b[0m, in \u001b[0;36mModule._call_impl\u001b[0;34m(self, *input, **kwargs)\u001b[0m\n\u001b[1;32m   1106\u001b[0m \u001b[38;5;66;03m# If we don't have any hooks, we want to skip the rest of the logic in\u001b[39;00m\n\u001b[1;32m   1107\u001b[0m \u001b[38;5;66;03m# this function, and just call forward.\u001b[39;00m\n\u001b[1;32m   1108\u001b[0m \u001b[38;5;28;01mif\u001b[39;00m \u001b[38;5;129;01mnot\u001b[39;00m (\u001b[38;5;28mself\u001b[39m\u001b[38;5;241m.\u001b[39m_backward_hooks \u001b[38;5;129;01mor\u001b[39;00m \u001b[38;5;28mself\u001b[39m\u001b[38;5;241m.\u001b[39m_forward_hooks \u001b[38;5;129;01mor\u001b[39;00m \u001b[38;5;28mself\u001b[39m\u001b[38;5;241m.\u001b[39m_forward_pre_hooks \u001b[38;5;129;01mor\u001b[39;00m _global_backward_hooks\n\u001b[1;32m   1109\u001b[0m         \u001b[38;5;129;01mor\u001b[39;00m _global_forward_hooks \u001b[38;5;129;01mor\u001b[39;00m _global_forward_pre_hooks):\n\u001b[0;32m-> 1110\u001b[0m     \u001b[38;5;28;01mreturn\u001b[39;00m \u001b[43mforward_call\u001b[49m\u001b[43m(\u001b[49m\u001b[38;5;241;43m*\u001b[39;49m\u001b[38;5;28;43minput\u001b[39;49m\u001b[43m,\u001b[49m\u001b[43m \u001b[49m\u001b[38;5;241;43m*\u001b[39;49m\u001b[38;5;241;43m*\u001b[39;49m\u001b[43mkwargs\u001b[49m\u001b[43m)\u001b[49m\n\u001b[1;32m   1111\u001b[0m \u001b[38;5;66;03m# Do not call functions when jit is used\u001b[39;00m\n\u001b[1;32m   1112\u001b[0m full_backward_hooks, non_full_backward_hooks \u001b[38;5;241m=\u001b[39m [], []\n",
      "File \u001b[0;32m~/miniconda3/envs/frontiers/lib/python3.8/site-packages/sentence_transformers/models/Transformer.py:66\u001b[0m, in \u001b[0;36mTransformer.forward\u001b[0;34m(self, features)\u001b[0m\n\u001b[1;32m     63\u001b[0m \u001b[38;5;28;01mif\u001b[39;00m \u001b[38;5;124m'\u001b[39m\u001b[38;5;124mtoken_type_ids\u001b[39m\u001b[38;5;124m'\u001b[39m \u001b[38;5;129;01min\u001b[39;00m features:\n\u001b[1;32m     64\u001b[0m     trans_features[\u001b[38;5;124m'\u001b[39m\u001b[38;5;124mtoken_type_ids\u001b[39m\u001b[38;5;124m'\u001b[39m] \u001b[38;5;241m=\u001b[39m features[\u001b[38;5;124m'\u001b[39m\u001b[38;5;124mtoken_type_ids\u001b[39m\u001b[38;5;124m'\u001b[39m]\n\u001b[0;32m---> 66\u001b[0m output_states \u001b[38;5;241m=\u001b[39m \u001b[38;5;28;43mself\u001b[39;49m\u001b[38;5;241;43m.\u001b[39;49m\u001b[43mauto_model\u001b[49m\u001b[43m(\u001b[49m\u001b[38;5;241;43m*\u001b[39;49m\u001b[38;5;241;43m*\u001b[39;49m\u001b[43mtrans_features\u001b[49m\u001b[43m,\u001b[49m\u001b[43m \u001b[49m\u001b[43mreturn_dict\u001b[49m\u001b[38;5;241;43m=\u001b[39;49m\u001b[38;5;28;43;01mFalse\u001b[39;49;00m\u001b[43m)\u001b[49m\n\u001b[1;32m     67\u001b[0m output_tokens \u001b[38;5;241m=\u001b[39m output_states[\u001b[38;5;241m0\u001b[39m]\n\u001b[1;32m     69\u001b[0m features\u001b[38;5;241m.\u001b[39mupdate({\u001b[38;5;124m'\u001b[39m\u001b[38;5;124mtoken_embeddings\u001b[39m\u001b[38;5;124m'\u001b[39m: output_tokens, \u001b[38;5;124m'\u001b[39m\u001b[38;5;124mattention_mask\u001b[39m\u001b[38;5;124m'\u001b[39m: features[\u001b[38;5;124m'\u001b[39m\u001b[38;5;124mattention_mask\u001b[39m\u001b[38;5;124m'\u001b[39m]})\n",
      "File \u001b[0;32m~/miniconda3/envs/frontiers/lib/python3.8/site-packages/torch/nn/modules/module.py:1110\u001b[0m, in \u001b[0;36mModule._call_impl\u001b[0;34m(self, *input, **kwargs)\u001b[0m\n\u001b[1;32m   1106\u001b[0m \u001b[38;5;66;03m# If we don't have any hooks, we want to skip the rest of the logic in\u001b[39;00m\n\u001b[1;32m   1107\u001b[0m \u001b[38;5;66;03m# this function, and just call forward.\u001b[39;00m\n\u001b[1;32m   1108\u001b[0m \u001b[38;5;28;01mif\u001b[39;00m \u001b[38;5;129;01mnot\u001b[39;00m (\u001b[38;5;28mself\u001b[39m\u001b[38;5;241m.\u001b[39m_backward_hooks \u001b[38;5;129;01mor\u001b[39;00m \u001b[38;5;28mself\u001b[39m\u001b[38;5;241m.\u001b[39m_forward_hooks \u001b[38;5;129;01mor\u001b[39;00m \u001b[38;5;28mself\u001b[39m\u001b[38;5;241m.\u001b[39m_forward_pre_hooks \u001b[38;5;129;01mor\u001b[39;00m _global_backward_hooks\n\u001b[1;32m   1109\u001b[0m         \u001b[38;5;129;01mor\u001b[39;00m _global_forward_hooks \u001b[38;5;129;01mor\u001b[39;00m _global_forward_pre_hooks):\n\u001b[0;32m-> 1110\u001b[0m     \u001b[38;5;28;01mreturn\u001b[39;00m \u001b[43mforward_call\u001b[49m\u001b[43m(\u001b[49m\u001b[38;5;241;43m*\u001b[39;49m\u001b[38;5;28;43minput\u001b[39;49m\u001b[43m,\u001b[49m\u001b[43m \u001b[49m\u001b[38;5;241;43m*\u001b[39;49m\u001b[38;5;241;43m*\u001b[39;49m\u001b[43mkwargs\u001b[49m\u001b[43m)\u001b[49m\n\u001b[1;32m   1111\u001b[0m \u001b[38;5;66;03m# Do not call functions when jit is used\u001b[39;00m\n\u001b[1;32m   1112\u001b[0m full_backward_hooks, non_full_backward_hooks \u001b[38;5;241m=\u001b[39m [], []\n",
      "File \u001b[0;32m~/miniconda3/envs/frontiers/lib/python3.8/site-packages/transformers/models/mpnet/modeling_mpnet.py:552\u001b[0m, in \u001b[0;36mMPNetModel.forward\u001b[0;34m(self, input_ids, attention_mask, position_ids, head_mask, inputs_embeds, output_attentions, output_hidden_states, return_dict, **kwargs)\u001b[0m\n\u001b[1;32m    550\u001b[0m head_mask \u001b[38;5;241m=\u001b[39m \u001b[38;5;28mself\u001b[39m\u001b[38;5;241m.\u001b[39mget_head_mask(head_mask, \u001b[38;5;28mself\u001b[39m\u001b[38;5;241m.\u001b[39mconfig\u001b[38;5;241m.\u001b[39mnum_hidden_layers)\n\u001b[1;32m    551\u001b[0m embedding_output \u001b[38;5;241m=\u001b[39m \u001b[38;5;28mself\u001b[39m\u001b[38;5;241m.\u001b[39membeddings(input_ids\u001b[38;5;241m=\u001b[39minput_ids, position_ids\u001b[38;5;241m=\u001b[39mposition_ids, inputs_embeds\u001b[38;5;241m=\u001b[39minputs_embeds)\n\u001b[0;32m--> 552\u001b[0m encoder_outputs \u001b[38;5;241m=\u001b[39m \u001b[38;5;28;43mself\u001b[39;49m\u001b[38;5;241;43m.\u001b[39;49m\u001b[43mencoder\u001b[49m\u001b[43m(\u001b[49m\n\u001b[1;32m    553\u001b[0m \u001b[43m    \u001b[49m\u001b[43membedding_output\u001b[49m\u001b[43m,\u001b[49m\n\u001b[1;32m    554\u001b[0m \u001b[43m    \u001b[49m\u001b[43mattention_mask\u001b[49m\u001b[38;5;241;43m=\u001b[39;49m\u001b[43mextended_attention_mask\u001b[49m\u001b[43m,\u001b[49m\n\u001b[1;32m    555\u001b[0m \u001b[43m    \u001b[49m\u001b[43mhead_mask\u001b[49m\u001b[38;5;241;43m=\u001b[39;49m\u001b[43mhead_mask\u001b[49m\u001b[43m,\u001b[49m\n\u001b[1;32m    556\u001b[0m \u001b[43m    \u001b[49m\u001b[43moutput_attentions\u001b[49m\u001b[38;5;241;43m=\u001b[39;49m\u001b[43moutput_attentions\u001b[49m\u001b[43m,\u001b[49m\n\u001b[1;32m    557\u001b[0m \u001b[43m    \u001b[49m\u001b[43moutput_hidden_states\u001b[49m\u001b[38;5;241;43m=\u001b[39;49m\u001b[43moutput_hidden_states\u001b[49m\u001b[43m,\u001b[49m\n\u001b[1;32m    558\u001b[0m \u001b[43m    \u001b[49m\u001b[43mreturn_dict\u001b[49m\u001b[38;5;241;43m=\u001b[39;49m\u001b[43mreturn_dict\u001b[49m\u001b[43m,\u001b[49m\n\u001b[1;32m    559\u001b[0m \u001b[43m\u001b[49m\u001b[43m)\u001b[49m\n\u001b[1;32m    560\u001b[0m sequence_output \u001b[38;5;241m=\u001b[39m encoder_outputs[\u001b[38;5;241m0\u001b[39m]\n\u001b[1;32m    561\u001b[0m pooled_output \u001b[38;5;241m=\u001b[39m \u001b[38;5;28mself\u001b[39m\u001b[38;5;241m.\u001b[39mpooler(sequence_output) \u001b[38;5;28;01mif\u001b[39;00m \u001b[38;5;28mself\u001b[39m\u001b[38;5;241m.\u001b[39mpooler \u001b[38;5;129;01mis\u001b[39;00m \u001b[38;5;129;01mnot\u001b[39;00m \u001b[38;5;28;01mNone\u001b[39;00m \u001b[38;5;28;01melse\u001b[39;00m \u001b[38;5;28;01mNone\u001b[39;00m\n",
      "File \u001b[0;32m~/miniconda3/envs/frontiers/lib/python3.8/site-packages/torch/nn/modules/module.py:1110\u001b[0m, in \u001b[0;36mModule._call_impl\u001b[0;34m(self, *input, **kwargs)\u001b[0m\n\u001b[1;32m   1106\u001b[0m \u001b[38;5;66;03m# If we don't have any hooks, we want to skip the rest of the logic in\u001b[39;00m\n\u001b[1;32m   1107\u001b[0m \u001b[38;5;66;03m# this function, and just call forward.\u001b[39;00m\n\u001b[1;32m   1108\u001b[0m \u001b[38;5;28;01mif\u001b[39;00m \u001b[38;5;129;01mnot\u001b[39;00m (\u001b[38;5;28mself\u001b[39m\u001b[38;5;241m.\u001b[39m_backward_hooks \u001b[38;5;129;01mor\u001b[39;00m \u001b[38;5;28mself\u001b[39m\u001b[38;5;241m.\u001b[39m_forward_hooks \u001b[38;5;129;01mor\u001b[39;00m \u001b[38;5;28mself\u001b[39m\u001b[38;5;241m.\u001b[39m_forward_pre_hooks \u001b[38;5;129;01mor\u001b[39;00m _global_backward_hooks\n\u001b[1;32m   1109\u001b[0m         \u001b[38;5;129;01mor\u001b[39;00m _global_forward_hooks \u001b[38;5;129;01mor\u001b[39;00m _global_forward_pre_hooks):\n\u001b[0;32m-> 1110\u001b[0m     \u001b[38;5;28;01mreturn\u001b[39;00m \u001b[43mforward_call\u001b[49m\u001b[43m(\u001b[49m\u001b[38;5;241;43m*\u001b[39;49m\u001b[38;5;28;43minput\u001b[39;49m\u001b[43m,\u001b[49m\u001b[43m \u001b[49m\u001b[38;5;241;43m*\u001b[39;49m\u001b[38;5;241;43m*\u001b[39;49m\u001b[43mkwargs\u001b[49m\u001b[43m)\u001b[49m\n\u001b[1;32m   1111\u001b[0m \u001b[38;5;66;03m# Do not call functions when jit is used\u001b[39;00m\n\u001b[1;32m   1112\u001b[0m full_backward_hooks, non_full_backward_hooks \u001b[38;5;241m=\u001b[39m [], []\n",
      "File \u001b[0;32m~/miniconda3/envs/frontiers/lib/python3.8/site-packages/transformers/models/mpnet/modeling_mpnet.py:339\u001b[0m, in \u001b[0;36mMPNetEncoder.forward\u001b[0;34m(self, hidden_states, attention_mask, head_mask, output_attentions, output_hidden_states, return_dict, **kwargs)\u001b[0m\n\u001b[1;32m    336\u001b[0m \u001b[38;5;28;01mif\u001b[39;00m output_hidden_states:\n\u001b[1;32m    337\u001b[0m     all_hidden_states \u001b[38;5;241m=\u001b[39m all_hidden_states \u001b[38;5;241m+\u001b[39m (hidden_states,)\n\u001b[0;32m--> 339\u001b[0m layer_outputs \u001b[38;5;241m=\u001b[39m \u001b[43mlayer_module\u001b[49m\u001b[43m(\u001b[49m\n\u001b[1;32m    340\u001b[0m \u001b[43m    \u001b[49m\u001b[43mhidden_states\u001b[49m\u001b[43m,\u001b[49m\n\u001b[1;32m    341\u001b[0m \u001b[43m    \u001b[49m\u001b[43mattention_mask\u001b[49m\u001b[43m,\u001b[49m\n\u001b[1;32m    342\u001b[0m \u001b[43m    \u001b[49m\u001b[43mhead_mask\u001b[49m\u001b[43m[\u001b[49m\u001b[43mi\u001b[49m\u001b[43m]\u001b[49m\u001b[43m,\u001b[49m\n\u001b[1;32m    343\u001b[0m \u001b[43m    \u001b[49m\u001b[43mposition_bias\u001b[49m\u001b[43m,\u001b[49m\n\u001b[1;32m    344\u001b[0m \u001b[43m    \u001b[49m\u001b[43moutput_attentions\u001b[49m\u001b[38;5;241;43m=\u001b[39;49m\u001b[43moutput_attentions\u001b[49m\u001b[43m,\u001b[49m\n\u001b[1;32m    345\u001b[0m \u001b[43m    \u001b[49m\u001b[38;5;241;43m*\u001b[39;49m\u001b[38;5;241;43m*\u001b[39;49m\u001b[43mkwargs\u001b[49m\u001b[43m,\u001b[49m\n\u001b[1;32m    346\u001b[0m \u001b[43m\u001b[49m\u001b[43m)\u001b[49m\n\u001b[1;32m    347\u001b[0m hidden_states \u001b[38;5;241m=\u001b[39m layer_outputs[\u001b[38;5;241m0\u001b[39m]\n\u001b[1;32m    349\u001b[0m \u001b[38;5;28;01mif\u001b[39;00m output_attentions:\n",
      "File \u001b[0;32m~/miniconda3/envs/frontiers/lib/python3.8/site-packages/torch/nn/modules/module.py:1110\u001b[0m, in \u001b[0;36mModule._call_impl\u001b[0;34m(self, *input, **kwargs)\u001b[0m\n\u001b[1;32m   1106\u001b[0m \u001b[38;5;66;03m# If we don't have any hooks, we want to skip the rest of the logic in\u001b[39;00m\n\u001b[1;32m   1107\u001b[0m \u001b[38;5;66;03m# this function, and just call forward.\u001b[39;00m\n\u001b[1;32m   1108\u001b[0m \u001b[38;5;28;01mif\u001b[39;00m \u001b[38;5;129;01mnot\u001b[39;00m (\u001b[38;5;28mself\u001b[39m\u001b[38;5;241m.\u001b[39m_backward_hooks \u001b[38;5;129;01mor\u001b[39;00m \u001b[38;5;28mself\u001b[39m\u001b[38;5;241m.\u001b[39m_forward_hooks \u001b[38;5;129;01mor\u001b[39;00m \u001b[38;5;28mself\u001b[39m\u001b[38;5;241m.\u001b[39m_forward_pre_hooks \u001b[38;5;129;01mor\u001b[39;00m _global_backward_hooks\n\u001b[1;32m   1109\u001b[0m         \u001b[38;5;129;01mor\u001b[39;00m _global_forward_hooks \u001b[38;5;129;01mor\u001b[39;00m _global_forward_pre_hooks):\n\u001b[0;32m-> 1110\u001b[0m     \u001b[38;5;28;01mreturn\u001b[39;00m \u001b[43mforward_call\u001b[49m\u001b[43m(\u001b[49m\u001b[38;5;241;43m*\u001b[39;49m\u001b[38;5;28;43minput\u001b[39;49m\u001b[43m,\u001b[49m\u001b[43m \u001b[49m\u001b[38;5;241;43m*\u001b[39;49m\u001b[38;5;241;43m*\u001b[39;49m\u001b[43mkwargs\u001b[49m\u001b[43m)\u001b[49m\n\u001b[1;32m   1111\u001b[0m \u001b[38;5;66;03m# Do not call functions when jit is used\u001b[39;00m\n\u001b[1;32m   1112\u001b[0m full_backward_hooks, non_full_backward_hooks \u001b[38;5;241m=\u001b[39m [], []\n",
      "File \u001b[0;32m~/miniconda3/envs/frontiers/lib/python3.8/site-packages/transformers/models/mpnet/modeling_mpnet.py:308\u001b[0m, in \u001b[0;36mMPNetLayer.forward\u001b[0;34m(self, hidden_states, attention_mask, head_mask, position_bias, output_attentions, **kwargs)\u001b[0m\n\u001b[1;32m    305\u001b[0m attention_output \u001b[38;5;241m=\u001b[39m self_attention_outputs[\u001b[38;5;241m0\u001b[39m]\n\u001b[1;32m    306\u001b[0m outputs \u001b[38;5;241m=\u001b[39m self_attention_outputs[\u001b[38;5;241m1\u001b[39m:]  \u001b[38;5;66;03m# add self attentions if we output attention weights\u001b[39;00m\n\u001b[0;32m--> 308\u001b[0m intermediate_output \u001b[38;5;241m=\u001b[39m \u001b[38;5;28;43mself\u001b[39;49m\u001b[38;5;241;43m.\u001b[39;49m\u001b[43mintermediate\u001b[49m\u001b[43m(\u001b[49m\u001b[43mattention_output\u001b[49m\u001b[43m)\u001b[49m\n\u001b[1;32m    309\u001b[0m layer_output \u001b[38;5;241m=\u001b[39m \u001b[38;5;28mself\u001b[39m\u001b[38;5;241m.\u001b[39moutput(intermediate_output, attention_output)\n\u001b[1;32m    310\u001b[0m outputs \u001b[38;5;241m=\u001b[39m (layer_output,) \u001b[38;5;241m+\u001b[39m outputs\n",
      "File \u001b[0;32m~/miniconda3/envs/frontiers/lib/python3.8/site-packages/torch/nn/modules/module.py:1110\u001b[0m, in \u001b[0;36mModule._call_impl\u001b[0;34m(self, *input, **kwargs)\u001b[0m\n\u001b[1;32m   1106\u001b[0m \u001b[38;5;66;03m# If we don't have any hooks, we want to skip the rest of the logic in\u001b[39;00m\n\u001b[1;32m   1107\u001b[0m \u001b[38;5;66;03m# this function, and just call forward.\u001b[39;00m\n\u001b[1;32m   1108\u001b[0m \u001b[38;5;28;01mif\u001b[39;00m \u001b[38;5;129;01mnot\u001b[39;00m (\u001b[38;5;28mself\u001b[39m\u001b[38;5;241m.\u001b[39m_backward_hooks \u001b[38;5;129;01mor\u001b[39;00m \u001b[38;5;28mself\u001b[39m\u001b[38;5;241m.\u001b[39m_forward_hooks \u001b[38;5;129;01mor\u001b[39;00m \u001b[38;5;28mself\u001b[39m\u001b[38;5;241m.\u001b[39m_forward_pre_hooks \u001b[38;5;129;01mor\u001b[39;00m _global_backward_hooks\n\u001b[1;32m   1109\u001b[0m         \u001b[38;5;129;01mor\u001b[39;00m _global_forward_hooks \u001b[38;5;129;01mor\u001b[39;00m _global_forward_pre_hooks):\n\u001b[0;32m-> 1110\u001b[0m     \u001b[38;5;28;01mreturn\u001b[39;00m \u001b[43mforward_call\u001b[49m\u001b[43m(\u001b[49m\u001b[38;5;241;43m*\u001b[39;49m\u001b[38;5;28;43minput\u001b[39;49m\u001b[43m,\u001b[49m\u001b[43m \u001b[49m\u001b[38;5;241;43m*\u001b[39;49m\u001b[38;5;241;43m*\u001b[39;49m\u001b[43mkwargs\u001b[49m\u001b[43m)\u001b[49m\n\u001b[1;32m   1111\u001b[0m \u001b[38;5;66;03m# Do not call functions when jit is used\u001b[39;00m\n\u001b[1;32m   1112\u001b[0m full_backward_hooks, non_full_backward_hooks \u001b[38;5;241m=\u001b[39m [], []\n",
      "File \u001b[0;32m~/miniconda3/envs/frontiers/lib/python3.8/site-packages/transformers/models/mpnet/modeling_mpnet.py:262\u001b[0m, in \u001b[0;36mMPNetIntermediate.forward\u001b[0;34m(self, hidden_states)\u001b[0m\n\u001b[1;32m    261\u001b[0m \u001b[38;5;28;01mdef\u001b[39;00m \u001b[38;5;21mforward\u001b[39m(\u001b[38;5;28mself\u001b[39m, hidden_states: torch\u001b[38;5;241m.\u001b[39mTensor) \u001b[38;5;241m-\u001b[39m\u001b[38;5;241m>\u001b[39m torch\u001b[38;5;241m.\u001b[39mTensor:\n\u001b[0;32m--> 262\u001b[0m     hidden_states \u001b[38;5;241m=\u001b[39m \u001b[38;5;28;43mself\u001b[39;49m\u001b[38;5;241;43m.\u001b[39;49m\u001b[43mdense\u001b[49m\u001b[43m(\u001b[49m\u001b[43mhidden_states\u001b[49m\u001b[43m)\u001b[49m\n\u001b[1;32m    263\u001b[0m     hidden_states \u001b[38;5;241m=\u001b[39m \u001b[38;5;28mself\u001b[39m\u001b[38;5;241m.\u001b[39mintermediate_act_fn(hidden_states)\n\u001b[1;32m    264\u001b[0m     \u001b[38;5;28;01mreturn\u001b[39;00m hidden_states\n",
      "File \u001b[0;32m~/miniconda3/envs/frontiers/lib/python3.8/site-packages/torch/nn/modules/module.py:1110\u001b[0m, in \u001b[0;36mModule._call_impl\u001b[0;34m(self, *input, **kwargs)\u001b[0m\n\u001b[1;32m   1106\u001b[0m \u001b[38;5;66;03m# If we don't have any hooks, we want to skip the rest of the logic in\u001b[39;00m\n\u001b[1;32m   1107\u001b[0m \u001b[38;5;66;03m# this function, and just call forward.\u001b[39;00m\n\u001b[1;32m   1108\u001b[0m \u001b[38;5;28;01mif\u001b[39;00m \u001b[38;5;129;01mnot\u001b[39;00m (\u001b[38;5;28mself\u001b[39m\u001b[38;5;241m.\u001b[39m_backward_hooks \u001b[38;5;129;01mor\u001b[39;00m \u001b[38;5;28mself\u001b[39m\u001b[38;5;241m.\u001b[39m_forward_hooks \u001b[38;5;129;01mor\u001b[39;00m \u001b[38;5;28mself\u001b[39m\u001b[38;5;241m.\u001b[39m_forward_pre_hooks \u001b[38;5;129;01mor\u001b[39;00m _global_backward_hooks\n\u001b[1;32m   1109\u001b[0m         \u001b[38;5;129;01mor\u001b[39;00m _global_forward_hooks \u001b[38;5;129;01mor\u001b[39;00m _global_forward_pre_hooks):\n\u001b[0;32m-> 1110\u001b[0m     \u001b[38;5;28;01mreturn\u001b[39;00m \u001b[43mforward_call\u001b[49m\u001b[43m(\u001b[49m\u001b[38;5;241;43m*\u001b[39;49m\u001b[38;5;28;43minput\u001b[39;49m\u001b[43m,\u001b[49m\u001b[43m \u001b[49m\u001b[38;5;241;43m*\u001b[39;49m\u001b[38;5;241;43m*\u001b[39;49m\u001b[43mkwargs\u001b[49m\u001b[43m)\u001b[49m\n\u001b[1;32m   1111\u001b[0m \u001b[38;5;66;03m# Do not call functions when jit is used\u001b[39;00m\n\u001b[1;32m   1112\u001b[0m full_backward_hooks, non_full_backward_hooks \u001b[38;5;241m=\u001b[39m [], []\n",
      "File \u001b[0;32m~/miniconda3/envs/frontiers/lib/python3.8/site-packages/torch/nn/modules/linear.py:103\u001b[0m, in \u001b[0;36mLinear.forward\u001b[0;34m(self, input)\u001b[0m\n\u001b[1;32m    102\u001b[0m \u001b[38;5;28;01mdef\u001b[39;00m \u001b[38;5;21mforward\u001b[39m(\u001b[38;5;28mself\u001b[39m, \u001b[38;5;28minput\u001b[39m: Tensor) \u001b[38;5;241m-\u001b[39m\u001b[38;5;241m>\u001b[39m Tensor:\n\u001b[0;32m--> 103\u001b[0m     \u001b[38;5;28;01mreturn\u001b[39;00m \u001b[43mF\u001b[49m\u001b[38;5;241;43m.\u001b[39;49m\u001b[43mlinear\u001b[49m\u001b[43m(\u001b[49m\u001b[38;5;28;43minput\u001b[39;49m\u001b[43m,\u001b[49m\u001b[43m \u001b[49m\u001b[38;5;28;43mself\u001b[39;49m\u001b[38;5;241;43m.\u001b[39;49m\u001b[43mweight\u001b[49m\u001b[43m,\u001b[49m\u001b[43m \u001b[49m\u001b[38;5;28;43mself\u001b[39;49m\u001b[38;5;241;43m.\u001b[39;49m\u001b[43mbias\u001b[49m\u001b[43m)\u001b[49m\n",
      "\u001b[0;31mKeyboardInterrupt\u001b[0m: "
     ]
    }
   ],
   "source": [
    "keywords = kw_model.extract_keywords(preprocessed_text, \n",
    "\n",
    "                                     keyphrase_ngram_range=(1, 4), \n",
    "\n",
    "                                     stop_words='english', \n",
    "\n",
    "                                     highlight=False,\n",
    "\n",
    "                                     top_n=3)\n",
    "\n",
    "keywords_list= list(dict(keywords).keys())"
   ]
  },
  {
   "cell_type": "code",
   "execution_count": 103,
   "id": "c6f30d1b",
   "metadata": {},
   "outputs": [
    {
     "data": {
      "text/plain": [
       "['hazardous exposures increasing africa',\n",
       " 'pollution exposures unique africa',\n",
       " 'environmental health research africa']"
      ]
     },
     "execution_count": 103,
     "metadata": {},
     "output_type": "execute_result"
    }
   ],
   "source": [
    "keywords_list"
   ]
  },
  {
   "cell_type": "markdown",
   "id": "4b26ffbf",
   "metadata": {},
   "source": [
    "# Yake"
   ]
  },
  {
   "cell_type": "code",
   "execution_count": 109,
   "id": "5b376c7f",
   "metadata": {},
   "outputs": [],
   "source": [
    "import yake"
   ]
  },
  {
   "cell_type": "code",
   "execution_count": 111,
   "id": "93559024",
   "metadata": {},
   "outputs": [
    {
     "data": {
      "text/plain": [
       "\"\\n Sleep Characteristics and Influencing Factors of Sleep Quality in Patients With Inflammatory Bowel Disease-Peripheral Arthritis \\n \\n Yin Zhang 1 † ,  Bin Pi 2 † ‡ ,  Xianlin Xu 1 ,  Ying Li 3 ,  Xiangfan Chen 3 ,  Ningxi Yang 4 *  and  Xiaoyan Li 3 \\n \\n 1 Department of Gastroenterology, Huiyang Sanhe Hospital, Huizhou, China \\n 2 Department of Orthopedics, Fifth Affiliated Hospital, Guangzhou Medical University, Guangzhou, China \\n 3 School of Health Science, Wuhan University, Wuhan, China \\n 4 College of Humanities and Social Sciences, Harbin Engineering University, Harbin, China \\n \\n Background:  Patients with inflammatory bowel disease-peripheral arthritis (IBD-PA) often accompany by sleep problems, but few studies have used polysomnography to investigate the objective sleep characteristics of IBD-PA. \\n Methods:  Patients in IBD-PA group, inflammatory bowel disease (IBD) group, healthy control (HC) group were examined by polysomnography (PSG) and the sleep characteristics were compared. PSG and Pittsburgh Sleep Quality Scale (PSQI) indices were compared between active and remission IBD-PA patients. The correlation between disease activity and sleep quality in IBD-PA patients was analyzed. The influencing factors of sleep efficiency of IBD-PA patients were analyzed. \\n Results:  The total sleep time (TST), rapid-eye-movement sleep (REM) time, slow wave sleep (S3 + S4) and sleep efficiency (SE) in the IBD-PA group were significantly less than those in the HC group and IBD group ( P  < 0.05), while the number and time of wake after sleep onset (WASO) and sleep latency (SL) were significantly longer than those in the HC group and IBD group ( P  < 0.05). To IBD-PA patients, the disease activity was negatively related to sleep quality. There was a significant difference in SE, the number of WASO, S1, S3+S4 of PSG, as well as the PSQI total score between active and remission patients. Abdominal pain, joint pain, depression, and C-reactive protein were the influencing factors of sleep efficiency. \\n Conclusions:  The sleep quality of patients with IBD was poor than the control group, and that of patients with IBD-PA was even worse. Therefore, sleep management should be included in IBD management. \\n \\n \\n \\n Introduction \\n Inflammatory bowel diseases (IBD) include ulcerative colitis (UC) and Crohn's disease. IBD is a non-specific, recurrent intestinal inflammatory disease involving all segments of the digestive tract ( 1 ). Inflammatory bowel disease-peripheral arthritis (IBD-PA) is an arthritis associated with IBD, which is the most common parenteral manifestation of IBD. About 15–20% of patients with IBD may have arthralgia or arthritis. IBD-PA belongs to reactive arthritis and the diseases involve peripheral joint and axial joint. It can involve not only peripheral joints which leads to pain and swelling in knee, ankle, shoulder, elbow, and wrist joints, but also may involve medial axis joints, which can cause sacroiliac arthritis and hip joint involvement. A few patients can develop ankylosing spondylitis. Among them, peripheral arthritis is the most common, and major joints of lower limbs such as knee, ankle, and foot are the most common involve ( 2 – 4 ). \\n For patients with IBD, they not only suffer physical discomfort, but also often accompanied by depression, anxiety, pain, sleep disorders, and other mental and psychological problems ( 5 – 7 ). Good sleep is a necessary condition for maintaining good health. Previous studies have found that patients with IBD have a higher incidence of sleep disorders ( 8 ). For patients with IBD-PA, they often face more serious sleep problems because of joint symptoms. \\n Sleep plays an important role in patients with IBD. Previous studies have confirmed that good sleep can help reduce fatigue, improve quality of life and alleviate gastrointestinal symptoms in patients with IBD ( 9 ,  10 ). In IBD patients, the relationship between sleep, and mucosal activity and recurrence has been confirmed ( 11 ,  12 ). Therefore, it is very important to know the sleep status of patients, which will help provide the basis for further sleep intervention in the future, and help patients improve the treatment effect ultimately. Because of the high incidence of the disease in Western countries, the psychological and behavioral research of patients is relatively mature. In recent years, the incidence of IBD has increased in China and other Asian countries, but the related psychiatric research is less ( 13 ). Most of the previous studies used scales such as Pittsburgh Sleep Quality Scale (PSQI) to measure subjective sleep quality in patients with IBD ( 14 ). They confirmed IBD patients suffered poor sleep quality. For example, Sisson reported the mean PSQI was 9.6 in IBD patients ( 15 ). Bucci found the 41.4% of CD patients and 31.6% of UC patients reported the PSQI score over 5 ( 9 ). In a study involving 120 Chinese patients, researchers found their average PSQI score was 8.07 ± 2.91. Specifically, the sleep subjective quality score was 1.54 ± 0.66, the sleep latency score was 1.62 ± 0.74, the sleep duration score was 1.16 ± 0.71, the habitual sleep efficiency score was 0.89 ± 0.63, the sleep disturbances score was 1.10 ± 0.42, the use of sleeping medications score was 0.17 ± 0.37, and the daytime dysfunction score was 1.59 ± 0.76 ( 16 ). Although several researches have reported the sleep status of patients with IBD, the study of patients with IBD-PA and research on objective sleep quality are very limited. As an objective tool, PSG plays an important role in understanding the sleep parameters and structure of patients. In this study, sleep characteristics of Chinese patients with IBD-PA and IBD were measured by both polysomnography (PSG) and PSQI. Then the influencing factors of sleep quality of patients with IBD-PA were analyzed. \\n Materials and Methods \\n In this study, the sample size of this study was calculated according to the following sample size formula: \\n n = λ 2 [ sin − 1 ( p max ) 1 / 2 − sin − 1 ( p min ) 1 / 2 ] 2 \\n According to the former literature ( 17 ), p max  = 0.82, p min  = 0.51, α = 0.05, β = 0.1, ν =  k -1 = 3–1 = 2, λ 0.05, 0.1;2  = 12.65. The results was  n  = 87 in each group. Therefore, between June 2018 and July 2019, 120 patients with IBD and 120 patients with IBD-PA were recruited through snowball and online recruitment, and 120 healthy persons were selected as control group. The patients met the predetermined criteria for eligibility: (1) Each patient was diagnosed with IBD or IBD-PA. For IBD-PA, patients with peripheral arthritis were enrolled. They knew their diagnosis and were able to provide informed consent and complete all questionnaires with full awareness of their diagnosis. (2) Each patient was age between 18 and 70. (3) Each patient had clear thinking and no cognitive impairment. (4) They were being hospitalized and the prescription may be mercaptopurine/azathioprine and/or mesalamine according to their condition. Exclusion criteria were as follows: Patients who suffer from other diseases that may affect the evaluation of the scale, such as other joint diseases, skin itching, cancer, severe infection, acute cardiovascular and cerebrovascular diseases, encephalopathy such as Parkinson's and epilepsy, schizophrenia and other mental diseases, severe respiratory, and liver and kidney diseases affecting sleep, prostate diseases causing frequent nocturia, etc. The exclusion criteria of the control group were the same as those of the patients with IBD. \\n Procedures \\n Firstly, PSG was used to monitor the sleep of three groups for two nights, and the data of the second night were analyzed to minimize the changes of sleep habits caused by environmental changes. At the same time, three groups of subjects were surveyed by PSQI questionnaire. Then the PSG parameters and PSQI scores of the three groups were compared. PSG and PSQI indices were compared between active and remission IBD-PA patients. The correlation between disease activity and sleep quality in IBD-PA patients was analyzed. Finally, because sleep efficiency is an important indicator of sleep quality, so we set it as the dependent variable, and analyzed the influencing factors of it. \\n Measures   Essential Information \\n In the questionnaire, we designed the essential information section. This section included sociol-demographic information, such as age, sex, marital status, educational background, working situation, etc. \\n Disease and Treatment Condition \\n For the patient group, disease activity, disease type, course of disease, medication, perianal disease, disease extension, and nocturnal gastrointestinal symptoms were investigated. The diagnosis of IBD or IBD-PA was verified through chart review, which was provided by the patients. \\n Depressive Mood \\n Zung's self-rating depression scale (SDS) was used to assess patients' depressed mood. The SDS scale is a 20 point self-assessment scale used for screening for depressive mood in 1 week. Participants are asked to choose their option response for each question. The total score of the 20 items was SDS raw score. Multiply raw score by 1.25 and keep the integer part, the standard score is calculated. Higher standard scores indicate severer depression ( 18 ). According to the norm of China, the standard score in 50 points and above prompts depressive mood. \\n Joint Pain \\n The degree of joint pain in patients with IBD-PA was measured by numerical rating scale (NRS). Pain intensity was described with 0–10. Higher numbers indicate a stronger sense of pain ( 19 ). \\n Abdominal Pain \\n Patients provided ratings of abdominal pain with a 4-point Likert scale (i.e., none, mild, moderate, or severe). The higher the scores means the degree of the pain is higher (the score ranges from 1 to 4). \\n C-Reactive Protein \\n C-reactive protein was measured by latex agglutination turbidimetry. The patient was extracted 3 ml venous blood on an empty stomach in the morning and monitored after serum separation. The reference value is 0–10 mg/L. \\n Disease Activity \\n Harvey–Bradshaw for Crohn's disease (CD) and the Mayo Endoscopy Score (MES) for ulcerative colitis (UC) were used to measure the disease activity of the patients. Harvey-Bradshaw scale for CD is composed of 5 parameters: general well-being, abdominal pain, number of liquid stools per day, abdominal mass, and complications ( 20 ). In this scale higher scores indicates the disease activity is more active. Patients scores 4 or less indicates the remission stage, while scores more than 4 indicates the active stage. Mayo Endoscopy Score consists of diarrhea, rectal bleeding, enteroscopy, and physician evaluation. It ranges from 0 to 3: 0 for inactive diseases, 1 for mild stage, 2 for moderate stage, and 3 for severe stage ( 21 ). \\n Sleep \\n Sleep monitoring was performed in three groups by polysomnography. All patients were monitored by PSG throughout the night (at least 7 h). According to the international standard method, the surface disc electrodes were used to record the electroencephalogram (EEG) signals of six parts synchronously (F3-A2, F4-A1, C3-A2, 01-A2, 02-A1). Two surface electrodes were taken to record the electromyogram (EMG) of the chin. An electrode was placed at 1 cm above and below the lateral canthus to record the eye movements of the left and right eyes. The impedance thoracoabdominal mobility transducer was used to record the patients' chest and abdominal respiratory mobility. Pressure sensors placed in the nasal vestibule were used to record oronasal respiratory airflow. Sleep parameters are as follows: (1) Total sleep time (TST):total real sleep time during night sleep monitoring. (2) Sleep latency (SL): the time from light off to the first sleep period begins. If the SL>30 min, patients were defined as difficulty falling asleep. (3) Sleep efficiency (SE):ratio of TST to bedtime. (4) Rapid-eye-movement sleep (REM) time: total time of REM during nighttime sleep. (5) Times of wake after sleep onset (WASO): number of awakenings from sleep to the end of sleep with each time not <15 seconds. (6) Total time of WASO: total time of awakenings from sleep to the end of sleep. In addition, sleep structure is divided into four stages (I-IV). \\n Pittsburgh sleep quality index (PSQI) was used to evaluate the subjective sleep quality of patients in the past month. Eight items of the scale consist of seven parts, including sleep quality, sleep latency, sleep duration, habitual sleep efficiency, sleep disturbances, use of sleeping medications and daytime dysfunction. Each part is scored in 0–3 grades. The cumulative score of each component is the total score of PSQI. The higher the score, the worse the sleep quality ( 22 ). \\n Statistical Analyses \\n Epi Info version 3.1 (Centers for Disease Control and Prevention, Atlanta, GA, USA) was used for the entry and summary of the data. IBM SPSS Statistics, version 20 (IBM Corp., Armonk, NY, USA) was used to analyze the data. All data are expressed as mean values the standard deviation. Differences in frequencies among groups were calculated using χ 2  test. One-way analysis of variance (ANOVA) with a least significant difference (LSD) test was used to compare the three groups on the indices. Pearson's correlation analysis was used to measure the correlation between disease activity and sleep quality in IBD-PA patients. The PSG and PSQI indices of active and remission IBD-PA patients were compared by  t  test. Univariate analysis was used to compare sleep efficiency of patients with different demographic characteristics and disease conditions. Multivariate linear regression was used to evaluate the influencing factors of sleep efficiency. \\n Results \\n Sample \\n Four hundred twelve people received our invitation and 360 people took part in the research with a participation rate of 87.38%. There was no significant difference in basic demographic and clinical characteristics among the three groups. The results are summarized in  Table 1 . \\n \\n TABLE 1 \\n \\n \\n \\n \\n Table 1 . Comparison of basic demographic and clinical characteristics of 13 groups of subjects. \\n \\n \\n \\n Comparison of PSG Indices of the Three Groups \\n The PSG data of three groups were analyzed by variance analysis and LSD test. Variance analysis results showed that there were significant differences in TST, sleep latency, sleep efficiency, the number and time of WASO and sleep structure among the three groups ( P  < 0.001). The results are given in  Table 2 . \\n \\n TABLE 2 \\n \\n \\n \\n \\n Table 2 . Variance analysis results of the differences between IBD group, IBD-PA group and control group in PSG sleep parameters. \\n \\n \\n \\n LSD test results were showed in  Table 3 . Compared with the control group, the indexes of IBD group and IBD-PA group were significantly different ( P  < 0.001). In addition, there were significant differences between IBD-PA group and IBD group ( P  < 0.001). Overall, the sleep quality of patients with IBD and IBD-PA was lower than healthy control group, and the sleep quality of patients with IBD-PA was worse lower than IBD group. In detail, the TST, REM time, slow wave sleep (S3 + S4) and sleep efficiency (SE) in the IBD and IBD-PA group were significantly less than those in the HC group ( P  < 0.001). In terms of the above parameters, IBD-PA group were significantly less than those in the IBD group ( P  < 0.001). By contraries, compared with the HC group, the number and time of WASO and sleep latency (SL) in IBD group and IBD-PA group were significantly longer ( P  < 0.001). In terms of the above parameters, IBD-PA group were significantly longer than those in the IBD group ( P  < 0.001). \\n \\n TABLE 3 \\n \\n \\n \\n \\n Table 3 . LSD test results of the differences between IBD group, IBD-PA group and control group in PSG sleep parameters. \\n \\n \\n \\n Comparison of PQSI Indices of the Three Groups \\n The PQSI data of three groups were analyzed by variance analysis and LSD test. Variance analysis results showed that there were significant differences in PSQI score, sleep quality, sleep latency, sleep duration, habitual sleep efficiency, sleep disturbances, use of sleeping medications and daytime dysfunction among the three groups ( P  < 0.001). The results are given in  Table 4 . \\n \\n TABLE 4 \\n \\n \\n \\n \\n Table 4 . Variance analysis results of the differences between IBD group, IBD-PA group and control group in PSQI sleep parameters. \\n \\n \\n \\n LSD test results were showed in  Table 5 . Compared with the control group, the indexes of IBD group and IBD-PA group were significantly different. Scores in all the seven dimensions and the total score of IBD group and IBD-PA group were significantly higher than the control group. In addition, IBD-PA group scored significantly higher than IBD group in sleep latency, sleep duration, habitual sleep efficiency, sleep disturbances, daytime dysfunction, and total score. But there was no significant difference between them in self-evaluation sleep quality and use of sleeping medications. According to the scoring rules of the PQSI scale and basing on the total scores, the above results illustrate that compared with the control group, IBD group and IBD-PA group showed worse sleep quality. Compared with the IBD group, the sleep quality of IBD-PA group was even worse. \\n \\n TABLE 5 \\n \\n \\n \\n \\n Table 5 . LSD test results of the differences between IBD group, IBD-PA group, and control group in PSQI sleep parameters. \\n \\n \\n \\n PSG and PSQI Indices Comparison Between Active and Remission IBD-PA Patients \\n The PSG and PSQI indices of active and remission IBD-PA patients were compared. Results showed that for the PSG indices, the SE of active patients was lower than the remission patients ( P  < 0.001). The number of WASO of active patients was larger than the remission patients ( P  < 0.001). The S1 of active patients was longer ( P  = 0.008) and S3 + S4 was longer than the remission patients ( P  = 0.01). Moreover, the PSQI total score of active patients was higher than the remission patients ( P  = 0.021). The results are shown in  Table 6 . \\n \\n TABLE 6 \\n \\n \\n \\n \\n Table 6 . PSG and PSQI indices comparison between active and remission IBD-PA patients. \\n \\n \\n \\n The Correlation Between Disease Activity and Sleep Quality in IBD-PA Patients \\n The correlations between disease activity and sleep quality (total score of PSQI and sleep efficiency of PSG) of IBD-PA patients were analyzed. For the CD patients, there was a positive correlation between Harvey-Bradshaw indices and total score of PSQI ( r  = 0.528,  P  < 0.05), and a negative correlation between Harvey-Bradshaw indices and sleep efficiency of PSG ( r  = −0.478,  P  < 0.05). Similarly, for the UC patients, there was a positive correlation between MES and total score of PSQI ( r  = 0.673,  P  < 0.05), and a negative correlation between MES and sleep efficiency of PSG ( r  = −0.566,  P  < 0.05). \\n The Effect of Demographic Characteristics and Disease Condition on the IBD-PA Patients' Sleep Efficiency of PSG \\n Univariate analysis was used to compare sleep efficiency of patients with different demographic characteristics and disease conditions.  Table 7  presents the results. Then using sleep efficiency as dependent variable, the data of IBD-PA patients were analyzed by multiple linear regression. The results showed that abdominal pain, joint pain, depression, and C-reactive protein were the influencing factors of sleep efficiency. The results are shown in  Table 8 . \\n \\n TABLE 7 \\n \\n \\n \\n \\n Table 7 . Comparison of sleep efficiency of patients with different demographic characteristics and diseases situation. \\n \\n \\n \\n TABLE 8 \\n \\n \\n \\n \\n Table 8 . Influencing factors of objective sleep efficiency in patients with IBD-PA. \\n \\n \\n \\n Discussion \\n According to the results, the objective sleep parameters and subjective self-assessment of sleep quality between the control group, IBD group, and IBD-PA group were significantly different. \\n First, compared with the control group, patients in IBD group showed poorer sleep quality in both PSG data and PSQI. Sleep disorder is a common problem in patients with IBD. This result was similar to those of previous studies. For example, Uemura et al. reported the prevalence of sleep disturbances was 44.1% in Japanese IBD patients ( 23 ). In a study from China, 55.8% IBD patients reported poor sleep ( 16 ). There are few studies on PSG in IBD patients. Compared with Keefer et al. research, some results are similar. For example, they found that IBD patients had less sleep efficiency and TST than the control group, which are similar with ours. In their research, the average sleep efficiency of IBD patients was 84.44 ± 5.06 while it was 78.0 ± 13.43 in control group. The average TST of IBD group was 418.55 ± 55.67, while in the control group the average TST was 464.18 ± 19.26. The sleep efficiency were higher and TST were longer than those in our study. Unlike our findings, there was no significant difference in other indicators between the two groups ( 24 ). Bar-Gil Shitrit et al. found a significantly less REM sleep was noted in the inactive IBD patient group vs. control and light sleep percentage and REM latency were also longer in the IBD group. All other sleep parameters including number of wakes, sleep latency, were similar in both groups ( 25 ). Sleep problems of patients include short sleep time, difficulty in falling asleep, increased number of WASO, etc ( 26 ). Summarizing their research, the factors affecting sleep quality of IBD patients include disease active period, unemployment, female, hormone therapy, restless legs syndrome, fatigue, anxiety, inflammatory factors, and so on ( 16 ,  27 – 29 ). \\n Second, when it comes to comparing the sleep quality between the control group and IBD-PA group, results showed the IBD-PA group was poorer. In previous studies, there were more questionnaire surveys on sleep of IBD patients, but we haven't found any studies focused on sleep of IBD-PA patients. In addition to the possible causes of sleep disorders in patients with IBD in the first part, these patients not only suffer from digestive tract symptoms, but also experience joint pain and limited movement, which may seriously affect their sleep. \\n Third, compared with IBD patients, the sleep quality of IBD-PA patients was even worse. Sleep status of patients with IBD-PA is the focus of this study. As to the objective sleep parameters, the patients showed very low sleep efficiency and very short sleep time, which indicated that the patients' sleep problems were serious and should be paid great attention to. In terms of sleep structure, the patients' slow wave sleep (deep sleep, S3 + S4) time is shorter. Deep sleep is associated with cognition and helps patients regain energy ( 30 ). The rapid eye movement sleep of patients is also short, which has a negative effect on the mental health of patients ( 31 ). Therefore, attention should be paid to patients' mental health, such as cognition. As to the subjective assessment results, patients' with IBD-PA reported higher scores in all the 7 items and the total score of PSQI than IBD group, which indicated their subjective sleep quality was worse. \\n In this study, it was found that sleep was in relation to disease activity in IBD-PA patients. Active patients had worse sleep than remission patients. This was the same as other studies. For example, Graff et al. conducted a PSQI survey of 318 adult IBD patients and found that 82% of active IBD patients had sleep disorder, while 51% of remission IBD patients had sleep disorder ( 32 ). Ali et al. confirmed that 100% of patients in active stage of disease had sleep disorders, while only 54% of patients in remission stage had sleep disorders ( 11 ). This is because the physical and mental health of patients in the active stage of disease is worse, which affects patients' sleep. In addition, cytokines also affect sleep. In addition, the levels of cytokines were different between active patients and remission patients. Cytokines interact with sleep. For example, IL-1 can regulate sleep through serum receptor pathways. Low levels of IL-1 can promote NREM, while high levels of IL-1 can inhibit NREM ( 33 ). \\n In order to explain why IBD-PA patients had the poorest sleep quality than the IBD patients and the control group, regression, and correlation analysis were used to explore the influencing factors of objective sleep efficiency. Results showed that abdominal pain, joint pain, depression, and C-reactive protein were the influencing factors of sleep efficiency in patients with IBD-PA. This study found that patients with gastrointestinal symptoms, such as abdominal pain, reduced their sleep quality. This is the same as previous research results. For example, Pirinen et al. found that sleep disorders were associated with clinical symptoms. In adolescent IBD patients, 41% of patients with severe clinical symptoms and 22% of patients with mild clinical symptoms had sleep disorders ( 34 ). Joint pain severely affects the patient's sleep. Patients' with higher pain index got lower sleep efficiency because pain causes frequent awakening during sleep. Depression is also an important factor in sleep, which is the same as other studies ( 35 ,  36 ). IBD patients often have negative emotions such as anxiety and depression because the course of illness is long and repeated, which seriously affects work and life, and patients perceive the uncertainty of illness ( 37 ). Moreover, emotions affect the outcome of disease and the quality of life of patients ( 38 ). Patients with IBD-PA are more likely to have mental health problems because they have more joint symptoms on this basis. Pain, negative emotions and sleep disorders often form a vicious circle. This suggests that pain management and psychological intervention should be strengthened in patients with IBD-PA ( 39 ). In addition, CRP, a marker of inflammation, was related to sleep. In inflammatory diseases, the body produces NF-kB, which affects sleep rhythm ( 40 ). Higher CRP means more inflammation, so sleep is more affected. Understanding these factors is helpful for targeted sleep intervention. \\n Limitations \\n There are limitations of our present study. First, there are many factors affecting the patients' sleep quality, including hormone level, sport, nutritional status, intestinal flora, etc. In the present study, we incorporated limited factors. Clearly, it is difficult and unpractical to control for all these factors in a study. We can only control a certain number of the factors. Second, in the selection of the object, the sample size was small because the total number of such patients is relatively small. Third, this was a cross-sectional study that only measured patients' indices at a single time point. Therefore, it has a certain contingency; long-term intervention studies and cohort studies need to be conducted in the future. \\n Conclusion \\n Generally speaking, the objective and subjective sleep quality of patients with IBD were poor, and these of IBD-PA patients were even worse. Specifically, on objective sleep quality, the TST, sleep efficiency, REM time, S2, S3 + S4 of IBD, and IBD-PA group were shorter than the control group. However, the sleep latency, number of WASO, time of WASO and S1 of IBD and IBD-PA group were longer or more than the control group. The above sleep problems of IBD-PA group were more serious than IBD group. On subjective sleep quality, all the 7 dimension scores and the total score of PSQI in IBD group and IBD-PA group were higher than the control group. IBD-PA group scored significantly higher than IBD group in sleep latency, sleep duration, habitual sleep efficiency, sleep disturbances, daytime dysfunction, and total score. The influencing factors of IBD-PA patients' sleep quality were hormone use, nocturnal gastrointestinal symptoms, joint pain, depression, and disease activity. Therefore, sleep management should be integrated into IBD management. \\n Data Availability Statement \\n The datasets generated for this study are available on request to the corresponding author. \\n Ethics Statement \\n This study was carried out in accordance with the recommendations of Wuhan University School of Medicine Ethics Committee (No. 20161101) with written informed consent from all subjects. All subjects gave written informed consent in accordance with the Declaration of Helsinki. The protocol was approved by the Wuhan University School of Medicine Ethics Committee. \\n Author Contributions \\n NY designed the research. YZ and BP were responsible for drafting the manuscript and collected the data. YL and XC analyzed the data. YZ, NY, and XL reviewed and revised the manuscript. XX reviewed the manuscript. All authors approved this version to be published. \\n Funding \\n This study was funded by the Huizhou Science and Technology Project (Healthcare) (2019Y323) and the Fundamental Research Funds for the Central Universities (HEUCF20181312). \\n Conflict of Interest Statement \\n The authors declare that the research was conducted in the absence of any commercial or financial relationships that could be construed as a potential conflict of interest. \\n Acknowledgments \\n The authors thank all the patients who generously participated in this study at such a difficult time in their lives. \\n References \\n \\n  1. Molodecky NA, Soon IS, Rabi DM, Ghali WA, Ferris M, Chernoff G, et al. Increasing incidence and prevalence of the inflammatory bowel diseases with time, based on systematic review.  Gastroenterology.  (2012) 142:46–54. doi: 10.1053/j.gastro.2011.10.001 \\n PubMed Abstract  |  CrossRef Full Text  |  Google Scholar \\n \\n \\n  2. Gionchetti P, Rizzello F. IBD: IBD and spondyloarthritis: joint management.  Nat Rev Gastroenterol Hepatol.  (2016) 13:9–10. doi: 10.1038/nrgastro.2015.208 \\n PubMed Abstract  |  CrossRef Full Text  |  Google Scholar \\n \\n \\n  3. Hoda M, Grace L, Jason H. Characterization and prevalence of spondyloarthritis and peripheral arthritis among patients with inflammatory bowel disease.  Clin Exp Gastroenterol.  (2017) 10:259–63. doi: 10.2147/CEG.S136383 \\n CrossRef Full Text  |  Google Scholar \\n \\n \\n  4. Gravallese EM, Kantrowitz FG. Arthritic manifestations of inflammatory bowel disease.  Am J Gastroenterol.  (1988) 83:703–9.  \\n PubMed Abstract  |  Google Scholar \\n \\n \\n  5. Neuendorf R, Harding A, Stello N, Hanes D, Wahbeh H. Depression and anxiety in patients with Inflammatory Bowel Disease: a systematic review.  J Psychosom Res.  (2016) 87:70–80. doi: 10.1016/j.jpsychores.2016.06.001 \\n PubMed Abstract  |  CrossRef Full Text  |  Google Scholar \\n \\n \\n  6. Dibley L, Czuber-Dochan W, Woodward S, Wade T, Bassett P, Sturt J, et al. Development and psychometric properties of the Inflammatory Bowel Disease Distress Scale (IBD-DS): a new tool to measure disease-specific distress.  Inflamm Bowel Dis.  (2018) 24:2068–77. doi: 10.1093/ibd/izy108 \\n CrossRef Full Text  |  Google Scholar \\n \\n \\n  7. Sweeney L, Moss-Morris R, Czuber-Dochan W, Meade L, Chumbley G, Norton C. Systematic review: psychosocial factors associated with pain in inflammatory bowel disease.  Aliment Pharmacol Ther.  (2018) 47:715–29. doi: 10.1111/apt.14493 \\n PubMed Abstract  |  CrossRef Full Text  |  Google Scholar \\n \\n \\n  8. Ali T, Orr WC. Sleep disturbances and inflammatory bowel disease.  Inflamm Bowel Dis.  (2014) 20:1986–95. doi: 10.1097/MIB.0000000000000108 \\n PubMed Abstract  |  CrossRef Full Text  |  Google Scholar \\n \\n \\n  9. Bucci C, Amato M, Zingone F, Caggiano M, Iovino P, Ciacci C. Prevalence of sleep bruxism in IBD patients and its correlation to other dental disorders and quality of life.  Gastroent Res Pract.  (2018) 2018:7274318. doi: 10.1155/2018/7274318 \\n PubMed Abstract  |  CrossRef Full Text  |  Google Scholar \\n \\n \\n  10. Hashash JG, Ramos-Rivers C, Youk A, Chiu WK, Duff K, Regueiro M. Quality of sleep and coexistent psychopathology have significant impact on fatigue burden in patients with inflammatory bowel disease.  J Clin Gastroenterol.  (2018) 52:423–30. doi: 10.1097/MCG.0000000000000729 \\n PubMed Abstract  |  CrossRef Full Text  |  Google Scholar \\n \\n \\n  11. Ali T, Madhoun MF, Orr WC, Rubin DT. Assessment of the relationship between quality of sleep and disease activity in inflammatory bowel disease patient.  Inflamm Bowel Dis.  (2013) 19:2440–3. doi: 10.1097/MIB.0b013e3182a0ea54 \\n CrossRef Full Text  |  Google Scholar \\n \\n \\n  12. Michalopoulos G, Vrakas S, Makris K, Tzathas C. Association of sleep quality and mucosal healing in patients with inflammatory bowel disease in clinical remission.  Ann Gastroenterol . (2018) 31:211–6. doi: 10.20524/aog.2018.0227 \\n PubMed Abstract  |  CrossRef Full Text  |  Google Scholar \\n \\n \\n  13. Haack M, Sanchez E, Mullington JM. Elevated inflammatory markers in response to prolonged sleep restriction are associated with increased pain experience in healthy volunteers.  Sleep . (2007) 30:1145–52. doi: 10.1093/sleep/30.9.1145 \\n PubMed Abstract  |  CrossRef Full Text  |  Google Scholar \\n \\n \\n  14. Abedelmalek S, Souissi N, Chtourou H, Denguezli M, Aouichaoui C, Ajina M, et al. Effects of partial sleep deprivation on proinflammatory cytokines, growth hormone, and steroid hormone concentrations during repeated brief sprint interval exercise.  Chronobiol Int . (2013) 30:502–9. doi: 10.3109/07420528.2012.742102 \\n PubMed Abstract  |  CrossRef Full Text  |  Google Scholar \\n \\n \\n  15. Sisson G, Junghans C, Bjarnason I. PTH-044 Poor sleep quality in irritable bowel syndrome: a comparison with healthy adult controls.  Gut . (2010) 59:A140. doi: 10.1136/gut.2009.209049e \\n CrossRef Full Text  |  Google Scholar \\n \\n \\n  16. Shi Q, Kong J, Dai XJ, Chen C, Feng JX. Sleep quality and influencing factors in patients with inflammatory bowel disease.  Chin Nurs Manag . (2016) 16:1206–11. \\n Google Scholar \\n \\n \\n  17. Chen C, Li J, Yang XS. A review of inflammatory bowel disease comorbid sleep disorders.  Chin Mental Health J . (2018) 32:478–83. doi: 10.3969/j.issn.1000-6729.2018.06.006 \\n CrossRef Full Text  |  Google Scholar \\n \\n \\n  18. Sakamoto S, Kijima N, Tomoda A, Kambara M. Factor structures of the Zung Self-Rating Depression Scale (SDS) for undergraduates.  J Clin Psychol . (1998) 54:477–87. doi: 10.1002/(SICI)1097-4679(199806)54:4<477::AID-JCLP9>3.0.CO;2-K \\n PubMed Abstract  |  CrossRef Full Text  |  Google Scholar \\n \\n \\n  19. Pagé MG, Katz J, Stinson J, Isaac L, Martin-Pichora AL, Campbell F. Validation of the numerical rating scale for pain intensity and unpleasantness in pediatric acute postoperative pain: sensitivity to change over time.  J Pain . (2012) 13:359–69. doi: 10.1016/j.jpain.2011.12.010 \\n PubMed Abstract  |  CrossRef Full Text  |  Google Scholar \\n \\n \\n  20. Vermeire S, Schreiber S, Sandborn WJ, Dubois C, Rutgeerts P. Correlation between the Crohn's disease activity and Harvey-Bradshaw indices in assessing Crohn's disease severity.  Clin Gastroenterol H . (2010) 8:357–63. doi: 10.1016/j.cgh.2010.01.001 \\n PubMed Abstract  |  CrossRef Full Text  |  Google Scholar \\n \\n \\n  21. Kristensen V, Klepp P, Cvancarova M, Røseth A, Skar V, Moum B. Prediction of endoscopic disease activity in ulcerative colitis by two different assays for fecal calprotectin.  J Crohns Coliti . (2014) 9:164–69. doi: 10.1093/ecco-jcc/jju015 \\n PubMed Abstract  |  CrossRef Full Text  |  Google Scholar \\n \\n \\n  22. Carpenter JS, Andrykowski MA. Psychometric evaluation of the Pittsburgh Sleep Quality Index.  J Psychosom Res . (1998) 45:5–13. doi: 10.1016/S0022-3999(97)00298-5 \\n PubMed Abstract  |  CrossRef Full Text  |  Google Scholar \\n \\n \\n  23. Uemura R, Fujiwara Y, Iwakura N, Shiba M, Watanabe K, Kamata N, et al. Sleep disturbances in Japanese patients with inflammatory bowel disease and their impact on disease flare.  Springerplus . (2016) 5:1792. doi: 10.1186/s40064-016-3408-6 \\n PubMed Abstract  |  CrossRef Full Text  |  Google Scholar \\n \\n \\n  24. Keefer L, Stepanski EJ, Ranjbaran Z, Benson LM, Keshavarzian A. An initial report of sleep disturbance in inactive inflammatory bowel disease.  J Clin Sleep Med . (2006) 2:409–16.  \\n PubMed Abstract  |  Google Scholar \\n \\n \\n  25. Bar-Gil Shitrit A, Chen-Shuali C, Adar T, Koslowsky B, Shteingart S, Paz K, et al. Sleep disturbances can be prospectively observed in patients with an inactive inflammatory bowel disease.  Dig Dis Sci . (2018) 63:2992–7. doi: 10.1007/s10620-018-5207-0 \\n PubMed Abstract  |  CrossRef Full Text  |  Google Scholar \\n \\n \\n  26. Ranjbaran Z, Keefer L, Farhadi A, Stepanski E, Sedghi S, Keshavarzian A. Impact of sleep disturbances in inflammatory bowel disease.  J Gastroenterol Hepatol . (2007) 22:1748–53. doi: 10.1111/j.1440-1746.2006.04820.x \\n PubMed Abstract  |  CrossRef Full Text  |  Google Scholar \\n \\n \\n  27. Wilson RG, Stevens BW, Guo AY, Russell CN, Thornton A, Cohen MA, et al. High C-reactive protein is associated with poor sleep quality independent of nocturnal symptoms in patients with inflammatory bowel disease.  Dig Dis Sci . (2015) 60:2136–43. doi: 10.1007/s10620-015-3580-5 \\n PubMed Abstract  |  CrossRef Full Text  |  Google Scholar \\n \\n \\n  28. Schindlbeck KA, Becker J, Berger F, Mehl A, Rewitzer C, Geffe S, et al. Impact of restless legs syndrome in patients with inflammatory bowel disease on sleep, fatigue, and quality of life.  Int J Colorectal Dis . (2017) 32:125–30. doi: 10.1007/s00384-016-2681-8 \\n PubMed Abstract  |  CrossRef Full Text  |  Google Scholar \\n \\n \\n  29. Ananthakrishnan AN, Long MD, Martin CF, Sandler RS, Kappelman MD. Sleep disturbance and risk of active disease in patients with Crohn's disease and ulcerative colitis.  Clin Gastroenterol Hepatol.  (2013) 11:965–71. doi: 10.1016/j.cgh.2013.01.021 \\n PubMed Abstract  |  CrossRef Full Text  |  Google Scholar \\n \\n \\n  30. Buechel HM, Popovic J, Searcy JL, Porter NM, Thibault O, Blalock EM. Deep sleep and parietal cortex gene expression changes are related to cognitive deficits with age.  PLoS ONE . (2011) 6:e18387. doi: 10.1371/journal.pone.0018387 \\n PubMed Abstract  |  CrossRef Full Text  |  Google Scholar \\n \\n \\n  31. McNamara P, Johnson P, McLaren D, Harris E, Beauharnais C, Auerbach S. REM and NREM sleep mentation.  Int Rev Neurobiol.  (2010) 92: 69–86. doi: 10.1016/S0074-7742(10)92004-7 \\n PubMed Abstract  |  CrossRef Full Text  |  Google Scholar \\n \\n \\n  32. Graff LA, Vincent N, Walker JR, Clara I, Carr R, Ediger J, et al. A population-based study of fatigue and sleep difficulties in inflammatory bowel disease.  Inflamm Bowel Dis . (2011) 17:1882–9. doi: 10.1002/ibd.21580 \\n PubMed Abstract  |  CrossRef Full Text  |  Google Scholar \\n \\n \\n  33. Opp MR. Cytokines and sleep.  Sleep Med Rev . (2005) 9:355–64. doi: 10.1016/j.smrv.2005.01.002 \\n PubMed Abstract  |  CrossRef Full Text  |  Google Scholar \\n \\n \\n  34. Pirinen T, Kolho KL, Simola P, Ashorn M, Aronen ET. Parent and self-report of sleep problems and daytime tiredness among adolescents with inflammatory bowel disease and their population-based controls.  Sleep.  (2010) 1487–93. doi: 10.1055/s-0030-1266761 \\n PubMed Abstract  |  CrossRef Full Text  |  Google Scholar \\n \\n \\n  35. Benhayon D, Youk A, McCarthy FN, Davis S, Keljo DJ, Bousvaros A, et al. Characterization of relationships between sleep, inflammation, and psychiatric dysfunction in depressed youth with Crohn's disease.  J Pediatr Gastroenterol Nutr.  (2013) 57:335–42. doi: 10.1097/MPG.0b013e31829641df \\n CrossRef Full Text  |  Google Scholar \\n \\n \\n  36. Pirinen T, Kolho KL, Ashorn M, Aronen ET. Sleep and emotional and behavioral symptoms in adolescents with inflammatory bowel disease.  Sleep Disord . (2014) 2014:379450. doi: 10.1155/2014/379450 \\n PubMed Abstract  |  CrossRef Full Text  |  Google Scholar \\n \\n \\n  37. Reed-Knight B, Lobato D, Hagin S, McQuaid EL, Seifer R, Kopel SJ, et al. Depressive symptoms in youth with inflammatory bowel disease compared with a community sample.  Inflamm Bowel Dis . (2014) 20:614–21. doi: 10.1097/01.MIB.0000442678.62674.b7 \\n PubMed Abstract  |  CrossRef Full Text  |  Google Scholar \\n \\n \\n  38. Luo XP, Mao R, Chen BL, Qiu Y, Zhang SH, He Y, et al. Over-reaching beyond disease activity: the influence of anxiety and medical economic burden on health-related quality of life in patients with inflammatory bowel disease.  Patient Prefer Adher.  (2017) 11:23–31. doi: 10.2147/PPA.S118589 \\n PubMed Abstract  |  CrossRef Full Text  |  Google Scholar \\n \\n \\n  39. Boakye PA, Olechowski C, Rashiq S, Verrier MJ, Kerr B, Witmans M, et al. A critical review of neurobiological factors involved in the interactions between chronic pain, depression, and sleep disruption.  Clin J Pain.  (2016) 32:327–36. doi: 10.1097/AJP.0000000000000260 \\n PubMed Abstract  |  CrossRef Full Text  |  Google Scholar \\n \\n \\n  40. Hong HK, Maury E, Ramsey KM, Perelis M, Marcheva B, Omura C, et al. Requirement for NF-κB in maintenance of molecular and behavioral circadian rhythms in mice.  Genes Dev . (2018) 32:1367–79. doi: 10.1101/gad.319228.118 \\n PubMed Abstract  |  CrossRef Full Text  |  Google Scholar \\n \\n \\n \\n \\n Keywords:  inflammatory bowel disease, arthritis, sleep disturbances, polysomnography, pittsburgh sleep quality scale (PSQI) \\n Citation:  Zhang Y, Pi B, Xu X, Li Y, Chen X, Yang N and Li X (2020) Sleep Characteristics and Influencing Factors of Sleep Quality in Patients With Inflammatory Bowel Disease-Peripheral Arthritis.  Front. Med.  6:190. doi: 10.3389/fmed.2019.00190 \\n Received:  14 April 2019;  Accepted:  09 August 2019;   Published:  06 January 2020. \\n Edited by:   Murat Toruner , Ankara University, Turkey \\n Reviewed by:   Giuseppe Losurdo , University of Bari Medical School, Italy   Chenyang Wang , Medical School, Nanjing University, China \\n Copyright  © 2020 Zhang, Pi, Xu, Li, Chen, Yang and Li. This is an open-access article distributed under the terms of the  Creative Commons Attribution License (CC BY) . The use, distribution or reproduction in other forums is permitted, provided the original author(s) and the copyright owner(s) are credited and that the original publication in this journal is cited, in accordance with accepted academic practice. No use, distribution or reproduction is permitted which does not comply with these terms. \\n *Correspondence:  Ningxi Yang,  yangningxi@bjmu.edu.cn \\n † These authors have contributed equally to this work \\n ‡ These authors share first authorship \\n \\n\""
      ]
     },
     "execution_count": 111,
     "metadata": {},
     "output_type": "execute_result"
    }
   ],
   "source": [
    "df[\"text\"][0]"
   ]
  },
  {
   "cell_type": "code",
   "execution_count": 114,
   "id": "72df00e6",
   "metadata": {},
   "outputs": [
    {
     "name": "stdout",
     "output_type": "stream",
     "text": [
      "('group ibd-pa group', 9.829244569556466e-05)\n",
      "('sleep quality patients', 0.00018907973825403636)\n",
      "('full text google', 0.00019621737317750167)\n"
     ]
    }
   ],
   "source": [
    "kw_extractor = yake.KeywordExtractor()\n",
    "text = df[\"preprocessed_text\"][0]\n",
    "language = \"en\"\n",
    "max_ngram_size = 3\n",
    "deduplication_threshold = 0.9\n",
    "numOfKeywords = 3\n",
    "custom_kw_extractor = yake.KeywordExtractor(lan=language, n=max_ngram_size, dedupLim=deduplication_threshold, top=numOfKeywords, features=None)\n",
    "keywords = custom_kw_extractor.extract_keywords(text)\n",
    "for kw in keywords:\n",
    "    print(kw)"
   ]
  },
  {
   "cell_type": "code",
   "execution_count": null,
   "id": "324f122a",
   "metadata": {},
   "outputs": [],
   "source": []
  }
 ],
 "metadata": {
  "kernelspec": {
   "display_name": "Python 3 (ipykernel)",
   "language": "python",
   "name": "python3"
  },
  "language_info": {
   "codemirror_mode": {
    "name": "ipython",
    "version": 3
   },
   "file_extension": ".py",
   "mimetype": "text/x-python",
   "name": "python",
   "nbconvert_exporter": "python",
   "pygments_lexer": "ipython3",
   "version": "3.8.13"
  }
 },
 "nbformat": 4,
 "nbformat_minor": 5
}
