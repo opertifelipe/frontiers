{
 "cells": [
  {
   "cell_type": "code",
   "execution_count": 4,
   "id": "68fea080",
   "metadata": {},
   "outputs": [],
   "source": [
    "import json\n",
    "\n",
    "list_of_papers = []\n",
    "\n",
    "with open('../data/raw/Jan2020Frontiers.jsonl', 'r') as json_file:\n",
    "    json_list = list(json_file)\n",
    "\n",
    "for json_str in json_list:\n",
    "    result = json.loads(json_str)\n",
    "    list_of_papers.append(result)"
   ]
  },
  {
   "cell_type": "code",
   "execution_count": 6,
   "id": "3455467d",
   "metadata": {},
   "outputs": [],
   "source": [
    "import pandas as pd\n",
    "df = pd.DataFrame.from_dict(list_of_papers)"
   ]
  },
  {
   "cell_type": "code",
   "execution_count": 10,
   "id": "18fd3f32",
   "metadata": {},
   "outputs": [
    {
     "data": {
      "text/plain": [
       "64"
      ]
     },
     "execution_count": 10,
     "metadata": {},
     "output_type": "execute_result"
    }
   ],
   "source": [
    "len(df[\"journal\"].unique())"
   ]
  },
  {
   "cell_type": "code",
   "execution_count": 11,
   "id": "8b6ea7cd",
   "metadata": {},
   "outputs": [
    {
     "data": {
      "text/plain": [
       "Frontiers in Microbiology                      238\n",
       "Frontiers in Psychology                        222\n",
       "Frontiers in Immunology                        184\n",
       "Frontiers in Pharmacology                      173\n",
       "Frontiers in Plant Science                     145\n",
       "                                              ... \n",
       "Frontiers in Medical Technology                  1\n",
       "Frontiers in Computer Science                    1\n",
       "Frontiers in Research Metrics and Analytics      1\n",
       "Frontiers in Agronomy                            1\n",
       "Frontiers in Genome Editing                      1\n",
       "Name: journal, Length: 64, dtype: int64"
      ]
     },
     "execution_count": 11,
     "metadata": {},
     "output_type": "execute_result"
    }
   ],
   "source": [
    "df[\"journal\"].value_counts()"
   ]
  },
  {
   "cell_type": "code",
   "execution_count": null,
   "id": "1a6bbf0d",
   "metadata": {},
   "outputs": [],
   "source": []
  }
 ],
 "metadata": {
  "kernelspec": {
   "display_name": "Python 3 (ipykernel)",
   "language": "python",
   "name": "python3"
  },
  "language_info": {
   "codemirror_mode": {
    "name": "ipython",
    "version": 3
   },
   "file_extension": ".py",
   "mimetype": "text/x-python",
   "name": "python",
   "nbconvert_exporter": "python",
   "pygments_lexer": "ipython3",
   "version": "3.8.12"
  }
 },
 "nbformat": 4,
 "nbformat_minor": 5
}
