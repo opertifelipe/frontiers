{
 "cells": [
  {
   "cell_type": "markdown",
   "id": "bf712578",
   "metadata": {},
   "source": [
    "# Exploration data analysis (EDA)"
   ]
  },
  {
   "cell_type": "code",
   "execution_count": 1,
   "id": "68fea080",
   "metadata": {},
   "outputs": [],
   "source": [
    "# Load data\n",
    "import json\n",
    "with open('../data/raw/Jan2020Frontiers.jsonl', 'r') as json_file:\n",
    "    json_list = list(json_file)\n",
    "\n",
    "list_of_papers = []\n",
    "    \n",
    "for json_str in json_list:\n",
    "    result = json.loads(json_str)\n",
    "    list_of_papers.append(result)"
   ]
  },
  {
   "cell_type": "code",
   "execution_count": 2,
   "id": "3455467d",
   "metadata": {},
   "outputs": [],
   "source": [
    "import pandas as pd\n",
    "df = pd.DataFrame.from_dict(list_of_papers)"
   ]
  },
  {
   "cell_type": "code",
   "execution_count": 3,
   "id": "a4e77193",
   "metadata": {
    "scrolled": true
   },
   "outputs": [
    {
     "data": {
      "text/html": [
       "<div>\n",
       "<style scoped>\n",
       "    .dataframe tbody tr th:only-of-type {\n",
       "        vertical-align: middle;\n",
       "    }\n",
       "\n",
       "    .dataframe tbody tr th {\n",
       "        vertical-align: top;\n",
       "    }\n",
       "\n",
       "    .dataframe thead th {\n",
       "        text-align: right;\n",
       "    }\n",
       "</style>\n",
       "<table border=\"1\" class=\"dataframe\">\n",
       "  <thead>\n",
       "    <tr style=\"text-align: right;\">\n",
       "      <th></th>\n",
       "      <th>id</th>\n",
       "      <th>text</th>\n",
       "      <th>journal</th>\n",
       "    </tr>\n",
       "  </thead>\n",
       "  <tbody>\n",
       "    <tr>\n",
       "      <th>379</th>\n",
       "      <td>493646</td>\n",
       "      <td>\\n Longitudinal Characterization of Coccidiosi...</td>\n",
       "      <td>Frontiers in Veterinary Science</td>\n",
       "    </tr>\n",
       "    <tr>\n",
       "      <th>138</th>\n",
       "      <td>492485</td>\n",
       "      <td>\\n Use of Slow-Release Injectable Moxidectin f...</td>\n",
       "      <td>Frontiers in Veterinary Science</td>\n",
       "    </tr>\n",
       "    <tr>\n",
       "      <th>2500</th>\n",
       "      <td>509440</td>\n",
       "      <td>\\n Evaluation of Yeast Fermented Poultry By-Pr...</td>\n",
       "      <td>Frontiers in Veterinary Science</td>\n",
       "    </tr>\n",
       "    <tr>\n",
       "      <th>474</th>\n",
       "      <td>511274</td>\n",
       "      <td>\\n In-vivo  Intramuscular Collagen Synthesis, ...</td>\n",
       "      <td>Frontiers in Veterinary Science</td>\n",
       "    </tr>\n",
       "    <tr>\n",
       "      <th>2405</th>\n",
       "      <td>501066</td>\n",
       "      <td>\\n Risk Factors of Anesthesia-Related Mortalit...</td>\n",
       "      <td>Frontiers in Veterinary Science</td>\n",
       "    </tr>\n",
       "    <tr>\n",
       "      <th>...</th>\n",
       "      <td>...</td>\n",
       "      <td>...</td>\n",
       "      <td>...</td>\n",
       "    </tr>\n",
       "    <tr>\n",
       "      <th>1266</th>\n",
       "      <td>495739</td>\n",
       "      <td>\\n \\n Meet Neo: Your Distant Cousin? \\n \\n \\n ...</td>\n",
       "      <td>Frontiers for Young Minds</td>\n",
       "    </tr>\n",
       "    <tr>\n",
       "      <th>254</th>\n",
       "      <td>469380</td>\n",
       "      <td>\\n \\n \\n What Are Model Microorganisms? \\n \\n ...</td>\n",
       "      <td>Frontiers for Young Minds</td>\n",
       "    </tr>\n",
       "    <tr>\n",
       "      <th>1792</th>\n",
       "      <td>461075</td>\n",
       "      <td>\\n \\n Computing the Climate: Building a Model ...</td>\n",
       "      <td>Frontiers for Young Minds</td>\n",
       "    </tr>\n",
       "    <tr>\n",
       "      <th>1782</th>\n",
       "      <td>492340</td>\n",
       "      <td>\\n \\n \\n Why Vaccines Do Not Work Without Trus...</td>\n",
       "      <td>Frontiers for Young Minds</td>\n",
       "    </tr>\n",
       "    <tr>\n",
       "      <th>1207</th>\n",
       "      <td>494542</td>\n",
       "      <td>\\n \\n Stuttering and Its Invisibility: Why Doe...</td>\n",
       "      <td>Frontiers for Young Minds</td>\n",
       "    </tr>\n",
       "  </tbody>\n",
       "</table>\n",
       "<p>2528 rows × 3 columns</p>\n",
       "</div>"
      ],
      "text/plain": [
       "          id                                               text  \\\n",
       "379   493646  \\n Longitudinal Characterization of Coccidiosi...   \n",
       "138   492485  \\n Use of Slow-Release Injectable Moxidectin f...   \n",
       "2500  509440  \\n Evaluation of Yeast Fermented Poultry By-Pr...   \n",
       "474   511274  \\n In-vivo  Intramuscular Collagen Synthesis, ...   \n",
       "2405  501066  \\n Risk Factors of Anesthesia-Related Mortalit...   \n",
       "...      ...                                                ...   \n",
       "1266  495739  \\n \\n Meet Neo: Your Distant Cousin? \\n \\n \\n ...   \n",
       "254   469380  \\n \\n \\n What Are Model Microorganisms? \\n \\n ...   \n",
       "1792  461075  \\n \\n Computing the Climate: Building a Model ...   \n",
       "1782  492340  \\n \\n \\n Why Vaccines Do Not Work Without Trus...   \n",
       "1207  494542  \\n \\n Stuttering and Its Invisibility: Why Doe...   \n",
       "\n",
       "                              journal  \n",
       "379   Frontiers in Veterinary Science  \n",
       "138   Frontiers in Veterinary Science  \n",
       "2500  Frontiers in Veterinary Science  \n",
       "474   Frontiers in Veterinary Science  \n",
       "2405  Frontiers in Veterinary Science  \n",
       "...                               ...  \n",
       "1266        Frontiers for Young Minds  \n",
       "254         Frontiers for Young Minds  \n",
       "1792        Frontiers for Young Minds  \n",
       "1782        Frontiers for Young Minds  \n",
       "1207        Frontiers for Young Minds  \n",
       "\n",
       "[2528 rows x 3 columns]"
      ]
     },
     "execution_count": 3,
     "metadata": {},
     "output_type": "execute_result"
    }
   ],
   "source": [
    "df.sort_values(by=\"journal\", ascending=False)"
   ]
  },
  {
   "cell_type": "code",
   "execution_count": 4,
   "id": "d9df9f36",
   "metadata": {},
   "outputs": [
    {
     "name": "stderr",
     "output_type": "stream",
     "text": [
      "[nltk_data] Downloading package punkt to /home/operti/nltk_data...\n",
      "[nltk_data]   Package punkt is already up-to-date!\n",
      "[nltk_data] Downloading package stopwords to /home/operti/nltk_data...\n",
      "[nltk_data]   Package stopwords is already up-to-date!\n"
     ]
    },
    {
     "data": {
      "text/plain": [
       "True"
      ]
     },
     "execution_count": 4,
     "metadata": {},
     "output_type": "execute_result"
    }
   ],
   "source": [
    "from nltk import word_tokenize\n",
    "from nltk.corpus import stopwords\n",
    "import string\n",
    "import nltk\n",
    "nltk.download('punkt')\n",
    "nltk.download('stopwords')"
   ]
  },
  {
   "cell_type": "code",
   "execution_count": 6,
   "id": "58f8d455",
   "metadata": {},
   "outputs": [
    {
     "data": {
      "text/plain": [
       "'Sample  String  -In '"
      ]
     },
     "execution_count": 6,
     "metadata": {},
     "output_type": "execute_result"
    }
   ],
   "source": [
    "import re\n",
    "org_string = \"Sample 11 String 42 -In 2020\"\n",
    "pattern = r'[0-9]'\n",
    "# Match all digits in the string and replace them by empty string\n",
    "mod_string = re.sub(pattern, '', org_string)\n",
    "mod_string"
   ]
  },
  {
   "cell_type": "code",
   "execution_count": 7,
   "id": "bff60e2f",
   "metadata": {},
   "outputs": [],
   "source": [
    "import re\n",
    "def find_keywords(s):\n",
    "    start = \"Keywords:\"\n",
    "    end = \"Citation:\"\n",
    "    s = s.replace(\" :\",\":\")\n",
    "    keywords_list = s[s.find(start)+len(start):s.rfind(end)].replace(\"\\n\",\" \").replace(\":\",\"\").split(\",\")\n",
    "    keywords_list = [keyword.strip() for keyword in keywords_list ]\n",
    "    return keywords_list"
   ]
  },
  {
   "cell_type": "code",
   "execution_count": 8,
   "id": "f2d98fef",
   "metadata": {
    "scrolled": true
   },
   "outputs": [],
   "source": [
    "list_of_all_keywords = []\n",
    "for i, row in df.iterrows():\n",
    "    list_of_all_keywords.append(find_keywords(row[\"text\"]))\n",
    "df[\"keywords\"] = list_of_all_keywords\n",
    "df[\"keywords_len\"] = df[\"keywords\"].apply(lambda x: len(x))"
   ]
  },
  {
   "cell_type": "code",
   "execution_count": 12,
   "id": "7be52494",
   "metadata": {},
   "outputs": [],
   "source": [
    "def preprocess(text):\n",
    "    text = re.sub(r'[0-9]', '', text)\n",
    "    word_to_remove = [\"google\", \"scholar\"]\n",
    "    stop = set(stopwords.words('english') + list(string.punctuation))\n",
    "    preprocessed_text = \" \".join([i for i in word_tokenize(text.lower()) if (i not in stop) and (len(i) > 3) and (i not in word_to_remove)])\n",
    "    return preprocessed_text"
   ]
  },
  {
   "cell_type": "code",
   "execution_count": null,
   "id": "a3a0a3be",
   "metadata": {},
   "outputs": [],
   "source": [
    "df[\"preprocessed_text\"] = df[\"text\"].apply(preprocess)"
   ]
  },
  {
   "cell_type": "code",
   "execution_count": 15,
   "id": "ef36ed87",
   "metadata": {},
   "outputs": [
    {
     "data": {
      "text/plain": [
       "(2528, 6)"
      ]
     },
     "execution_count": 15,
     "metadata": {},
     "output_type": "execute_result"
    }
   ],
   "source": [
    "df.shape"
   ]
  },
  {
   "cell_type": "code",
   "execution_count": 16,
   "id": "18fd3f32",
   "metadata": {},
   "outputs": [
    {
     "data": {
      "text/html": [
       "<div>\n",
       "<style scoped>\n",
       "    .dataframe tbody tr th:only-of-type {\n",
       "        vertical-align: middle;\n",
       "    }\n",
       "\n",
       "    .dataframe tbody tr th {\n",
       "        vertical-align: top;\n",
       "    }\n",
       "\n",
       "    .dataframe thead th {\n",
       "        text-align: right;\n",
       "    }\n",
       "</style>\n",
       "<table border=\"1\" class=\"dataframe\">\n",
       "  <thead>\n",
       "    <tr style=\"text-align: right;\">\n",
       "      <th></th>\n",
       "      <th>id</th>\n",
       "      <th>text</th>\n",
       "      <th>journal</th>\n",
       "      <th>preprocessed_text</th>\n",
       "      <th>keywords</th>\n",
       "      <th>keywords_len</th>\n",
       "    </tr>\n",
       "  </thead>\n",
       "  <tbody>\n",
       "    <tr>\n",
       "      <th>0</th>\n",
       "      <td>465950</td>\n",
       "      <td>\\n Sleep Characteristics and Influencing Facto...</td>\n",
       "      <td>Frontiers in Medicine</td>\n",
       "      <td>sleep characteristics influencing factors slee...</td>\n",
       "      <td>[inflammatory bowel disease, arthritis, sleep ...</td>\n",
       "      <td>5</td>\n",
       "    </tr>\n",
       "    <tr>\n",
       "      <th>1</th>\n",
       "      <td>483526</td>\n",
       "      <td>A Hybrid Approach for Modeling Type 2 Diabetes...</td>\n",
       "      <td>Frontiers in Genetics</td>\n",
       "      <td>hybrid approach modeling type diabetes mellitu...</td>\n",
       "      <td>[type 2 diabetes mellitus, machine learning, h...</td>\n",
       "      <td>6</td>\n",
       "    </tr>\n",
       "    <tr>\n",
       "      <th>2</th>\n",
       "      <td>482500</td>\n",
       "      <td>\\n Relationship Between SES and Academic Achie...</td>\n",
       "      <td>Frontiers in Psychology</td>\n",
       "      <td>relationship academic achievement junior high ...</td>\n",
       "      <td>[socioeconomic status, self-concept, school ac...</td>\n",
       "      <td>5</td>\n",
       "    </tr>\n",
       "    <tr>\n",
       "      <th>3</th>\n",
       "      <td>437333</td>\n",
       "      <td>Environmental Health Research in Africa: Impor...</td>\n",
       "      <td>Frontiers in Genetics</td>\n",
       "      <td>environmental health research africa important...</td>\n",
       "      <td>[G x E, Africa, environmental, pesticides, met...</td>\n",
       "      <td>7</td>\n",
       "    </tr>\n",
       "    <tr>\n",
       "      <th>4</th>\n",
       "      <td>486515</td>\n",
       "      <td>\\n 3,5-T2—A Janus-Faced Thyroid Hormone Metabo...</td>\n",
       "      <td>Frontiers in Endocrinology</td>\n",
       "      <td>3,5-t2—a janus-faced thyroid hormone metabolit...</td>\n",
       "      <td>[thyroid hormone, 3, 5-diiodothyronine, hypoth...</td>\n",
       "      <td>9</td>\n",
       "    </tr>\n",
       "  </tbody>\n",
       "</table>\n",
       "</div>"
      ],
      "text/plain": [
       "       id                                               text  \\\n",
       "0  465950  \\n Sleep Characteristics and Influencing Facto...   \n",
       "1  483526  A Hybrid Approach for Modeling Type 2 Diabetes...   \n",
       "2  482500  \\n Relationship Between SES and Academic Achie...   \n",
       "3  437333  Environmental Health Research in Africa: Impor...   \n",
       "4  486515  \\n 3,5-T2—A Janus-Faced Thyroid Hormone Metabo...   \n",
       "\n",
       "                      journal  \\\n",
       "0       Frontiers in Medicine   \n",
       "1       Frontiers in Genetics   \n",
       "2     Frontiers in Psychology   \n",
       "3       Frontiers in Genetics   \n",
       "4  Frontiers in Endocrinology   \n",
       "\n",
       "                                   preprocessed_text  \\\n",
       "0  sleep characteristics influencing factors slee...   \n",
       "1  hybrid approach modeling type diabetes mellitu...   \n",
       "2  relationship academic achievement junior high ...   \n",
       "3  environmental health research africa important...   \n",
       "4  3,5-t2—a janus-faced thyroid hormone metabolit...   \n",
       "\n",
       "                                            keywords  keywords_len  \n",
       "0  [inflammatory bowel disease, arthritis, sleep ...             5  \n",
       "1  [type 2 diabetes mellitus, machine learning, h...             6  \n",
       "2  [socioeconomic status, self-concept, school ac...             5  \n",
       "3  [G x E, Africa, environmental, pesticides, met...             7  \n",
       "4  [thyroid hormone, 3, 5-diiodothyronine, hypoth...             9  "
      ]
     },
     "execution_count": 16,
     "metadata": {},
     "output_type": "execute_result"
    }
   ],
   "source": [
    "df.head(5)"
   ]
  },
  {
   "cell_type": "code",
   "execution_count": 17,
   "id": "8b6ea7cd",
   "metadata": {},
   "outputs": [
    {
     "data": {
      "text/html": [
       "<div>\n",
       "<style scoped>\n",
       "    .dataframe tbody tr th:only-of-type {\n",
       "        vertical-align: middle;\n",
       "    }\n",
       "\n",
       "    .dataframe tbody tr th {\n",
       "        vertical-align: top;\n",
       "    }\n",
       "\n",
       "    .dataframe thead th {\n",
       "        text-align: right;\n",
       "    }\n",
       "</style>\n",
       "<table border=\"1\" class=\"dataframe\">\n",
       "  <thead>\n",
       "    <tr style=\"text-align: right;\">\n",
       "      <th></th>\n",
       "      <th>id</th>\n",
       "      <th>text</th>\n",
       "      <th>journal</th>\n",
       "      <th>preprocessed_text</th>\n",
       "      <th>keywords</th>\n",
       "      <th>keywords_len</th>\n",
       "    </tr>\n",
       "  </thead>\n",
       "  <tbody>\n",
       "    <tr>\n",
       "      <th>1116</th>\n",
       "      <td>486107</td>\n",
       "      <td>\\n \\n \\n Do Not Swat the Wasp! \\n \\n \\n \\n \\n ...</td>\n",
       "      <td>Frontiers for Young Minds</td>\n",
       "      <td>swat wasp abstract probably like bees cute fur...</td>\n",
       "      <td>[Not Swat the Wasp!           Abstract   You p...</td>\n",
       "      <td>189</td>\n",
       "    </tr>\n",
       "    <tr>\n",
       "      <th>1044</th>\n",
       "      <td>480838</td>\n",
       "      <td>\\n \\n \\n Drought, Floods, Climate Change, and ...</td>\n",
       "      <td>Frontiers for Young Minds</td>\n",
       "      <td>drought floods climate change forest loss amaz...</td>\n",
       "      <td>[ought, Floods, Climate Change, and Forest Los...</td>\n",
       "      <td>188</td>\n",
       "    </tr>\n",
       "    <tr>\n",
       "      <th>1482</th>\n",
       "      <td>490548</td>\n",
       "      <td>\\n \\n From Ouch to Ah-ha! Understanding Wounds...</td>\n",
       "      <td>Frontiers for Young Minds</td>\n",
       "      <td>ouch ah-ha understanding wounds healing infect...</td>\n",
       "      <td>[Ouch to Ah-ha! Understanding Wounds, Healing,...</td>\n",
       "      <td>181</td>\n",
       "    </tr>\n",
       "    <tr>\n",
       "      <th>1123</th>\n",
       "      <td>485296</td>\n",
       "      <td>\\n \\n \\n Blood Vessels Under the Microscope \\n...</td>\n",
       "      <td>Frontiers for Young Minds</td>\n",
       "      <td>blood vessels microscope abstract paper looks ...</td>\n",
       "      <td>[ood Vessels Under the Microscope           Ab...</td>\n",
       "      <td>179</td>\n",
       "    </tr>\n",
       "    <tr>\n",
       "      <th>1266</th>\n",
       "      <td>495739</td>\n",
       "      <td>\\n \\n Meet Neo: Your Distant Cousin? \\n \\n \\n ...</td>\n",
       "      <td>Frontiers for Young Minds</td>\n",
       "      <td>meet distant cousin abstract ever wondered ext...</td>\n",
       "      <td>[Neo Your Distant Cousin?           Abstract  ...</td>\n",
       "      <td>159</td>\n",
       "    </tr>\n",
       "    <tr>\n",
       "      <th>...</th>\n",
       "      <td>...</td>\n",
       "      <td>...</td>\n",
       "      <td>...</td>\n",
       "      <td>...</td>\n",
       "      <td>...</td>\n",
       "      <td>...</td>\n",
       "    </tr>\n",
       "    <tr>\n",
       "      <th>1081</th>\n",
       "      <td>486292</td>\n",
       "      <td>\\n Metabolic Syndrome, and Particularly the Hy...</td>\n",
       "      <td>Frontiers in Endocrinology</td>\n",
       "      <td>metabolic syndrome particularly hypertriglycer...</td>\n",
       "      <td>[breast cancer, metabolic syndrome, hypertrigl...</td>\n",
       "      <td>5</td>\n",
       "    </tr>\n",
       "    <tr>\n",
       "      <th>1080</th>\n",
       "      <td>496512</td>\n",
       "      <td>\\n Prognosis and Risk Factors of Radiation-Ind...</td>\n",
       "      <td>Frontiers in Oncology</td>\n",
       "      <td>prognosis risk factors radiation-induced lymph...</td>\n",
       "      <td>[radiation-induced lymphopenia, stereotactic b...</td>\n",
       "      <td>5</td>\n",
       "    </tr>\n",
       "    <tr>\n",
       "      <th>1079</th>\n",
       "      <td>503594</td>\n",
       "      <td>\\n Saikosaponin A Inhibits Triple-Negative Bre...</td>\n",
       "      <td>Frontiers in Oncology</td>\n",
       "      <td>saikosaponin inhibits triple-negative breast c...</td>\n",
       "      <td>[saikosaponin A, natural product, triple-negat...</td>\n",
       "      <td>5</td>\n",
       "    </tr>\n",
       "    <tr>\n",
       "      <th>1078</th>\n",
       "      <td>478403</td>\n",
       "      <td>\\n Brain Gray Matter Volume Associations With ...</td>\n",
       "      <td>Frontiers in Aging Neuroscience</td>\n",
       "      <td>brain gray matter volume associations abnormal...</td>\n",
       "      <td>[MRI, aged, brain, motricity, EPI-epidemiology]</td>\n",
       "      <td>5</td>\n",
       "    </tr>\n",
       "    <tr>\n",
       "      <th>1264</th>\n",
       "      <td>502838</td>\n",
       "      <td>\\n The Potential Role of Nrf2 Signaling in Lei...</td>\n",
       "      <td>Frontiers in Cellular and Infection Microbiology</td>\n",
       "      <td>potential role nrf2 signaling leishmania infec...</td>\n",
       "      <td>[Nrf2 signaling, immune system modulation, pro...</td>\n",
       "      <td>5</td>\n",
       "    </tr>\n",
       "  </tbody>\n",
       "</table>\n",
       "<p>2528 rows × 6 columns</p>\n",
       "</div>"
      ],
      "text/plain": [
       "          id                                               text  \\\n",
       "1116  486107  \\n \\n \\n Do Not Swat the Wasp! \\n \\n \\n \\n \\n ...   \n",
       "1044  480838  \\n \\n \\n Drought, Floods, Climate Change, and ...   \n",
       "1482  490548  \\n \\n From Ouch to Ah-ha! Understanding Wounds...   \n",
       "1123  485296  \\n \\n \\n Blood Vessels Under the Microscope \\n...   \n",
       "1266  495739  \\n \\n Meet Neo: Your Distant Cousin? \\n \\n \\n ...   \n",
       "...      ...                                                ...   \n",
       "1081  486292  \\n Metabolic Syndrome, and Particularly the Hy...   \n",
       "1080  496512  \\n Prognosis and Risk Factors of Radiation-Ind...   \n",
       "1079  503594  \\n Saikosaponin A Inhibits Triple-Negative Bre...   \n",
       "1078  478403  \\n Brain Gray Matter Volume Associations With ...   \n",
       "1264  502838  \\n The Potential Role of Nrf2 Signaling in Lei...   \n",
       "\n",
       "                                               journal  \\\n",
       "1116                         Frontiers for Young Minds   \n",
       "1044                         Frontiers for Young Minds   \n",
       "1482                         Frontiers for Young Minds   \n",
       "1123                         Frontiers for Young Minds   \n",
       "1266                         Frontiers for Young Minds   \n",
       "...                                                ...   \n",
       "1081                        Frontiers in Endocrinology   \n",
       "1080                             Frontiers in Oncology   \n",
       "1079                             Frontiers in Oncology   \n",
       "1078                   Frontiers in Aging Neuroscience   \n",
       "1264  Frontiers in Cellular and Infection Microbiology   \n",
       "\n",
       "                                      preprocessed_text  \\\n",
       "1116  swat wasp abstract probably like bees cute fur...   \n",
       "1044  drought floods climate change forest loss amaz...   \n",
       "1482  ouch ah-ha understanding wounds healing infect...   \n",
       "1123  blood vessels microscope abstract paper looks ...   \n",
       "1266  meet distant cousin abstract ever wondered ext...   \n",
       "...                                                 ...   \n",
       "1081  metabolic syndrome particularly hypertriglycer...   \n",
       "1080  prognosis risk factors radiation-induced lymph...   \n",
       "1079  saikosaponin inhibits triple-negative breast c...   \n",
       "1078  brain gray matter volume associations abnormal...   \n",
       "1264  potential role nrf2 signaling leishmania infec...   \n",
       "\n",
       "                                               keywords  keywords_len  \n",
       "1116  [Not Swat the Wasp!           Abstract   You p...           189  \n",
       "1044  [ought, Floods, Climate Change, and Forest Los...           188  \n",
       "1482  [Ouch to Ah-ha! Understanding Wounds, Healing,...           181  \n",
       "1123  [ood Vessels Under the Microscope           Ab...           179  \n",
       "1266  [Neo Your Distant Cousin?           Abstract  ...           159  \n",
       "...                                                 ...           ...  \n",
       "1081  [breast cancer, metabolic syndrome, hypertrigl...             5  \n",
       "1080  [radiation-induced lymphopenia, stereotactic b...             5  \n",
       "1079  [saikosaponin A, natural product, triple-negat...             5  \n",
       "1078    [MRI, aged, brain, motricity, EPI-epidemiology]             5  \n",
       "1264  [Nrf2 signaling, immune system modulation, pro...             5  \n",
       "\n",
       "[2528 rows x 6 columns]"
      ]
     },
     "execution_count": 17,
     "metadata": {},
     "output_type": "execute_result"
    }
   ],
   "source": [
    "df.sort_values(by=\"keywords_len\", ascending=False)"
   ]
  },
  {
   "cell_type": "code",
   "execution_count": 18,
   "id": "0f7bdae3",
   "metadata": {},
   "outputs": [
    {
     "data": {
      "text/plain": [
       "<AxesSubplot:>"
      ]
     },
     "execution_count": 18,
     "metadata": {},
     "output_type": "execute_result"
    },
    {
     "data": {
      "image/png": "[encoded data removed]",
      "text/plain": [
       "<Figure size 432x288 with 1 Axes>"
      ]
     },
     "metadata": {
      "needs_background": "light"
     },
     "output_type": "display_data"
    }
   ],
   "source": [
    "df[\"keywords_len\"].hist(bins=50)"
   ]
  },
  {
   "cell_type": "code",
   "execution_count": 19,
   "id": "1a6bbf0d",
   "metadata": {
    "scrolled": false
   },
   "outputs": [
    {
     "data": {
      "text/plain": [
       "(21, 6)"
      ]
     },
     "execution_count": 19,
     "metadata": {},
     "output_type": "execute_result"
    }
   ],
   "source": [
    "import matplotlib.pyplot as plt\n",
    "df[df[\"keywords_len\"] >8].shape"
   ]
  },
  {
   "cell_type": "code",
   "execution_count": 20,
   "id": "e89c6c0f",
   "metadata": {},
   "outputs": [],
   "source": [
    "df_remove_keywords_unknown = df[df[\"keywords_len\"] <=8]"
   ]
  },
  {
   "cell_type": "code",
   "execution_count": 21,
   "id": "bcfdea38",
   "metadata": {},
   "outputs": [
    {
     "data": {
      "text/html": [
       "<div>\n",
       "<style scoped>\n",
       "    .dataframe tbody tr th:only-of-type {\n",
       "        vertical-align: middle;\n",
       "    }\n",
       "\n",
       "    .dataframe tbody tr th {\n",
       "        vertical-align: top;\n",
       "    }\n",
       "\n",
       "    .dataframe thead th {\n",
       "        text-align: right;\n",
       "    }\n",
       "</style>\n",
       "<table border=\"1\" class=\"dataframe\">\n",
       "  <thead>\n",
       "    <tr style=\"text-align: right;\">\n",
       "      <th></th>\n",
       "      <th>id</th>\n",
       "      <th>text</th>\n",
       "      <th>journal</th>\n",
       "      <th>preprocessed_text</th>\n",
       "      <th>keywords</th>\n",
       "      <th>keywords_len</th>\n",
       "    </tr>\n",
       "  </thead>\n",
       "  <tbody>\n",
       "    <tr>\n",
       "      <th>0</th>\n",
       "      <td>465950</td>\n",
       "      <td>\\n Sleep Characteristics and Influencing Facto...</td>\n",
       "      <td>Frontiers in Medicine</td>\n",
       "      <td>sleep characteristics influencing factors slee...</td>\n",
       "      <td>[inflammatory bowel disease, arthritis, sleep ...</td>\n",
       "      <td>5</td>\n",
       "    </tr>\n",
       "    <tr>\n",
       "      <th>1</th>\n",
       "      <td>483526</td>\n",
       "      <td>A Hybrid Approach for Modeling Type 2 Diabetes...</td>\n",
       "      <td>Frontiers in Genetics</td>\n",
       "      <td>hybrid approach modeling type diabetes mellitu...</td>\n",
       "      <td>[type 2 diabetes mellitus, machine learning, h...</td>\n",
       "      <td>6</td>\n",
       "    </tr>\n",
       "    <tr>\n",
       "      <th>2</th>\n",
       "      <td>482500</td>\n",
       "      <td>\\n Relationship Between SES and Academic Achie...</td>\n",
       "      <td>Frontiers in Psychology</td>\n",
       "      <td>relationship academic achievement junior high ...</td>\n",
       "      <td>[socioeconomic status, self-concept, school ac...</td>\n",
       "      <td>5</td>\n",
       "    </tr>\n",
       "    <tr>\n",
       "      <th>3</th>\n",
       "      <td>437333</td>\n",
       "      <td>Environmental Health Research in Africa: Impor...</td>\n",
       "      <td>Frontiers in Genetics</td>\n",
       "      <td>environmental health research africa important...</td>\n",
       "      <td>[G x E, Africa, environmental, pesticides, met...</td>\n",
       "      <td>7</td>\n",
       "    </tr>\n",
       "    <tr>\n",
       "      <th>5</th>\n",
       "      <td>463298</td>\n",
       "      <td>\\n Managing Oil Palm Plantations More Sustaina...</td>\n",
       "      <td>Frontiers in Forests and Global Change</td>\n",
       "      <td>managing palm plantations sustainably large-sc...</td>\n",
       "      <td>[biodiversity, habitat heterogeneity, palm oil...</td>\n",
       "      <td>8</td>\n",
       "    </tr>\n",
       "  </tbody>\n",
       "</table>\n",
       "</div>"
      ],
      "text/plain": [
       "       id                                               text  \\\n",
       "0  465950  \\n Sleep Characteristics and Influencing Facto...   \n",
       "1  483526  A Hybrid Approach for Modeling Type 2 Diabetes...   \n",
       "2  482500  \\n Relationship Between SES and Academic Achie...   \n",
       "3  437333  Environmental Health Research in Africa: Impor...   \n",
       "5  463298  \\n Managing Oil Palm Plantations More Sustaina...   \n",
       "\n",
       "                                  journal  \\\n",
       "0                   Frontiers in Medicine   \n",
       "1                   Frontiers in Genetics   \n",
       "2                 Frontiers in Psychology   \n",
       "3                   Frontiers in Genetics   \n",
       "5  Frontiers in Forests and Global Change   \n",
       "\n",
       "                                   preprocessed_text  \\\n",
       "0  sleep characteristics influencing factors slee...   \n",
       "1  hybrid approach modeling type diabetes mellitu...   \n",
       "2  relationship academic achievement junior high ...   \n",
       "3  environmental health research africa important...   \n",
       "5  managing palm plantations sustainably large-sc...   \n",
       "\n",
       "                                            keywords  keywords_len  \n",
       "0  [inflammatory bowel disease, arthritis, sleep ...             5  \n",
       "1  [type 2 diabetes mellitus, machine learning, h...             6  \n",
       "2  [socioeconomic status, self-concept, school ac...             5  \n",
       "3  [G x E, Africa, environmental, pesticides, met...             7  \n",
       "5  [biodiversity, habitat heterogeneity, palm oil...             8  "
      ]
     },
     "execution_count": 21,
     "metadata": {},
     "output_type": "execute_result"
    }
   ],
   "source": [
    "df_remove_keywords_unknown.head()"
   ]
  },
  {
   "cell_type": "code",
   "execution_count": 22,
   "id": "636399c2",
   "metadata": {},
   "outputs": [
    {
     "data": {
      "text/plain": [
       "<AxesSubplot:xlabel='journal'>"
      ]
     },
     "execution_count": 22,
     "metadata": {},
     "output_type": "execute_result"
    },
    {
     "data": {
      "image/png": "[encoded data removed]",
      "text/plain": [
       "<Figure size 1080x360 with 1 Axes>"
      ]
     },
     "metadata": {
      "needs_background": "light"
     },
     "output_type": "display_data"
    }
   ],
   "source": [
    "%matplotlib inline\n",
    "import matplotlib.pyplot as plt\n",
    "plt.rcParams['figure.figsize'] = [15,5]\n",
    "df_remove_keywords_unknown.groupby([\"journal\"]).size().sort_values(ascending=False).plot.bar()\n"
   ]
  },
  {
   "cell_type": "markdown",
   "id": "17b2f7b3",
   "metadata": {},
   "source": [
    "# TF IDF vectors"
   ]
  },
  {
   "cell_type": "code",
   "execution_count": 23,
   "id": "18544934",
   "metadata": {},
   "outputs": [],
   "source": [
    "from sklearn.feature_extraction.text import TfidfVectorizer\n",
    "vectorizer = TfidfVectorizer()\n",
    "tf_idf_vectors = vectorizer.fit_transform(df[\"preprocessed_text\"].to_list())"
   ]
  },
  {
   "cell_type": "code",
   "execution_count": 44,
   "id": "ac3f06a6",
   "metadata": {},
   "outputs": [
    {
     "name": "stderr",
     "output_type": "stream",
     "text": [
      "/home/operti/miniconda3/envs/frontiers/lib/python3.8/site-packages/sklearn/utils/deprecation.py:87: FutureWarning: Function get_feature_names is deprecated; get_feature_names is deprecated in 1.0 and will be removed in 1.2. Please use get_feature_names_out instead.\n",
      "  warnings.warn(msg, category=FutureWarning)\n"
     ]
    }
   ],
   "source": [
    "tfidf_df = pd.DataFrame(tf_idf_vectors.toarray(), columns=vectorizer.get_feature_names())"
   ]
  },
  {
   "cell_type": "code",
   "execution_count": 45,
   "id": "f643f5e9",
   "metadata": {},
   "outputs": [
    {
     "data": {
      "text/html": [
       "<div>\n",
       "<style scoped>\n",
       "    .dataframe tbody tr th:only-of-type {\n",
       "        vertical-align: middle;\n",
       "    }\n",
       "\n",
       "    .dataframe tbody tr th {\n",
       "        vertical-align: top;\n",
       "    }\n",
       "\n",
       "    .dataframe thead th {\n",
       "        text-align: right;\n",
       "    }\n",
       "</style>\n",
       "<table border=\"1\" class=\"dataframe\">\n",
       "  <thead>\n",
       "    <tr style=\"text-align: right;\">\n",
       "      <th></th>\n",
       "      <th>00</th>\n",
       "      <th>000</th>\n",
       "      <th>0000</th>\n",
       "      <th>00000</th>\n",
       "      <th>00000000</th>\n",
       "      <th>000000000</th>\n",
       "      <th>0000000000000001</th>\n",
       "      <th>0000000000000002</th>\n",
       "      <th>0000000000000005</th>\n",
       "      <th>0000000000000007</th>\n",
       "      <th>...</th>\n",
       "      <th>ﬂabellifolia</th>\n",
       "      <th>ﬂaps</th>\n",
       "      <th>ﬂavonoid</th>\n",
       "      <th>ﬂesh</th>\n",
       "      <th>ﬂoral</th>\n",
       "      <th>ﬂower</th>\n",
       "      <th>ﬂowering</th>\n",
       "      <th>ﬂuctuations</th>\n",
       "      <th>ﬂuorescence</th>\n",
       "      <th>ﬂuoxetine</th>\n",
       "    </tr>\n",
       "  </thead>\n",
       "  <tbody>\n",
       "    <tr>\n",
       "      <th>0</th>\n",
       "      <td>0.0</td>\n",
       "      <td>0.0</td>\n",
       "      <td>0.0</td>\n",
       "      <td>0.0</td>\n",
       "      <td>0.0</td>\n",
       "      <td>0.0</td>\n",
       "      <td>0.0</td>\n",
       "      <td>0.0</td>\n",
       "      <td>0.0</td>\n",
       "      <td>0.0</td>\n",
       "      <td>...</td>\n",
       "      <td>0.0</td>\n",
       "      <td>0.0</td>\n",
       "      <td>0.0</td>\n",
       "      <td>0.0</td>\n",
       "      <td>0.0</td>\n",
       "      <td>0.0</td>\n",
       "      <td>0.0</td>\n",
       "      <td>0.0</td>\n",
       "      <td>0.0</td>\n",
       "      <td>0.0</td>\n",
       "    </tr>\n",
       "    <tr>\n",
       "      <th>1</th>\n",
       "      <td>0.0</td>\n",
       "      <td>0.0</td>\n",
       "      <td>0.0</td>\n",
       "      <td>0.0</td>\n",
       "      <td>0.0</td>\n",
       "      <td>0.0</td>\n",
       "      <td>0.0</td>\n",
       "      <td>0.0</td>\n",
       "      <td>0.0</td>\n",
       "      <td>0.0</td>\n",
       "      <td>...</td>\n",
       "      <td>0.0</td>\n",
       "      <td>0.0</td>\n",
       "      <td>0.0</td>\n",
       "      <td>0.0</td>\n",
       "      <td>0.0</td>\n",
       "      <td>0.0</td>\n",
       "      <td>0.0</td>\n",
       "      <td>0.0</td>\n",
       "      <td>0.0</td>\n",
       "      <td>0.0</td>\n",
       "    </tr>\n",
       "  </tbody>\n",
       "</table>\n",
       "<p>2 rows × 423594 columns</p>\n",
       "</div>"
      ],
      "text/plain": [
       "    00  000  0000  00000  00000000  000000000  0000000000000001  \\\n",
       "0  0.0  0.0   0.0    0.0       0.0        0.0               0.0   \n",
       "1  0.0  0.0   0.0    0.0       0.0        0.0               0.0   \n",
       "\n",
       "   0000000000000002  0000000000000005  0000000000000007  ...  ﬂabellifolia  \\\n",
       "0               0.0               0.0               0.0  ...           0.0   \n",
       "1               0.0               0.0               0.0  ...           0.0   \n",
       "\n",
       "   ﬂaps  ﬂavonoid  ﬂesh  ﬂoral  ﬂower  ﬂowering  ﬂuctuations  ﬂuorescence  \\\n",
       "0   0.0       0.0   0.0    0.0    0.0       0.0          0.0          0.0   \n",
       "1   0.0       0.0   0.0    0.0    0.0       0.0          0.0          0.0   \n",
       "\n",
       "   ﬂuoxetine  \n",
       "0        0.0  \n",
       "1        0.0  \n",
       "\n",
       "[2 rows x 423594 columns]"
      ]
     },
     "execution_count": 45,
     "metadata": {},
     "output_type": "execute_result"
    }
   ],
   "source": [
    "tfidf_df.head(2)"
   ]
  },
  {
   "cell_type": "code",
   "execution_count": 42,
   "id": "eef5f311",
   "metadata": {},
   "outputs": [
    {
     "data": {
      "text/plain": [
       "(2528, 423594)"
      ]
     },
     "execution_count": 42,
     "metadata": {},
     "output_type": "execute_result"
    }
   ],
   "source": [
    "tfidf_df.shape"
   ]
  },
  {
   "cell_type": "code",
   "execution_count": null,
   "id": "0dcdad2e",
   "metadata": {},
   "outputs": [],
   "source": [
    "tfidf_df[\"journal\"] = df[\"journal\"].to_list()"
   ]
  },
  {
   "cell_type": "code",
   "execution_count": null,
   "id": "2a5fbdf7",
   "metadata": {},
   "outputs": [],
   "source": [
    "tfidf_df.shape"
   ]
  },
  {
   "cell_type": "code",
   "execution_count": 32,
   "id": "f15f01e5",
   "metadata": {},
   "outputs": [],
   "source": [
    "mean_tf_idf = tfidf_df.groupby([\"journal\"]).mean()"
   ]
  },
  {
   "cell_type": "code",
   "execution_count": 40,
   "id": "ea8ab98b",
   "metadata": {},
   "outputs": [
    {
     "data": {
      "text/plain": [
       "423594"
      ]
     },
     "execution_count": 40,
     "metadata": {},
     "output_type": "execute_result"
    }
   ],
   "source": [
    "len(tf_idf_vectors[0].toarray()[0])"
   ]
  },
  {
   "cell_type": "code",
   "execution_count": 41,
   "id": "d20abeba",
   "metadata": {},
   "outputs": [
    {
     "data": {
      "text/plain": [
       "(64, 423593)"
      ]
     },
     "execution_count": 41,
     "metadata": {},
     "output_type": "execute_result"
    }
   ],
   "source": [
    "mean_tf_idf.shape"
   ]
  },
  {
   "cell_type": "code",
   "execution_count": 38,
   "id": "18ff5a99",
   "metadata": {},
   "outputs": [
    {
     "ename": "ValueError",
     "evalue": "Incompatible dimension for X and Y matrices: X.shape[1] == 423594 while Y.shape[1] == 423593",
     "output_type": "error",
     "traceback": [
      "\u001b[0;31m---------------------------------------------------------------------------\u001b[0m",
      "\u001b[0;31mValueError\u001b[0m                                Traceback (most recent call last)",
      "Input \u001b[0;32mIn [38]\u001b[0m, in \u001b[0;36m<cell line: 3>\u001b[0;34m()\u001b[0m\n\u001b[1;32m      1\u001b[0m \u001b[38;5;28;01mfrom\u001b[39;00m \u001b[38;5;21;01msklearn\u001b[39;00m\u001b[38;5;21;01m.\u001b[39;00m\u001b[38;5;21;01mmetrics\u001b[39;00m\u001b[38;5;21;01m.\u001b[39;00m\u001b[38;5;21;01mpairwise\u001b[39;00m \u001b[38;5;28;01mimport\u001b[39;00m cosine_similarity\n\u001b[1;32m      2\u001b[0m index \u001b[38;5;241m=\u001b[39m \u001b[38;5;241m0\u001b[39m\n\u001b[0;32m----> 3\u001b[0m cosine_sim \u001b[38;5;241m=\u001b[39m \u001b[43mcosine_similarity\u001b[49m\u001b[43m(\u001b[49m\u001b[43mtf_idf_vectors\u001b[49m\u001b[43m[\u001b[49m\u001b[43mindex\u001b[49m\u001b[43m]\u001b[49m\u001b[38;5;241;43m.\u001b[39;49m\u001b[43mtoarray\u001b[49m\u001b[43m(\u001b[49m\u001b[43m)\u001b[49m\u001b[43m,\u001b[49m\u001b[43m \u001b[49m\u001b[43mmean_tf_idf\u001b[49m\u001b[38;5;241;43m.\u001b[39;49m\u001b[43mvalues\u001b[49m\u001b[43m)\u001b[49m\n\u001b[1;32m      4\u001b[0m cosine_sim\n",
      "File \u001b[0;32m~/miniconda3/envs/frontiers/lib/python3.8/site-packages/sklearn/metrics/pairwise.py:1251\u001b[0m, in \u001b[0;36mcosine_similarity\u001b[0;34m(X, Y, dense_output)\u001b[0m\n\u001b[1;32m   1217\u001b[0m \u001b[38;5;124;03m\"\"\"Compute cosine similarity between samples in X and Y.\u001b[39;00m\n\u001b[1;32m   1218\u001b[0m \n\u001b[1;32m   1219\u001b[0m \u001b[38;5;124;03mCosine similarity, or the cosine kernel, computes similarity as the\u001b[39;00m\n\u001b[0;32m   (...)\u001b[0m\n\u001b[1;32m   1247\u001b[0m \u001b[38;5;124;03mkernel matrix : ndarray of shape (n_samples_X, n_samples_Y)\u001b[39;00m\n\u001b[1;32m   1248\u001b[0m \u001b[38;5;124;03m\"\"\"\u001b[39;00m\n\u001b[1;32m   1249\u001b[0m \u001b[38;5;66;03m# to avoid recursive import\u001b[39;00m\n\u001b[0;32m-> 1251\u001b[0m X, Y \u001b[38;5;241m=\u001b[39m \u001b[43mcheck_pairwise_arrays\u001b[49m\u001b[43m(\u001b[49m\u001b[43mX\u001b[49m\u001b[43m,\u001b[49m\u001b[43m \u001b[49m\u001b[43mY\u001b[49m\u001b[43m)\u001b[49m\n\u001b[1;32m   1253\u001b[0m X_normalized \u001b[38;5;241m=\u001b[39m normalize(X, copy\u001b[38;5;241m=\u001b[39m\u001b[38;5;28;01mTrue\u001b[39;00m)\n\u001b[1;32m   1254\u001b[0m \u001b[38;5;28;01mif\u001b[39;00m X \u001b[38;5;129;01mis\u001b[39;00m Y:\n",
      "File \u001b[0;32m~/miniconda3/envs/frontiers/lib/python3.8/site-packages/sklearn/metrics/pairwise.py:181\u001b[0m, in \u001b[0;36mcheck_pairwise_arrays\u001b[0;34m(X, Y, precomputed, dtype, accept_sparse, force_all_finite, copy)\u001b[0m\n\u001b[1;32m    175\u001b[0m         \u001b[38;5;28;01mraise\u001b[39;00m \u001b[38;5;167;01mValueError\u001b[39;00m(\n\u001b[1;32m    176\u001b[0m             \u001b[38;5;124m\"\u001b[39m\u001b[38;5;124mPrecomputed metric requires shape \u001b[39m\u001b[38;5;124m\"\u001b[39m\n\u001b[1;32m    177\u001b[0m             \u001b[38;5;124m\"\u001b[39m\u001b[38;5;124m(n_queries, n_indexed). Got (\u001b[39m\u001b[38;5;132;01m%d\u001b[39;00m\u001b[38;5;124m, \u001b[39m\u001b[38;5;132;01m%d\u001b[39;00m\u001b[38;5;124m) \u001b[39m\u001b[38;5;124m\"\u001b[39m\n\u001b[1;32m    178\u001b[0m             \u001b[38;5;124m\"\u001b[39m\u001b[38;5;124mfor \u001b[39m\u001b[38;5;132;01m%d\u001b[39;00m\u001b[38;5;124m indexed.\u001b[39m\u001b[38;5;124m\"\u001b[39m \u001b[38;5;241m%\u001b[39m (X\u001b[38;5;241m.\u001b[39mshape[\u001b[38;5;241m0\u001b[39m], X\u001b[38;5;241m.\u001b[39mshape[\u001b[38;5;241m1\u001b[39m], Y\u001b[38;5;241m.\u001b[39mshape[\u001b[38;5;241m0\u001b[39m])\n\u001b[1;32m    179\u001b[0m         )\n\u001b[1;32m    180\u001b[0m \u001b[38;5;28;01melif\u001b[39;00m X\u001b[38;5;241m.\u001b[39mshape[\u001b[38;5;241m1\u001b[39m] \u001b[38;5;241m!=\u001b[39m Y\u001b[38;5;241m.\u001b[39mshape[\u001b[38;5;241m1\u001b[39m]:\n\u001b[0;32m--> 181\u001b[0m     \u001b[38;5;28;01mraise\u001b[39;00m \u001b[38;5;167;01mValueError\u001b[39;00m(\n\u001b[1;32m    182\u001b[0m         \u001b[38;5;124m\"\u001b[39m\u001b[38;5;124mIncompatible dimension for X and Y matrices: \u001b[39m\u001b[38;5;124m\"\u001b[39m\n\u001b[1;32m    183\u001b[0m         \u001b[38;5;124m\"\u001b[39m\u001b[38;5;124mX.shape[1] == \u001b[39m\u001b[38;5;132;01m%d\u001b[39;00m\u001b[38;5;124m while Y.shape[1] == \u001b[39m\u001b[38;5;132;01m%d\u001b[39;00m\u001b[38;5;124m\"\u001b[39m \u001b[38;5;241m%\u001b[39m (X\u001b[38;5;241m.\u001b[39mshape[\u001b[38;5;241m1\u001b[39m], Y\u001b[38;5;241m.\u001b[39mshape[\u001b[38;5;241m1\u001b[39m])\n\u001b[1;32m    184\u001b[0m     )\n\u001b[1;32m    186\u001b[0m \u001b[38;5;28;01mreturn\u001b[39;00m X, Y\n",
      "\u001b[0;31mValueError\u001b[0m: Incompatible dimension for X and Y matrices: X.shape[1] == 423594 while Y.shape[1] == 423593"
     ]
    }
   ],
   "source": [
    "from sklearn.metrics.pairwise import cosine_similarity\n",
    "index = 0\n",
    "cosine_sim = cosine_similarity(tf_idf_vectors[index].toarray(), mean_tf_idf.values)\n",
    "cosine_sim"
   ]
  },
  {
   "cell_type": "code",
   "execution_count": 58,
   "id": "195ce563",
   "metadata": {},
   "outputs": [
    {
     "data": {
      "text/plain": [
       "array([ 472,  935, 2299])"
      ]
     },
     "execution_count": 58,
     "metadata": {},
     "output_type": "execute_result"
    }
   ],
   "source": [
    "idx = (-cosine_sim[0][1:]).argsort()[:3]\n",
    "idx"
   ]
  },
  {
   "cell_type": "code",
   "execution_count": 59,
   "id": "e459073f",
   "metadata": {},
   "outputs": [
    {
     "data": {
      "text/plain": [
       "('Frontiers in Medicine',\n",
       " 'Frontiers in Pharmacology',\n",
       " 'Frontiers in Neuroscience',\n",
       " 'Frontiers in Microbiology')"
      ]
     },
     "execution_count": 59,
     "metadata": {},
     "output_type": "execute_result"
    }
   ],
   "source": [
    "df[\"journal\"][index], df[\"journal\"][idx[0]], df[\"journal\"][idx[1]], df[\"journal\"][idx[2]] "
   ]
  },
  {
   "cell_type": "markdown",
   "id": "73f1dc02",
   "metadata": {},
   "source": [
    "# Text Rank keyword extraction"
   ]
  },
  {
   "cell_type": "code",
   "execution_count": 219,
   "id": "8136f215",
   "metadata": {},
   "outputs": [
    {
     "data": {
      "text/plain": [
       "[('studies', 0.25684631320461637),\n",
       " ('children', 0.25621096968508683),\n",
       " ('families', 0.24323162322036732),\n",
       " ('self', 0.20787269983019768),\n",
       " ('relationship academic achievement', 0.16313984022812955)]"
      ]
     },
     "execution_count": 219,
     "metadata": {},
     "output_type": "execute_result"
    }
   ],
   "source": [
    "from summa import keywords\n",
    "index = 2\n",
    "doc=df[\"preprocessed_text\"][index]\n",
    "TR_keywords = keywords.keywords(doc, scores=True)\n",
    "TR_keywords[0:5]"
   ]
  },
  {
   "cell_type": "code",
   "execution_count": 220,
   "id": "545b6ee2",
   "metadata": {},
   "outputs": [
    {
     "data": {
      "text/plain": [
       "'Frontiers in Psychology'"
      ]
     },
     "execution_count": 220,
     "metadata": {},
     "output_type": "execute_result"
    }
   ],
   "source": [
    "df[\"journal\"][index]"
   ]
  },
  {
   "cell_type": "markdown",
   "id": "f83a6940",
   "metadata": {},
   "source": [
    "# SPACY word2vec (keywords)\n",
    "https://spacy.io/usage/linguistic-features/#vectors-similarity"
   ]
  },
  {
   "cell_type": "code",
   "execution_count": 19,
   "id": "c59e9d7a",
   "metadata": {},
   "outputs": [],
   "source": [
    "import spacy\n",
    "nlp = spacy.load(\"en_core_web_lg\")"
   ]
  },
  {
   "cell_type": "code",
   "execution_count": 20,
   "id": "5ba7e074",
   "metadata": {},
   "outputs": [
    {
     "data": {
      "text/html": [
       "<div>\n",
       "<style scoped>\n",
       "    .dataframe tbody tr th:only-of-type {\n",
       "        vertical-align: middle;\n",
       "    }\n",
       "\n",
       "    .dataframe tbody tr th {\n",
       "        vertical-align: top;\n",
       "    }\n",
       "\n",
       "    .dataframe thead th {\n",
       "        text-align: right;\n",
       "    }\n",
       "</style>\n",
       "<table border=\"1\" class=\"dataframe\">\n",
       "  <thead>\n",
       "    <tr style=\"text-align: right;\">\n",
       "      <th></th>\n",
       "      <th>id</th>\n",
       "      <th>text</th>\n",
       "      <th>journal</th>\n",
       "      <th>keywords</th>\n",
       "      <th>keywords_len</th>\n",
       "      <th>preprocessed_text</th>\n",
       "    </tr>\n",
       "  </thead>\n",
       "  <tbody>\n",
       "    <tr>\n",
       "      <th>0</th>\n",
       "      <td>465950</td>\n",
       "      <td>\\n Sleep Characteristics and Influencing Facto...</td>\n",
       "      <td>Frontiers in Medicine</td>\n",
       "      <td>[inflammatory bowel disease, arthritis, sleep ...</td>\n",
       "      <td>5</td>\n",
       "      <td>sleep characteristics influencing factors slee...</td>\n",
       "    </tr>\n",
       "    <tr>\n",
       "      <th>1</th>\n",
       "      <td>483526</td>\n",
       "      <td>A Hybrid Approach for Modeling Type 2 Diabetes...</td>\n",
       "      <td>Frontiers in Genetics</td>\n",
       "      <td>[type 2 diabetes mellitus, machine learning, h...</td>\n",
       "      <td>6</td>\n",
       "      <td>hybrid approach modeling type diabetes mellitu...</td>\n",
       "    </tr>\n",
       "  </tbody>\n",
       "</table>\n",
       "</div>"
      ],
      "text/plain": [
       "       id                                               text  \\\n",
       "0  465950  \\n Sleep Characteristics and Influencing Facto...   \n",
       "1  483526  A Hybrid Approach for Modeling Type 2 Diabetes...   \n",
       "\n",
       "                 journal                                           keywords  \\\n",
       "0  Frontiers in Medicine  [inflammatory bowel disease, arthritis, sleep ...   \n",
       "1  Frontiers in Genetics  [type 2 diabetes mellitus, machine learning, h...   \n",
       "\n",
       "   keywords_len                                  preprocessed_text  \n",
       "0             5  sleep characteristics influencing factors slee...  \n",
       "1             6  hybrid approach modeling type diabetes mellitu...  "
      ]
     },
     "execution_count": 20,
     "metadata": {},
     "output_type": "execute_result"
    }
   ],
   "source": [
    "df.head(2)"
   ]
  },
  {
   "cell_type": "code",
   "execution_count": 17,
   "id": "1ec84fe0",
   "metadata": {},
   "outputs": [
    {
     "data": {
      "text/plain": [
       "array([1., 3.])"
      ]
     },
     "execution_count": 17,
     "metadata": {},
     "output_type": "execute_result"
    }
   ],
   "source": [
    "import numpy as np\n",
    "np.array([[1,2],[1,4]]).mean(axis=0)"
   ]
  },
  {
   "cell_type": "code",
   "execution_count": 149,
   "id": "adb4c8ac",
   "metadata": {},
   "outputs": [],
   "source": [
    "def get_embeddings_keyword(list_of_keywords):\n",
    "    vectors = []\n",
    "    for key in list_of_keywords:\n",
    "        key_doc = nlp(key)\n",
    "        vectors.append(key_doc.vector)\n",
    "    return np.array(vectors).mean(axis=0)"
   ]
  },
  {
   "cell_type": "code",
   "execution_count": 46,
   "id": "6c7931d4",
   "metadata": {},
   "outputs": [
    {
     "name": "stdout",
     "output_type": "stream",
     "text": [
      "INFO: Pandarallel will run on 4 workers.\n",
      "INFO: Pandarallel will use Memory file system to transfer data between the main process and workers.\n"
     ]
    },
    {
     "data": {
      "application/vnd.jupyter.widget-view+json": {
       "model_id": "8fc2a04b66554cf4a9227cf107703a1f",
       "version_major": 2,
       "version_minor": 0
      },
      "text/plain": [
       "VBox(children=(HBox(children=(IntProgress(value=0, description='0.00%', max=632), Label(value='0 / 632'))), HB…"
      ]
     },
     "metadata": {},
     "output_type": "display_data"
    }
   ],
   "source": [
    "from pandarallel import pandarallel\n",
    "\n",
    "pandarallel.initialize(nb_workers=7,progress_bar=True)\n",
    "\n",
    "df[\"keywords_embeddings\"] = df[\"keywords\"].parallel_apply(get_embeddings_keyword)"
   ]
  },
  {
   "cell_type": "code",
   "execution_count": 101,
   "id": "fc57395e",
   "metadata": {},
   "outputs": [
    {
     "data": {
      "text/html": [
       "<div>\n",
       "<style scoped>\n",
       "    .dataframe tbody tr th:only-of-type {\n",
       "        vertical-align: middle;\n",
       "    }\n",
       "\n",
       "    .dataframe tbody tr th {\n",
       "        vertical-align: top;\n",
       "    }\n",
       "\n",
       "    .dataframe thead th {\n",
       "        text-align: right;\n",
       "    }\n",
       "</style>\n",
       "<table border=\"1\" class=\"dataframe\">\n",
       "  <thead>\n",
       "    <tr style=\"text-align: right;\">\n",
       "      <th></th>\n",
       "      <th>journal</th>\n",
       "      <th>keywords_embeddings</th>\n",
       "    </tr>\n",
       "  </thead>\n",
       "  <tbody>\n",
       "    <tr>\n",
       "      <th>0</th>\n",
       "      <td>Frontiers for Young Minds</td>\n",
       "      <td>[-0.07116392, 0.15114562, -0.11049343, -0.0755...</td>\n",
       "    </tr>\n",
       "    <tr>\n",
       "      <th>1</th>\n",
       "      <td>Frontiers in Aging Neuroscience</td>\n",
       "      <td>[-0.048097316, 0.1325472, -0.0554827, -0.03627...</td>\n",
       "    </tr>\n",
       "    <tr>\n",
       "      <th>2</th>\n",
       "      <td>Frontiers in Agronomy</td>\n",
       "      <td>[-0.43071333, 0.27597216, 0.03861053, -0.38834...</td>\n",
       "    </tr>\n",
       "    <tr>\n",
       "      <th>3</th>\n",
       "      <td>Frontiers in Applied Mathematics and Statistics</td>\n",
       "      <td>[-0.25631008, 0.21899977, -0.047217213, 0.0342...</td>\n",
       "    </tr>\n",
       "    <tr>\n",
       "      <th>4</th>\n",
       "      <td>Frontiers in Artificial Intelligence</td>\n",
       "      <td>[-0.1045075, 0.19754782, 0.008936133, 0.026789...</td>\n",
       "    </tr>\n",
       "    <tr>\n",
       "      <th>...</th>\n",
       "      <td>...</td>\n",
       "      <td>...</td>\n",
       "    </tr>\n",
       "    <tr>\n",
       "      <th>59</th>\n",
       "      <td>Frontiers in Surgery</td>\n",
       "      <td>[-0.13345355, 0.1275831, -0.053415906, 0.15579...</td>\n",
       "    </tr>\n",
       "    <tr>\n",
       "      <th>60</th>\n",
       "      <td>Frontiers in Sustainable Food Systems</td>\n",
       "      <td>[-0.24585603, 0.19002391, -0.017854257, -0.119...</td>\n",
       "    </tr>\n",
       "    <tr>\n",
       "      <th>61</th>\n",
       "      <td>Frontiers in Synaptic Neuroscience</td>\n",
       "      <td>[0.18620527, 0.04562223, -0.18779495, -0.02507...</td>\n",
       "    </tr>\n",
       "    <tr>\n",
       "      <th>62</th>\n",
       "      <td>Frontiers in Systems Neuroscience</td>\n",
       "      <td>[0.07675902, 0.17128514, -0.13052903, 0.043196...</td>\n",
       "    </tr>\n",
       "    <tr>\n",
       "      <th>63</th>\n",
       "      <td>Frontiers in Veterinary Science</td>\n",
       "      <td>[-0.23129673, 0.16602705, -0.028538805, -0.040...</td>\n",
       "    </tr>\n",
       "  </tbody>\n",
       "</table>\n",
       "<p>64 rows × 2 columns</p>\n",
       "</div>"
      ],
      "text/plain": [
       "                                            journal  \\\n",
       "0                         Frontiers for Young Minds   \n",
       "1                   Frontiers in Aging Neuroscience   \n",
       "2                             Frontiers in Agronomy   \n",
       "3   Frontiers in Applied Mathematics and Statistics   \n",
       "4              Frontiers in Artificial Intelligence   \n",
       "..                                              ...   \n",
       "59                             Frontiers in Surgery   \n",
       "60            Frontiers in Sustainable Food Systems   \n",
       "61               Frontiers in Synaptic Neuroscience   \n",
       "62                Frontiers in Systems Neuroscience   \n",
       "63                  Frontiers in Veterinary Science   \n",
       "\n",
       "                                  keywords_embeddings  \n",
       "0   [-0.07116392, 0.15114562, -0.11049343, -0.0755...  \n",
       "1   [-0.048097316, 0.1325472, -0.0554827, -0.03627...  \n",
       "2   [-0.43071333, 0.27597216, 0.03861053, -0.38834...  \n",
       "3   [-0.25631008, 0.21899977, -0.047217213, 0.0342...  \n",
       "4   [-0.1045075, 0.19754782, 0.008936133, 0.026789...  \n",
       "..                                                ...  \n",
       "59  [-0.13345355, 0.1275831, -0.053415906, 0.15579...  \n",
       "60  [-0.24585603, 0.19002391, -0.017854257, -0.119...  \n",
       "61  [0.18620527, 0.04562223, -0.18779495, -0.02507...  \n",
       "62  [0.07675902, 0.17128514, -0.13052903, 0.043196...  \n",
       "63  [-0.23129673, 0.16602705, -0.028538805, -0.040...  \n",
       "\n",
       "[64 rows x 2 columns]"
      ]
     },
     "execution_count": 101,
     "metadata": {},
     "output_type": "execute_result"
    }
   ],
   "source": [
    "journal_embeddings = df.groupby([\"journal\"])[\"keywords_embeddings\"].mean().to_frame().reset_index()\n",
    "journal_embeddings"
   ]
  },
  {
   "cell_type": "code",
   "execution_count": 102,
   "id": "c173508b",
   "metadata": {
    "scrolled": true
   },
   "outputs": [
    {
     "data": {
      "text/html": [
       "<div>\n",
       "<style scoped>\n",
       "    .dataframe tbody tr th:only-of-type {\n",
       "        vertical-align: middle;\n",
       "    }\n",
       "\n",
       "    .dataframe tbody tr th {\n",
       "        vertical-align: top;\n",
       "    }\n",
       "\n",
       "    .dataframe thead th {\n",
       "        text-align: right;\n",
       "    }\n",
       "</style>\n",
       "<table border=\"1\" class=\"dataframe\">\n",
       "  <thead>\n",
       "    <tr style=\"text-align: right;\">\n",
       "      <th></th>\n",
       "      <th>id</th>\n",
       "      <th>text</th>\n",
       "      <th>journal</th>\n",
       "      <th>keywords</th>\n",
       "      <th>keywords_len</th>\n",
       "      <th>preprocessed_text</th>\n",
       "      <th>keywords_embeddings</th>\n",
       "    </tr>\n",
       "  </thead>\n",
       "  <tbody>\n",
       "    <tr>\n",
       "      <th>0</th>\n",
       "      <td>465950</td>\n",
       "      <td>\\n Sleep Characteristics and Influencing Facto...</td>\n",
       "      <td>Frontiers in Medicine</td>\n",
       "      <td>[inflammatory bowel disease, arthritis, sleep ...</td>\n",
       "      <td>5</td>\n",
       "      <td>sleep characteristics influencing factors slee...</td>\n",
       "      <td>[-0.19882119, 0.32291594, -0.27029547, -0.0390...</td>\n",
       "    </tr>\n",
       "    <tr>\n",
       "      <th>1</th>\n",
       "      <td>483526</td>\n",
       "      <td>A Hybrid Approach for Modeling Type 2 Diabetes...</td>\n",
       "      <td>Frontiers in Genetics</td>\n",
       "      <td>[type 2 diabetes mellitus, machine learning, h...</td>\n",
       "      <td>6</td>\n",
       "      <td>hybrid approach modeling type diabetes mellitu...</td>\n",
       "      <td>[-0.17922127, 0.32079363, -0.09769386, 0.04941...</td>\n",
       "    </tr>\n",
       "  </tbody>\n",
       "</table>\n",
       "</div>"
      ],
      "text/plain": [
       "       id                                               text  \\\n",
       "0  465950  \\n Sleep Characteristics and Influencing Facto...   \n",
       "1  483526  A Hybrid Approach for Modeling Type 2 Diabetes...   \n",
       "\n",
       "                 journal                                           keywords  \\\n",
       "0  Frontiers in Medicine  [inflammatory bowel disease, arthritis, sleep ...   \n",
       "1  Frontiers in Genetics  [type 2 diabetes mellitus, machine learning, h...   \n",
       "\n",
       "   keywords_len                                  preprocessed_text  \\\n",
       "0             5  sleep characteristics influencing factors slee...   \n",
       "1             6  hybrid approach modeling type diabetes mellitu...   \n",
       "\n",
       "                                 keywords_embeddings  \n",
       "0  [-0.19882119, 0.32291594, -0.27029547, -0.0390...  \n",
       "1  [-0.17922127, 0.32079363, -0.09769386, 0.04941...  "
      ]
     },
     "execution_count": 102,
     "metadata": {},
     "output_type": "execute_result"
    }
   ],
   "source": [
    "df.head(2)"
   ]
  },
  {
   "cell_type": "code",
   "execution_count": 146,
   "id": "b85a9de3",
   "metadata": {},
   "outputs": [
    {
     "data": {
      "text/plain": [
       "array([[0.50726074, 0.51568997, 0.5838501 , 0.557706  , 0.52329665,\n",
       "        0.5100353 , 0.538583  , 0.6287531 , 0.59479153, 0.35973155,\n",
       "        0.6436441 , 0.44694018, 0.47793683, 0.43849185, 0.53674054,\n",
       "        0.59000784, 0.42205784, 0.55904466, 0.40350667, 0.7730214 ,\n",
       "        0.7905419 , 0.50404793, 0.5031027 , 0.5991471 , 0.7571712 ,\n",
       "        0.8507979 , 0.5893229 , 0.44723868, 0.56165195, 0.48336497,\n",
       "        0.53922653, 0.78621066, 0.5424148 , 0.59364027, 0.4107512 ,\n",
       "        0.54840195, 0.61265206, 0.55753666, 0.49499887, 0.4542924 ,\n",
       "        0.38982505, 0.5239486 , 0.51916605, 0.5263492 , 0.56998134,\n",
       "        0.56746614, 0.4774621 , 0.49184275, 0.52782094, 0.60036546,\n",
       "        0.571319  , 0.69894564, 0.5244699 , 0.5461649 , 0.5807305 ,\n",
       "        0.42773446, 0.524528  , 0.47397375, 0.51960313, 0.46375048,\n",
       "        0.75303113, 0.41075805, 0.5034278 , 0.57995033]], dtype=float32)"
      ]
     },
     "execution_count": 146,
     "metadata": {},
     "output_type": "execute_result"
    }
   ],
   "source": [
    "from sklearn.metrics.pairwise import cosine_similarity\n",
    "index = 14\n",
    "cosine_sim = cosine_similarity(df[\"keywords_embeddings\"][index].reshape(1,-1), np.stack(journal_embeddings[\"keywords_embeddings\"].values))\n",
    "cosine_sim"
   ]
  },
  {
   "cell_type": "code",
   "execution_count": 147,
   "id": "64385261",
   "metadata": {},
   "outputs": [
    {
     "data": {
      "text/plain": [
       "array([25, 20, 31])"
      ]
     },
     "execution_count": 147,
     "metadata": {},
     "output_type": "execute_result"
    }
   ],
   "source": [
    "idx = (-cosine_sim[0]).argsort()[:3]\n",
    "idx"
   ]
  },
  {
   "cell_type": "code",
   "execution_count": 148,
   "id": "19c04671",
   "metadata": {},
   "outputs": [
    {
     "data": {
      "text/plain": [
       "('Frontiers in Ecology and Evolution',\n",
       " 'Frontiers in Forests and Global Change',\n",
       " 'Frontiers in Ecology and Evolution',\n",
       " 'Frontiers in Marine Science')"
      ]
     },
     "execution_count": 148,
     "metadata": {},
     "output_type": "execute_result"
    }
   ],
   "source": [
    "df[\"journal\"][index], journal_embeddings[\"journal\"][idx[0]], journal_embeddings[\"journal\"][idx[1]], journal_embeddings[\"journal\"][idx[2]] "
   ]
  },
  {
   "cell_type": "code",
   "execution_count": 194,
   "id": "b840f9d1",
   "metadata": {},
   "outputs": [
    {
     "data": {
      "text/plain": [
       "('Frontiers in Sociology',\n",
       " 'Frontiers in Public Health',\n",
       " 'Frontiers in Environmental Science')"
      ]
     },
     "execution_count": 194,
     "metadata": {},
     "output_type": "execute_result"
    }
   ],
   "source": [
    "# custom test\n",
    "keywords_embeddings_test = get_embeddings_keyword([ \"physics of cities\", \"census\", \"racial residential segregation\", \"gentrification\", \"city clustering algorithm\"])\n",
    "cosine_sim = cosine_similarity(keywords_embeddings_test.reshape(1,-1), np.stack(journal_embeddings[\"keywords_embeddings\"].values))\n",
    "idx = (-cosine_sim[0]).argsort()[:3]\n",
    "journal_embeddings[\"journal\"][idx[0]], journal_embeddings[\"journal\"][idx[1]], journal_embeddings[\"journal\"][idx[2]]"
   ]
  },
  {
   "cell_type": "markdown",
   "id": "6b45e278",
   "metadata": {},
   "source": [
    "# SPACY word2vec (whole document)"
   ]
  },
  {
   "cell_type": "code",
   "execution_count": 156,
   "id": "282527a8",
   "metadata": {},
   "outputs": [],
   "source": [
    "def get_document_embedding(text):\n",
    "    doc = nlp(text)\n",
    "    return doc.vector"
   ]
  },
  {
   "cell_type": "code",
   "execution_count": 159,
   "id": "930542bc",
   "metadata": {},
   "outputs": [
    {
     "name": "stdout",
     "output_type": "stream",
     "text": [
      "INFO: Pandarallel will run on 7 workers.\n",
      "INFO: Pandarallel will use Memory file system to transfer data between the main process and workers.\n"
     ]
    },
    {
     "data": {
      "application/vnd.jupyter.widget-view+json": {
       "model_id": "b680b251ed994a128946d335d438d9ac",
       "version_major": 2,
       "version_minor": 0
      },
      "text/plain": [
       "VBox(children=(HBox(children=(IntProgress(value=0, description='0.00%', max=362), Label(value='0 / 362'))), HB…"
      ]
     },
     "metadata": {},
     "output_type": "display_data"
    }
   ],
   "source": [
    "pandarallel.initialize(nb_workers=7,progress_bar=True)\n",
    "\n",
    "df[\"embeddings_preproceed_text\"] = df[\"preprocessed_text\"].parallel_apply(get_document_embedding)"
   ]
  },
  {
   "cell_type": "code",
   "execution_count": 160,
   "id": "c3c224d7",
   "metadata": {},
   "outputs": [],
   "source": [
    "journal_embeddings_whole_text = df.groupby([\"journal\"])[\"embeddings_preproceed_text\"].mean().to_frame().reset_index()\n"
   ]
  },
  {
   "cell_type": "code",
   "execution_count": 161,
   "id": "1d17aa54",
   "metadata": {},
   "outputs": [
    {
     "data": {
      "text/html": [
       "<div>\n",
       "<style scoped>\n",
       "    .dataframe tbody tr th:only-of-type {\n",
       "        vertical-align: middle;\n",
       "    }\n",
       "\n",
       "    .dataframe tbody tr th {\n",
       "        vertical-align: top;\n",
       "    }\n",
       "\n",
       "    .dataframe thead th {\n",
       "        text-align: right;\n",
       "    }\n",
       "</style>\n",
       "<table border=\"1\" class=\"dataframe\">\n",
       "  <thead>\n",
       "    <tr style=\"text-align: right;\">\n",
       "      <th></th>\n",
       "      <th>id</th>\n",
       "      <th>text</th>\n",
       "      <th>journal</th>\n",
       "      <th>keywords</th>\n",
       "      <th>keywords_len</th>\n",
       "      <th>preprocessed_text</th>\n",
       "      <th>keywords_embeddings</th>\n",
       "      <th>embeddings_preproceed_text</th>\n",
       "    </tr>\n",
       "  </thead>\n",
       "  <tbody>\n",
       "    <tr>\n",
       "      <th>0</th>\n",
       "      <td>465950</td>\n",
       "      <td>\\n Sleep Characteristics and Influencing Facto...</td>\n",
       "      <td>Frontiers in Medicine</td>\n",
       "      <td>[inflammatory bowel disease, arthritis, sleep ...</td>\n",
       "      <td>5</td>\n",
       "      <td>sleep characteristics influencing factors slee...</td>\n",
       "      <td>[-0.19882119, 0.32291594, -0.27029547, -0.0390...</td>\n",
       "      <td>[-0.14144625, 0.19849797, -0.13403033, 0.05077...</td>\n",
       "    </tr>\n",
       "    <tr>\n",
       "      <th>1</th>\n",
       "      <td>483526</td>\n",
       "      <td>A Hybrid Approach for Modeling Type 2 Diabetes...</td>\n",
       "      <td>Frontiers in Genetics</td>\n",
       "      <td>[type 2 diabetes mellitus, machine learning, h...</td>\n",
       "      <td>6</td>\n",
       "      <td>hybrid approach modeling type diabetes mellitu...</td>\n",
       "      <td>[-0.17922127, 0.32079363, -0.09769386, 0.04941...</td>\n",
       "      <td>[-0.1051252, 0.16541193, -0.067528166, 0.01435...</td>\n",
       "    </tr>\n",
       "    <tr>\n",
       "      <th>2</th>\n",
       "      <td>482500</td>\n",
       "      <td>\\n Relationship Between SES and Academic Achie...</td>\n",
       "      <td>Frontiers in Psychology</td>\n",
       "      <td>[socioeconomic status, self-concept, school ac...</td>\n",
       "      <td>5</td>\n",
       "      <td>relationship academic achievement junior high ...</td>\n",
       "      <td>[-0.13371883, 0.17204794, -0.029828792, -0.094...</td>\n",
       "      <td>[-0.096085764, 0.15218453, -0.0245518, 0.01957...</td>\n",
       "    </tr>\n",
       "    <tr>\n",
       "      <th>3</th>\n",
       "      <td>437333</td>\n",
       "      <td>Environmental Health Research in Africa: Impor...</td>\n",
       "      <td>Frontiers in Genetics</td>\n",
       "      <td>[G x E, Africa, environmental, pesticides, met...</td>\n",
       "      <td>7</td>\n",
       "      <td>environmental health research africa important...</td>\n",
       "      <td>[-0.35752907, 0.31384423, -0.06836276, -0.0358...</td>\n",
       "      <td>[-0.09711438, 0.104003854, -0.022595188, 0.090...</td>\n",
       "    </tr>\n",
       "    <tr>\n",
       "      <th>4</th>\n",
       "      <td>486515</td>\n",
       "      <td>\\n 3,5-T2—A Janus-Faced Thyroid Hormone Metabo...</td>\n",
       "      <td>Frontiers in Endocrinology</td>\n",
       "      <td>[thyroid hormone, 3, 5-diiodothyronine, hypoth...</td>\n",
       "      <td>9</td>\n",
       "      <td>3,5-t2—a janus-faced thyroid hormone metabolit...</td>\n",
       "      <td>[-0.17045988, 0.22827056, -0.1552076, 0.135012...</td>\n",
       "      <td>[-0.08338285, 0.16250584, -0.11525327, 0.10031...</td>\n",
       "    </tr>\n",
       "  </tbody>\n",
       "</table>\n",
       "</div>"
      ],
      "text/plain": [
       "       id                                               text  \\\n",
       "0  465950  \\n Sleep Characteristics and Influencing Facto...   \n",
       "1  483526  A Hybrid Approach for Modeling Type 2 Diabetes...   \n",
       "2  482500  \\n Relationship Between SES and Academic Achie...   \n",
       "3  437333  Environmental Health Research in Africa: Impor...   \n",
       "4  486515  \\n 3,5-T2—A Janus-Faced Thyroid Hormone Metabo...   \n",
       "\n",
       "                      journal  \\\n",
       "0       Frontiers in Medicine   \n",
       "1       Frontiers in Genetics   \n",
       "2     Frontiers in Psychology   \n",
       "3       Frontiers in Genetics   \n",
       "4  Frontiers in Endocrinology   \n",
       "\n",
       "                                            keywords  keywords_len  \\\n",
       "0  [inflammatory bowel disease, arthritis, sleep ...             5   \n",
       "1  [type 2 diabetes mellitus, machine learning, h...             6   \n",
       "2  [socioeconomic status, self-concept, school ac...             5   \n",
       "3  [G x E, Africa, environmental, pesticides, met...             7   \n",
       "4  [thyroid hormone, 3, 5-diiodothyronine, hypoth...             9   \n",
       "\n",
       "                                   preprocessed_text  \\\n",
       "0  sleep characteristics influencing factors slee...   \n",
       "1  hybrid approach modeling type diabetes mellitu...   \n",
       "2  relationship academic achievement junior high ...   \n",
       "3  environmental health research africa important...   \n",
       "4  3,5-t2—a janus-faced thyroid hormone metabolit...   \n",
       "\n",
       "                                 keywords_embeddings  \\\n",
       "0  [-0.19882119, 0.32291594, -0.27029547, -0.0390...   \n",
       "1  [-0.17922127, 0.32079363, -0.09769386, 0.04941...   \n",
       "2  [-0.13371883, 0.17204794, -0.029828792, -0.094...   \n",
       "3  [-0.35752907, 0.31384423, -0.06836276, -0.0358...   \n",
       "4  [-0.17045988, 0.22827056, -0.1552076, 0.135012...   \n",
       "\n",
       "                          embeddings_preproceed_text  \n",
       "0  [-0.14144625, 0.19849797, -0.13403033, 0.05077...  \n",
       "1  [-0.1051252, 0.16541193, -0.067528166, 0.01435...  \n",
       "2  [-0.096085764, 0.15218453, -0.0245518, 0.01957...  \n",
       "3  [-0.09711438, 0.104003854, -0.022595188, 0.090...  \n",
       "4  [-0.08338285, 0.16250584, -0.11525327, 0.10031...  "
      ]
     },
     "execution_count": 161,
     "metadata": {},
     "output_type": "execute_result"
    }
   ],
   "source": [
    "df.head()"
   ]
  },
  {
   "cell_type": "code",
   "execution_count": 190,
   "id": "c72006ae",
   "metadata": {},
   "outputs": [
    {
     "data": {
      "text/plain": [
       "array([[0.82183737, 0.93559927, 0.7924809 , 0.8350165 , 0.9229171 ,\n",
       "        0.81971055, 0.9152569 , 0.8381097 , 0.9021582 , 0.78838116,\n",
       "        0.84372663, 0.9504678 , 0.90504014, 0.89830285, 0.9253841 ,\n",
       "        0.8487728 , 0.8124156 , 0.8661909 , 0.8246237 , 0.82364446,\n",
       "        0.8705696 , 0.8200557 , 0.95583075, 0.82003087, 0.8355962 ,\n",
       "        0.82864535, 0.9283372 , 0.8913353 , 0.8998831 , 0.9266007 ,\n",
       "        0.91021997, 0.8575944 , 0.8092152 , 0.8014112 , 0.88489   ,\n",
       "        0.959232  , 0.89950794, 0.89822936, 0.90245056, 0.8948908 ,\n",
       "        0.89706314, 0.88120764, 0.9492162 , 0.84284425, 0.9172355 ,\n",
       "        0.93018275, 0.96958315, 0.95373166, 0.941096  , 0.8392121 ,\n",
       "        0.9309617 , 0.8796777 , 0.9173789 , 0.876785  , 0.8931234 ,\n",
       "        0.82287395, 0.8310114 , 0.8216346 , 0.8807856 , 0.9470755 ,\n",
       "        0.82741493, 0.8697964 , 0.9003209 , 0.9350507 ]], dtype=float32)"
      ]
     },
     "execution_count": 190,
     "metadata": {},
     "output_type": "execute_result"
    }
   ],
   "source": [
    "index = 7\n",
    "cosine_sim = cosine_similarity(df[\"embeddings_preproceed_text\"][index].reshape(1,-1), np.stack(journal_embeddings_whole_text[\"embeddings_preproceed_text\"].values))\n",
    "cosine_sim"
   ]
  },
  {
   "cell_type": "code",
   "execution_count": 191,
   "id": "65a42040",
   "metadata": {},
   "outputs": [],
   "source": [
    "idx = (-cosine_sim[0]).argsort()[:3]"
   ]
  },
  {
   "cell_type": "code",
   "execution_count": 192,
   "id": "dc3aaeb0",
   "metadata": {},
   "outputs": [
    {
     "data": {
      "text/plain": [
       "('Frontiers in Medicine',\n",
       " 'Frontiers in Oncology',\n",
       " 'Frontiers in Medicine',\n",
       " 'Frontiers in Endocrinology')"
      ]
     },
     "execution_count": 192,
     "metadata": {},
     "output_type": "execute_result"
    }
   ],
   "source": [
    "df[\"journal\"][index], journal_embeddings_whole_text[\"journal\"][idx[0]], journal_embeddings_whole_text[\"journal\"][idx[1]], journal_embeddings_whole_text[\"journal\"][idx[2]] "
   ]
  },
  {
   "cell_type": "code",
   "execution_count": 193,
   "id": "374ae933",
   "metadata": {},
   "outputs": [
    {
     "data": {
      "text/plain": [
       "('Frontiers for Young Minds',\n",
       " 'Frontiers in Sociology',\n",
       " 'Frontiers in Public Health')"
      ]
     },
     "execution_count": 193,
     "metadata": {},
     "output_type": "execute_result"
    }
   ],
   "source": [
    "# Custom\n",
    "text = \"\"\"Racial residential segregation is interconnected with several other phenomena such as income inequalities, property values inequalities, and racial disparities in health and education. Furthermore, recent literature suggests the phenomenon of gentrification as a cause of perpetuation or increase of racial residential segregation in some American cities. In this paper, we analyze the dynamics of racial residential segregation for white, black, Asian, and Hispanic citizens in New York City in 1990, 2000, and 2010. It was possible to observe that segregation between white and Hispanic citizens and between white and Asian ones has grown, while segregation between white and black is relatively stable. Furthermore, we analyzed the per capita income and the Gini coefficient in each segregated zone, showing that the highest inequalities occur in the zones where there is an overlap of high-density zones of pair of races. Focusing on the changing of the density of population across the city during these 20 years, and by analyzing white and black people’s segregation, our analysis reveals that a positive flux of white (black) people is associated with a substantial increase (decrease) of the property values, as compared with the city mean. Furthermore, by clustering the region with the higher density of black citizens, we measured the variation of area and displacement of the four most significant clusters from 1990 to 2010. The large displacements (≈1.6km) observed for two of these clusters, namely, one in the neighborhood of Harlem and the other inside the borough of Brooklyn, led to the emergence of typically gentrified regions.\"\"\"\n",
    "document_embeddings_test = get_document_embedding(text)\n",
    "cosine_sim = cosine_similarity(document_embeddings_test.reshape(1,-1), np.stack(journal_embeddings_whole_text[\"embeddings_preproceed_text\"].values))\n",
    "idx = (-cosine_sim[0]).argsort()[:3]\n",
    "journal_embeddings_whole_text[\"journal\"][idx[0]], journal_embeddings_whole_text[\"journal\"][idx[1]], journal_embeddings_whole_text[\"journal\"][idx[2]]"
   ]
  },
  {
   "cell_type": "markdown",
   "id": "aac4704e",
   "metadata": {},
   "source": [
    "# Sentence Transformers BERT (only keywords)"
   ]
  },
  {
   "cell_type": "markdown",
   "id": "a4e26683",
   "metadata": {},
   "source": [
    "# Sentence Transformers with SciBERT  (only keywords)\n"
   ]
  },
  {
   "cell_type": "markdown",
   "id": "a9ab0dad",
   "metadata": {},
   "source": [
    "# Sentence Transformers BERT (whole document)\n",
    "\n",
    "Only feaseable with GPU"
   ]
  },
  {
   "cell_type": "markdown",
   "id": "620649e9",
   "metadata": {},
   "source": [
    "# Sentence Transformers with SciBERT  (whole document)\n",
    "\n",
    "Only feaseable with GPU"
   ]
  },
  {
   "cell_type": "code",
   "execution_count": 6,
   "id": "0ea4ed67",
   "metadata": {
    "scrolled": true
   },
   "outputs": [
    {
     "name": "stderr",
     "output_type": "stream",
     "text": [
      "Some weights of the model checkpoint at allenai/scibert_scivocab_uncased were not used when initializing BertModel: ['cls.predictions.transform.dense.weight', 'cls.predictions.transform.LayerNorm.weight', 'cls.predictions.decoder.bias', 'cls.predictions.decoder.weight', 'cls.predictions.transform.dense.bias', 'cls.predictions.transform.LayerNorm.bias', 'cls.seq_relationship.bias', 'cls.seq_relationship.weight', 'cls.predictions.bias']\n",
      "- This IS expected if you are initializing BertModel from the checkpoint of a model trained on another task or with another architecture (e.g. initializing a BertForSequenceClassification model from a BertForPreTraining model).\n",
      "- This IS NOT expected if you are initializing BertModel from the checkpoint of a model that you expect to be exactly identical (initializing a BertForSequenceClassification model from a BertForSequenceClassification model).\n"
     ]
    }
   ],
   "source": [
    "from sentence_transformers import SentenceTransformer, models\n",
    "from torch import nn\n",
    "\n",
    "word_embedding_model = models.Transformer('allenai/scibert_scivocab_uncased', max_seq_length=256)\n",
    "pooling_model = models.Pooling(word_embedding_model.get_word_embedding_dimension())\n",
    "dense_model = models.Dense(in_features=pooling_model.get_sentence_embedding_dimension(), out_features=256, activation_function=nn.Tanh())\n",
    "\n",
    "model = SentenceTransformer(modules=[word_embedding_model, pooling_model, dense_model])"
   ]
  },
  {
   "cell_type": "code",
   "execution_count": 15,
   "id": "8030bcc4",
   "metadata": {},
   "outputs": [
    {
     "data": {
      "text/plain": [
       "['\\n Sleep Characteristics and Influencing Factors of Sleep Quality in Patients With Inflammatory Bowel Disease-Peripheral Arthritis \\n \\n Yin Zhang 1 † ,  Bin Pi 2 † ‡ ,  Xianlin Xu 1 ,  Ying Li 3 ,  Xiangfan Chen 3 ,  Ningxi Yang 4 *  and  Xiaoyan Li 3 \\n \\n 1 Department of Gastroenterology, Huiyang Sanhe Hospital, Huizhou, China \\n 2 Department of Orthopedics, Fifth Affiliated Hospital, Guangzhou Medical University, Guangzhou, China \\n 3 School of Health Science, Wuhan University, Wuhan, China \\n 4 College of Humanities and Social Sciences, Harbin Engineering University, Harbin, China \\n \\n Background:  Patients with inflammatory bowel disease-peripheral arthritis (IBD-PA) often accompany by sleep problems, but few studies have used polysomnography to investigate the objective sleep characteristics of IBD-PA',\n",
       " '\\n Methods:  Patients in IBD-PA group, inflammatory bowel disease (IBD) group, healthy control (HC) group were examined by polysomnography (PSG) and the sleep characteristics were compared',\n",
       " 'PSG and Pittsburgh Sleep Quality Scale (PSQI) indices were compared between active and remission IBD-PA patients',\n",
       " 'The correlation between disease activity and sleep quality in IBD-PA patients was analyzed',\n",
       " 'The influencing factors of sleep efficiency of IBD-PA patients were analyzed',\n",
       " '\\n Results:  The total sleep time (TST), rapid-eye-movement sleep (REM) time, slow wave sleep (S3 + S4) and sleep efficiency (SE) in the IBD-PA group were significantly less than those in the HC group and IBD group ( P  < 0.05), while the number and time of wake after sleep onset (WASO) and sleep latency (SL) were significantly longer than those in the HC group and IBD group ( P  < 0.05)',\n",
       " 'To IBD-PA patients, the disease activity was negatively related to sleep quality',\n",
       " 'There was a significant difference in SE, the number of WASO, S1, S3+S4 of PSG, as well as the PSQI total score between active and remission patients',\n",
       " 'Abdominal pain, joint pain, depression, and C-reactive protein were the influencing factors of sleep efficiency',\n",
       " '\\n Conclusions:  The sleep quality of patients with IBD was poor than the control group, and that of patients with IBD-PA was even worse',\n",
       " 'Therefore, sleep management should be included in IBD management',\n",
       " \"\\n \\n \\n \\n Introduction \\n Inflammatory bowel diseases (IBD) include ulcerative colitis (UC) and Crohn's disease\",\n",
       " 'IBD is a non-specific, recurrent intestinal inflammatory disease involving all segments of the digestive tract ( 1 )',\n",
       " 'Inflammatory bowel disease-peripheral arthritis (IBD-PA) is an arthritis associated with IBD, which is the most common parenteral manifestation of IBD',\n",
       " 'About 15–20% of patients with IBD may have arthralgia or arthritis',\n",
       " 'IBD-PA belongs to reactive arthritis and the diseases involve peripheral joint and axial joint',\n",
       " 'It can involve not only peripheral joints which leads to pain and swelling in knee, ankle, shoulder, elbow, and wrist joints, but also may involve medial axis joints, which can cause sacroiliac arthritis and hip joint involvement',\n",
       " 'A few patients can develop ankylosing spondylitis',\n",
       " 'Among them, peripheral arthritis is the most common, and major joints of lower limbs such as knee, ankle, and foot are the most common involve ( 2 – 4 )',\n",
       " '\\n For patients with IBD, they not only suffer physical discomfort, but also often accompanied by depression, anxiety, pain, sleep disorders, and other mental and psychological problems ( 5 – 7 )',\n",
       " 'Good sleep is a necessary condition for maintaining good health',\n",
       " 'Previous studies have found that patients with IBD have a higher incidence of sleep disorders ( 8 )',\n",
       " 'For patients with IBD-PA, they often face more serious sleep problems because of joint symptoms',\n",
       " '\\n Sleep plays an important role in patients with IBD',\n",
       " 'Previous studies have confirmed that good sleep can help reduce fatigue, improve quality of life and alleviate gastrointestinal symptoms in patients with IBD ( 9 ,  10 )',\n",
       " 'In IBD patients, the relationship between sleep, and mucosal activity and recurrence has been confirmed ( 11 ,  12 )',\n",
       " 'Therefore, it is very important to know the sleep status of patients, which will help provide the basis for further sleep intervention in the future, and help patients improve the treatment effect ultimately',\n",
       " 'Because of the high incidence of the disease in Western countries, the psychological and behavioral research of patients is relatively mature',\n",
       " 'In recent years, the incidence of IBD has increased in China and other Asian countries, but the related psychiatric research is less ( 13 )',\n",
       " 'Most of the previous studies used scales such as Pittsburgh Sleep Quality Scale (PSQI) to measure subjective sleep quality in patients with IBD ( 14 )',\n",
       " 'They confirmed IBD patients suffered poor sleep quality',\n",
       " 'For example, Sisson reported the mean PSQI was 9.6 in IBD patients ( 15 )',\n",
       " 'Bucci found the 41.4% of CD patients and 31.6% of UC patients reported the PSQI score over 5 ( 9 )',\n",
       " 'In a study involving 120 Chinese patients, researchers found their average PSQI score was 8.07 ± 2.91',\n",
       " 'Specifically, the sleep subjective quality score was 1.54 ± 0.66, the sleep latency score was 1.62 ± 0.74, the sleep duration score was 1.16 ± 0.71, the habitual sleep efficiency score was 0.89 ± 0.63, the sleep disturbances score was 1.10 ± 0.42, the use of sleeping medications score was 0.17 ± 0.37, and the daytime dysfunction score was 1.59 ± 0.76 ( 16 )',\n",
       " 'Although several researches have reported the sleep status of patients with IBD, the study of patients with IBD-PA and research on objective sleep quality are very limited',\n",
       " 'As an objective tool, PSG plays an important role in understanding the sleep parameters and structure of patients',\n",
       " 'In this study, sleep characteristics of Chinese patients with IBD-PA and IBD were measured by both polysomnography (PSG) and PSQI',\n",
       " 'Then the influencing factors of sleep quality of patients with IBD-PA were analyzed',\n",
       " '\\n Materials and Methods \\n In this study, the sample size of this study was calculated according to the following sample size formula: \\n n = λ 2 [ sin − 1 ( p max ) 1 / 2 − sin − 1 ( p min ) 1 / 2 ] 2 \\n According to the former literature ( 17 ), p max  = 0.82, p min  = 0.51, α = 0.05, β = 0.1, ν =  k -1 = 3–1 = 2, λ 0.05, 0.1;2  = 12.65',\n",
       " 'The results was  n  = 87 in each group',\n",
       " 'Therefore, between June 2018 and July 2019, 120 patients with IBD and 120 patients with IBD-PA were recruited through snowball and online recruitment, and 120 healthy persons were selected as control group',\n",
       " 'The patients met the predetermined criteria for eligibility: (1) Each patient was diagnosed with IBD or IBD-PA',\n",
       " 'For IBD-PA, patients with peripheral arthritis were enrolled',\n",
       " 'They knew their diagnosis and were able to provide informed consent and complete all questionnaires with full awareness of their diagnosis',\n",
       " '(2) Each patient was age between 18 and 70',\n",
       " '(3) Each patient had clear thinking and no cognitive impairment',\n",
       " '(4) They were being hospitalized and the prescription may be mercaptopurine/azathioprine and/or mesalamine according to their condition',\n",
       " \"Exclusion criteria were as follows: Patients who suffer from other diseases that may affect the evaluation of the scale, such as other joint diseases, skin itching, cancer, severe infection, acute cardiovascular and cerebrovascular diseases, encephalopathy such as Parkinson's and epilepsy, schizophrenia and other mental diseases, severe respiratory, and liver and kidney diseases affecting sleep, prostate diseases causing frequent nocturia, etc\",\n",
       " 'The exclusion criteria of the control group were the same as those of the patients with IBD',\n",
       " '\\n Procedures \\n Firstly, PSG was used to monitor the sleep of three groups for two nights, and the data of the second night were analyzed to minimize the changes of sleep habits caused by environmental changes',\n",
       " 'At the same time, three groups of subjects were surveyed by PSQI questionnaire',\n",
       " 'Then the PSG parameters and PSQI scores of the three groups were compared',\n",
       " 'PSG and PSQI indices were compared between active and remission IBD-PA patients',\n",
       " 'The correlation between disease activity and sleep quality in IBD-PA patients was analyzed',\n",
       " 'Finally, because sleep efficiency is an important indicator of sleep quality, so we set it as the dependent variable, and analyzed the influencing factors of it',\n",
       " '\\n Measures   Essential Information \\n In the questionnaire, we designed the essential information section',\n",
       " 'This section included sociol-demographic information, such as age, sex, marital status, educational background, working situation, etc',\n",
       " '\\n Disease and Treatment Condition \\n For the patient group, disease activity, disease type, course of disease, medication, perianal disease, disease extension, and nocturnal gastrointestinal symptoms were investigated',\n",
       " 'The diagnosis of IBD or IBD-PA was verified through chart review, which was provided by the patients',\n",
       " \"\\n Depressive Mood \\n Zung's self-rating depression scale (SDS) was used to assess patients' depressed mood\",\n",
       " 'The SDS scale is a 20 point self-assessment scale used for screening for depressive mood in 1 week',\n",
       " 'Participants are asked to choose their option response for each question',\n",
       " 'The total score of the 20 items was SDS raw score',\n",
       " 'Multiply raw score by 1.25 and keep the integer part, the standard score is calculated',\n",
       " 'Higher standard scores indicate severer depression ( 18 )',\n",
       " 'According to the norm of China, the standard score in 50 points and above prompts depressive mood',\n",
       " '\\n Joint Pain \\n The degree of joint pain in patients with IBD-PA was measured by numerical rating scale (NRS)',\n",
       " 'Pain intensity was described with 0–10',\n",
       " 'Higher numbers indicate a stronger sense of pain ( 19 )',\n",
       " '\\n Abdominal Pain \\n Patients provided ratings of abdominal pain with a 4-point Likert scale (i.e., none, mild, moderate, or severe)',\n",
       " 'The higher the scores means the degree of the pain is higher (the score ranges from 1 to 4)',\n",
       " '\\n C-Reactive Protein \\n C-reactive protein was measured by latex agglutination turbidimetry',\n",
       " 'The patient was extracted 3 ml venous blood on an empty stomach in the morning and monitored after serum separation',\n",
       " 'The reference value is 0–10 mg/L',\n",
       " \"\\n Disease Activity \\n Harvey–Bradshaw for Crohn's disease (CD) and the Mayo Endoscopy Score (MES) for ulcerative colitis (UC) were used to measure the disease activity of the patients\",\n",
       " 'Harvey-Bradshaw scale for CD is composed of 5 parameters: general well-being, abdominal pain, number of liquid stools per day, abdominal mass, and complications ( 20 )',\n",
       " 'In this scale higher scores indicates the disease activity is more active',\n",
       " 'Patients scores 4 or less indicates the remission stage, while scores more than 4 indicates the active stage',\n",
       " 'Mayo Endoscopy Score consists of diarrhea, rectal bleeding, enteroscopy, and physician evaluation',\n",
       " 'It ranges from 0 to 3: 0 for inactive diseases, 1 for mild stage, 2 for moderate stage, and 3 for severe stage ( 21 )',\n",
       " '\\n Sleep \\n Sleep monitoring was performed in three groups by polysomnography',\n",
       " 'All patients were monitored by PSG throughout the night (at least 7 h)',\n",
       " 'According to the international standard method, the surface disc electrodes were used to record the electroencephalogram (EEG) signals of six parts synchronously (F3-A2, F4-A1, C3-A2, 01-A2, 02-A1)',\n",
       " 'Two surface electrodes were taken to record the electromyogram (EMG) of the chin',\n",
       " 'An electrode was placed at 1 cm above and below the lateral canthus to record the eye movements of the left and right eyes',\n",
       " \"The impedance thoracoabdominal mobility transducer was used to record the patients' chest and abdominal respiratory mobility\",\n",
       " 'Pressure sensors placed in the nasal vestibule were used to record oronasal respiratory airflow',\n",
       " 'Sleep parameters are as follows: (1) Total sleep time (TST):total real sleep time during night sleep monitoring',\n",
       " '(2) Sleep latency (SL): the time from light off to the first sleep period begins',\n",
       " 'If the SL>30 min, patients were defined as difficulty falling asleep',\n",
       " '(3) Sleep efficiency (SE):ratio of TST to bedtime',\n",
       " '(4) Rapid-eye-movement sleep (REM) time: total time of REM during nighttime sleep',\n",
       " '(5) Times of wake after sleep onset (WASO): number of awakenings from sleep to the end of sleep with each time not <15 seconds',\n",
       " '(6) Total time of WASO: total time of awakenings from sleep to the end of sleep',\n",
       " 'In addition, sleep structure is divided into four stages (I-IV)',\n",
       " '\\n Pittsburgh sleep quality index (PSQI) was used to evaluate the subjective sleep quality of patients in the past month',\n",
       " 'Eight items of the scale consist of seven parts, including sleep quality, sleep latency, sleep duration, habitual sleep efficiency, sleep disturbances, use of sleeping medications and daytime dysfunction',\n",
       " 'Each part is scored in 0–3 grades',\n",
       " 'The cumulative score of each component is the total score of PSQI',\n",
       " 'The higher the score, the worse the sleep quality ( 22 )',\n",
       " '\\n Statistical Analyses \\n Epi Info version 3.1 (Centers for Disease Control and Prevention, Atlanta, GA, USA) was used for the entry and summary of the data',\n",
       " 'IBM SPSS Statistics, version 20 (IBM Corp., Armonk, NY, USA) was used to analyze the data',\n",
       " 'All data are expressed as mean values the standard deviation',\n",
       " 'Differences in frequencies among groups were calculated using χ 2  test',\n",
       " 'One-way analysis of variance (ANOVA) with a least significant difference (LSD) test was used to compare the three groups on the indices',\n",
       " \"Pearson's correlation analysis was used to measure the correlation between disease activity and sleep quality in IBD-PA patients\",\n",
       " 'The PSG and PSQI indices of active and remission IBD-PA patients were compared by  t  test',\n",
       " 'Univariate analysis was used to compare sleep efficiency of patients with different demographic characteristics and disease conditions',\n",
       " 'Multivariate linear regression was used to evaluate the influencing factors of sleep efficiency',\n",
       " '\\n Results \\n Sample \\n Four hundred twelve people received our invitation and 360 people took part in the research with a participation rate of 87.38%',\n",
       " 'There was no significant difference in basic demographic and clinical characteristics among the three groups',\n",
       " 'The results are summarized in  Table 1 ',\n",
       " '\\n \\n TABLE 1 \\n \\n \\n \\n \\n Table 1 ',\n",
       " 'Comparison of basic demographic and clinical characteristics of 13 groups of subjects',\n",
       " '\\n \\n \\n \\n Comparison of PSG Indices of the Three Groups \\n The PSG data of three groups were analyzed by variance analysis and LSD test',\n",
       " 'Variance analysis results showed that there were significant differences in TST, sleep latency, sleep efficiency, the number and time of WASO and sleep structure among the three groups ( P  < 0.001)',\n",
       " 'The results are given in  Table 2 ',\n",
       " '\\n \\n TABLE 2 \\n \\n \\n \\n \\n Table 2 ',\n",
       " 'Variance analysis results of the differences between IBD group, IBD-PA group and control group in PSG sleep parameters',\n",
       " '\\n \\n \\n \\n LSD test results were showed in  Table 3 ',\n",
       " 'Compared with the control group, the indexes of IBD group and IBD-PA group were significantly different ( P  < 0.001)',\n",
       " 'In addition, there were significant differences between IBD-PA group and IBD group ( P  < 0.001)',\n",
       " 'Overall, the sleep quality of patients with IBD and IBD-PA was lower than healthy control group, and the sleep quality of patients with IBD-PA was worse lower than IBD group',\n",
       " 'In detail, the TST, REM time, slow wave sleep (S3 + S4) and sleep efficiency (SE) in the IBD and IBD-PA group were significantly less than those in the HC group ( P  < 0.001)',\n",
       " 'In terms of the above parameters, IBD-PA group were significantly less than those in the IBD group ( P  < 0.001)',\n",
       " 'By contraries, compared with the HC group, the number and time of WASO and sleep latency (SL) in IBD group and IBD-PA group were significantly longer ( P  < 0.001)',\n",
       " 'In terms of the above parameters, IBD-PA group were significantly longer than those in the IBD group ( P  < 0.001)',\n",
       " '\\n \\n TABLE 3 \\n \\n \\n \\n \\n Table 3 ',\n",
       " 'LSD test results of the differences between IBD group, IBD-PA group and control group in PSG sleep parameters',\n",
       " '\\n \\n \\n \\n Comparison of PQSI Indices of the Three Groups \\n The PQSI data of three groups were analyzed by variance analysis and LSD test',\n",
       " 'Variance analysis results showed that there were significant differences in PSQI score, sleep quality, sleep latency, sleep duration, habitual sleep efficiency, sleep disturbances, use of sleeping medications and daytime dysfunction among the three groups ( P  < 0.001)',\n",
       " 'The results are given in  Table 4 ',\n",
       " '\\n \\n TABLE 4 \\n \\n \\n \\n \\n Table 4 ',\n",
       " 'Variance analysis results of the differences between IBD group, IBD-PA group and control group in PSQI sleep parameters',\n",
       " '\\n \\n \\n \\n LSD test results were showed in  Table 5 ',\n",
       " 'Compared with the control group, the indexes of IBD group and IBD-PA group were significantly different',\n",
       " 'Scores in all the seven dimensions and the total score of IBD group and IBD-PA group were significantly higher than the control group',\n",
       " 'In addition, IBD-PA group scored significantly higher than IBD group in sleep latency, sleep duration, habitual sleep efficiency, sleep disturbances, daytime dysfunction, and total score',\n",
       " 'But there was no significant difference between them in self-evaluation sleep quality and use of sleeping medications',\n",
       " 'According to the scoring rules of the PQSI scale and basing on the total scores, the above results illustrate that compared with the control group, IBD group and IBD-PA group showed worse sleep quality',\n",
       " 'Compared with the IBD group, the sleep quality of IBD-PA group was even worse',\n",
       " '\\n \\n TABLE 5 \\n \\n \\n \\n \\n Table 5 ',\n",
       " 'LSD test results of the differences between IBD group, IBD-PA group, and control group in PSQI sleep parameters',\n",
       " '\\n \\n \\n \\n PSG and PSQI Indices Comparison Between Active and Remission IBD-PA Patients \\n The PSG and PSQI indices of active and remission IBD-PA patients were compared',\n",
       " 'Results showed that for the PSG indices, the SE of active patients was lower than the remission patients ( P  < 0.001)',\n",
       " 'The number of WASO of active patients was larger than the remission patients ( P  < 0.001)',\n",
       " 'The S1 of active patients was longer ( P  = 0.008) and S3 + S4 was longer than the remission patients ( P  = 0.01)',\n",
       " 'Moreover, the PSQI total score of active patients was higher than the remission patients ( P  = 0.021)',\n",
       " 'The results are shown in  Table 6 ',\n",
       " '\\n \\n TABLE 6 \\n \\n \\n \\n \\n Table 6 ',\n",
       " 'PSG and PSQI indices comparison between active and remission IBD-PA patients',\n",
       " '\\n \\n \\n \\n The Correlation Between Disease Activity and Sleep Quality in IBD-PA Patients \\n The correlations between disease activity and sleep quality (total score of PSQI and sleep efficiency of PSG) of IBD-PA patients were analyzed',\n",
       " 'For the CD patients, there was a positive correlation between Harvey-Bradshaw indices and total score of PSQI ( r  = 0.528,  P  < 0.05), and a negative correlation between Harvey-Bradshaw indices and sleep efficiency of PSG ( r  = −0.478,  P  < 0.05)',\n",
       " 'Similarly, for the UC patients, there was a positive correlation between MES and total score of PSQI ( r  = 0.673,  P  < 0.05), and a negative correlation between MES and sleep efficiency of PSG ( r  = −0.566,  P  < 0.05)',\n",
       " \"\\n The Effect of Demographic Characteristics and Disease Condition on the IBD-PA Patients' Sleep Efficiency of PSG \\n Univariate analysis was used to compare sleep efficiency of patients with different demographic characteristics and disease conditions\",\n",
       " ' Table 7  presents the results',\n",
       " 'Then using sleep efficiency as dependent variable, the data of IBD-PA patients were analyzed by multiple linear regression',\n",
       " 'The results showed that abdominal pain, joint pain, depression, and C-reactive protein were the influencing factors of sleep efficiency',\n",
       " 'The results are shown in  Table 8 ',\n",
       " '\\n \\n TABLE 7 \\n \\n \\n \\n \\n Table 7 ',\n",
       " 'Comparison of sleep efficiency of patients with different demographic characteristics and diseases situation',\n",
       " '\\n \\n \\n \\n TABLE 8 \\n \\n \\n \\n \\n Table 8 ',\n",
       " 'Influencing factors of objective sleep efficiency in patients with IBD-PA',\n",
       " '\\n \\n \\n \\n Discussion \\n According to the results, the objective sleep parameters and subjective self-assessment of sleep quality between the control group, IBD group, and IBD-PA group were significantly different',\n",
       " '\\n First, compared with the control group, patients in IBD group showed poorer sleep quality in both PSG data and PSQI',\n",
       " 'Sleep disorder is a common problem in patients with IBD',\n",
       " 'This result was similar to those of previous studies',\n",
       " 'For example, Uemura et al',\n",
       " 'reported the prevalence of sleep disturbances was 44.1% in Japanese IBD patients ( 23 )',\n",
       " 'In a study from China, 55.8% IBD patients reported poor sleep ( 16 )',\n",
       " 'There are few studies on PSG in IBD patients',\n",
       " 'Compared with Keefer et al',\n",
       " 'research, some results are similar',\n",
       " 'For example, they found that IBD patients had less sleep efficiency and TST than the control group, which are similar with ours',\n",
       " 'In their research, the average sleep efficiency of IBD patients was 84.44 ± 5.06 while it was 78.0 ± 13.43 in control group',\n",
       " 'The average TST of IBD group was 418.55 ± 55.67, while in the control group the average TST was 464.18 ± 19.26',\n",
       " 'The sleep efficiency were higher and TST were longer than those in our study',\n",
       " 'Unlike our findings, there was no significant difference in other indicators between the two groups ( 24 )',\n",
       " 'Bar-Gil Shitrit et al',\n",
       " 'found a significantly less REM sleep was noted in the inactive IBD patient group vs',\n",
       " 'control and light sleep percentage and REM latency were also longer in the IBD group',\n",
       " 'All other sleep parameters including number of wakes, sleep latency, were similar in both groups ( 25 )',\n",
       " 'Sleep problems of patients include short sleep time, difficulty in falling asleep, increased number of WASO, etc ( 26 )',\n",
       " 'Summarizing their research, the factors affecting sleep quality of IBD patients include disease active period, unemployment, female, hormone therapy, restless legs syndrome, fatigue, anxiety, inflammatory factors, and so on ( 16 ,  27 – 29 )',\n",
       " '\\n Second, when it comes to comparing the sleep quality between the control group and IBD-PA group, results showed the IBD-PA group was poorer',\n",
       " \"In previous studies, there were more questionnaire surveys on sleep of IBD patients, but we haven't found any studies focused on sleep of IBD-PA patients\",\n",
       " 'In addition to the possible causes of sleep disorders in patients with IBD in the first part, these patients not only suffer from digestive tract symptoms, but also experience joint pain and limited movement, which may seriously affect their sleep',\n",
       " '\\n Third, compared with IBD patients, the sleep quality of IBD-PA patients was even worse',\n",
       " 'Sleep status of patients with IBD-PA is the focus of this study',\n",
       " \"As to the objective sleep parameters, the patients showed very low sleep efficiency and very short sleep time, which indicated that the patients' sleep problems were serious and should be paid great attention to\",\n",
       " \"In terms of sleep structure, the patients' slow wave sleep (deep sleep, S3 + S4) time is shorter\",\n",
       " 'Deep sleep is associated with cognition and helps patients regain energy ( 30 )',\n",
       " 'The rapid eye movement sleep of patients is also short, which has a negative effect on the mental health of patients ( 31 )',\n",
       " \"Therefore, attention should be paid to patients' mental health, such as cognition\",\n",
       " \"As to the subjective assessment results, patients' with IBD-PA reported higher scores in all the 7 items and the total score of PSQI than IBD group, which indicated their subjective sleep quality was worse\",\n",
       " '\\n In this study, it was found that sleep was in relation to disease activity in IBD-PA patients',\n",
       " 'Active patients had worse sleep than remission patients',\n",
       " 'This was the same as other studies',\n",
       " 'For example, Graff et al',\n",
       " 'conducted a PSQI survey of 318 adult IBD patients and found that 82% of active IBD patients had sleep disorder, while 51% of remission IBD patients had sleep disorder ( 32 )',\n",
       " 'Ali et al',\n",
       " 'confirmed that 100% of patients in active stage of disease had sleep disorders, while only 54% of patients in remission stage had sleep disorders ( 11 )',\n",
       " \"This is because the physical and mental health of patients in the active stage of disease is worse, which affects patients' sleep\",\n",
       " 'In addition, cytokines also affect sleep',\n",
       " 'In addition, the levels of cytokines were different between active patients and remission patients',\n",
       " 'Cytokines interact with sleep',\n",
       " 'For example, IL-1 can regulate sleep through serum receptor pathways',\n",
       " 'Low levels of IL-1 can promote NREM, while high levels of IL-1 can inhibit NREM ( 33 )',\n",
       " '\\n In order to explain why IBD-PA patients had the poorest sleep quality than the IBD patients and the control group, regression, and correlation analysis were used to explore the influencing factors of objective sleep efficiency',\n",
       " 'Results showed that abdominal pain, joint pain, depression, and C-reactive protein were the influencing factors of sleep efficiency in patients with IBD-PA',\n",
       " 'This study found that patients with gastrointestinal symptoms, such as abdominal pain, reduced their sleep quality',\n",
       " 'This is the same as previous research results',\n",
       " 'For example, Pirinen et al',\n",
       " 'found that sleep disorders were associated with clinical symptoms',\n",
       " 'In adolescent IBD patients, 41% of patients with severe clinical symptoms and 22% of patients with mild clinical symptoms had sleep disorders ( 34 )',\n",
       " \"Joint pain severely affects the patient's sleep\",\n",
       " \"Patients' with higher pain index got lower sleep efficiency because pain causes frequent awakening during sleep\",\n",
       " 'Depression is also an important factor in sleep, which is the same as other studies ( 35 ,  36 )',\n",
       " 'IBD patients often have negative emotions such as anxiety and depression because the course of illness is long and repeated, which seriously affects work and life, and patients perceive the uncertainty of illness ( 37 )',\n",
       " 'Moreover, emotions affect the outcome of disease and the quality of life of patients ( 38 )',\n",
       " 'Patients with IBD-PA are more likely to have mental health problems because they have more joint symptoms on this basis',\n",
       " 'Pain, negative emotions and sleep disorders often form a vicious circle',\n",
       " 'This suggests that pain management and psychological intervention should be strengthened in patients with IBD-PA ( 39 )',\n",
       " 'In addition, CRP, a marker of inflammation, was related to sleep',\n",
       " 'In inflammatory diseases, the body produces NF-kB, which affects sleep rhythm ( 40 )',\n",
       " 'Higher CRP means more inflammation, so sleep is more affected',\n",
       " 'Understanding these factors is helpful for targeted sleep intervention',\n",
       " '\\n Limitations \\n There are limitations of our present study',\n",
       " \"First, there are many factors affecting the patients' sleep quality, including hormone level, sport, nutritional status, intestinal flora, etc\",\n",
       " 'In the present study, we incorporated limited factors',\n",
       " 'Clearly, it is difficult and unpractical to control for all these factors in a study',\n",
       " 'We can only control a certain number of the factors',\n",
       " 'Second, in the selection of the object, the sample size was small because the total number of such patients is relatively small',\n",
       " \"Third, this was a cross-sectional study that only measured patients' indices at a single time point\",\n",
       " 'Therefore, it has a certain contingency; long-term intervention studies and cohort studies need to be conducted in the future',\n",
       " '\\n Conclusion \\n Generally speaking, the objective and subjective sleep quality of patients with IBD were poor, and these of IBD-PA patients were even worse',\n",
       " 'Specifically, on objective sleep quality, the TST, sleep efficiency, REM time, S2, S3 + S4 of IBD, and IBD-PA group were shorter than the control group',\n",
       " 'However, the sleep latency, number of WASO, time of WASO and S1 of IBD and IBD-PA group were longer or more than the control group',\n",
       " 'The above sleep problems of IBD-PA group were more serious than IBD group',\n",
       " 'On subjective sleep quality, all the 7 dimension scores and the total score of PSQI in IBD group and IBD-PA group were higher than the control group',\n",
       " 'IBD-PA group scored significantly higher than IBD group in sleep latency, sleep duration, habitual sleep efficiency, sleep disturbances, daytime dysfunction, and total score',\n",
       " \"The influencing factors of IBD-PA patients' sleep quality were hormone use, nocturnal gastrointestinal symptoms, joint pain, depression, and disease activity\",\n",
       " 'Therefore, sleep management should be integrated into IBD management',\n",
       " '\\n Data Availability Statement \\n The datasets generated for this study are available on request to the corresponding author',\n",
       " '\\n Ethics Statement \\n This study was carried out in accordance with the recommendations of Wuhan University School of Medicine Ethics Committee (No',\n",
       " '20161101) with written informed consent from all subjects',\n",
       " 'All subjects gave written informed consent in accordance with the Declaration of Helsinki',\n",
       " 'The protocol was approved by the Wuhan University School of Medicine Ethics Committee',\n",
       " '\\n Author Contributions \\n NY designed the research',\n",
       " 'YZ and BP were responsible for drafting the manuscript and collected the data',\n",
       " 'YL and XC analyzed the data',\n",
       " 'YZ, NY, and XL reviewed and revised the manuscript',\n",
       " 'XX reviewed the manuscript',\n",
       " 'All authors approved this version to be published',\n",
       " '\\n Funding \\n This study was funded by the Huizhou Science and Technology Project (Healthcare) (2019Y323) and the Fundamental Research Funds for the Central Universities (HEUCF20181312)',\n",
       " '\\n Conflict of Interest Statement \\n The authors declare that the research was conducted in the absence of any commercial or financial relationships that could be construed as a potential conflict of interest',\n",
       " '\\n Acknowledgments \\n The authors thank all the patients who generously participated in this study at such a difficult time in their lives',\n",
       " '\\n References \\n \\n  1',\n",
       " 'Molodecky NA, Soon IS, Rabi DM, Ghali WA, Ferris M, Chernoff G, et al',\n",
       " 'Increasing incidence and prevalence of the inflammatory bowel diseases with time, based on systematic review',\n",
       " ' Gastroenterology',\n",
       " ' (2012) 142:46–54',\n",
       " 'doi: 10.1053/j.gastro.2011.10.001 \\n PubMed Abstract  |  CrossRef Full Text  |  Google Scholar \\n \\n \\n  2',\n",
       " 'Gionchetti P, Rizzello F',\n",
       " 'IBD: IBD and spondyloarthritis: joint management',\n",
       " ' Nat Rev Gastroenterol Hepatol',\n",
       " ' (2016) 13:9–10',\n",
       " 'doi: 10.1038/nrgastro.2015.208 \\n PubMed Abstract  |  CrossRef Full Text  |  Google Scholar \\n \\n \\n  3',\n",
       " 'Hoda M, Grace L, Jason H',\n",
       " 'Characterization and prevalence of spondyloarthritis and peripheral arthritis among patients with inflammatory bowel disease',\n",
       " ' Clin Exp Gastroenterol',\n",
       " ' (2017) 10:259–63',\n",
       " 'doi: 10.2147/CEG.S136383 \\n CrossRef Full Text  |  Google Scholar \\n \\n \\n  4',\n",
       " 'Gravallese EM, Kantrowitz FG',\n",
       " 'Arthritic manifestations of inflammatory bowel disease',\n",
       " ' Am J Gastroenterol',\n",
       " ' (1988) 83:703–9',\n",
       " ' \\n PubMed Abstract  |  Google Scholar \\n \\n \\n  5',\n",
       " 'Neuendorf R, Harding A, Stello N, Hanes D, Wahbeh H',\n",
       " 'Depression and anxiety in patients with Inflammatory Bowel Disease: a systematic review',\n",
       " ' J Psychosom Res',\n",
       " ' (2016) 87:70–80',\n",
       " 'doi: 10.1016/j.jpsychores.2016.06.001 \\n PubMed Abstract  |  CrossRef Full Text  |  Google Scholar \\n \\n \\n  6',\n",
       " 'Dibley L, Czuber-Dochan W, Woodward S, Wade T, Bassett P, Sturt J, et al',\n",
       " 'Development and psychometric properties of the Inflammatory Bowel Disease Distress Scale (IBD-DS): a new tool to measure disease-specific distress',\n",
       " ' Inflamm Bowel Dis',\n",
       " ' (2018) 24:2068–77',\n",
       " 'doi: 10.1093/ibd/izy108 \\n CrossRef Full Text  |  Google Scholar \\n \\n \\n  7',\n",
       " 'Sweeney L, Moss-Morris R, Czuber-Dochan W, Meade L, Chumbley G, Norton C',\n",
       " 'Systematic review: psychosocial factors associated with pain in inflammatory bowel disease',\n",
       " ' Aliment Pharmacol Ther',\n",
       " ' (2018) 47:715–29',\n",
       " 'doi: 10.1111/apt.14493 \\n PubMed Abstract  |  CrossRef Full Text  |  Google Scholar \\n \\n \\n  8',\n",
       " 'Ali T, Orr WC',\n",
       " 'Sleep disturbances and inflammatory bowel disease',\n",
       " ' Inflamm Bowel Dis',\n",
       " ' (2014) 20:1986–95',\n",
       " 'doi: 10.1097/MIB.0000000000000108 \\n PubMed Abstract  |  CrossRef Full Text  |  Google Scholar \\n \\n \\n  9',\n",
       " 'Bucci C, Amato M, Zingone F, Caggiano M, Iovino P, Ciacci C',\n",
       " 'Prevalence of sleep bruxism in IBD patients and its correlation to other dental disorders and quality of life',\n",
       " ' Gastroent Res Pract',\n",
       " ' (2018) 2018:7274318',\n",
       " 'doi: 10.1155/2018/7274318 \\n PubMed Abstract  |  CrossRef Full Text  |  Google Scholar \\n \\n \\n  10',\n",
       " 'Hashash JG, Ramos-Rivers C, Youk A, Chiu WK, Duff K, Regueiro M',\n",
       " 'Quality of sleep and coexistent psychopathology have significant impact on fatigue burden in patients with inflammatory bowel disease',\n",
       " ' J Clin Gastroenterol',\n",
       " ' (2018) 52:423–30',\n",
       " 'doi: 10.1097/MCG.0000000000000729 \\n PubMed Abstract  |  CrossRef Full Text  |  Google Scholar \\n \\n \\n  11',\n",
       " 'Ali T, Madhoun MF, Orr WC, Rubin DT',\n",
       " 'Assessment of the relationship between quality of sleep and disease activity in inflammatory bowel disease patient',\n",
       " ' Inflamm Bowel Dis',\n",
       " ' (2013) 19:2440–3',\n",
       " 'doi: 10.1097/MIB.0b013e3182a0ea54 \\n CrossRef Full Text  |  Google Scholar \\n \\n \\n  12',\n",
       " 'Michalopoulos G, Vrakas S, Makris K, Tzathas C',\n",
       " 'Association of sleep quality and mucosal healing in patients with inflammatory bowel disease in clinical remission',\n",
       " ' Ann Gastroenterol ',\n",
       " '(2018) 31:211–6',\n",
       " 'doi: 10.20524/aog.2018.0227 \\n PubMed Abstract  |  CrossRef Full Text  |  Google Scholar \\n \\n \\n  13',\n",
       " 'Haack M, Sanchez E, Mullington JM',\n",
       " 'Elevated inflammatory markers in response to prolonged sleep restriction are associated with increased pain experience in healthy volunteers',\n",
       " ' Sleep ',\n",
       " '(2007) 30:1145–52',\n",
       " 'doi: 10.1093/sleep/30.9.1145 \\n PubMed Abstract  |  CrossRef Full Text  |  Google Scholar \\n \\n \\n  14',\n",
       " 'Abedelmalek S, Souissi N, Chtourou H, Denguezli M, Aouichaoui C, Ajina M, et al',\n",
       " 'Effects of partial sleep deprivation on proinflammatory cytokines, growth hormone, and steroid hormone concentrations during repeated brief sprint interval exercise',\n",
       " ' Chronobiol Int ',\n",
       " '(2013) 30:502–9',\n",
       " 'doi: 10.3109/07420528.2012.742102 \\n PubMed Abstract  |  CrossRef Full Text  |  Google Scholar \\n \\n \\n  15',\n",
       " 'Sisson G, Junghans C, Bjarnason I',\n",
       " 'PTH-044 Poor sleep quality in irritable bowel syndrome: a comparison with healthy adult controls',\n",
       " ' Gut ',\n",
       " '(2010) 59:A140',\n",
       " 'doi: 10.1136/gut.2009.209049e \\n CrossRef Full Text  |  Google Scholar \\n \\n \\n  16',\n",
       " 'Shi Q, Kong J, Dai XJ, Chen C, Feng JX',\n",
       " 'Sleep quality and influencing factors in patients with inflammatory bowel disease',\n",
       " ' Chin Nurs Manag ',\n",
       " '(2016) 16:1206–11',\n",
       " '\\n Google Scholar \\n \\n \\n  17',\n",
       " 'Chen C, Li J, Yang XS',\n",
       " 'A review of inflammatory bowel disease comorbid sleep disorders',\n",
       " ' Chin Mental Health J ',\n",
       " '(2018) 32:478–83',\n",
       " 'doi: 10.3969/j.issn.1000-6729.2018.06.006 \\n CrossRef Full Text  |  Google Scholar \\n \\n \\n  18',\n",
       " 'Sakamoto S, Kijima N, Tomoda A, Kambara M',\n",
       " 'Factor structures of the Zung Self-Rating Depression Scale (SDS) for undergraduates',\n",
       " ' J Clin Psychol ',\n",
       " '(1998) 54:477–87',\n",
       " 'doi: 10.1002/(SICI)1097-4679(199806)54:4<477::AID-JCLP9>3.0.CO;2-K \\n PubMed Abstract  |  CrossRef Full Text  |  Google Scholar \\n \\n \\n  19',\n",
       " 'Pagé MG, Katz J, Stinson J, Isaac L, Martin-Pichora AL, Campbell F',\n",
       " 'Validation of the numerical rating scale for pain intensity and unpleasantness in pediatric acute postoperative pain: sensitivity to change over time',\n",
       " ' J Pain ',\n",
       " '(2012) 13:359–69',\n",
       " 'doi: 10.1016/j.jpain.2011.12.010 \\n PubMed Abstract  |  CrossRef Full Text  |  Google Scholar \\n \\n \\n  20',\n",
       " 'Vermeire S, Schreiber S, Sandborn WJ, Dubois C, Rutgeerts P',\n",
       " \"Correlation between the Crohn's disease activity and Harvey-Bradshaw indices in assessing Crohn's disease severity\",\n",
       " ' Clin Gastroenterol H ',\n",
       " '(2010) 8:357–63',\n",
       " 'doi: 10.1016/j.cgh.2010.01.001 \\n PubMed Abstract  |  CrossRef Full Text  |  Google Scholar \\n \\n \\n  21',\n",
       " 'Kristensen V, Klepp P, Cvancarova M, Røseth A, Skar V, Moum B',\n",
       " 'Prediction of endoscopic disease activity in ulcerative colitis by two different assays for fecal calprotectin',\n",
       " ' J Crohns Coliti ',\n",
       " '(2014) 9:164–69',\n",
       " 'doi: 10.1093/ecco-jcc/jju015 \\n PubMed Abstract  |  CrossRef Full Text  |  Google Scholar \\n \\n \\n  22',\n",
       " 'Carpenter JS, Andrykowski MA',\n",
       " 'Psychometric evaluation of the Pittsburgh Sleep Quality Index',\n",
       " ' J Psychosom Res ',\n",
       " '(1998) 45:5–13',\n",
       " 'doi: 10.1016/S0022-3999(97)00298-5 \\n PubMed Abstract  |  CrossRef Full Text  |  Google Scholar \\n \\n \\n  23',\n",
       " 'Uemura R, Fujiwara Y, Iwakura N, Shiba M, Watanabe K, Kamata N, et al',\n",
       " 'Sleep disturbances in Japanese patients with inflammatory bowel disease and their impact on disease flare',\n",
       " ' Springerplus ',\n",
       " '(2016) 5:1792',\n",
       " 'doi: 10.1186/s40064-016-3408-6 \\n PubMed Abstract  |  CrossRef Full Text  |  Google Scholar \\n \\n \\n  24',\n",
       " 'Keefer L, Stepanski EJ, Ranjbaran Z, Benson LM, Keshavarzian A',\n",
       " 'An initial report of sleep disturbance in inactive inflammatory bowel disease',\n",
       " ' J Clin Sleep Med ',\n",
       " '(2006) 2:409–16',\n",
       " ' \\n PubMed Abstract  |  Google Scholar \\n \\n \\n  25',\n",
       " 'Bar-Gil Shitrit A, Chen-Shuali C, Adar T, Koslowsky B, Shteingart S, Paz K, et al',\n",
       " 'Sleep disturbances can be prospectively observed in patients with an inactive inflammatory bowel disease',\n",
       " ' Dig Dis Sci ',\n",
       " '(2018) 63:2992–7',\n",
       " 'doi: 10.1007/s10620-018-5207-0 \\n PubMed Abstract  |  CrossRef Full Text  |  Google Scholar \\n \\n \\n  26',\n",
       " 'Ranjbaran Z, Keefer L, Farhadi A, Stepanski E, Sedghi S, Keshavarzian A',\n",
       " 'Impact of sleep disturbances in inflammatory bowel disease',\n",
       " ' J Gastroenterol Hepatol ',\n",
       " '(2007) 22:1748–53',\n",
       " 'doi: 10.1111/j.1440-1746.2006.04820.x \\n PubMed Abstract  |  CrossRef Full Text  |  Google Scholar \\n \\n \\n  27',\n",
       " 'Wilson RG, Stevens BW, Guo AY, Russell CN, Thornton A, Cohen MA, et al',\n",
       " 'High C-reactive protein is associated with poor sleep quality independent of nocturnal symptoms in patients with inflammatory bowel disease',\n",
       " ' Dig Dis Sci ',\n",
       " '(2015) 60:2136–43',\n",
       " 'doi: 10.1007/s10620-015-3580-5 \\n PubMed Abstract  |  CrossRef Full Text  |  Google Scholar \\n \\n \\n  28',\n",
       " 'Schindlbeck KA, Becker J, Berger F, Mehl A, Rewitzer C, Geffe S, et al',\n",
       " 'Impact of restless legs syndrome in patients with inflammatory bowel disease on sleep, fatigue, and quality of life',\n",
       " ' Int J Colorectal Dis ',\n",
       " '(2017) 32:125–30',\n",
       " 'doi: 10.1007/s00384-016-2681-8 \\n PubMed Abstract  |  CrossRef Full Text  |  Google Scholar \\n \\n \\n  29',\n",
       " 'Ananthakrishnan AN, Long MD, Martin CF, Sandler RS, Kappelman MD',\n",
       " \"Sleep disturbance and risk of active disease in patients with Crohn's disease and ulcerative colitis\",\n",
       " ' Clin Gastroenterol Hepatol',\n",
       " ' (2013) 11:965–71',\n",
       " 'doi: 10.1016/j.cgh.2013.01.021 \\n PubMed Abstract  |  CrossRef Full Text  |  Google Scholar \\n \\n \\n  30',\n",
       " 'Buechel HM, Popovic J, Searcy JL, Porter NM, Thibault O, Blalock EM',\n",
       " 'Deep sleep and parietal cortex gene expression changes are related to cognitive deficits with age',\n",
       " ' PLoS ONE ',\n",
       " '(2011) 6:e18387',\n",
       " 'doi: 10.1371/journal.pone.0018387 \\n PubMed Abstract  |  CrossRef Full Text  |  Google Scholar \\n \\n \\n  31',\n",
       " 'McNamara P, Johnson P, McLaren D, Harris E, Beauharnais C, Auerbach S',\n",
       " 'REM and NREM sleep mentation',\n",
       " ' Int Rev Neurobiol',\n",
       " ' (2010) 92: 69–86',\n",
       " 'doi: 10.1016/S0074-7742(10)92004-7 \\n PubMed Abstract  |  CrossRef Full Text  |  Google Scholar \\n \\n \\n  32',\n",
       " 'Graff LA, Vincent N, Walker JR, Clara I, Carr R, Ediger J, et al',\n",
       " 'A population-based study of fatigue and sleep difficulties in inflammatory bowel disease',\n",
       " ' Inflamm Bowel Dis ',\n",
       " '(2011) 17:1882–9',\n",
       " 'doi: 10.1002/ibd.21580 \\n PubMed Abstract  |  CrossRef Full Text  |  Google Scholar \\n \\n \\n  33',\n",
       " 'Opp MR',\n",
       " 'Cytokines and sleep',\n",
       " ' Sleep Med Rev ',\n",
       " '(2005) 9:355–64',\n",
       " 'doi: 10.1016/j.smrv.2005.01.002 \\n PubMed Abstract  |  CrossRef Full Text  |  Google Scholar \\n \\n \\n  34',\n",
       " 'Pirinen T, Kolho KL, Simola P, Ashorn M, Aronen ET',\n",
       " 'Parent and self-report of sleep problems and daytime tiredness among adolescents with inflammatory bowel disease and their population-based controls',\n",
       " ' Sleep',\n",
       " ' (2010) 1487–93',\n",
       " 'doi: 10.1055/s-0030-1266761 \\n PubMed Abstract  |  CrossRef Full Text  |  Google Scholar \\n \\n \\n  35',\n",
       " 'Benhayon D, Youk A, McCarthy FN, Davis S, Keljo DJ, Bousvaros A, et al',\n",
       " \"Characterization of relationships between sleep, inflammation, and psychiatric dysfunction in depressed youth with Crohn's disease\",\n",
       " ' J Pediatr Gastroenterol Nutr',\n",
       " ' (2013) 57:335–42',\n",
       " 'doi: 10.1097/MPG.0b013e31829641df \\n CrossRef Full Text  |  Google Scholar \\n \\n \\n  36',\n",
       " 'Pirinen T, Kolho KL, Ashorn M, Aronen ET',\n",
       " 'Sleep and emotional and behavioral symptoms in adolescents with inflammatory bowel disease',\n",
       " ' Sleep Disord ',\n",
       " '(2014) 2014:379450',\n",
       " 'doi: 10.1155/2014/379450 \\n PubMed Abstract  |  CrossRef Full Text  |  Google Scholar \\n \\n \\n  37',\n",
       " 'Reed-Knight B, Lobato D, Hagin S, McQuaid EL, Seifer R, Kopel SJ, et al',\n",
       " 'Depressive symptoms in youth with inflammatory bowel disease compared with a community sample',\n",
       " ' Inflamm Bowel Dis ',\n",
       " '(2014) 20:614–21',\n",
       " 'doi: 10.1097/01.MIB.0000442678.62674.b7 \\n PubMed Abstract  |  CrossRef Full Text  |  Google Scholar \\n \\n \\n  38',\n",
       " 'Luo XP, Mao R, Chen BL, Qiu Y, Zhang SH, He Y, et al',\n",
       " 'Over-reaching beyond disease activity: the influence of anxiety and medical economic burden on health-related quality of life in patients with inflammatory bowel disease',\n",
       " ' Patient Prefer Adher',\n",
       " ' (2017) 11:23–31',\n",
       " 'doi: 10.2147/PPA.S118589 \\n PubMed Abstract  |  CrossRef Full Text  |  Google Scholar \\n \\n \\n  39',\n",
       " 'Boakye PA, Olechowski C, Rashiq S, Verrier MJ, Kerr B, Witmans M, et al',\n",
       " 'A critical review of neurobiological factors involved in the interactions between chronic pain, depression, and sleep disruption',\n",
       " ' Clin J Pain',\n",
       " ' (2016) 32:327–36',\n",
       " 'doi: 10.1097/AJP.0000000000000260 \\n PubMed Abstract  |  CrossRef Full Text  |  Google Scholar \\n \\n \\n  40',\n",
       " 'Hong HK, Maury E, Ramsey KM, Perelis M, Marcheva B, Omura C, et al',\n",
       " 'Requirement for NF-κB in maintenance of molecular and behavioral circadian rhythms in mice',\n",
       " ' Genes Dev ',\n",
       " '(2018) 32:1367–79',\n",
       " 'doi: 10.1101/gad.319228.118 \\n PubMed Abstract  |  CrossRef Full Text  |  Google Scholar \\n \\n \\n \\n \\n Keywords:  inflammatory bowel disease, arthritis, sleep disturbances, polysomnography, pittsburgh sleep quality scale (PSQI) \\n Citation:  Zhang Y, Pi B, Xu X, Li Y, Chen X, Yang N and Li X (2020) Sleep Characteristics and Influencing Factors of Sleep Quality in Patients With Inflammatory Bowel Disease-Peripheral Arthritis',\n",
       " ' Front',\n",
       " 'Med',\n",
       " ' 6:190',\n",
       " 'doi: 10.3389/fmed.2019.00190 \\n Received:  14 April 2019;  Accepted:  09 August 2019;   Published:  06 January 2020',\n",
       " '\\n Edited by:   Murat Toruner , Ankara University, Turkey \\n Reviewed by:   Giuseppe Losurdo , University of Bari Medical School, Italy   Chenyang Wang , Medical School, Nanjing University, China \\n Copyright  © 2020 Zhang, Pi, Xu, Li, Chen, Yang and Li',\n",
       " 'This is an open-access article distributed under the terms of the  Creative Commons Attribution License (CC BY) ',\n",
       " 'The use, distribution or reproduction in other forums is permitted, provided the original author(s) and the copyright owner(s) are credited and that the original publication in this journal is cited, in accordance with accepted academic practice',\n",
       " 'No use, distribution or reproduction is permitted which does not comply with these terms',\n",
       " '\\n *Correspondence:  Ningxi Yang,  yangningxi@bjmu.edu.cn \\n † These authors have contributed equally to this work \\n ‡ These authors share first authorship \\n \\n']"
      ]
     },
     "execution_count": 15,
     "metadata": {},
     "output_type": "execute_result"
    }
   ],
   "source": [
    "df[\"text\"][0].split(\". \")"
   ]
  },
  {
   "cell_type": "code",
   "execution_count": 53,
   "id": "c9c5b9dd",
   "metadata": {},
   "outputs": [],
   "source": [
    "import numpy as np\n",
    "def get_doc_embeddings_bert(text):\n",
    "    sentences = text.split(\". \")\n",
    "    embeddings = model.encode(sentences)\n",
    "    doc_embeddings_bert = np.mean(embeddings, axis=0)\n",
    "    return doc_embeddings_bert"
   ]
  },
  {
   "cell_type": "code",
   "execution_count": 55,
   "id": "c95fb672",
   "metadata": {},
   "outputs": [
    {
     "data": {
      "text/plain": [
       "array([-0.66781706,  0.24296108, -0.04957093, -0.17639278, -0.2589734 ,\n",
       "        0.07442345, -0.25876293, -0.14203766, -0.09850138, -0.00230448,\n",
       "        0.52635366, -0.13941966, -0.02832645,  0.13385026, -0.2838427 ,\n",
       "        0.12234153, -0.16152292, -0.00152437,  0.564619  ,  0.26419577,\n",
       "        0.02726902,  0.06813429,  0.2783701 , -0.09753691, -0.2787659 ,\n",
       "        0.05814543, -0.30563346, -0.07554113, -0.20844828, -0.44558436,\n",
       "        0.1832341 ,  0.26399025,  0.09474081,  0.41053587, -0.01212333,\n",
       "        0.02974139,  0.48768717, -0.04848086,  0.0845094 , -0.04187105,\n",
       "       -0.0273311 , -0.18245909,  0.18992195,  0.32025495,  0.16291533,\n",
       "       -0.30250868,  0.36970222,  0.02290853, -0.3123043 ,  0.2726394 ,\n",
       "        0.34825733,  0.05387367,  0.37505442, -0.16196667, -0.18153793,\n",
       "       -0.39513654, -0.43422344, -0.00259814, -0.19940825, -0.21230572,\n",
       "        0.18739343, -0.22030506, -0.21173397,  0.17880014, -0.4676171 ,\n",
       "        0.02103107,  0.09145419, -0.12812766,  0.20799133,  0.0574943 ,\n",
       "        0.04765177,  0.0563625 , -0.29793245,  0.0995265 ,  0.2847887 ,\n",
       "        0.10809518,  0.20707862, -0.02640768,  0.18758354,  0.578544  ,\n",
       "        0.01827688,  0.08022996, -0.11065465, -0.02889023,  0.15858117,\n",
       "        0.48603258,  0.04213917, -0.32827953,  0.09451102,  0.45654705,\n",
       "        0.18860835,  0.04012024,  0.13393009, -0.32373   ,  0.17056978,\n",
       "       -0.19542973, -0.12654406,  0.22916174,  0.26269633,  0.20012312,\n",
       "       -0.07689293, -0.0693466 , -0.29249355,  0.20664515, -0.44196644,\n",
       "        0.017027  , -0.06753061, -0.03424045,  0.3577048 ,  0.22502686,\n",
       "       -0.10038223,  0.38490775, -0.14301784, -0.00401394,  0.35897994,\n",
       "       -0.16771068, -0.25331143, -0.12378544,  0.1156861 , -0.07582098,\n",
       "        0.07320804,  0.44485688, -0.27771336, -0.34316695,  0.40959513,\n",
       "       -0.25405583,  0.11584235,  0.10452585, -0.03181671,  0.3408595 ,\n",
       "        0.43828988,  0.21841016,  0.045509  ,  0.09945842, -0.33228958,\n",
       "       -0.0273814 , -0.17814703,  0.07349055,  0.00526277,  0.06549142,\n",
       "        0.15563129,  0.09005592, -0.2279292 ,  0.54149586,  0.16476391,\n",
       "        0.15692124, -0.34867448,  0.4245477 ,  0.23312761,  0.37612304,\n",
       "       -0.11562618,  0.27621147,  0.18285815,  0.08912183,  0.08924174,\n",
       "       -0.65105605,  0.12854418,  0.31011003,  0.09603008,  0.38279364,\n",
       "       -0.02424863, -0.05447495,  0.01066263, -0.3492507 , -0.39804208,\n",
       "        0.080004  , -0.01999968,  0.08391594,  0.0666642 ,  0.36149228,\n",
       "        0.11063015,  0.0769858 ,  0.3643147 ,  0.27501184,  0.02424178,\n",
       "       -0.08133917, -0.17590101,  0.25325713, -0.07797117, -0.03629415,\n",
       "        0.46271688,  0.38201156, -0.1816193 , -0.17344028, -0.00815673,\n",
       "        0.2971674 , -0.07094278,  0.4231582 ,  0.14136589,  0.31994087,\n",
       "        0.17826954, -0.20518504, -0.05628859, -0.33466315,  0.3872249 ,\n",
       "        0.00970446, -0.20170228, -0.31153563,  0.31036896,  0.18545084,\n",
       "        0.22033948, -0.17882629,  0.15394744, -0.08586758, -0.20309876,\n",
       "       -0.09103148,  0.04671961, -0.10027809, -0.04850248, -0.39127907,\n",
       "        0.3492424 , -0.23319207, -0.12747507,  0.468047  ,  0.29828075,\n",
       "       -0.25176263, -0.1743713 , -0.25722203,  0.17461497, -0.3213981 ,\n",
       "       -0.2594037 , -0.32253397,  0.1614036 ,  0.32420322, -0.05785218,\n",
       "        0.00523817, -0.03921239, -0.10621342,  0.08660159,  0.30870682,\n",
       "        0.30173635,  0.34163693,  0.20829894,  0.00614603,  0.20284694,\n",
       "        0.1038468 , -0.12030257, -0.18331994,  0.4206676 ,  0.11237453,\n",
       "       -0.08145265, -0.44842342, -0.1586571 ,  0.0437432 ,  0.0925416 ,\n",
       "        0.02142746, -0.14219835, -0.3703744 , -0.0944861 , -0.02138286,\n",
       "        0.13044631,  0.5213244 ,  0.19876494, -0.12641245, -0.29324603,\n",
       "        0.01696329], dtype=float32)"
      ]
     },
     "execution_count": 55,
     "metadata": {},
     "output_type": "execute_result"
    }
   ],
   "source": [
    "text = df[\"text\"][0]\n",
    "get_doc_embeddings_bert(text)"
   ]
  },
  {
   "cell_type": "code",
   "execution_count": 58,
   "id": "273e9575",
   "metadata": {},
   "outputs": [
    {
     "ename": "KeyboardInterrupt",
     "evalue": "",
     "output_type": "error",
     "traceback": [
      "\u001b[0;31m---------------------------------------------------------------------------\u001b[0m",
      "\u001b[0;31mKeyboardInterrupt\u001b[0m                         Traceback (most recent call last)",
      "Input \u001b[0;32mIn [58]\u001b[0m, in \u001b[0;36m<cell line: 1>\u001b[0;34m()\u001b[0m\n\u001b[0;32m----> 1\u001b[0m df[\u001b[38;5;124m\"\u001b[39m\u001b[38;5;124membeddings_text_bert\u001b[39m\u001b[38;5;124m\"\u001b[39m] \u001b[38;5;241m=\u001b[39m \u001b[43mdf\u001b[49m\u001b[43m[\u001b[49m\u001b[38;5;124;43m\"\u001b[39;49m\u001b[38;5;124;43mtext\u001b[39;49m\u001b[38;5;124;43m\"\u001b[39;49m\u001b[43m]\u001b[49m\u001b[38;5;241;43m.\u001b[39;49m\u001b[43mapply\u001b[49m\u001b[43m(\u001b[49m\u001b[43mget_doc_embeddings_bert\u001b[49m\u001b[43m)\u001b[49m\n",
      "File \u001b[0;32m~/miniconda3/envs/frontiers/lib/python3.8/site-packages/pandas/core/series.py:4433\u001b[0m, in \u001b[0;36mSeries.apply\u001b[0;34m(self, func, convert_dtype, args, **kwargs)\u001b[0m\n\u001b[1;32m   4323\u001b[0m \u001b[38;5;28;01mdef\u001b[39;00m \u001b[38;5;21mapply\u001b[39m(\n\u001b[1;32m   4324\u001b[0m     \u001b[38;5;28mself\u001b[39m,\n\u001b[1;32m   4325\u001b[0m     func: AggFuncType,\n\u001b[0;32m   (...)\u001b[0m\n\u001b[1;32m   4328\u001b[0m     \u001b[38;5;241m*\u001b[39m\u001b[38;5;241m*\u001b[39mkwargs,\n\u001b[1;32m   4329\u001b[0m ) \u001b[38;5;241m-\u001b[39m\u001b[38;5;241m>\u001b[39m DataFrame \u001b[38;5;241m|\u001b[39m Series:\n\u001b[1;32m   4330\u001b[0m     \u001b[38;5;124;03m\"\"\"\u001b[39;00m\n\u001b[1;32m   4331\u001b[0m \u001b[38;5;124;03m    Invoke function on values of Series.\u001b[39;00m\n\u001b[1;32m   4332\u001b[0m \n\u001b[0;32m   (...)\u001b[0m\n\u001b[1;32m   4431\u001b[0m \u001b[38;5;124;03m    dtype: float64\u001b[39;00m\n\u001b[1;32m   4432\u001b[0m \u001b[38;5;124;03m    \"\"\"\u001b[39;00m\n\u001b[0;32m-> 4433\u001b[0m     \u001b[38;5;28;01mreturn\u001b[39;00m \u001b[43mSeriesApply\u001b[49m\u001b[43m(\u001b[49m\u001b[38;5;28;43mself\u001b[39;49m\u001b[43m,\u001b[49m\u001b[43m \u001b[49m\u001b[43mfunc\u001b[49m\u001b[43m,\u001b[49m\u001b[43m \u001b[49m\u001b[43mconvert_dtype\u001b[49m\u001b[43m,\u001b[49m\u001b[43m \u001b[49m\u001b[43margs\u001b[49m\u001b[43m,\u001b[49m\u001b[43m \u001b[49m\u001b[43mkwargs\u001b[49m\u001b[43m)\u001b[49m\u001b[38;5;241;43m.\u001b[39;49m\u001b[43mapply\u001b[49m\u001b[43m(\u001b[49m\u001b[43m)\u001b[49m\n",
      "File \u001b[0;32m~/miniconda3/envs/frontiers/lib/python3.8/site-packages/pandas/core/apply.py:1082\u001b[0m, in \u001b[0;36mSeriesApply.apply\u001b[0;34m(self)\u001b[0m\n\u001b[1;32m   1078\u001b[0m \u001b[38;5;28;01mif\u001b[39;00m \u001b[38;5;28misinstance\u001b[39m(\u001b[38;5;28mself\u001b[39m\u001b[38;5;241m.\u001b[39mf, \u001b[38;5;28mstr\u001b[39m):\n\u001b[1;32m   1079\u001b[0m     \u001b[38;5;66;03m# if we are a string, try to dispatch\u001b[39;00m\n\u001b[1;32m   1080\u001b[0m     \u001b[38;5;28;01mreturn\u001b[39;00m \u001b[38;5;28mself\u001b[39m\u001b[38;5;241m.\u001b[39mapply_str()\n\u001b[0;32m-> 1082\u001b[0m \u001b[38;5;28;01mreturn\u001b[39;00m \u001b[38;5;28;43mself\u001b[39;49m\u001b[38;5;241;43m.\u001b[39;49m\u001b[43mapply_standard\u001b[49m\u001b[43m(\u001b[49m\u001b[43m)\u001b[49m\n",
      "File \u001b[0;32m~/miniconda3/envs/frontiers/lib/python3.8/site-packages/pandas/core/apply.py:1137\u001b[0m, in \u001b[0;36mSeriesApply.apply_standard\u001b[0;34m(self)\u001b[0m\n\u001b[1;32m   1131\u001b[0m         values \u001b[38;5;241m=\u001b[39m obj\u001b[38;5;241m.\u001b[39mastype(\u001b[38;5;28mobject\u001b[39m)\u001b[38;5;241m.\u001b[39m_values\n\u001b[1;32m   1132\u001b[0m         \u001b[38;5;66;03m# error: Argument 2 to \"map_infer\" has incompatible type\u001b[39;00m\n\u001b[1;32m   1133\u001b[0m         \u001b[38;5;66;03m# \"Union[Callable[..., Any], str, List[Union[Callable[..., Any], str]],\u001b[39;00m\n\u001b[1;32m   1134\u001b[0m         \u001b[38;5;66;03m# Dict[Hashable, Union[Union[Callable[..., Any], str],\u001b[39;00m\n\u001b[1;32m   1135\u001b[0m         \u001b[38;5;66;03m# List[Union[Callable[..., Any], str]]]]]\"; expected\u001b[39;00m\n\u001b[1;32m   1136\u001b[0m         \u001b[38;5;66;03m# \"Callable[[Any], Any]\"\u001b[39;00m\n\u001b[0;32m-> 1137\u001b[0m         mapped \u001b[38;5;241m=\u001b[39m \u001b[43mlib\u001b[49m\u001b[38;5;241;43m.\u001b[39;49m\u001b[43mmap_infer\u001b[49m\u001b[43m(\u001b[49m\n\u001b[1;32m   1138\u001b[0m \u001b[43m            \u001b[49m\u001b[43mvalues\u001b[49m\u001b[43m,\u001b[49m\n\u001b[1;32m   1139\u001b[0m \u001b[43m            \u001b[49m\u001b[43mf\u001b[49m\u001b[43m,\u001b[49m\u001b[43m  \u001b[49m\u001b[38;5;66;43;03m# type: ignore[arg-type]\u001b[39;49;00m\n\u001b[1;32m   1140\u001b[0m \u001b[43m            \u001b[49m\u001b[43mconvert\u001b[49m\u001b[38;5;241;43m=\u001b[39;49m\u001b[38;5;28;43mself\u001b[39;49m\u001b[38;5;241;43m.\u001b[39;49m\u001b[43mconvert_dtype\u001b[49m\u001b[43m,\u001b[49m\n\u001b[1;32m   1141\u001b[0m \u001b[43m        \u001b[49m\u001b[43m)\u001b[49m\n\u001b[1;32m   1143\u001b[0m \u001b[38;5;28;01mif\u001b[39;00m \u001b[38;5;28mlen\u001b[39m(mapped) \u001b[38;5;129;01mand\u001b[39;00m \u001b[38;5;28misinstance\u001b[39m(mapped[\u001b[38;5;241m0\u001b[39m], ABCSeries):\n\u001b[1;32m   1144\u001b[0m     \u001b[38;5;66;03m# GH#43986 Need to do list(mapped) in order to get treated as nested\u001b[39;00m\n\u001b[1;32m   1145\u001b[0m     \u001b[38;5;66;03m#  See also GH#25959 regarding EA support\u001b[39;00m\n\u001b[1;32m   1146\u001b[0m     \u001b[38;5;28;01mreturn\u001b[39;00m obj\u001b[38;5;241m.\u001b[39m_constructor_expanddim(\u001b[38;5;28mlist\u001b[39m(mapped), index\u001b[38;5;241m=\u001b[39mobj\u001b[38;5;241m.\u001b[39mindex)\n",
      "File \u001b[0;32m~/miniconda3/envs/frontiers/lib/python3.8/site-packages/pandas/_libs/lib.pyx:2870\u001b[0m, in \u001b[0;36mpandas._libs.lib.map_infer\u001b[0;34m()\u001b[0m\n",
      "Input \u001b[0;32mIn [53]\u001b[0m, in \u001b[0;36mget_doc_embeddings_bert\u001b[0;34m(text)\u001b[0m\n\u001b[1;32m      2\u001b[0m \u001b[38;5;28;01mdef\u001b[39;00m \u001b[38;5;21mget_doc_embeddings_bert\u001b[39m(text):\n\u001b[1;32m      3\u001b[0m     sentences \u001b[38;5;241m=\u001b[39m text\u001b[38;5;241m.\u001b[39msplit(\u001b[38;5;124m\"\u001b[39m\u001b[38;5;124m. \u001b[39m\u001b[38;5;124m\"\u001b[39m)\n\u001b[0;32m----> 4\u001b[0m     embeddings \u001b[38;5;241m=\u001b[39m \u001b[43mmodel\u001b[49m\u001b[38;5;241;43m.\u001b[39;49m\u001b[43mencode\u001b[49m\u001b[43m(\u001b[49m\u001b[43msentences\u001b[49m\u001b[43m)\u001b[49m\n\u001b[1;32m      5\u001b[0m     doc_embeddings_bert \u001b[38;5;241m=\u001b[39m np\u001b[38;5;241m.\u001b[39mmean(embeddings, axis\u001b[38;5;241m=\u001b[39m\u001b[38;5;241m0\u001b[39m)\n\u001b[1;32m      6\u001b[0m     \u001b[38;5;28;01mreturn\u001b[39;00m doc_embeddings_bert\n",
      "File \u001b[0;32m~/miniconda3/envs/frontiers/lib/python3.8/site-packages/sentence_transformers/SentenceTransformer.py:164\u001b[0m, in \u001b[0;36mSentenceTransformer.encode\u001b[0;34m(self, sentences, batch_size, show_progress_bar, output_value, convert_to_numpy, convert_to_tensor, device, normalize_embeddings)\u001b[0m\n\u001b[1;32m    161\u001b[0m features \u001b[38;5;241m=\u001b[39m batch_to_device(features, device)\n\u001b[1;32m    163\u001b[0m \u001b[38;5;28;01mwith\u001b[39;00m torch\u001b[38;5;241m.\u001b[39mno_grad():\n\u001b[0;32m--> 164\u001b[0m     out_features \u001b[38;5;241m=\u001b[39m \u001b[38;5;28;43mself\u001b[39;49m\u001b[38;5;241;43m.\u001b[39;49m\u001b[43mforward\u001b[49m\u001b[43m(\u001b[49m\u001b[43mfeatures\u001b[49m\u001b[43m)\u001b[49m\n\u001b[1;32m    166\u001b[0m     \u001b[38;5;28;01mif\u001b[39;00m output_value \u001b[38;5;241m==\u001b[39m \u001b[38;5;124m'\u001b[39m\u001b[38;5;124mtoken_embeddings\u001b[39m\u001b[38;5;124m'\u001b[39m:\n\u001b[1;32m    167\u001b[0m         embeddings \u001b[38;5;241m=\u001b[39m []\n",
      "File \u001b[0;32m~/miniconda3/envs/frontiers/lib/python3.8/site-packages/torch/nn/modules/container.py:141\u001b[0m, in \u001b[0;36mSequential.forward\u001b[0;34m(self, input)\u001b[0m\n\u001b[1;32m    139\u001b[0m \u001b[38;5;28;01mdef\u001b[39;00m \u001b[38;5;21mforward\u001b[39m(\u001b[38;5;28mself\u001b[39m, \u001b[38;5;28minput\u001b[39m):\n\u001b[1;32m    140\u001b[0m     \u001b[38;5;28;01mfor\u001b[39;00m module \u001b[38;5;129;01min\u001b[39;00m \u001b[38;5;28mself\u001b[39m:\n\u001b[0;32m--> 141\u001b[0m         \u001b[38;5;28minput\u001b[39m \u001b[38;5;241m=\u001b[39m \u001b[43mmodule\u001b[49m\u001b[43m(\u001b[49m\u001b[38;5;28;43minput\u001b[39;49m\u001b[43m)\u001b[49m\n\u001b[1;32m    142\u001b[0m     \u001b[38;5;28;01mreturn\u001b[39;00m \u001b[38;5;28minput\u001b[39m\n",
      "File \u001b[0;32m~/miniconda3/envs/frontiers/lib/python3.8/site-packages/torch/nn/modules/module.py:1110\u001b[0m, in \u001b[0;36mModule._call_impl\u001b[0;34m(self, *input, **kwargs)\u001b[0m\n\u001b[1;32m   1106\u001b[0m \u001b[38;5;66;03m# If we don't have any hooks, we want to skip the rest of the logic in\u001b[39;00m\n\u001b[1;32m   1107\u001b[0m \u001b[38;5;66;03m# this function, and just call forward.\u001b[39;00m\n\u001b[1;32m   1108\u001b[0m \u001b[38;5;28;01mif\u001b[39;00m \u001b[38;5;129;01mnot\u001b[39;00m (\u001b[38;5;28mself\u001b[39m\u001b[38;5;241m.\u001b[39m_backward_hooks \u001b[38;5;129;01mor\u001b[39;00m \u001b[38;5;28mself\u001b[39m\u001b[38;5;241m.\u001b[39m_forward_hooks \u001b[38;5;129;01mor\u001b[39;00m \u001b[38;5;28mself\u001b[39m\u001b[38;5;241m.\u001b[39m_forward_pre_hooks \u001b[38;5;129;01mor\u001b[39;00m _global_backward_hooks\n\u001b[1;32m   1109\u001b[0m         \u001b[38;5;129;01mor\u001b[39;00m _global_forward_hooks \u001b[38;5;129;01mor\u001b[39;00m _global_forward_pre_hooks):\n\u001b[0;32m-> 1110\u001b[0m     \u001b[38;5;28;01mreturn\u001b[39;00m \u001b[43mforward_call\u001b[49m\u001b[43m(\u001b[49m\u001b[38;5;241;43m*\u001b[39;49m\u001b[38;5;28;43minput\u001b[39;49m\u001b[43m,\u001b[49m\u001b[43m \u001b[49m\u001b[38;5;241;43m*\u001b[39;49m\u001b[38;5;241;43m*\u001b[39;49m\u001b[43mkwargs\u001b[49m\u001b[43m)\u001b[49m\n\u001b[1;32m   1111\u001b[0m \u001b[38;5;66;03m# Do not call functions when jit is used\u001b[39;00m\n\u001b[1;32m   1112\u001b[0m full_backward_hooks, non_full_backward_hooks \u001b[38;5;241m=\u001b[39m [], []\n",
      "File \u001b[0;32m~/miniconda3/envs/frontiers/lib/python3.8/site-packages/sentence_transformers/models/Transformer.py:66\u001b[0m, in \u001b[0;36mTransformer.forward\u001b[0;34m(self, features)\u001b[0m\n\u001b[1;32m     63\u001b[0m \u001b[38;5;28;01mif\u001b[39;00m \u001b[38;5;124m'\u001b[39m\u001b[38;5;124mtoken_type_ids\u001b[39m\u001b[38;5;124m'\u001b[39m \u001b[38;5;129;01min\u001b[39;00m features:\n\u001b[1;32m     64\u001b[0m     trans_features[\u001b[38;5;124m'\u001b[39m\u001b[38;5;124mtoken_type_ids\u001b[39m\u001b[38;5;124m'\u001b[39m] \u001b[38;5;241m=\u001b[39m features[\u001b[38;5;124m'\u001b[39m\u001b[38;5;124mtoken_type_ids\u001b[39m\u001b[38;5;124m'\u001b[39m]\n\u001b[0;32m---> 66\u001b[0m output_states \u001b[38;5;241m=\u001b[39m \u001b[38;5;28;43mself\u001b[39;49m\u001b[38;5;241;43m.\u001b[39;49m\u001b[43mauto_model\u001b[49m\u001b[43m(\u001b[49m\u001b[38;5;241;43m*\u001b[39;49m\u001b[38;5;241;43m*\u001b[39;49m\u001b[43mtrans_features\u001b[49m\u001b[43m,\u001b[49m\u001b[43m \u001b[49m\u001b[43mreturn_dict\u001b[49m\u001b[38;5;241;43m=\u001b[39;49m\u001b[38;5;28;43;01mFalse\u001b[39;49;00m\u001b[43m)\u001b[49m\n\u001b[1;32m     67\u001b[0m output_tokens \u001b[38;5;241m=\u001b[39m output_states[\u001b[38;5;241m0\u001b[39m]\n\u001b[1;32m     69\u001b[0m features\u001b[38;5;241m.\u001b[39mupdate({\u001b[38;5;124m'\u001b[39m\u001b[38;5;124mtoken_embeddings\u001b[39m\u001b[38;5;124m'\u001b[39m: output_tokens, \u001b[38;5;124m'\u001b[39m\u001b[38;5;124mattention_mask\u001b[39m\u001b[38;5;124m'\u001b[39m: features[\u001b[38;5;124m'\u001b[39m\u001b[38;5;124mattention_mask\u001b[39m\u001b[38;5;124m'\u001b[39m]})\n",
      "File \u001b[0;32m~/miniconda3/envs/frontiers/lib/python3.8/site-packages/torch/nn/modules/module.py:1110\u001b[0m, in \u001b[0;36mModule._call_impl\u001b[0;34m(self, *input, **kwargs)\u001b[0m\n\u001b[1;32m   1106\u001b[0m \u001b[38;5;66;03m# If we don't have any hooks, we want to skip the rest of the logic in\u001b[39;00m\n\u001b[1;32m   1107\u001b[0m \u001b[38;5;66;03m# this function, and just call forward.\u001b[39;00m\n\u001b[1;32m   1108\u001b[0m \u001b[38;5;28;01mif\u001b[39;00m \u001b[38;5;129;01mnot\u001b[39;00m (\u001b[38;5;28mself\u001b[39m\u001b[38;5;241m.\u001b[39m_backward_hooks \u001b[38;5;129;01mor\u001b[39;00m \u001b[38;5;28mself\u001b[39m\u001b[38;5;241m.\u001b[39m_forward_hooks \u001b[38;5;129;01mor\u001b[39;00m \u001b[38;5;28mself\u001b[39m\u001b[38;5;241m.\u001b[39m_forward_pre_hooks \u001b[38;5;129;01mor\u001b[39;00m _global_backward_hooks\n\u001b[1;32m   1109\u001b[0m         \u001b[38;5;129;01mor\u001b[39;00m _global_forward_hooks \u001b[38;5;129;01mor\u001b[39;00m _global_forward_pre_hooks):\n\u001b[0;32m-> 1110\u001b[0m     \u001b[38;5;28;01mreturn\u001b[39;00m \u001b[43mforward_call\u001b[49m\u001b[43m(\u001b[49m\u001b[38;5;241;43m*\u001b[39;49m\u001b[38;5;28;43minput\u001b[39;49m\u001b[43m,\u001b[49m\u001b[43m \u001b[49m\u001b[38;5;241;43m*\u001b[39;49m\u001b[38;5;241;43m*\u001b[39;49m\u001b[43mkwargs\u001b[49m\u001b[43m)\u001b[49m\n\u001b[1;32m   1111\u001b[0m \u001b[38;5;66;03m# Do not call functions when jit is used\u001b[39;00m\n\u001b[1;32m   1112\u001b[0m full_backward_hooks, non_full_backward_hooks \u001b[38;5;241m=\u001b[39m [], []\n",
      "File \u001b[0;32m~/miniconda3/envs/frontiers/lib/python3.8/site-packages/transformers/models/bert/modeling_bert.py:996\u001b[0m, in \u001b[0;36mBertModel.forward\u001b[0;34m(self, input_ids, attention_mask, token_type_ids, position_ids, head_mask, inputs_embeds, encoder_hidden_states, encoder_attention_mask, past_key_values, use_cache, output_attentions, output_hidden_states, return_dict)\u001b[0m\n\u001b[1;32m    987\u001b[0m head_mask \u001b[38;5;241m=\u001b[39m \u001b[38;5;28mself\u001b[39m\u001b[38;5;241m.\u001b[39mget_head_mask(head_mask, \u001b[38;5;28mself\u001b[39m\u001b[38;5;241m.\u001b[39mconfig\u001b[38;5;241m.\u001b[39mnum_hidden_layers)\n\u001b[1;32m    989\u001b[0m embedding_output \u001b[38;5;241m=\u001b[39m \u001b[38;5;28mself\u001b[39m\u001b[38;5;241m.\u001b[39membeddings(\n\u001b[1;32m    990\u001b[0m     input_ids\u001b[38;5;241m=\u001b[39minput_ids,\n\u001b[1;32m    991\u001b[0m     position_ids\u001b[38;5;241m=\u001b[39mposition_ids,\n\u001b[0;32m   (...)\u001b[0m\n\u001b[1;32m    994\u001b[0m     past_key_values_length\u001b[38;5;241m=\u001b[39mpast_key_values_length,\n\u001b[1;32m    995\u001b[0m )\n\u001b[0;32m--> 996\u001b[0m encoder_outputs \u001b[38;5;241m=\u001b[39m \u001b[38;5;28;43mself\u001b[39;49m\u001b[38;5;241;43m.\u001b[39;49m\u001b[43mencoder\u001b[49m\u001b[43m(\u001b[49m\n\u001b[1;32m    997\u001b[0m \u001b[43m    \u001b[49m\u001b[43membedding_output\u001b[49m\u001b[43m,\u001b[49m\n\u001b[1;32m    998\u001b[0m \u001b[43m    \u001b[49m\u001b[43mattention_mask\u001b[49m\u001b[38;5;241;43m=\u001b[39;49m\u001b[43mextended_attention_mask\u001b[49m\u001b[43m,\u001b[49m\n\u001b[1;32m    999\u001b[0m \u001b[43m    \u001b[49m\u001b[43mhead_mask\u001b[49m\u001b[38;5;241;43m=\u001b[39;49m\u001b[43mhead_mask\u001b[49m\u001b[43m,\u001b[49m\n\u001b[1;32m   1000\u001b[0m \u001b[43m    \u001b[49m\u001b[43mencoder_hidden_states\u001b[49m\u001b[38;5;241;43m=\u001b[39;49m\u001b[43mencoder_hidden_states\u001b[49m\u001b[43m,\u001b[49m\n\u001b[1;32m   1001\u001b[0m \u001b[43m    \u001b[49m\u001b[43mencoder_attention_mask\u001b[49m\u001b[38;5;241;43m=\u001b[39;49m\u001b[43mencoder_extended_attention_mask\u001b[49m\u001b[43m,\u001b[49m\n\u001b[1;32m   1002\u001b[0m \u001b[43m    \u001b[49m\u001b[43mpast_key_values\u001b[49m\u001b[38;5;241;43m=\u001b[39;49m\u001b[43mpast_key_values\u001b[49m\u001b[43m,\u001b[49m\n\u001b[1;32m   1003\u001b[0m \u001b[43m    \u001b[49m\u001b[43muse_cache\u001b[49m\u001b[38;5;241;43m=\u001b[39;49m\u001b[43muse_cache\u001b[49m\u001b[43m,\u001b[49m\n\u001b[1;32m   1004\u001b[0m \u001b[43m    \u001b[49m\u001b[43moutput_attentions\u001b[49m\u001b[38;5;241;43m=\u001b[39;49m\u001b[43moutput_attentions\u001b[49m\u001b[43m,\u001b[49m\n\u001b[1;32m   1005\u001b[0m \u001b[43m    \u001b[49m\u001b[43moutput_hidden_states\u001b[49m\u001b[38;5;241;43m=\u001b[39;49m\u001b[43moutput_hidden_states\u001b[49m\u001b[43m,\u001b[49m\n\u001b[1;32m   1006\u001b[0m \u001b[43m    \u001b[49m\u001b[43mreturn_dict\u001b[49m\u001b[38;5;241;43m=\u001b[39;49m\u001b[43mreturn_dict\u001b[49m\u001b[43m,\u001b[49m\n\u001b[1;32m   1007\u001b[0m \u001b[43m\u001b[49m\u001b[43m)\u001b[49m\n\u001b[1;32m   1008\u001b[0m sequence_output \u001b[38;5;241m=\u001b[39m encoder_outputs[\u001b[38;5;241m0\u001b[39m]\n\u001b[1;32m   1009\u001b[0m pooled_output \u001b[38;5;241m=\u001b[39m \u001b[38;5;28mself\u001b[39m\u001b[38;5;241m.\u001b[39mpooler(sequence_output) \u001b[38;5;28;01mif\u001b[39;00m \u001b[38;5;28mself\u001b[39m\u001b[38;5;241m.\u001b[39mpooler \u001b[38;5;129;01mis\u001b[39;00m \u001b[38;5;129;01mnot\u001b[39;00m \u001b[38;5;28;01mNone\u001b[39;00m \u001b[38;5;28;01melse\u001b[39;00m \u001b[38;5;28;01mNone\u001b[39;00m\n",
      "File \u001b[0;32m~/miniconda3/envs/frontiers/lib/python3.8/site-packages/torch/nn/modules/module.py:1110\u001b[0m, in \u001b[0;36mModule._call_impl\u001b[0;34m(self, *input, **kwargs)\u001b[0m\n\u001b[1;32m   1106\u001b[0m \u001b[38;5;66;03m# If we don't have any hooks, we want to skip the rest of the logic in\u001b[39;00m\n\u001b[1;32m   1107\u001b[0m \u001b[38;5;66;03m# this function, and just call forward.\u001b[39;00m\n\u001b[1;32m   1108\u001b[0m \u001b[38;5;28;01mif\u001b[39;00m \u001b[38;5;129;01mnot\u001b[39;00m (\u001b[38;5;28mself\u001b[39m\u001b[38;5;241m.\u001b[39m_backward_hooks \u001b[38;5;129;01mor\u001b[39;00m \u001b[38;5;28mself\u001b[39m\u001b[38;5;241m.\u001b[39m_forward_hooks \u001b[38;5;129;01mor\u001b[39;00m \u001b[38;5;28mself\u001b[39m\u001b[38;5;241m.\u001b[39m_forward_pre_hooks \u001b[38;5;129;01mor\u001b[39;00m _global_backward_hooks\n\u001b[1;32m   1109\u001b[0m         \u001b[38;5;129;01mor\u001b[39;00m _global_forward_hooks \u001b[38;5;129;01mor\u001b[39;00m _global_forward_pre_hooks):\n\u001b[0;32m-> 1110\u001b[0m     \u001b[38;5;28;01mreturn\u001b[39;00m \u001b[43mforward_call\u001b[49m\u001b[43m(\u001b[49m\u001b[38;5;241;43m*\u001b[39;49m\u001b[38;5;28;43minput\u001b[39;49m\u001b[43m,\u001b[49m\u001b[43m \u001b[49m\u001b[38;5;241;43m*\u001b[39;49m\u001b[38;5;241;43m*\u001b[39;49m\u001b[43mkwargs\u001b[49m\u001b[43m)\u001b[49m\n\u001b[1;32m   1111\u001b[0m \u001b[38;5;66;03m# Do not call functions when jit is used\u001b[39;00m\n\u001b[1;32m   1112\u001b[0m full_backward_hooks, non_full_backward_hooks \u001b[38;5;241m=\u001b[39m [], []\n",
      "File \u001b[0;32m~/miniconda3/envs/frontiers/lib/python3.8/site-packages/transformers/models/bert/modeling_bert.py:585\u001b[0m, in \u001b[0;36mBertEncoder.forward\u001b[0;34m(self, hidden_states, attention_mask, head_mask, encoder_hidden_states, encoder_attention_mask, past_key_values, use_cache, output_attentions, output_hidden_states, return_dict)\u001b[0m\n\u001b[1;32m    576\u001b[0m     layer_outputs \u001b[38;5;241m=\u001b[39m torch\u001b[38;5;241m.\u001b[39mutils\u001b[38;5;241m.\u001b[39mcheckpoint\u001b[38;5;241m.\u001b[39mcheckpoint(\n\u001b[1;32m    577\u001b[0m         create_custom_forward(layer_module),\n\u001b[1;32m    578\u001b[0m         hidden_states,\n\u001b[0;32m   (...)\u001b[0m\n\u001b[1;32m    582\u001b[0m         encoder_attention_mask,\n\u001b[1;32m    583\u001b[0m     )\n\u001b[1;32m    584\u001b[0m \u001b[38;5;28;01melse\u001b[39;00m:\n\u001b[0;32m--> 585\u001b[0m     layer_outputs \u001b[38;5;241m=\u001b[39m \u001b[43mlayer_module\u001b[49m\u001b[43m(\u001b[49m\n\u001b[1;32m    586\u001b[0m \u001b[43m        \u001b[49m\u001b[43mhidden_states\u001b[49m\u001b[43m,\u001b[49m\n\u001b[1;32m    587\u001b[0m \u001b[43m        \u001b[49m\u001b[43mattention_mask\u001b[49m\u001b[43m,\u001b[49m\n\u001b[1;32m    588\u001b[0m \u001b[43m        \u001b[49m\u001b[43mlayer_head_mask\u001b[49m\u001b[43m,\u001b[49m\n\u001b[1;32m    589\u001b[0m \u001b[43m        \u001b[49m\u001b[43mencoder_hidden_states\u001b[49m\u001b[43m,\u001b[49m\n\u001b[1;32m    590\u001b[0m \u001b[43m        \u001b[49m\u001b[43mencoder_attention_mask\u001b[49m\u001b[43m,\u001b[49m\n\u001b[1;32m    591\u001b[0m \u001b[43m        \u001b[49m\u001b[43mpast_key_value\u001b[49m\u001b[43m,\u001b[49m\n\u001b[1;32m    592\u001b[0m \u001b[43m        \u001b[49m\u001b[43moutput_attentions\u001b[49m\u001b[43m,\u001b[49m\n\u001b[1;32m    593\u001b[0m \u001b[43m    \u001b[49m\u001b[43m)\u001b[49m\n\u001b[1;32m    595\u001b[0m hidden_states \u001b[38;5;241m=\u001b[39m layer_outputs[\u001b[38;5;241m0\u001b[39m]\n\u001b[1;32m    596\u001b[0m \u001b[38;5;28;01mif\u001b[39;00m use_cache:\n",
      "File \u001b[0;32m~/miniconda3/envs/frontiers/lib/python3.8/site-packages/torch/nn/modules/module.py:1110\u001b[0m, in \u001b[0;36mModule._call_impl\u001b[0;34m(self, *input, **kwargs)\u001b[0m\n\u001b[1;32m   1106\u001b[0m \u001b[38;5;66;03m# If we don't have any hooks, we want to skip the rest of the logic in\u001b[39;00m\n\u001b[1;32m   1107\u001b[0m \u001b[38;5;66;03m# this function, and just call forward.\u001b[39;00m\n\u001b[1;32m   1108\u001b[0m \u001b[38;5;28;01mif\u001b[39;00m \u001b[38;5;129;01mnot\u001b[39;00m (\u001b[38;5;28mself\u001b[39m\u001b[38;5;241m.\u001b[39m_backward_hooks \u001b[38;5;129;01mor\u001b[39;00m \u001b[38;5;28mself\u001b[39m\u001b[38;5;241m.\u001b[39m_forward_hooks \u001b[38;5;129;01mor\u001b[39;00m \u001b[38;5;28mself\u001b[39m\u001b[38;5;241m.\u001b[39m_forward_pre_hooks \u001b[38;5;129;01mor\u001b[39;00m _global_backward_hooks\n\u001b[1;32m   1109\u001b[0m         \u001b[38;5;129;01mor\u001b[39;00m _global_forward_hooks \u001b[38;5;129;01mor\u001b[39;00m _global_forward_pre_hooks):\n\u001b[0;32m-> 1110\u001b[0m     \u001b[38;5;28;01mreturn\u001b[39;00m \u001b[43mforward_call\u001b[49m\u001b[43m(\u001b[49m\u001b[38;5;241;43m*\u001b[39;49m\u001b[38;5;28;43minput\u001b[39;49m\u001b[43m,\u001b[49m\u001b[43m \u001b[49m\u001b[38;5;241;43m*\u001b[39;49m\u001b[38;5;241;43m*\u001b[39;49m\u001b[43mkwargs\u001b[49m\u001b[43m)\u001b[49m\n\u001b[1;32m   1111\u001b[0m \u001b[38;5;66;03m# Do not call functions when jit is used\u001b[39;00m\n\u001b[1;32m   1112\u001b[0m full_backward_hooks, non_full_backward_hooks \u001b[38;5;241m=\u001b[39m [], []\n",
      "File \u001b[0;32m~/miniconda3/envs/frontiers/lib/python3.8/site-packages/transformers/models/bert/modeling_bert.py:472\u001b[0m, in \u001b[0;36mBertLayer.forward\u001b[0;34m(self, hidden_states, attention_mask, head_mask, encoder_hidden_states, encoder_attention_mask, past_key_value, output_attentions)\u001b[0m\n\u001b[1;32m    460\u001b[0m \u001b[38;5;28;01mdef\u001b[39;00m \u001b[38;5;21mforward\u001b[39m(\n\u001b[1;32m    461\u001b[0m     \u001b[38;5;28mself\u001b[39m,\n\u001b[1;32m    462\u001b[0m     hidden_states: torch\u001b[38;5;241m.\u001b[39mTensor,\n\u001b[0;32m   (...)\u001b[0m\n\u001b[1;32m    469\u001b[0m ) \u001b[38;5;241m-\u001b[39m\u001b[38;5;241m>\u001b[39m Tuple[torch\u001b[38;5;241m.\u001b[39mTensor]:\n\u001b[1;32m    470\u001b[0m     \u001b[38;5;66;03m# decoder uni-directional self-attention cached key/values tuple is at positions 1,2\u001b[39;00m\n\u001b[1;32m    471\u001b[0m     self_attn_past_key_value \u001b[38;5;241m=\u001b[39m past_key_value[:\u001b[38;5;241m2\u001b[39m] \u001b[38;5;28;01mif\u001b[39;00m past_key_value \u001b[38;5;129;01mis\u001b[39;00m \u001b[38;5;129;01mnot\u001b[39;00m \u001b[38;5;28;01mNone\u001b[39;00m \u001b[38;5;28;01melse\u001b[39;00m \u001b[38;5;28;01mNone\u001b[39;00m\n\u001b[0;32m--> 472\u001b[0m     self_attention_outputs \u001b[38;5;241m=\u001b[39m \u001b[38;5;28;43mself\u001b[39;49m\u001b[38;5;241;43m.\u001b[39;49m\u001b[43mattention\u001b[49m\u001b[43m(\u001b[49m\n\u001b[1;32m    473\u001b[0m \u001b[43m        \u001b[49m\u001b[43mhidden_states\u001b[49m\u001b[43m,\u001b[49m\n\u001b[1;32m    474\u001b[0m \u001b[43m        \u001b[49m\u001b[43mattention_mask\u001b[49m\u001b[43m,\u001b[49m\n\u001b[1;32m    475\u001b[0m \u001b[43m        \u001b[49m\u001b[43mhead_mask\u001b[49m\u001b[43m,\u001b[49m\n\u001b[1;32m    476\u001b[0m \u001b[43m        \u001b[49m\u001b[43moutput_attentions\u001b[49m\u001b[38;5;241;43m=\u001b[39;49m\u001b[43moutput_attentions\u001b[49m\u001b[43m,\u001b[49m\n\u001b[1;32m    477\u001b[0m \u001b[43m        \u001b[49m\u001b[43mpast_key_value\u001b[49m\u001b[38;5;241;43m=\u001b[39;49m\u001b[43mself_attn_past_key_value\u001b[49m\u001b[43m,\u001b[49m\n\u001b[1;32m    478\u001b[0m \u001b[43m    \u001b[49m\u001b[43m)\u001b[49m\n\u001b[1;32m    479\u001b[0m     attention_output \u001b[38;5;241m=\u001b[39m self_attention_outputs[\u001b[38;5;241m0\u001b[39m]\n\u001b[1;32m    481\u001b[0m     \u001b[38;5;66;03m# if decoder, the last output is tuple of self-attn cache\u001b[39;00m\n",
      "File \u001b[0;32m~/miniconda3/envs/frontiers/lib/python3.8/site-packages/torch/nn/modules/module.py:1110\u001b[0m, in \u001b[0;36mModule._call_impl\u001b[0;34m(self, *input, **kwargs)\u001b[0m\n\u001b[1;32m   1106\u001b[0m \u001b[38;5;66;03m# If we don't have any hooks, we want to skip the rest of the logic in\u001b[39;00m\n\u001b[1;32m   1107\u001b[0m \u001b[38;5;66;03m# this function, and just call forward.\u001b[39;00m\n\u001b[1;32m   1108\u001b[0m \u001b[38;5;28;01mif\u001b[39;00m \u001b[38;5;129;01mnot\u001b[39;00m (\u001b[38;5;28mself\u001b[39m\u001b[38;5;241m.\u001b[39m_backward_hooks \u001b[38;5;129;01mor\u001b[39;00m \u001b[38;5;28mself\u001b[39m\u001b[38;5;241m.\u001b[39m_forward_hooks \u001b[38;5;129;01mor\u001b[39;00m \u001b[38;5;28mself\u001b[39m\u001b[38;5;241m.\u001b[39m_forward_pre_hooks \u001b[38;5;129;01mor\u001b[39;00m _global_backward_hooks\n\u001b[1;32m   1109\u001b[0m         \u001b[38;5;129;01mor\u001b[39;00m _global_forward_hooks \u001b[38;5;129;01mor\u001b[39;00m _global_forward_pre_hooks):\n\u001b[0;32m-> 1110\u001b[0m     \u001b[38;5;28;01mreturn\u001b[39;00m \u001b[43mforward_call\u001b[49m\u001b[43m(\u001b[49m\u001b[38;5;241;43m*\u001b[39;49m\u001b[38;5;28;43minput\u001b[39;49m\u001b[43m,\u001b[49m\u001b[43m \u001b[49m\u001b[38;5;241;43m*\u001b[39;49m\u001b[38;5;241;43m*\u001b[39;49m\u001b[43mkwargs\u001b[49m\u001b[43m)\u001b[49m\n\u001b[1;32m   1111\u001b[0m \u001b[38;5;66;03m# Do not call functions when jit is used\u001b[39;00m\n\u001b[1;32m   1112\u001b[0m full_backward_hooks, non_full_backward_hooks \u001b[38;5;241m=\u001b[39m [], []\n",
      "File \u001b[0;32m~/miniconda3/envs/frontiers/lib/python3.8/site-packages/transformers/models/bert/modeling_bert.py:402\u001b[0m, in \u001b[0;36mBertAttention.forward\u001b[0;34m(self, hidden_states, attention_mask, head_mask, encoder_hidden_states, encoder_attention_mask, past_key_value, output_attentions)\u001b[0m\n\u001b[1;32m    392\u001b[0m \u001b[38;5;28;01mdef\u001b[39;00m \u001b[38;5;21mforward\u001b[39m(\n\u001b[1;32m    393\u001b[0m     \u001b[38;5;28mself\u001b[39m,\n\u001b[1;32m    394\u001b[0m     hidden_states: torch\u001b[38;5;241m.\u001b[39mTensor,\n\u001b[0;32m   (...)\u001b[0m\n\u001b[1;32m    400\u001b[0m     output_attentions: Optional[\u001b[38;5;28mbool\u001b[39m] \u001b[38;5;241m=\u001b[39m \u001b[38;5;28;01mFalse\u001b[39;00m,\n\u001b[1;32m    401\u001b[0m ) \u001b[38;5;241m-\u001b[39m\u001b[38;5;241m>\u001b[39m Tuple[torch\u001b[38;5;241m.\u001b[39mTensor]:\n\u001b[0;32m--> 402\u001b[0m     self_outputs \u001b[38;5;241m=\u001b[39m \u001b[38;5;28;43mself\u001b[39;49m\u001b[38;5;241;43m.\u001b[39;49m\u001b[43mself\u001b[49m\u001b[43m(\u001b[49m\n\u001b[1;32m    403\u001b[0m \u001b[43m        \u001b[49m\u001b[43mhidden_states\u001b[49m\u001b[43m,\u001b[49m\n\u001b[1;32m    404\u001b[0m \u001b[43m        \u001b[49m\u001b[43mattention_mask\u001b[49m\u001b[43m,\u001b[49m\n\u001b[1;32m    405\u001b[0m \u001b[43m        \u001b[49m\u001b[43mhead_mask\u001b[49m\u001b[43m,\u001b[49m\n\u001b[1;32m    406\u001b[0m \u001b[43m        \u001b[49m\u001b[43mencoder_hidden_states\u001b[49m\u001b[43m,\u001b[49m\n\u001b[1;32m    407\u001b[0m \u001b[43m        \u001b[49m\u001b[43mencoder_attention_mask\u001b[49m\u001b[43m,\u001b[49m\n\u001b[1;32m    408\u001b[0m \u001b[43m        \u001b[49m\u001b[43mpast_key_value\u001b[49m\u001b[43m,\u001b[49m\n\u001b[1;32m    409\u001b[0m \u001b[43m        \u001b[49m\u001b[43moutput_attentions\u001b[49m\u001b[43m,\u001b[49m\n\u001b[1;32m    410\u001b[0m \u001b[43m    \u001b[49m\u001b[43m)\u001b[49m\n\u001b[1;32m    411\u001b[0m     attention_output \u001b[38;5;241m=\u001b[39m \u001b[38;5;28mself\u001b[39m\u001b[38;5;241m.\u001b[39moutput(self_outputs[\u001b[38;5;241m0\u001b[39m], hidden_states)\n\u001b[1;32m    412\u001b[0m     outputs \u001b[38;5;241m=\u001b[39m (attention_output,) \u001b[38;5;241m+\u001b[39m self_outputs[\u001b[38;5;241m1\u001b[39m:]  \u001b[38;5;66;03m# add attentions if we output them\u001b[39;00m\n",
      "File \u001b[0;32m~/miniconda3/envs/frontiers/lib/python3.8/site-packages/torch/nn/modules/module.py:1110\u001b[0m, in \u001b[0;36mModule._call_impl\u001b[0;34m(self, *input, **kwargs)\u001b[0m\n\u001b[1;32m   1106\u001b[0m \u001b[38;5;66;03m# If we don't have any hooks, we want to skip the rest of the logic in\u001b[39;00m\n\u001b[1;32m   1107\u001b[0m \u001b[38;5;66;03m# this function, and just call forward.\u001b[39;00m\n\u001b[1;32m   1108\u001b[0m \u001b[38;5;28;01mif\u001b[39;00m \u001b[38;5;129;01mnot\u001b[39;00m (\u001b[38;5;28mself\u001b[39m\u001b[38;5;241m.\u001b[39m_backward_hooks \u001b[38;5;129;01mor\u001b[39;00m \u001b[38;5;28mself\u001b[39m\u001b[38;5;241m.\u001b[39m_forward_hooks \u001b[38;5;129;01mor\u001b[39;00m \u001b[38;5;28mself\u001b[39m\u001b[38;5;241m.\u001b[39m_forward_pre_hooks \u001b[38;5;129;01mor\u001b[39;00m _global_backward_hooks\n\u001b[1;32m   1109\u001b[0m         \u001b[38;5;129;01mor\u001b[39;00m _global_forward_hooks \u001b[38;5;129;01mor\u001b[39;00m _global_forward_pre_hooks):\n\u001b[0;32m-> 1110\u001b[0m     \u001b[38;5;28;01mreturn\u001b[39;00m \u001b[43mforward_call\u001b[49m\u001b[43m(\u001b[49m\u001b[38;5;241;43m*\u001b[39;49m\u001b[38;5;28;43minput\u001b[39;49m\u001b[43m,\u001b[49m\u001b[43m \u001b[49m\u001b[38;5;241;43m*\u001b[39;49m\u001b[38;5;241;43m*\u001b[39;49m\u001b[43mkwargs\u001b[49m\u001b[43m)\u001b[49m\n\u001b[1;32m   1111\u001b[0m \u001b[38;5;66;03m# Do not call functions when jit is used\u001b[39;00m\n\u001b[1;32m   1112\u001b[0m full_backward_hooks, non_full_backward_hooks \u001b[38;5;241m=\u001b[39m [], []\n",
      "File \u001b[0;32m~/miniconda3/envs/frontiers/lib/python3.8/site-packages/transformers/models/bert/modeling_bert.py:330\u001b[0m, in \u001b[0;36mBertSelfAttention.forward\u001b[0;34m(self, hidden_states, attention_mask, head_mask, encoder_hidden_states, encoder_attention_mask, past_key_value, output_attentions)\u001b[0m\n\u001b[1;32m    327\u001b[0m     attention_scores \u001b[38;5;241m=\u001b[39m attention_scores \u001b[38;5;241m+\u001b[39m attention_mask\n\u001b[1;32m    329\u001b[0m \u001b[38;5;66;03m# Normalize the attention scores to probabilities.\u001b[39;00m\n\u001b[0;32m--> 330\u001b[0m attention_probs \u001b[38;5;241m=\u001b[39m \u001b[43mnn\u001b[49m\u001b[38;5;241;43m.\u001b[39;49m\u001b[43mfunctional\u001b[49m\u001b[38;5;241;43m.\u001b[39;49m\u001b[43msoftmax\u001b[49m\u001b[43m(\u001b[49m\u001b[43mattention_scores\u001b[49m\u001b[43m,\u001b[49m\u001b[43m \u001b[49m\u001b[43mdim\u001b[49m\u001b[38;5;241;43m=\u001b[39;49m\u001b[38;5;241;43m-\u001b[39;49m\u001b[38;5;241;43m1\u001b[39;49m\u001b[43m)\u001b[49m\n\u001b[1;32m    332\u001b[0m \u001b[38;5;66;03m# This is actually dropping out entire tokens to attend to, which might\u001b[39;00m\n\u001b[1;32m    333\u001b[0m \u001b[38;5;66;03m# seem a bit unusual, but is taken from the original Transformer paper.\u001b[39;00m\n\u001b[1;32m    334\u001b[0m attention_probs \u001b[38;5;241m=\u001b[39m \u001b[38;5;28mself\u001b[39m\u001b[38;5;241m.\u001b[39mdropout(attention_probs)\n",
      "File \u001b[0;32m~/miniconda3/envs/frontiers/lib/python3.8/site-packages/torch/nn/functional.py:1818\u001b[0m, in \u001b[0;36msoftmax\u001b[0;34m(input, dim, _stacklevel, dtype)\u001b[0m\n\u001b[1;32m   1816\u001b[0m     dim \u001b[38;5;241m=\u001b[39m _get_softmax_dim(\u001b[38;5;124m\"\u001b[39m\u001b[38;5;124msoftmax\u001b[39m\u001b[38;5;124m\"\u001b[39m, \u001b[38;5;28minput\u001b[39m\u001b[38;5;241m.\u001b[39mdim(), _stacklevel)\n\u001b[1;32m   1817\u001b[0m \u001b[38;5;28;01mif\u001b[39;00m dtype \u001b[38;5;129;01mis\u001b[39;00m \u001b[38;5;28;01mNone\u001b[39;00m:\n\u001b[0;32m-> 1818\u001b[0m     ret \u001b[38;5;241m=\u001b[39m \u001b[38;5;28;43minput\u001b[39;49m\u001b[38;5;241;43m.\u001b[39;49m\u001b[43msoftmax\u001b[49m\u001b[43m(\u001b[49m\u001b[43mdim\u001b[49m\u001b[43m)\u001b[49m\n\u001b[1;32m   1819\u001b[0m \u001b[38;5;28;01melse\u001b[39;00m:\n\u001b[1;32m   1820\u001b[0m     ret \u001b[38;5;241m=\u001b[39m \u001b[38;5;28minput\u001b[39m\u001b[38;5;241m.\u001b[39msoftmax(dim, dtype\u001b[38;5;241m=\u001b[39mdtype)\n",
      "\u001b[0;31mKeyboardInterrupt\u001b[0m: "
     ]
    }
   ],
   "source": [
    "df[\"embeddings_text_bert\"] = df[\"text\"].apply(get_doc_embeddings_bert)"
   ]
  },
  {
   "cell_type": "code",
   "execution_count": null,
   "id": "ac0f96dd",
   "metadata": {},
   "outputs": [],
   "source": []
  }
 ],
 "metadata": {
  "kernelspec": {
   "display_name": "Python 3 (ipykernel)",
   "language": "python",
   "name": "python3"
  },
  "language_info": {
   "codemirror_mode": {
    "name": "ipython",
    "version": 3
   },
   "file_extension": ".py",
   "mimetype": "text/x-python",
   "name": "python",
   "nbconvert_exporter": "python",
   "pygments_lexer": "ipython3",
   "version": "3.8.13"
  }
 },
 "nbformat": 4,
 "nbformat_minor": 5
}
